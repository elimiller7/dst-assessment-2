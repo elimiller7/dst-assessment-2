{
 "cells": [
  {
   "cell_type": "code",
   "execution_count": 1,
   "metadata": {},
   "outputs": [],
   "source": [
    "import numpy as np\n",
    "import pandas as pd\n",
    "import torch\n",
    "from torch import nn, optim\n",
    "from sklearn.preprocessing import LabelEncoder"
   ]
  },
  {
   "cell_type": "code",
   "execution_count": 5,
   "metadata": {},
   "outputs": [
    {
     "name": "stdout",
     "output_type": "stream",
     "text": [
      "(0, 3)\n",
      "(0, 3)\n"
     ]
    }
   ],
   "source": [
    "user_data = pd.read_csv('../unpushed_work/last_fm_data/user_artists.dat', sep='\\t')\n",
    "\n",
    "# Filter users with at least 50 interactions\n",
    "user_interaction_counts = user_data.groupby('userID').size()\n",
    "users_with_50_interactions = user_interaction_counts[user_interaction_counts >= 50].index\n",
    "user_data_filtered = user_data[user_data['userID'].isin(users_with_50_interactions)]\n",
    "\n",
    "unique_users = user_data_filtered['userID'].unique()\n",
    "np.random.seed(42)\n",
    "shuffled_users = np.random.permutation(unique_users)\n",
    "\n",
    "num_test_users = int(0.2 * len(unique_users))\n",
    "test_users = shuffled_users[:num_test_users]\n",
    "train_users = shuffled_users[num_test_users:]\n",
    "\n",
    "train_data = user_data_filtered[user_data_filtered['userID'].isin(train_users)]\n",
    "test_data = user_data_filtered[user_data_filtered['userID'].isin(test_users)]\n",
    "\n",
    "test_x = pd.DataFrame(columns=test_data.columns)\n",
    "test_y = pd.DataFrame(columns=test_data.columns)\n",
    "\n"
   ]
  },
  {
   "cell_type": "code",
   "execution_count": null,
   "metadata": {},
   "outputs": [],
   "source": []
  }
 ],
 "metadata": {
  "kernelspec": {
   "display_name": "Python 3",
   "language": "python",
   "name": "python3"
  },
  "language_info": {
   "codemirror_mode": {
    "name": "ipython",
    "version": 3
   },
   "file_extension": ".py",
   "mimetype": "text/x-python",
   "name": "python",
   "nbconvert_exporter": "python",
   "pygments_lexer": "ipython3",
   "version": "3.12.3"
  }
 },
 "nbformat": 4,
 "nbformat_minor": 2
}
