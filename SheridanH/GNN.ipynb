{
 "cells": [
  {
   "cell_type": "code",
   "execution_count": 1,
   "metadata": {},
   "outputs": [],
   "source": [
    "from pyspark import SparkConf, SparkContext\n",
    "from pyspark.sql import SparkSession\n",
    "from graphframes import GraphFrame\n",
    "import pandas as pd\n",
    "import os\n",
    "import findspark\n",
    "findspark.init() "
   ]
  },
  {
   "cell_type": "code",
   "execution_count": 48,
   "metadata": {},
   "outputs": [],
   "source": [
    "artists = pd.read_csv(os.path.join('..','data','artists.dat'), delimiter='\\t')\n",
    "tags = pd.read_csv(os.path.join('..','data','tags.dat'), delimiter='\\t',encoding='ISO-8859-1')\n",
    "user_artists = pd.read_csv(os.path.join('..','data','user_artists.dat'), delimiter='\\t')\n",
    "user_friends = pd.read_csv(os.path.join('..','data','user_friends.dat'), delimiter='\\t')\n",
    "user_taggedartists_timestamps = pd.read_csv(os.path.join('..','data','user_taggedartists-timestamps.dat'), delimiter='\\t')\n",
    "user_taggedartists = pd.read_csv(os.path.join('..','data','user_taggedartists.dat'), delimiter='\\t')"
   ]
  },
  {
   "cell_type": "code",
   "execution_count": 49,
   "metadata": {},
   "outputs": [],
   "source": [
    "user_artists['userID'] = 'user' + user_artists['userID'].astype(str)\n",
    "user_artists['artistID'] = 'artist' + user_artists['artistID'].astype(str)\n",
    "user_friends['userID'] = 'user' + user_friends['userID'].astype(str)\n",
    "user_friends['friendID'] = 'user' + user_friends['friendID'].astype(str)\n",
    "user_taggedartists['artistID'] = 'artist' + user_taggedartists['artistID'].astype(str)\n",
    "user_taggedartists['tagID'] = 'tag' + user_taggedartists['tagID'].astype(str)\n",
    "user_taggedartists['userID'] = 'user' + user_taggedartists['userID'].astype(str)\n",
    "artists['id'] = 'artist' + artists['id'].astype(str)\n",
    "tags['tagID'] = 'tag' + tags['tagID'].astype(str)"
   ]
  },
  {
   "cell_type": "code",
   "execution_count": 3,
   "metadata": {},
   "outputs": [],
   "source": [
    "python_path = r'C:\\Users\\Sheri\\AppData\\Local\\Programs\\Python\\Python311\\python.exe'  \n",
    "os.environ['PYSPARK_PYTHON'] = python_path\n",
    "os.environ['PYSPARK_DRIVER_PYTHON'] = python_path\n",
    "\n",
    "spark = SparkSession.builder \\\n",
    "    .appName(\"GNN\") \\\n",
    "    .getOrCreate()"
   ]
  },
  {
   "cell_type": "code",
   "execution_count": 78,
   "metadata": {},
   "outputs": [],
   "source": [
    "# Define vertices\n",
    "users_vertices = pd.DataFrame(user_artists['userID'].unique(), columns = ['id'])\n",
    "\n",
    "artists_vertices = pd.DataFrame(artists['id'].unique(), columns = [\"id\"])\n",
    "\n",
    "tags_vertices = pd.DataFrame(tags['tagID'].unique(), columns = [\"id\"])\n",
    "\n",
    "vertices = pd.concat([users_vertices,artists_vertices,tags_vertices])\n",
    "\n",
    "# Define edges\n",
    "user_artist_edges = user_artists.drop('weight', axis = 1).rename(columns = {'userID' : 'src', 'artistID' : 'dst'})\n",
    "user_artist_edges['type'] = 'listens'\n",
    "\n",
    "user_tag_edges = user_taggedartists.rename(columns = {'userID' : 'src', 'tagID' : 'dst'})\n",
    "for col in ['day','month','year','artistID']:\n",
    "    user_tag_edges = user_tag_edges.drop(col, axis = 1)\n",
    "user_tag_edges['type'] = 'tag_used'\n",
    "\n",
    "\n",
    "artist_tag_edges = user_taggedartists.rename(columns = {'artistID' : 'src', 'tagID' : 'dst'})\n",
    "for col in ['day','month','year','userID']:\n",
    "    artist_tag_edges = artist_tag_edges.drop(col, axis = 1)\n",
    "artist_tag_edges['type'] = 'tagged_as'\n",
    "\n",
    "user_user_edges = user_friends.rename(columns = {'userID' : 'src', 'friendID' : 'dst'})\n",
    "user_user_edges['type'] = 'friend'\n",
    "\n",
    "edges = pd.concat([user_artist_edges,user_tag_edges,user_user_edges,artist_tag_edges])"
   ]
  },
  {
   "cell_type": "code",
   "execution_count": 83,
   "metadata": {},
   "outputs": [
    {
     "name": "stdout",
     "output_type": "stream",
     "text": [
      "There are 31470 vertices.\n",
      "There are 491226 edges.\n"
     ]
    }
   ],
   "source": [
    "print(f'There are {vertices.shape[0]} vertices.')\n",
    "print(f'There are {edges.shape[0]} edges.')"
   ]
  },
  {
   "cell_type": "code",
   "execution_count": 73,
   "metadata": {},
   "outputs": [
    {
     "name": "stderr",
     "output_type": "stream",
     "text": [
      "c:\\Users\\Sheri\\AppData\\Local\\Programs\\Python\\Python311\\Lib\\site-packages\\pyspark\\sql\\dataframe.py:168: UserWarning: DataFrame.sql_ctx is an internal property, and will be removed in future releases. Use DataFrame.sparkSession instead.\n",
      "  warnings.warn(\n"
     ]
    }
   ],
   "source": [
    "vertices = spark.createDataFrame(vertices)\n",
    "edges = spark.createDataFrame(edges)\n",
    "\n",
    "# Create the graph\n",
    "graph = GraphFrame(vertices, edges)"
   ]
  },
  {
   "cell_type": "code",
   "execution_count": 87,
   "metadata": {},
   "outputs": [
    {
     "name": "stdout",
     "output_type": "stream",
     "text": [
      "+-----+--------+-------+\n",
      "|  src|     dst|   type|\n",
      "+-----+--------+-------+\n",
      "|user2|artist51|listens|\n",
      "|user2|artist52|listens|\n",
      "|user2|artist53|listens|\n",
      "|user2|artist54|listens|\n",
      "|user2|artist55|listens|\n",
      "|user2|artist56|listens|\n",
      "|user2|artist57|listens|\n",
      "|user2|artist58|listens|\n",
      "|user2|artist59|listens|\n",
      "|user2|artist60|listens|\n",
      "+-----+--------+-------+\n",
      "only showing top 10 rows\n",
      "\n",
      "+------+\n",
      "|    id|\n",
      "+------+\n",
      "| user2|\n",
      "| user3|\n",
      "| user4|\n",
      "| user5|\n",
      "| user6|\n",
      "| user7|\n",
      "| user8|\n",
      "| user9|\n",
      "|user10|\n",
      "|user11|\n",
      "+------+\n",
      "only showing top 10 rows\n",
      "\n"
     ]
    }
   ],
   "source": [
    "graph.edges.show(10)\n",
    "graph.vertices.show(10)"
   ]
  },
  {
   "cell_type": "code",
   "execution_count": null,
   "metadata": {},
   "outputs": [],
   "source": []
  }
 ],
 "metadata": {
  "kernelspec": {
   "display_name": "Python 3",
   "language": "python",
   "name": "python3"
  },
  "language_info": {
   "codemirror_mode": {
    "name": "ipython",
    "version": 3
   },
   "file_extension": ".py",
   "mimetype": "text/x-python",
   "name": "python",
   "nbconvert_exporter": "python",
   "pygments_lexer": "ipython3",
   "version": "3.11.8"
  }
 },
 "nbformat": 4,
 "nbformat_minor": 2
}
