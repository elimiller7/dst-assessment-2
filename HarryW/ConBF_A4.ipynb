{
 "cells": [
  {
   "cell_type": "markdown",
   "metadata": {},
   "source": [
    "## Content-Based Filtering with PySpark\n",
    "\n",
    "In this section, we explore content-based filtering using the built in PySpark. We use a dataset which includes information about music artists, their associated tags, and how users interacted with them. We aim to generate artist recommendations for users based on the tags associated with artists they have interacted with. This involves loading the data, creating profiles for the artists, vectorising the tags, calculating similarities and finally generating recommendations based on those similarities."
   ]
  },
  {
   "cell_type": "markdown",
   "metadata": {},
   "source": [
    "# Chapter 0: Importing Required Libraries\n",
    "\n",
    "The key libraries used are from PySpark, which is ideal for handling large datasets efficiently."
   ]
  },
  {
   "cell_type": "code",
   "execution_count": 1,
   "metadata": {},
   "outputs": [],
   "source": [
    "from pyspark.sql import SparkSession\n",
    "from pyspark.sql import functions as F\n",
    "from pyspark.ml.feature import CountVectorizer, IDF\n",
    "from pyspark.ml.linalg import Vectors\n",
    "from pyspark.ml.feature import MinMaxScaler\n",
    "from pyspark.ml.stat import Correlation\n",
    "from pyspark.mllib.linalg.distributed import RowMatrix"
   ]
  },
  {
   "cell_type": "markdown",
   "metadata": {},
   "source": [
    "# Chapter 1: Loading Our Data\n",
    "\n",
    "First we initialise our Spark session. Initialising a Spark session is required for any operation in PySpark. This session allows us to leverage PySpark's machine learning capabalities. "
   ]
  },
  {
   "cell_type": "code",
   "execution_count": 2,
   "metadata": {},
   "outputs": [
    {
     "name": "stderr",
     "output_type": "stream",
     "text": [
      "24/11/25 12:48:24 WARN Utils: Your hostname, Harrys-MacBook-Air-5.local resolves to a loopback address: 127.0.0.1; using 172.28.149.235 instead (on interface en0)\n",
      "24/11/25 12:48:24 WARN Utils: Set SPARK_LOCAL_IP if you need to bind to another address\n",
      "Setting default log level to \"WARN\".\n",
      "To adjust logging level use sc.setLogLevel(newLevel). For SparkR, use setLogLevel(newLevel).\n",
      "24/11/25 12:48:25 WARN NativeCodeLoader: Unable to load native-hadoop library for your platform... using builtin-java classes where applicable\n"
     ]
    }
   ],
   "source": [
    "spark = SparkSession.builder \\\n",
    "    .appName(\"Content-Based Filtering\") \\\n",
    "    .getOrCreate()"
   ]
  },
  {
   "cell_type": "markdown",
   "metadata": {},
   "source": [
    "Then, we define the Base Directory for our dataset files. This allows us to load the data for further processing. "
   ]
  },
  {
   "cell_type": "code",
   "execution_count": 3,
   "metadata": {},
   "outputs": [],
   "source": [
    "base_directory = \"/Users/harrywilson/Desktop/DataScienceToolbox/Assessment2Data\""
   ]
  },
  {
   "cell_type": "markdown",
   "metadata": {},
   "source": [
    "Finally, we load our datasets. This includes information about artists, their tags and user interactions. In this step, we also read our data into Spark DataFrames."
   ]
  },
  {
   "cell_type": "code",
   "execution_count": 4,
   "metadata": {},
   "outputs": [
    {
     "name": "stderr",
     "output_type": "stream",
     "text": [
      "                                                                                \r"
     ]
    },
    {
     "name": "stdout",
     "output_type": "stream",
     "text": [
      "User-Artists Dataset:\n",
      "+------+--------+------+\n",
      "|userID|artistID|weight|\n",
      "+------+--------+------+\n",
      "|     2|      51| 13883|\n",
      "|     2|      52| 11690|\n",
      "|     2|      53| 11351|\n",
      "|     2|      54| 10300|\n",
      "|     2|      55|  8983|\n",
      "+------+--------+------+\n",
      "only showing top 5 rows\n",
      "\n",
      "Artists Dataset:\n",
      "+---+-----------------+--------------------+--------------------+\n",
      "| id|             name|                 url|          pictureURL|\n",
      "+---+-----------------+--------------------+--------------------+\n",
      "|  1|     MALICE MIZER|http://www.last.f...|http://userserve-...|\n",
      "|  2|  Diary of Dreams|http://www.last.f...|http://userserve-...|\n",
      "|  3|Carpathian Forest|http://www.last.f...|http://userserve-...|\n",
      "|  4|     Moi dix Mois|http://www.last.f...|http://userserve-...|\n",
      "|  5|      Bella Morte|http://www.last.f...|http://userserve-...|\n",
      "+---+-----------------+--------------------+--------------------+\n",
      "only showing top 5 rows\n",
      "\n",
      "Tags Dataset:\n",
      "+-----+-----------------+\n",
      "|tagID|         tagValue|\n",
      "+-----+-----------------+\n",
      "|    1|            metal|\n",
      "|    2|alternative metal|\n",
      "|    3|        goth rock|\n",
      "|    4|      black metal|\n",
      "|    5|      death metal|\n",
      "+-----+-----------------+\n",
      "only showing top 5 rows\n",
      "\n",
      "User-Tagged Artists Dataset:\n",
      "+------+--------+-----+---+-----+----+\n",
      "|userID|artistID|tagID|day|month|year|\n",
      "+------+--------+-----+---+-----+----+\n",
      "|     2|      52|   13|  1|    4|2009|\n",
      "|     2|      52|   15|  1|    4|2009|\n",
      "|     2|      52|   18|  1|    4|2009|\n",
      "|     2|      52|   21|  1|    4|2009|\n",
      "|     2|      52|   41|  1|    4|2009|\n",
      "+------+--------+-----+---+-----+----+\n",
      "only showing top 5 rows\n",
      "\n"
     ]
    }
   ],
   "source": [
    "# Function to load a .dat file as a DataFrame\n",
    "def load_data(filename):\n",
    "    file_path = f\"{base_directory}/{filename}\"\n",
    "    return spark.read.csv(file_path, sep=\"\\t\", header=True, inferSchema=True)\n",
    "\n",
    "# Load datasets\n",
    "user_artists_df = load_data(\"user_artists.dat\")\n",
    "artists_df = load_data(\"artists.dat\")\n",
    "tags_df = load_data(\"tags.dat\")\n",
    "user_taggedartists_df = load_data(\"user_taggedartists.dat\")\n",
    "\n",
    "# Display a few rows from the datasets to ensure everything is working\n",
    "print(\"User-Artists Dataset:\")\n",
    "user_artists_df.show(5)\n",
    "\n",
    "print(\"Artists Dataset:\")\n",
    "artists_df.show(5)\n",
    "\n",
    "print(\"Tags Dataset:\")\n",
    "tags_df.show(5)\n",
    "\n",
    "print(\"User-Tagged Artists Dataset:\")\n",
    "user_taggedartists_df.show(5)\n"
   ]
  },
  {
   "cell_type": "markdown",
   "metadata": {},
   "source": [
    "# Chapter 2: Creating Artist Profiles\n",
    "\n",
    "This first step involves creating profiles, based on the tags associated with each artist. We aggregate the tags to form this profile."
   ]
  },
  {
   "cell_type": "code",
   "execution_count": 5,
   "metadata": {},
   "outputs": [
    {
     "name": "stderr",
     "output_type": "stream",
     "text": [
      "[Stage 14:>                                                         (0 + 1) / 1]\r"
     ]
    },
    {
     "name": "stdout",
     "output_type": "stream",
     "text": [
      "+--------+---------------------+------------------------------------------------------------------------------------------------------------------------------------------------------------------------------------------------------------------------------------------------------------------------------------------------------------------------------------------------------------------------------------------------------------------------------------------------------------------------------------------------------------------------------------------------------------------------------------------------------------------------------------------------------------------------------------------------------------------------------------------------+\n",
      "|artistID|artist_name          |tags                                                                                                                                                                                                                                                                                                                                                                                                                                                                                                                                                                                                                                                                                                                                            |\n",
      "+--------+---------------------+------------------------------------------------------------------------------------------------------------------------------------------------------------------------------------------------------------------------------------------------------------------------------------------------------------------------------------------------------------------------------------------------------------------------------------------------------------------------------------------------------------------------------------------------------------------------------------------------------------------------------------------------------------------------------------------------------------------------------------------------+\n",
      "|4       |Moi dix Mois         |[j-rock, visual kei, metal, gothic japanese, bazarov, metal, rock, j-rock, visual kei, gothic, japanese, gothic metal, j-rock, gothic, japanese, j-rock, visual kei, gothic, japanese, j-rock, japanese, j-rock]                                                                                                                                                                                                                                                                                                                                                                                                                                                                                                                                |\n",
      "|15      |Dimmu Borgir         |[symphonic black metal, halloween, black metal, black metal, symphonic black metal, black metal, death metal, symphonic black metal, melodic heavy metal, metal, black metal, death metal, awesome, dark metal, symphonic black metal, norwegian black metal, atmospheric black metal, melodic black metal, extreme metal, symphonic, nordic metal, true norwegian black metal, norwegian metal, black metal, symphonic metal, symphonic black metal, symphonic black metal, black metal, black metal, black metal, prejebeno, close your eyes and imagine, black metal, symphonic black metal, melodic black metal, black metal cabeza, black metal, black metal, symphonic black metal, melodic black metal, black metal, melodic black metal]|\n",
      "|16      |London After Midnight|[industrial, gothic, gothic rock, gothic, industrial, electronic, goth, heavy, weird, sexy songs, dark wave, gothic, industrial, gothic rock, goth, gothic, gothic rock, darkwave, industrial, gothic, darkwave, gothic, gothic rock, covers]                                                                                                                                                                                                                                                                                                                                                                                                                                                                                                   |\n",
      "|18      |The Crüxshadows      |[electronic, industrial, gothic, synthpop, industrial, electronic, industrial, ebm, darkwave, ultimate favorite, industrial, gothic, electro pop, darkwave, goth, ebm, covers, goth, dark wave, darkwave, gothic, darkwave, electronic, gothic, darkwave, gothic, electronica, gothic rock, darkwave, gothic, darkwave, covers]                                                                                                                                                                                                                                                                                                                                                                                                                 |\n",
      "|20      |Limbonic Art         |[black metal, symphonic metal, black metal, symphonic black metal, norwegian black metal, metal, black metal]                                                                                                                                                                                                                                                                                                                                                                                                                                                                                                                                                                                                                                   |\n",
      "+--------+---------------------+------------------------------------------------------------------------------------------------------------------------------------------------------------------------------------------------------------------------------------------------------------------------------------------------------------------------------------------------------------------------------------------------------------------------------------------------------------------------------------------------------------------------------------------------------------------------------------------------------------------------------------------------------------------------------------------------------------------------------------------------+\n",
      "only showing top 5 rows\n",
      "\n"
     ]
    },
    {
     "name": "stderr",
     "output_type": "stream",
     "text": [
      "                                                                                \r"
     ]
    }
   ],
   "source": [
    "# Join user_taggedartists with tags for tag information\n",
    "artist_tags_df = user_taggedartists_df.join(tags_df, on=\"tagID\", how=\"inner\")\n",
    "\n",
    "# Join artist tags with artists to get artist details and tag names\n",
    "artist_tags_info_df = artist_tags_df.join(\n",
    "    artists_df, artist_tags_df.artistID == artists_df.id\n",
    ").select(\n",
    "    artist_tags_df[\"artistID\"],\n",
    "    artists_df[\"name\"].alias(\"artist_name\"),\n",
    "    artist_tags_df[\"tagValue\"].alias(\"tag\")\n",
    ")\n",
    "\n",
    "\n",
    "artist_profiles_df = artist_tags_info_df.groupBy(\"artistID\", \"artist_name\") \\\n",
    "    .agg(F.collect_list(\"tag\").alias(\"tags\"))\n",
    "\n",
    "# Display artist profiles\n",
    "artist_profiles_df.show(5, truncate=False)"
   ]
  },
  {
   "cell_type": "markdown",
   "metadata": {},
   "source": [
    "To apply similarity calculation, which is vital for content based filtering, we need to convert the tags into numerical interpretations. Therefore, we use CountVectorizer, this creates a vector of word counts for each artist's tags."
   ]
  },
  {
   "cell_type": "code",
   "execution_count": 6,
   "metadata": {},
   "outputs": [
    {
     "name": "stderr",
     "output_type": "stream",
     "text": [
      "[Stage 28:>                                                         (0 + 1) / 1]\r"
     ]
    },
    {
     "name": "stdout",
     "output_type": "stream",
     "text": [
      "+--------+---------------------+------------------------------------------------------------------------------------------------------------------------------------------------------------------------------------------------------------------------------------------------------------------------------------------------------------------------------------------------------------------------------------------------------------------------------------------------------------------------------------------------------------------------------------------------------------------------------------------------------------------------------------------------------------------------------------------------------------------------------------------------+---------------------------------------------------------------------------------------------------------------------------------------------------------------------------------+\n",
      "|artistID|artist_name          |tag_text                                                                                                                                                                                                                                                                                                                                                                                                                                                                                                                                                                                                                                                                                                                                        |raw_features                                                                                                                                                                     |\n",
      "+--------+---------------------+------------------------------------------------------------------------------------------------------------------------------------------------------------------------------------------------------------------------------------------------------------------------------------------------------------------------------------------------------------------------------------------------------------------------------------------------------------------------------------------------------------------------------------------------------------------------------------------------------------------------------------------------------------------------------------------------------------------------------------------------+---------------------------------------------------------------------------------------------------------------------------------------------------------------------------------+\n",
      "|4       |Moi dix Mois         |[j-rock, visual kei, metal, gothic japanese, bazarov, metal, rock, j-rock, visual kei, gothic, japanese, gothic metal, j-rock, gothic, japanese, j-rock, visual kei, gothic, japanese, j-rock, japanese, j-rock]                                                                                                                                                                                                                                                                                                                                                                                                                                                                                                                                |(9718,[0,14,82,98,106,157,227,894,7147],[1.0,2.0,3.0,4.0,1.0,6.0,3.0,1.0,1.0])                                                                                                   |\n",
      "|15      |Dimmu Borgir         |[symphonic black metal, halloween, black metal, black metal, symphonic black metal, black metal, death metal, symphonic black metal, melodic heavy metal, metal, black metal, death metal, awesome, dark metal, symphonic black metal, norwegian black metal, atmospheric black metal, melodic black metal, extreme metal, symphonic, nordic metal, true norwegian black metal, norwegian metal, black metal, symphonic metal, symphonic black metal, symphonic black metal, black metal, black metal, black metal, prejebeno, close your eyes and imagine, black metal, symphonic black metal, melodic black metal, black metal cabeza, black metal, black metal, symphonic black metal, melodic black metal, black metal, melodic black metal]|(9718,[14,56,62,105,119,223,337,728,753,855,884,1334,1532,1638,1956,2219,2486,2510,2908,3083],[1.0,1.0,2.0,12.0,1.0,1.0,1.0,1.0,8.0,1.0,4.0,1.0,1.0,1.0,1.0,1.0,1.0,1.0,1.0,1.0])|\n",
      "|16      |London After Midnight|[industrial, gothic, gothic rock, gothic, industrial, electronic, goth, heavy, weird, sexy songs, dark wave, gothic, industrial, gothic rock, goth, gothic, gothic rock, darkwave, industrial, gothic, darkwave, gothic, gothic rock, covers]                                                                                                                                                                                                                                                                                                                                                                                                                                                                                                   |(9718,[3,36,82,116,121,155,236,524,581,1326,1576],[1.0,4.0,6.0,1.0,2.0,4.0,2.0,1.0,1.0,1.0,1.0])                                                                                 |\n",
      "|18      |The Crüxshadows      |[electronic, industrial, gothic, synthpop, industrial, electronic, industrial, ebm, darkwave, ultimate favorite, industrial, gothic, electro pop, darkwave, goth, ebm, covers, goth, dark wave, darkwave, gothic, darkwave, electronic, gothic, darkwave, gothic, electronica, gothic rock, darkwave, gothic, darkwave, covers]                                                                                                                                                                                                                                                                                                                                                                                                                 |(9718,[3,24,36,39,69,82,116,121,155,235,236,252,1576],[3.0,1.0,4.0,1.0,2.0,6.0,2.0,7.0,1.0,1.0,2.0,1.0,1.0])                                                                     |\n",
      "|20      |Limbonic Art         |[black metal, symphonic metal, black metal, symphonic black metal, norwegian black metal, metal, black metal]                                                                                                                                                                                                                                                                                                                                                                                                                                                                                                                                                                                                                                   |(9718,[14,105,119,753,855],[1.0,3.0,1.0,1.0,1.0])                                                                                                                                |\n",
      "+--------+---------------------+------------------------------------------------------------------------------------------------------------------------------------------------------------------------------------------------------------------------------------------------------------------------------------------------------------------------------------------------------------------------------------------------------------------------------------------------------------------------------------------------------------------------------------------------------------------------------------------------------------------------------------------------------------------------------------------------------------------------------------------------+---------------------------------------------------------------------------------------------------------------------------------------------------------------------------------+\n",
      "only showing top 5 rows\n",
      "\n"
     ]
    },
    {
     "name": "stderr",
     "output_type": "stream",
     "text": [
      "                                                                                \r"
     ]
    }
   ],
   "source": [
    "# Ensure tag_text is an array of strings\n",
    "tags_df = artist_profiles_df.select(\n",
    "    F.col(\"artistID\"),\n",
    "    F.col(\"artist_name\"),\n",
    "    F.col(\"tags\").alias(\"tag_text\")\n",
    ")\n",
    "\n",
    "# Vectorise tags\n",
    "vectoriser = CountVectorizer(inputCol=\"tag_text\", outputCol=\"raw_features\")\n",
    "vectorised_model = vectoriser.fit(tags_df)\n",
    "vectorised_df = vectorised_model.transform(tags_df)\n",
    "\n",
    "# Display vectorized features\n",
    "vectorised_df.show(5, truncate=False)\n"
   ]
  },
  {
   "cell_type": "markdown",
   "metadata": {},
   "source": [
    "For the raw_features column, we have the format (total_features, [indices], [values]). Where:\n",
    "total_features: total number of unique tags in the dataset\n",
    "indices: Indices of non-zero features (tags present for the artist)\n",
    "values: Corresponding count of each tag (as we got rid of duplicates, these values are all 1)\n"
   ]
  },
  {
   "cell_type": "markdown",
   "metadata": {},
   "source": [
    "Next, we compute the Term Frequency - Inverse Document Frequency (TF-IDF). This assesses the importance of each tag within an artist's profile."
   ]
  },
  {
   "cell_type": "code",
   "execution_count": 7,
   "metadata": {},
   "outputs": [
    {
     "name": "stderr",
     "output_type": "stream",
     "text": [
      "[Stage 38:>                                                         (0 + 1) / 1]\r"
     ]
    },
    {
     "name": "stdout",
     "output_type": "stream",
     "text": [
      "+--------+---------------------+------------------------------------------------------------------------------------------------------------------------------------------------------------------------------------------------------------------------------------------------------------------------------------------------------------------------------------------------------------------------------------------------------------------------------------------------------------------------------------------------------------------------------------------------------------------------------------------------------------------------------------------------------------------------------------------------------------------------------------------------+---------------------------------------------------------------------------------------------------------------------------------------------------------------------------------+--------------------------------------------------------------------------------------------------------------------------------------------------------------------------------------------------------------------------------------------------------------------------------------------------------------------------------------------------------------------------------------------------------------------------------------------------------------------------+\n",
      "|artistID|artist_name          |tag_text                                                                                                                                                                                                                                                                                                                                                                                                                                                                                                                                                                                                                                                                                                                                        |raw_features                                                                                                                                                                     |features                                                                                                                                                                                                                                                                                                                                                                                                                                                                  |\n",
      "+--------+---------------------+------------------------------------------------------------------------------------------------------------------------------------------------------------------------------------------------------------------------------------------------------------------------------------------------------------------------------------------------------------------------------------------------------------------------------------------------------------------------------------------------------------------------------------------------------------------------------------------------------------------------------------------------------------------------------------------------------------------------------------------------+---------------------------------------------------------------------------------------------------------------------------------------------------------------------------------+--------------------------------------------------------------------------------------------------------------------------------------------------------------------------------------------------------------------------------------------------------------------------------------------------------------------------------------------------------------------------------------------------------------------------------------------------------------------------+\n",
      "|4       |Moi dix Mois         |[j-rock, visual kei, metal, gothic japanese, bazarov, metal, rock, j-rock, visual kei, gothic, japanese, gothic metal, j-rock, gothic, japanese, j-rock, visual kei, gothic, japanese, j-rock, japanese, j-rock]                                                                                                                                                                                                                                                                                                                                                                                                                                                                                                                                |(9718,[0,14,82,98,106,157,227,894,7147],[1.0,2.0,3.0,4.0,1.0,6.0,3.0,1.0,1.0])                                                                                                   |(9718,[0,14,82,98,106,157,227,894,7147],[1.6855257565429276,5.887724508249416,12.454479841366838,16.648078773770404,4.74980635834472,30.59820969178844,15.642335899427453,6.408034434948252,8.710619527942297])                                                                                                                                                                                                                                                           |\n",
      "|15      |Dimmu Borgir         |[symphonic black metal, halloween, black metal, black metal, symphonic black metal, black metal, death metal, symphonic black metal, melodic heavy metal, metal, black metal, death metal, awesome, dark metal, symphonic black metal, norwegian black metal, atmospheric black metal, melodic black metal, extreme metal, symphonic, nordic metal, true norwegian black metal, norwegian metal, black metal, symphonic metal, symphonic black metal, symphonic black metal, black metal, black metal, black metal, prejebeno, close your eyes and imagine, black metal, symphonic black metal, melodic black metal, black metal cabeza, black metal, black metal, symphonic black metal, melodic black metal, black metal, melodic black metal]|(9718,[14,56,62,105,119,223,337,728,753,855,884,1334,1532,1638,1956,2219,2486,2510,2908,3083],[1.0,1.0,2.0,12.0,1.0,1.0,1.0,1.0,8.0,1.0,4.0,1.0,1.0,1.0,1.0,1.0,1.0,1.0,1.0,1.0])|(9718,[14,56,62,105,119,223,337,728,753,855,884,1334,1532,1638,1956,2219,2486,2510,2908,3083],[2.943862254124708,3.2856695104608953,8.047738709923568,54.71495546452382,4.915130338770103,4.881978131453203,5.343323697955824,6.4593277293358025,54.11767503109588,6.695716507400033,26.782866029600132,6.918860058714243,7.101181615508198,7.206542131166024,7.45785655944693,7.612007239274188,7.794328796068143,7.794328796068143,8.017472347382352,8.017472347382352])|\n",
      "|16      |London After Midnight|[industrial, gothic, gothic rock, gothic, industrial, electronic, goth, heavy, weird, sexy songs, dark wave, gothic, industrial, gothic rock, goth, gothic, gothic rock, darkwave, industrial, gothic, darkwave, gothic, gothic rock, covers]                                                                                                                                                                                                                                                                                                                                                                                                                                                                                                   |(9718,[3,36,82,116,121,155,236,524,581,1326,1576],[1.0,4.0,6.0,1.0,2.0,4.0,2.0,1.0,1.0,1.0,1.0])                                                                                 |(9718,[3,36,82,116,121,155,236,524,581,1326,1576],[1.962446318784626,14.115343910600851,24.908959682733677,3.9832317092299574,9.406572685419654,19.61582815268791,10.686647395911647,5.84841864701283,5.84841864701283,6.918860058714243,7.101181615508198])                                                                                                                                                                                                              |\n",
      "|18      |The Crüxshadows      |[electronic, industrial, gothic, synthpop, industrial, electronic, industrial, ebm, darkwave, ultimate favorite, industrial, gothic, electro pop, darkwave, goth, ebm, covers, goth, dark wave, darkwave, gothic, darkwave, electronic, gothic, darkwave, gothic, electronica, gothic rock, darkwave, gothic, darkwave, covers]                                                                                                                                                                                                                                                                                                                                                                                                                 |(9718,[3,24,36,39,69,82,116,121,155,235,236,252,1576],[3.0,1.0,4.0,1.0,2.0,6.0,2.0,7.0,1.0,1.0,2.0,1.0,1.0])                                                                     |(9718,[3,24,36,39,69,82,116,121,155,235,236,252,1576],[5.887338956353878,2.7984687875540413,14.115343910600851,3.512122496676472,8.334649491344587,24.908959682733677,7.966463418459915,32.923004398968786,4.903957038171978,4.871167215348987,10.686647395911647,5.141086831460928,7.101181615508198])                                                                                                                                                                   |\n",
      "|20      |Limbonic Art         |[black metal, symphonic metal, black metal, symphonic black metal, norwegian black metal, metal, black metal]                                                                                                                                                                                                                                                                                                                                                                                                                                                                                                                                                                                                                                   |(9718,[14,105,119,753,855],[1.0,3.0,1.0,1.0,1.0])                                                                                                                                |(9718,[14,105,119,753,855],[2.943862254124708,13.678738866130955,4.915130338770103,6.764709378886985,6.695716507400033])                                                                                                                                                                                                                                                                                                                                                  |\n",
      "+--------+---------------------+------------------------------------------------------------------------------------------------------------------------------------------------------------------------------------------------------------------------------------------------------------------------------------------------------------------------------------------------------------------------------------------------------------------------------------------------------------------------------------------------------------------------------------------------------------------------------------------------------------------------------------------------------------------------------------------------------------------------------------------------+---------------------------------------------------------------------------------------------------------------------------------------------------------------------------------+--------------------------------------------------------------------------------------------------------------------------------------------------------------------------------------------------------------------------------------------------------------------------------------------------------------------------------------------------------------------------------------------------------------------------------------------------------------------------+\n",
      "only showing top 5 rows\n",
      "\n"
     ]
    },
    {
     "name": "stderr",
     "output_type": "stream",
     "text": [
      "                                                                                \r"
     ]
    }
   ],
   "source": [
    "# Compute TF-IDF\n",
    "idf = IDF(inputCol=\"raw_features\", outputCol=\"features\")\n",
    "idf_model = idf.fit(vectorised_df)\n",
    "tfidf_df = idf_model.transform(vectorised_df)\n",
    "\n",
    "# Display TF-IDF features\n",
    "tfidf_df.show(5, truncate=False)"
   ]
  },
  {
   "cell_type": "markdown",
   "metadata": {},
   "source": [
    "Now, we normalise the feature vectors. Here, we are ensuring all features are on the same scale. We use MinMaxScaler to normalise the tag vectors. This is vital for similarity calculation."
   ]
  },
  {
   "cell_type": "code",
   "execution_count": 8,
   "metadata": {},
   "outputs": [
    {
     "name": "stderr",
     "output_type": "stream",
     "text": [
      "[Stage 51:>                                                         (0 + 1) / 1]\r"
     ]
    },
    {
     "name": "stdout",
     "output_type": "stream",
     "text": [
      "+--------+---------------------+------------------------------------------------------------------------------------------------------------------------------------------------------------------------------------------------------------------------------------------------------------------------------------------------------------------------------------------------------------------------------------------------------------------------------------------------------------------------------------------------------------------------------------------------------------------------------------------------------------------------------------------------------------------------------------------------------------------------------------------------+---------------------------------------------------------------------------------------------------------------------------------------------------------------------------------+--------------------------------------------------------------------------------------------------------------------------------------------------------------------------------------------------------------------------------------------------------------------------------------------------------------------------------------------------------------------------------------------------------------------------------------------------------------------------+-------------------------------------------------------------------------------------------------------------------------------------------------------------------------------------------------------------------------------------------------------------------------------+\n",
      "|artistID|artist_name          |tag_text                                                                                                                                                                                                                                                                                                                                                                                                                                                                                                                                                                                                                                                                                                                                        |raw_features                                                                                                                                                                     |features                                                                                                                                                                                                                                                                                                                                                                                                                                                                  |scaled_features                                                                                                                                                                                                                                                                |\n",
      "+--------+---------------------+------------------------------------------------------------------------------------------------------------------------------------------------------------------------------------------------------------------------------------------------------------------------------------------------------------------------------------------------------------------------------------------------------------------------------------------------------------------------------------------------------------------------------------------------------------------------------------------------------------------------------------------------------------------------------------------------------------------------------------------------+---------------------------------------------------------------------------------------------------------------------------------------------------------------------------------+--------------------------------------------------------------------------------------------------------------------------------------------------------------------------------------------------------------------------------------------------------------------------------------------------------------------------------------------------------------------------------------------------------------------------------------------------------------------------+-------------------------------------------------------------------------------------------------------------------------------------------------------------------------------------------------------------------------------------------------------------------------------+\n",
      "|4       |Moi dix Mois         |[j-rock, visual kei, metal, gothic japanese, bazarov, metal, rock, j-rock, visual kei, gothic, japanese, gothic metal, j-rock, gothic, japanese, j-rock, visual kei, gothic, japanese, j-rock, japanese, j-rock]                                                                                                                                                                                                                                                                                                                                                                                                                                                                                                                                |(9718,[0,14,82,98,106,157,227,894,7147],[1.0,2.0,3.0,4.0,1.0,6.0,3.0,1.0,1.0])                                                                                                   |(9718,[0,14,82,98,106,157,227,894,7147],[1.6855257565429276,5.887724508249416,12.454479841366838,16.648078773770404,4.74980635834472,30.59820969178844,15.642335899427453,6.408034434948252,8.710619527942297])                                                                                                                                                                                                                                                           |(9718,[0,14,82,98,106,157,227,894,7147],[0.014925373134328358,0.041666666666666664,0.1875,0.5,0.049999999999999996,0.75,0.75,1.0,1.0])                                                                                                                                         |\n",
      "|15      |Dimmu Borgir         |[symphonic black metal, halloween, black metal, black metal, symphonic black metal, black metal, death metal, symphonic black metal, melodic heavy metal, metal, black metal, death metal, awesome, dark metal, symphonic black metal, norwegian black metal, atmospheric black metal, melodic black metal, extreme metal, symphonic, nordic metal, true norwegian black metal, norwegian metal, black metal, symphonic metal, symphonic black metal, symphonic black metal, black metal, black metal, black metal, prejebeno, close your eyes and imagine, black metal, symphonic black metal, melodic black metal, black metal cabeza, black metal, black metal, symphonic black metal, melodic black metal, black metal, melodic black metal]|(9718,[14,56,62,105,119,223,337,728,753,855,884,1334,1532,1638,1956,2219,2486,2510,2908,3083],[1.0,1.0,2.0,12.0,1.0,1.0,1.0,1.0,8.0,1.0,4.0,1.0,1.0,1.0,1.0,1.0,1.0,1.0,1.0,1.0])|(9718,[14,56,62,105,119,223,337,728,753,855,884,1334,1532,1638,1956,2219,2486,2510,2908,3083],[2.943862254124708,3.2856695104608953,8.047738709923568,54.71495546452382,4.915130338770103,4.881978131453203,5.343323697955824,6.4593277293358025,54.11767503109588,6.695716507400033,26.782866029600132,6.918860058714243,7.101181615508198,7.206542131166024,7.45785655944693,7.612007239274188,7.794328796068143,7.794328796068143,8.017472347382352,8.017472347382352])|(9718,[14,56,62,105,119,223,337,728,753,855,884,1334,1532,1638,1956,2219,2486,2510,2908,3083],[0.020833333333333332,0.1,0.08695652173913043,0.9230769230769231,0.04,0.5,1.0,0.33333333333333337,1.0,0.25,1.0,1.0,0.9999999999999999,1.0,1.0,1.0,1.0,1.0,1.0,1.0])              |\n",
      "|16      |London After Midnight|[industrial, gothic, gothic rock, gothic, industrial, electronic, goth, heavy, weird, sexy songs, dark wave, gothic, industrial, gothic rock, goth, gothic, gothic rock, darkwave, industrial, gothic, darkwave, gothic, gothic rock, covers]                                                                                                                                                                                                                                                                                                                                                                                                                                                                                                   |(9718,[3,36,82,116,121,155,236,524,581,1326,1576],[1.0,4.0,6.0,1.0,2.0,4.0,2.0,1.0,1.0,1.0,1.0])                                                                                 |(9718,[3,36,82,116,121,155,236,524,581,1326,1576],[1.962446318784626,14.115343910600851,24.908959682733677,3.9832317092299574,9.406572685419654,19.61582815268791,10.686647395911647,5.84841864701283,5.84841864701283,6.918860058714243,7.101181615508198])                                                                                                                                                                                                              |(9718,[3,36,82,116,121,155,236,524,581,1326,1576],[0.014705882352941176,0.10810810810810811,0.375,0.33333333333333337,0.18181818181818182,0.26666666666666666,0.2857142857142857,0.5,1.0,1.0,0.9999999999999999])                                                              |\n",
      "|18      |The Crüxshadows      |[electronic, industrial, gothic, synthpop, industrial, electronic, industrial, ebm, darkwave, ultimate favorite, industrial, gothic, electro pop, darkwave, goth, ebm, covers, goth, dark wave, darkwave, gothic, darkwave, electronic, gothic, darkwave, gothic, electronica, gothic rock, darkwave, gothic, darkwave, covers]                                                                                                                                                                                                                                                                                                                                                                                                                 |(9718,[3,24,36,39,69,82,116,121,155,235,236,252,1576],[3.0,1.0,4.0,1.0,2.0,6.0,2.0,7.0,1.0,1.0,2.0,1.0,1.0])                                                                     |(9718,[3,24,36,39,69,82,116,121,155,235,236,252,1576],[5.887338956353878,2.7984687875540413,14.115343910600851,3.512122496676472,8.334649491344587,24.908959682733677,7.966463418459915,32.923004398968786,4.903957038171978,4.871167215348987,10.686647395911647,5.141086831460928,7.101181615508198])                                                                                                                                                                   |(9718,[3,24,36,39,69,82,116,121,155,235,236,252,1576],[0.044117647058823525,0.0625,0.10810810810810811,0.023255813953488372,0.15384615384615383,0.375,0.6666666666666667,0.6363636363636362,0.06666666666666667,1.0,0.2857142857142857,0.24999999999999997,0.9999999999999999])|\n",
      "|20      |Limbonic Art         |[black metal, symphonic metal, black metal, symphonic black metal, norwegian black metal, metal, black metal]                                                                                                                                                                                                                                                                                                                                                                                                                                                                                                                                                                                                                                   |(9718,[14,105,119,753,855],[1.0,3.0,1.0,1.0,1.0])                                                                                                                                |(9718,[14,105,119,753,855],[2.943862254124708,13.678738866130955,4.915130338770103,6.764709378886985,6.695716507400033])                                                                                                                                                                                                                                                                                                                                                  |(9718,[14,105,119,753,855],[0.020833333333333332,0.23076923076923078,0.04,0.125,0.25])                                                                                                                                                                                         |\n",
      "+--------+---------------------+------------------------------------------------------------------------------------------------------------------------------------------------------------------------------------------------------------------------------------------------------------------------------------------------------------------------------------------------------------------------------------------------------------------------------------------------------------------------------------------------------------------------------------------------------------------------------------------------------------------------------------------------------------------------------------------------------------------------------------------------+---------------------------------------------------------------------------------------------------------------------------------------------------------------------------------+--------------------------------------------------------------------------------------------------------------------------------------------------------------------------------------------------------------------------------------------------------------------------------------------------------------------------------------------------------------------------------------------------------------------------------------------------------------------------+-------------------------------------------------------------------------------------------------------------------------------------------------------------------------------------------------------------------------------------------------------------------------------+\n",
      "only showing top 5 rows\n",
      "\n"
     ]
    },
    {
     "name": "stderr",
     "output_type": "stream",
     "text": [
      "                                                                                \r"
     ]
    }
   ],
   "source": [
    "\n",
    "# Normalise the feature vectors\n",
    "scaler = MinMaxScaler(inputCol=\"features\", outputCol=\"scaled_features\")\n",
    "scaler_model = scaler.fit(tfidf_df)\n",
    "scaled_tfidf_df = scaler_model.transform(tfidf_df)\n",
    "\n",
    "# Display scaled features\n",
    "scaled_tfidf_df.show(5, truncate=False)\n"
   ]
  },
  {
   "cell_type": "code",
   "execution_count": 9,
   "metadata": {},
   "outputs": [
    {
     "name": "stderr",
     "output_type": "stream",
     "text": [
      "24/11/25 12:50:48 WARN Executor: Managed memory leak detected; size = 36737740 bytes, task 0.0 in stage 63.0 (TID 56)\n",
      "24/11/25 12:55:15 WARN TaskMemoryManager: Failed to allocate a page (134217728 bytes), try again.\n",
      "                                                                                \r"
     ]
    },
    {
     "name": "stdout",
     "output_type": "stream",
     "text": [
      "Artists similar to 'Eminem':\n"
     ]
    },
    {
     "name": "stderr",
     "output_type": "stream",
     "text": [
      "[Stage 105:============================================>           (8 + 2) / 10]\r"
     ]
    },
    {
     "name": "stdout",
     "output_type": "stream",
     "text": [
      "+-----------------+-------------------+-------------------+\n",
      "|similar_artist_id|similar_artist_name|similarity         |\n",
      "+-----------------+-------------------+-------------------+\n",
      "|1613             |Jay-Z              |0.2612198716513835 |\n",
      "|271              |Mos Def            |0.22742034675157372|\n",
      "|195              |Bright Eyes        |0.14916947047403017|\n",
      "|56               |Daft Punk          |0.14817306100618768|\n",
      "|7                |Marilyn Manson     |0.14631602443488229|\n",
      "|1081             |Ace of Base        |0.1299499714712334 |\n",
      "|190              |Muse               |0.12390243627135306|\n",
      "|288              |Rihanna            |0.11899538945412451|\n",
      "|53               |Air                |0.11511055113085385|\n",
      "|248              |Pharoahe Monch     |0.10867699752388749|\n",
      "+-----------------+-------------------+-------------------+\n",
      "only showing top 10 rows\n",
      "\n"
     ]
    },
    {
     "name": "stderr",
     "output_type": "stream",
     "text": [
      "                                                                                \r"
     ]
    }
   ],
   "source": [
    "from pyspark.sql import functions as F\n",
    "\n",
    "# Step 1: Compute pairwise cosine similarity (no changes here)\n",
    "# This code is already part of your existing implementation\n",
    "row_matrix_rdd = scaled_tfidf_df.select(\"scaled_features\").rdd.map(lambda row: row.scaled_features.toArray())\n",
    "row_matrix = RowMatrix(row_matrix_rdd)\n",
    "similarities = row_matrix.columnSimilarities()\n",
    "similarities_df = similarities.entries.toDF([\"artistID_1\", \"artistID_2\", \"cosine_similarity\"])\n",
    "\n",
    "# Step 2: Get the artist tags for tag overlap calculation\n",
    "artist_tags_df = artist_tags_info_df.groupBy(\"artistID\") \\\n",
    "    .agg(F.collect_set(\"tag\").alias(\"tags\"))\n",
    "\n",
    "# Step 3: Self-join artist_tags_df to calculate tag overlap between artist pairs\n",
    "tag_overlap_df = artist_tags_df.alias(\"a1\").join(\n",
    "    artist_tags_df.alias(\"a2\"),\n",
    "    F.col(\"a1.artistID\") < F.col(\"a2.artistID\")  # Ensures unique pairs\n",
    ").select(\n",
    "    F.col(\"a1.artistID\").alias(\"artistID_1\"),\n",
    "    F.col(\"a2.artistID\").alias(\"artistID_2\"),\n",
    "    F.size(F.array_intersect(F.col(\"a1.tags\"), F.col(\"a2.tags\"))).alias(\"tag_overlap_count\")  # Calculate shared tags\n",
    ")\n",
    "\n",
    "# Step 4: Combine cosine similarity with tag overlap\n",
    "hybrid_similarity_df = similarities_df.join(\n",
    "    tag_overlap_df,\n",
    "    [\"artistID_1\", \"artistID_2\"]\n",
    ").withColumn(\n",
    "    \"hybrid_similarity\",\n",
    "    F.col(\"cosine_similarity\") * (1 + F.col(\"tag_overlap_count\"))  # Hybrid metric\n",
    ")\n",
    "\n",
    "# Step 5: Normalize the hybrid similarity scores\n",
    "max_similarity = hybrid_similarity_df.agg(F.max(\"hybrid_similarity\")).collect()[0][0]\n",
    "normalized_similarity_df = hybrid_similarity_df.withColumn(\n",
    "    \"normalized_hybrid_similarity\",\n",
    "    F.col(\"hybrid_similarity\") / max_similarity\n",
    ")\n",
    "\n",
    "# Step 6: Find similar artists for a specific artist (same logic as before)\n",
    "input_artist_name = \"Eminem\"\n",
    "input_artist_id = artists_df.filter(F.col(\"name\") == input_artist_name).select(\"id\").first()[\"id\"]\n",
    "\n",
    "similar_artists = normalized_similarity_df.filter(\n",
    "    (F.col(\"artistID_1\") == input_artist_id) | (F.col(\"artistID_2\") == input_artist_id)\n",
    ").withColumn(\n",
    "    \"similar_artist_id\",\n",
    "    F.when(F.col(\"artistID_1\") == input_artist_id, F.col(\"artistID_2\")).otherwise(F.col(\"artistID_1\"))\n",
    ").join(\n",
    "    artists_df, F.col(\"similar_artist_id\") == artists_df.id\n",
    ").select(\n",
    "    F.col(\"similar_artist_id\"),\n",
    "    F.col(\"name\").alias(\"similar_artist_name\"),\n",
    "    F.col(\"normalized_hybrid_similarity\").alias(\"similarity\")\n",
    ").orderBy(F.col(\"similarity\").desc())\n",
    "\n",
    "# Display results\n",
    "print(f\"Artists similar to '{input_artist_name}':\")\n",
    "similar_artists.show(10, truncate=False)\n"
   ]
  },
  {
   "cell_type": "markdown",
   "metadata": {},
   "source": [
    "# Chapter : Similarities Between Artists\n",
    "\n",
    "We can compute cosine similarity between artists. This is done using RowMatrix and columnSimilarities."
   ]
  },
  {
   "cell_type": "code",
   "execution_count": 9,
   "metadata": {},
   "outputs": [
    {
     "name": "stderr",
     "output_type": "stream",
     "text": [
      "24/11/24 18:20:19 WARN Executor: Managed memory leak detected; size = 36737740 bytes, task 0.0 in stage 63.0 (TID 56)\n",
      "[Stage 66:>                                                         (0 + 1) / 1]\r"
     ]
    },
    {
     "name": "stdout",
     "output_type": "stream",
     "text": [
      "+----------+----------+--------------------+\n",
      "|artistID_1|artistID_2|similarity          |\n",
      "+----------+----------+--------------------+\n",
      "|261       |1529      |0.07548513560963972 |\n",
      "|379       |1752      |0.049629166698546515|\n",
      "|1644      |7078      |0.35355339059327373 |\n",
      "|1792      |2863      |0.5298129428260175  |\n",
      "|20        |8414      |0.0386493975840497  |\n",
      "+----------+----------+--------------------+\n",
      "only showing top 5 rows\n",
      "\n"
     ]
    },
    {
     "name": "stderr",
     "output_type": "stream",
     "text": [
      "24/11/24 18:20:23 WARN Executor: Managed memory leak detected; size = 36737740 bytes, task 0.0 in stage 66.0 (TID 57)\n",
      "                                                                                \r"
     ]
    }
   ],
   "source": [
    "\n",
    "# Convert the scaled features column to RDD of dense vectors\n",
    "row_matrix_rdd = scaled_tfidf_df.select(\"scaled_features\").rdd.map(lambda row: row.scaled_features.toArray())\n",
    "\n",
    "# Create a RowMatrix from the RDD\n",
    "row_matrix = RowMatrix(row_matrix_rdd)\n",
    "\n",
    "# Compute pairwise cosine similarities\n",
    "similarities = row_matrix.columnSimilarities()\n",
    "\n",
    "# Convert the similarities result back to a DataFrame for better readability\n",
    "similarities_df = similarities.entries.toDF([\"artistID_1\", \"artistID_2\", \"similarity\"])\n",
    "\n",
    "# Show the top 5 results\n",
    "similarities_df.show(5, truncate=False)\n"
   ]
  },
  {
   "cell_type": "code",
   "execution_count": 10,
   "metadata": {},
   "outputs": [
    {
     "name": "stderr",
     "output_type": "stream",
     "text": [
      "24/11/24 18:20:46 WARN RowBasedKeyValueBatch: Calling spill() on RowBasedKeyValueBatch. Will not spill but return 0.\n",
      "24/11/24 18:20:46 WARN RowBasedKeyValueBatch: Calling spill() on RowBasedKeyValueBatch. Will not spill but return 0.\n",
      "24/11/24 18:20:46 WARN RowBasedKeyValueBatch: Calling spill() on RowBasedKeyValueBatch. Will not spill but return 0.\n",
      "24/11/24 18:20:47 WARN RowBasedKeyValueBatch: Calling spill() on RowBasedKeyValueBatch. Will not spill but return 0.\n",
      "24/11/24 18:20:57 WARN RowBasedKeyValueBatch: Calling spill() on RowBasedKeyValueBatch. Will not spill but return 0.\n",
      "24/11/24 18:20:57 WARN RowBasedKeyValueBatch: Calling spill() on RowBasedKeyValueBatch. Will not spill but return 0.\n",
      "24/11/24 18:20:57 WARN RowBasedKeyValueBatch: Calling spill() on RowBasedKeyValueBatch. Will not spill but return 0.\n",
      "24/11/24 18:20:57 WARN RowBasedKeyValueBatch: Calling spill() on RowBasedKeyValueBatch. Will not spill but return 0.\n",
      "24/11/24 18:21:03 WARN RowBasedKeyValueBatch: Calling spill() on RowBasedKeyValueBatch. Will not spill but return 0.\n",
      "24/11/24 18:21:03 WARN RowBasedKeyValueBatch: Calling spill() on RowBasedKeyValueBatch. Will not spill but return 0.\n",
      "24/11/24 18:21:03 WARN RowBasedKeyValueBatch: Calling spill() on RowBasedKeyValueBatch. Will not spill but return 0.\n",
      "24/11/24 18:21:03 WARN RowBasedKeyValueBatch: Calling spill() on RowBasedKeyValueBatch. Will not spill but return 0.\n",
      "24/11/24 18:21:08 WARN RowBasedKeyValueBatch: Calling spill() on RowBasedKeyValueBatch. Will not spill but return 0.\n",
      "24/11/24 18:21:08 WARN RowBasedKeyValueBatch: Calling spill() on RowBasedKeyValueBatch. Will not spill but return 0.\n",
      "24/11/24 18:21:08 WARN RowBasedKeyValueBatch: Calling spill() on RowBasedKeyValueBatch. Will not spill but return 0.\n",
      "24/11/24 18:21:08 WARN RowBasedKeyValueBatch: Calling spill() on RowBasedKeyValueBatch. Will not spill but return 0.\n",
      "24/11/24 18:21:13 WARN RowBasedKeyValueBatch: Calling spill() on RowBasedKeyValueBatch. Will not spill but return 0.\n",
      "24/11/24 18:21:13 WARN RowBasedKeyValueBatch: Calling spill() on RowBasedKeyValueBatch. Will not spill but return 0.\n",
      "[Stage 82:=============================>                            (2 + 2) / 4]\r"
     ]
    },
    {
     "name": "stdout",
     "output_type": "stream",
     "text": [
      "+------+----------+-------------------+\n",
      "|userID|artistID_2|avg_similarity     |\n",
      "+------+----------+-------------------+\n",
      "|2100  |9551      |1.0                |\n",
      "|2100  |7300      |1.0                |\n",
      "|2100  |6776      |1.0                |\n",
      "|2100  |8846      |1.0                |\n",
      "|2100  |9346      |1.0                |\n",
      "|2100  |6104      |0.7071067811865475 |\n",
      "|2100  |8534      |0.7071067811865475 |\n",
      "|2100  |9181      |0.7071067811865475 |\n",
      "|2100  |9074      |0.5054855699880143 |\n",
      "|2100  |8843      |0.5054855699880143 |\n",
      "|2100  |8605      |0.5054855699880143 |\n",
      "|2100  |9055      |0.5054855699880143 |\n",
      "|2100  |9194      |0.5054855699880143 |\n",
      "|2100  |9104      |0.5054855699880143 |\n",
      "|2100  |8678      |0.5054855699880143 |\n",
      "|2100  |9221      |0.5054855699880143 |\n",
      "|2100  |8883      |0.5054855699880143 |\n",
      "|2100  |9483      |0.5054855699880143 |\n",
      "|2100  |8825      |0.5054855699880143 |\n",
      "|2100  |9695      |0.5054855699880143 |\n",
      "|2100  |9640      |0.5054855699880143 |\n",
      "|2100  |9573      |0.5054855699880143 |\n",
      "|2100  |9641      |0.5054855699880143 |\n",
      "|2100  |4793      |0.4472135954999579 |\n",
      "|2100  |4673      |0.4472135954999579 |\n",
      "|2100  |5592      |0.4472135954999579 |\n",
      "|2100  |4931      |0.4472135954999579 |\n",
      "|2100  |6224      |0.4472135954999579 |\n",
      "|2100  |8133      |0.4472135954999579 |\n",
      "|2100  |7416      |0.4472135954999579 |\n",
      "|2100  |6596      |0.4472135954999579 |\n",
      "|2100  |8537      |0.4472135954999579 |\n",
      "|2100  |8844      |0.4472135954999579 |\n",
      "|2100  |6870      |0.4472135954999579 |\n",
      "|2100  |9039      |0.4472135954999579 |\n",
      "|2100  |7949      |0.4472135954999579 |\n",
      "|2100  |9045      |0.4472135954999579 |\n",
      "|2100  |6886      |0.4472135954999579 |\n",
      "|2100  |8105      |0.4472135954999579 |\n",
      "|2100  |8008      |0.4472135954999579 |\n",
      "|2100  |9446      |0.4472135954999579 |\n",
      "|2100  |8050      |0.4472135954999579 |\n",
      "|2100  |8638      |0.4472135954999579 |\n",
      "|2100  |9258      |0.4472135954999579 |\n",
      "|2100  |9473      |0.4472135954999579 |\n",
      "|2100  |2565      |0.4330127018922194 |\n",
      "|2100  |4489      |0.38313674616101745|\n",
      "|2100  |4291      |0.38313674616101745|\n",
      "|2100  |6277      |0.38313674616101745|\n",
      "|2100  |4518      |0.38313674616101745|\n",
      "+------+----------+-------------------+\n",
      "only showing top 50 rows\n",
      "\n"
     ]
    },
    {
     "name": "stderr",
     "output_type": "stream",
     "text": [
      "                                                                                \r"
     ]
    }
   ],
   "source": [
    "# Join user interactions with artist similarity data\n",
    "user_artist_df = user_artists_df.join(artists_df, user_artists_df.artistID == artists_df.id).select(\n",
    "    user_artists_df[\"userID\"], \n",
    "    user_artists_df[\"artistID\"]\n",
    ")\n",
    "\n",
    "# Join user interactions with artist similarity data\n",
    "user_recommendations = user_artist_df.join(\n",
    "    similarities_df,\n",
    "    user_artist_df.artistID == similarities_df.artistID_1\n",
    ").groupBy(\"userID\", \"artistID_2\") \\\n",
    " .agg(F.mean(\"similarity\").alias(\"avg_similarity\")) \\\n",
    " .orderBy(\"userID\", \"avg_similarity\", ascending=False)\n",
    "\n",
    "# Display recommendations\n",
    "user_recommendations.show(50, truncate=False)"
   ]
  },
  {
   "cell_type": "code",
   "execution_count": 11,
   "metadata": {},
   "outputs": [
    {
     "name": "stderr",
     "output_type": "stream",
     "text": [
      "[Stage 95:>                                                         (0 + 4) / 4]\r"
     ]
    },
    {
     "name": "stdout",
     "output_type": "stream",
     "text": [
      "+------+----------+---------------------+------------------+\n",
      "|userID|artistID_2|artist_name          |avg_similarity    |\n",
      "+------+----------+---------------------+------------------+\n",
      "|5     |165       |Planet Funk          |0.687188672645603 |\n",
      "|5     |84        |Cut Copy             |0.6281262398957679|\n",
      "|5     |66        |Faithless            |0.5990630007927742|\n",
      "|5     |149       |The Sound Of Lucrecia|0.5960655954426938|\n",
      "|5     |63        |Enigma               |0.5781996164107921|\n",
      "|5     |87        |Deacon Blue          |0.5724274243327524|\n",
      "|5     |57        |Thievery Corporation |0.5466830866235932|\n",
      "|5     |79        |Fiction Factory      |0.5421251649009027|\n",
      "|5     |94        |Ministry of Sound    |0.5251414738134   |\n",
      "|5     |4617      |Bow Wow              |0.5132002392796673|\n",
      "+------+----------+---------------------+------------------+\n",
      "only showing top 10 rows\n",
      "\n"
     ]
    },
    {
     "name": "stderr",
     "output_type": "stream",
     "text": [
      "                                                                                \r"
     ]
    }
   ],
   "source": [
    "# Input a user I\n",
    "input_user_id = 5\n",
    "\n",
    "# Get artists the user has already interacted with\n",
    "interacted_artists = user_artists_df.filter(F.col(\"userID\") == input_user_id).select(\"artistID\")\n",
    "\n",
    "# Collect artistIDs as a list for filtering\n",
    "interacted_artist_ids = [row[\"artistID\"] for row in interacted_artists.collect()]\n",
    "\n",
    "# Generate recommendations for the user\n",
    "user_recommendations_filtered = (\n",
    "    user_artist_df.filter(F.col(\"userID\") == input_user_id)\n",
    "    .join(similarities_df, user_artist_df.artistID == similarities_df.artistID_1)\n",
    "    .filter(~F.col(\"artistID_2\").isin(interacted_artist_ids))  # Exclude already interacted artists\n",
    "    .groupBy(\"userID\", \"artistID_2\")\n",
    "    .agg(F.mean(\"similarity\").alias(\"avg_similarity\"))\n",
    "    .orderBy(F.col(\"avg_similarity\").desc())  # Ensure descending order\n",
    ")\n",
    "\n",
    "# Add artist names to the recommendations\n",
    "user_recommendations_with_names = (\n",
    "    user_recommendations_filtered\n",
    "    .join(artists_df, user_recommendations_filtered.artistID_2 == artists_df.id, how=\"inner\")\n",
    "    .select(\n",
    "        \"userID\",\n",
    "        \"artistID_2\",\n",
    "        F.col(\"name\").alias(\"artist_name\"),\n",
    "        \"avg_similarity\"\n",
    "    )\n",
    "    .orderBy(F.col(\"avg_similarity\").desc())  # Reconfirm descending order for display\n",
    ")\n",
    "\n",
    "# Display the recommendations with artist names\n",
    "user_recommendations_with_names.show(10, truncate=False)\n"
   ]
  },
  {
   "cell_type": "markdown",
   "metadata": {},
   "source": [
    "I will now try to make afunction that inputs an artist, and finds similar artists and displays their tags they share in common"
   ]
  },
  {
   "cell_type": "code",
   "execution_count": 12,
   "metadata": {},
   "outputs": [
    {
     "name": "stderr",
     "output_type": "stream",
     "text": [
      "                                                                                \r"
     ]
    },
    {
     "name": "stdout",
     "output_type": "stream",
     "text": [
      "Artists similar to 'Jean-Michel Jarre':\n"
     ]
    },
    {
     "name": "stderr",
     "output_type": "stream",
     "text": [
      "                                                                                \r"
     ]
    },
    {
     "name": "stdout",
     "output_type": "stream",
     "text": [
      "+-----------------+----------------------+-------------------+\n",
      "|similar_artist_id|similar_artist_name   |similarity         |\n",
      "+-----------------+----------------------+-------------------+\n",
      "|56               |Daft Punk             |0.4072535235842014 |\n",
      "|2                |Diary of Dreams       |0.37057201966529973|\n",
      "|4                |Moi dix Mois          |0.34505095261119995|\n",
      "|52               |Morcheeba             |0.3295423117461275 |\n",
      "|66               |Faithless             |0.3254526604505519 |\n",
      "|44               |Das Ich               |0.3197749222590756 |\n",
      "|169              |אביתר בנאי            |0.3014104402085912 |\n",
      "|19               |:wumpscut:            |0.2987023063005894 |\n",
      "|296              |Sugababes             |0.29250089551853053|\n",
      "|647              |Eleftheria Eleftheriou|0.2898754521821014 |\n",
      "+-----------------+----------------------+-------------------+\n",
      "only showing top 10 rows\n",
      "\n",
      "Shared tags with 'Jean-Michel Jarre':\n"
     ]
    },
    {
     "name": "stderr",
     "output_type": "stream",
     "text": [
      "[Stage 127:>                                                        (0 + 1) / 1]\r"
     ]
    },
    {
     "name": "stdout",
     "output_type": "stream",
     "text": [
      "+---------------------+-----------------------------------+\n",
      "|artist_name          |shared_tags                        |\n",
      "+---------------------+-----------------------------------+\n",
      "|Diary of Dreams      |[ambient, seen live, electronic]   |\n",
      "|Moonspell            |[seen live, instrumental]          |\n",
      "|Marilyn Manson       |[90s, instrumental, seen live]     |\n",
      "|Combichrist          |[electronic, electro, seen live]   |\n",
      "|Grendel              |[electronic]                       |\n",
      "|Agonoize             |[electronic]                       |\n",
      "|Hocico               |[electronic]                       |\n",
      "|London After Midnight|[electronic]                       |\n",
      "|The Crüxshadows      |[electronica, electronic, synthpop]|\n",
      "|:wumpscut:           |[electronic]                       |\n",
      "+---------------------+-----------------------------------+\n",
      "only showing top 10 rows\n",
      "\n"
     ]
    },
    {
     "name": "stderr",
     "output_type": "stream",
     "text": [
      "                                                                                \r"
     ]
    }
   ],
   "source": [
    "from pyspark.sql import functions as F\n",
    "\n",
    "# Input: Artist Name\n",
    "input_artist_name = \"Jean-Michel Jarre\"  # Change this to any artist name for testing\n",
    "\n",
    "# Step 1: Check if the artist exists in the dataset\n",
    "artist_exists = artists_df.filter(F.col(\"name\") == input_artist_name).count()\n",
    "\n",
    "if artist_exists == 0:\n",
    "    print(f\"The artist '{input_artist_name}' is not in the list.\")\n",
    "else:\n",
    "    # Step 2: Get the artist ID for the input artist\n",
    "    input_artist_id = artists_df.filter(F.col(\"name\") == input_artist_name).select(\"id\").first()[\"id\"]\n",
    "\n",
    "    # Step 3: Find similar artists using the similarity matrix\n",
    "    similar_artists = similarities_df.filter(\n",
    "        (F.col(\"artistID_1\") == input_artist_id) | (F.col(\"artistID_2\") == input_artist_id)\n",
    "    ).withColumn(\n",
    "        \"similar_artist_id\",\n",
    "        F.when(F.col(\"artistID_1\") == input_artist_id, F.col(\"artistID_2\")).otherwise(F.col(\"artistID_1\"))\n",
    "    ).join(\n",
    "        artists_df, F.col(\"similar_artist_id\") == artists_df.id\n",
    "    ).select(\n",
    "        F.col(\"similar_artist_id\"),\n",
    "        F.col(\"name\").alias(\"similar_artist_name\"),\n",
    "        F.col(\"similarity\")\n",
    "    ).orderBy(F.col(\"similarity\").desc())\n",
    "\n",
    "    # Step 4: Get tags for the input artist and similar artists\n",
    "    input_artist_tags = artist_tags_info_df.filter(\n",
    "        F.col(\"artistID\") == input_artist_id\n",
    "    ).select(\"tag\").distinct()\n",
    "\n",
    "    similar_artist_tags = artist_tags_info_df.filter(\n",
    "        F.col(\"artistID\").isin([row[\"similar_artist_id\"] for row in similar_artists.collect()])\n",
    "    ).select(\"artistID\", \"tag\").distinct()\n",
    "\n",
    "    # Step 5: Find shared tags between the input artist and similar artists\n",
    "    shared_tags = similar_artist_tags.join(\n",
    "        input_artist_tags, [\"tag\"], \"inner\"\n",
    "    ).groupBy(\"artistID\").agg(\n",
    "        F.collect_list(\"tag\").alias(\"shared_tags\")\n",
    "    ).join(\n",
    "        artists_df, F.col(\"artistID\") == artists_df.id\n",
    "    ).select(\n",
    "        F.col(\"name\").alias(\"artist_name\"),\n",
    "        \"shared_tags\"\n",
    "    )\n",
    "\n",
    "    # Display Results\n",
    "    print(f\"Artists similar to '{input_artist_name}':\")\n",
    "    similar_artists.show(10, truncate=False)\n",
    "\n",
    "    print(f\"Shared tags with '{input_artist_name}':\")\n",
    "    shared_tags.show(10, truncate=False)\n"
   ]
  },
  {
   "cell_type": "code",
   "execution_count": 13,
   "metadata": {},
   "outputs": [
    {
     "name": "stderr",
     "output_type": "stream",
     "text": [
      "                                                                                \r"
     ]
    },
    {
     "name": "stdout",
     "output_type": "stream",
     "text": [
      "Artists similar to 'Jean-Michel Jarre':\n"
     ]
    },
    {
     "name": "stderr",
     "output_type": "stream",
     "text": [
      "                                                                                \r"
     ]
    },
    {
     "name": "stdout",
     "output_type": "stream",
     "text": [
      "+-----------------+----------------------+-------------------+\n",
      "|similar_artist_id|similar_artist_name   |similarity         |\n",
      "+-----------------+----------------------+-------------------+\n",
      "|56               |Daft Punk             |0.4072535235842014 |\n",
      "|2                |Diary of Dreams       |0.37057201966529973|\n",
      "|4                |Moi dix Mois          |0.34505095261119995|\n",
      "|52               |Morcheeba             |0.3295423117461275 |\n",
      "|66               |Faithless             |0.3254526604505519 |\n",
      "|44               |Das Ich               |0.3197749222590756 |\n",
      "|169              |אביתר בנאי            |0.3014104402085912 |\n",
      "|19               |:wumpscut:            |0.2987023063005894 |\n",
      "|296              |Sugababes             |0.29250089551853053|\n",
      "|647              |Eleftheria Eleftheriou|0.2898754521821014 |\n",
      "+-----------------+----------------------+-------------------+\n",
      "\n",
      "Shared tags with 'Jean-Michel Jarre':\n"
     ]
    },
    {
     "name": "stderr",
     "output_type": "stream",
     "text": [
      "                                                                                \r"
     ]
    },
    {
     "name": "stdout",
     "output_type": "stream",
     "text": [
      "+----------------------+-------------------------------------------------------------------------------------------+\n",
      "|name                  |shared_tags                                                                                |\n",
      "+----------------------+-------------------------------------------------------------------------------------------+\n",
      "|:wumpscut:            |[electronic]                                                                               |\n",
      "|Sugababes             |[seen live, pop, electronic]                                                               |\n",
      "|Faithless             |[electronica, 90s, electronic, chillout, pop, ambient, seen live, electro]                 |\n",
      "|Eleftheria Eleftheriou|[pop]                                                                                      |\n",
      "|Morcheeba             |[electronic, chillout, pop, seen live]                                                     |\n",
      "|Das Ich               |[seen live]                                                                                |\n",
      "|Daft Punk             |[electronic, electronica, atmospheric, synthpop, 90s, chillout, electro, instrumental, pop]|\n",
      "|Diary of Dreams       |[ambient, seen live, electronic]                                                           |\n",
      "+----------------------+-------------------------------------------------------------------------------------------+\n",
      "\n"
     ]
    }
   ],
   "source": [
    "from pyspark.sql import functions as F\n",
    "\n",
    "# Input: Artist Name\n",
    "input_artist_name = \"Jean-Michel Jarre\"  # Change this to any artist name for testing\n",
    "\n",
    "# Step 1: Check if the artist exists in the dataset\n",
    "artist_exists = artists_df.filter(F.col(\"name\") == input_artist_name).count()\n",
    "\n",
    "if artist_exists == 0:\n",
    "    print(f\"The artist '{input_artist_name}' is not in the list.\")\n",
    "else:\n",
    "    # Step 2: Get the artist ID for the input artist\n",
    "    input_artist_id = artists_df.filter(F.col(\"name\") == input_artist_name).select(\"id\").first()[\"id\"]\n",
    "\n",
    "    # Step 3: Find similar artists using the similarity matrix\n",
    "    similar_artists = similarities_df.filter(\n",
    "        (F.col(\"artistID_1\") == input_artist_id) | (F.col(\"artistID_2\") == input_artist_id)\n",
    "    ).withColumn(\n",
    "        \"similar_artist_id\",\n",
    "        F.when(F.col(\"artistID_1\") == input_artist_id, F.col(\"artistID_2\")).otherwise(F.col(\"artistID_1\"))\n",
    "    ).join(\n",
    "        artists_df, F.col(\"similar_artist_id\") == artists_df.id\n",
    "    ).select(\n",
    "        F.col(\"similar_artist_id\"),\n",
    "        F.col(\"name\").alias(\"similar_artist_name\"),\n",
    "        F.col(\"similarity\")\n",
    "    ).orderBy(F.col(\"similarity\").desc())\n",
    "\n",
    "    # Step 4: Limit to the top similar artists\n",
    "    top_similar_artists = similar_artists.limit(10)\n",
    "\n",
    "    # Step 5: Get tags for the input artist\n",
    "    input_artist_tags = artist_tags_info_df.filter(\n",
    "        F.col(\"artistID\") == input_artist_id\n",
    "    ).select(\"tag\").distinct()\n",
    "\n",
    "    # Step 6: Get tags for the top similar artists\n",
    "    similar_artist_tags = artist_tags_info_df.filter(\n",
    "        F.col(\"artistID\").isin([row[\"similar_artist_id\"] for row in top_similar_artists.collect()])\n",
    "    ).select(\"artistID\", \"tag\").distinct()\n",
    "\n",
    "    # Step 7: Find shared tags between the input artist and top similar artists\n",
    "    shared_tags = similar_artist_tags.join(\n",
    "        input_artist_tags, [\"tag\"], \"inner\"\n",
    "    ).join(\n",
    "        artists_df, similar_artist_tags.artistID == artists_df.id\n",
    "    ).groupBy(\"name\").agg(\n",
    "        F.collect_list(\"tag\").alias(\"shared_tags\")\n",
    "    )\n",
    "\n",
    "    # Display Results\n",
    "    print(f\"Artists similar to '{input_artist_name}':\")\n",
    "    top_similar_artists.show(10, truncate=False)\n",
    "\n",
    "    print(f\"Shared tags with '{input_artist_name}':\")\n",
    "    shared_tags.show(10, truncate=False)\n"
   ]
  },
  {
   "cell_type": "code",
   "execution_count": 14,
   "metadata": {},
   "outputs": [
    {
     "name": "stderr",
     "output_type": "stream",
     "text": [
      "                                                                                \r"
     ]
    },
    {
     "name": "stdout",
     "output_type": "stream",
     "text": [
      "Artists similar to 'Kanye West':\n"
     ]
    },
    {
     "name": "stderr",
     "output_type": "stream",
     "text": [
      "                                                                                \r"
     ]
    },
    {
     "name": "stdout",
     "output_type": "stream",
     "text": [
      "+-----------------+------------------------+-------------------+\n",
      "|similar_artist_id|similar_artist_name     |similarity         |\n",
      "+-----------------+------------------------+-------------------+\n",
      "|177              |Rock Star Supernova     |0.3078493817275997 |\n",
      "|2876             |Ann Rabson              |0.227429413073671  |\n",
      "|45               |Mindless Self Indulgence|0.22348526162540228|\n",
      "|4                |Moi dix Mois            |0.20912846762611448|\n",
      "|2                |Diary of Dreams         |0.2053797338222069 |\n",
      "|60               |Matt Bianco             |0.18968144847130214|\n",
      "|1729             |Craig Armstrong         |0.17507524381296338|\n",
      "|93               |Jean-Michel Jarre       |0.17057205980525328|\n",
      "|52               |Morcheeba               |0.16863213272256558|\n",
      "|637              |Helena Paparizou        |0.16508332072280235|\n",
      "+-----------------+------------------------+-------------------+\n",
      "\n",
      "Shared tags with 'Kanye West':\n"
     ]
    },
    {
     "name": "stderr",
     "output_type": "stream",
     "text": [
      "[Stage 178:============================>                            (1 + 1) / 2]\r"
     ]
    },
    {
     "name": "stdout",
     "output_type": "stream",
     "text": [
      "+------------------------+----------------------------------------------------------+-------------------+\n",
      "|similar_artist_name     |shared_tags                                               |similarity         |\n",
      "+------------------------+----------------------------------------------------------+-------------------+\n",
      "|Rock Star Supernova     |[]                                                        |0.3078493817275997 |\n",
      "|Ann Rabson              |[]                                                        |0.227429413073671  |\n",
      "|Mindless Self Indulgence|[alternative, electronic, i want to dance in my underwear]|0.22348526162540228|\n",
      "|Moi dix Mois            |[]                                                        |0.20912846762611448|\n",
      "|Diary of Dreams         |[electronic]                                              |0.2053797338222069 |\n",
      "|Matt Bianco             |[]                                                        |0.18968144847130214|\n",
      "|Craig Armstrong         |[classic, electronic]                                     |0.17507524381296338|\n",
      "|Jean-Michel Jarre       |[electronic]                                              |0.17057205980525328|\n",
      "|Morcheeba               |[sexy, dance, electronic, hip-hop]                        |0.16863213272256558|\n",
      "|Helena Paparizou        |[rnb, dance, hip-hop]                                     |0.16508332072280235|\n",
      "+------------------------+----------------------------------------------------------+-------------------+\n",
      "\n"
     ]
    },
    {
     "name": "stderr",
     "output_type": "stream",
     "text": [
      "                                                                                \r"
     ]
    }
   ],
   "source": [
    "from pyspark.sql import functions as F\n",
    "\n",
    "# Input: Artist Name\n",
    "input_artist_name = \"Kanye West\"  # Change this to any artist name for testing\n",
    "\n",
    "# Step 1: Check if the artist exists in the dataset\n",
    "artist_exists = artists_df.filter(F.col(\"name\") == input_artist_name).count()\n",
    "\n",
    "if artist_exists == 0:\n",
    "    print(f\"The artist '{input_artist_name}' is not in the list.\")\n",
    "else:\n",
    "    # Step 2: Get the artist ID for the input artist\n",
    "    input_artist_id = artists_df.filter(F.col(\"name\") == input_artist_name).select(\"id\").first()[\"id\"]\n",
    "\n",
    "    # Step 3: Find similar artists using the similarity matrix\n",
    "    similar_artists = similarities_df.filter(\n",
    "        (F.col(\"artistID_1\") == input_artist_id) | (F.col(\"artistID_2\") == input_artist_id)\n",
    "    ).withColumn(\n",
    "        \"similar_artist_id\",\n",
    "        F.when(F.col(\"artistID_1\") == input_artist_id, F.col(\"artistID_2\")).otherwise(F.col(\"artistID_1\"))\n",
    "    ).join(\n",
    "        artists_df, F.col(\"similar_artist_id\") == artists_df.id\n",
    "    ).select(\n",
    "        F.col(\"similar_artist_id\"),\n",
    "        F.col(\"name\").alias(\"similar_artist_name\"),\n",
    "        F.col(\"similarity\")\n",
    "    ).orderBy(F.col(\"similarity\").desc())\n",
    "\n",
    "    # Step 4: Limit to the top similar artists\n",
    "    top_similar_artists = similar_artists.limit(10)\n",
    "\n",
    "    # Step 5: Get tags for the input artist\n",
    "    input_artist_tags = artist_tags_info_df.filter(\n",
    "        F.col(\"artistID\") == input_artist_id\n",
    "    ).select(\"tag\").distinct()\n",
    "\n",
    "    # Step 6: Get tags for the top similar artists\n",
    "    similar_artist_tags = artist_tags_info_df.filter(\n",
    "        F.col(\"artistID\").isin([row[\"similar_artist_id\"] for row in top_similar_artists.collect()])\n",
    "    ).select(\"artistID\", \"tag\").distinct()\n",
    "\n",
    "    # Step 7: Find shared tags between the input artist and top similar artists\n",
    "    shared_tags = top_similar_artists.join(\n",
    "        similar_artist_tags.join(\n",
    "            input_artist_tags, [\"tag\"], \"inner\"\n",
    "        ).groupBy(\"artistID\").agg(\n",
    "            F.collect_list(\"tag\").alias(\"shared_tags\")\n",
    "        ),\n",
    "        top_similar_artists.similar_artist_id == similar_artist_tags.artistID,\n",
    "        how=\"left\"\n",
    "    ).select(\n",
    "        F.col(\"similar_artist_name\"),\n",
    "        F.coalesce(F.col(\"shared_tags\"), F.array()).alias(\"shared_tags\"),\n",
    "        F.col(\"similarity\")\n",
    "    ).orderBy(F.col(\"similarity\").desc())  # Ensure order matches top_similar_artists\n",
    "\n",
    "    # Display Results\n",
    "    print(f\"Artists similar to '{input_artist_name}':\")\n",
    "    top_similar_artists.show(10, truncate=False)\n",
    "\n",
    "    print(f\"Shared tags with '{input_artist_name}':\")\n",
    "    shared_tags.show(10, truncate=False)\n"
   ]
  }
 ],
 "metadata": {
  "kernelspec": {
   "display_name": "base",
   "language": "python",
   "name": "python3"
  },
  "language_info": {
   "codemirror_mode": {
    "name": "ipython",
    "version": 3
   },
   "file_extension": ".py",
   "mimetype": "text/x-python",
   "name": "python",
   "nbconvert_exporter": "python",
   "pygments_lexer": "ipython3",
   "version": "3.11.5"
  }
 },
 "nbformat": 4,
 "nbformat_minor": 2
}
