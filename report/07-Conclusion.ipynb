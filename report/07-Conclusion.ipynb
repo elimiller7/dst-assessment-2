{
 "cells": [
  {
   "cell_type": "markdown",
   "metadata": {},
   "source": [
    "# **Conclusion**"
   ]
  },
  {
   "cell_type": "markdown",
   "metadata": {},
   "source": [
    "Variational autoencoders:\n",
    "\n",
    "We have explored the use of Variational Autoencoders as a means of creating a recommender system for music artists. To do this, we have refined our model by adjusting its hyperparameters and analysing its computational performance. Overall, we have seen that the model's hit rate and NDCG score are relatively low, but can be affected by optimising the use of batches, the activation function, and the number of layers in the VAE. The MSE was lower than that of the purely random generator, suggesting that our model was able to successfully capture some relationships in the latent space."
   ]
  }
 ],
 "metadata": {
  "language_info": {
   "name": "python"
  }
 },
 "nbformat": 4,
 "nbformat_minor": 2
}
