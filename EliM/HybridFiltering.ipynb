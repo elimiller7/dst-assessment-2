{
 "cells": [
  {
   "cell_type": "markdown",
   "metadata": {},
   "source": [
    "# **Hybrid Filtering**"
   ]
  },
  {
   "cell_type": "markdown",
   "metadata": {},
   "source": [
    "## Chapter 0: Theory\n",
    "Hybrid filtering is the combination of different recommendation techniques, with the goal of giving more accurate and meaningful recommendations. This is a way to benefit from the elements of the different techniques and limit the effect of their drawbacks. One approach to do so is combining collaborative and content-based filtering. Weighted hybridisation optimises a hyperparameter which determines the contribution from each method. Switching hybridisation chooses which method to use according to a chosen decision rule which depends on the data. Finally, mixed hybridisation gives recommendations which have been given by each of the different methods separately."
   ]
  },
  {
   "cell_type": "markdown",
   "metadata": {},
   "source": [
    "## Chapter 1: Implementation"
   ]
  },
  {
   "cell_type": "code",
   "execution_count": null,
   "metadata": {},
   "outputs": [],
   "source": []
  }
 ],
 "metadata": {
  "language_info": {
   "name": "python"
  }
 },
 "nbformat": 4,
 "nbformat_minor": 2
}
