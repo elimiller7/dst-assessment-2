{
 "cells": [
  {
   "cell_type": "markdown",
   "metadata": {},
   "source": [
    "# **Introduction**"
   ]
  },
  {
   "cell_type": "markdown",
   "metadata": {},
   "source": [
    "# Recommender Systems\n",
    "Recommender systems are strategies designed to make decisions for users when the available information is complex.\n",
    "The aim of a recommender system is to help users to make decisions about their preferences when there is a lack of experience with some of the available options. Large amounts of historical data are given to the recommender system and the system will output personalised recommendations for the user.\n",
    "\n",
    "# Approaches to Recommender Systems\n",
    "There are a variety of techniques that a recommender system may use. Some examples include collaborative filtering, content-based filtering and hybrid filtering. These can utilise many statistical methods, including neural networks and graphical approaches.\n",
    "\n",
    "Collaborative filtering identifies users with similar preferences and uses the similar data to make recommendations to the user of interest.\n",
    "\n",
    "Content-based filtering focuses on the characteristics of the items that it needs to recommend, disregarding preferences of other users.\n",
    "\n",
    "There are drawbacks for the two methods described. Collaborative filtering encounters problems with cold-starts, meaning there can be difficulty with giving meamningful recommendations for new users or items. Furthermore, sparse data has a significant impact on the quality of the predictions, and there may be issues with scalability depending on the specific collaborative technique used. Content-based filtering also has problems when dealing with sparse data and may give limited analysis on the given content.\n",
    "\n",
    "Hybrid filtering can be used to combine collaborative and content-based filtering, allowing us to use both the information about similar users and the characteristics of the items. This may mitigate some of the drawbacks and improve the accuracy of a recommender system. There are a number of different approaches to hybrid filtering, inlcuding weighted hybrid, mixed hybrid and meta-level hybrid.\n",
    "\n",
    "# Process of a Recommender System\n",
    "There are 3 phases in a recommender system. Firstly, all relevant data is collected and pre-processed. This data may be explicit or implicit feedback. Explicit feedback can be item ratings that the user gives, and this type of feedback is seen as more reliable. Implicit feedback is less reliable, however, this does not need any user effort since this may be clicks and counts of listens or views. Hybrid filtering allows us to gain knowledge from both types of feedback. In the next phase, the recommender system learns from the chosen data, using particular algorithms, depending on the type of recommender system. Finally, the system makes recommendations or gives predictions on items that the user will hopefully like."
   ]
  },
  {
   "cell_type": "markdown",
   "metadata": {},
   "source": [
    "# Collaborative Filtering & Methods\n",
    "\n",
    "Collaborative filtering creates a user-item matrix with values corresponding to the users preferences. Next, using a chosen similarity metric, the similarities between users' preferences are used to give recommendations for each user. Each user will be given recommendations for items that they have not given feedback for, but have positive feedback from users similar to the chosen user. These recommendations may also be predictions. \n",
    "\n",
    "The two types of collaborative filtering techniques are model-based and memory-based.\n",
    "\n",
    "## Memory-based Methods\n",
    "Memory-based collaborative filtering can be user-based or item-based. User-based techniques compute the similarities between users based on their implicit feedback for the same item. Then, the predicted rating or given feedback is calculated using weighted averages of the item's ratings given by similar users. The weights are the similarities of the other users with the chosen item. Item-based techniques work similalrly but use the similarity between items instead of the similarity between users. Both of these methods form a similarity matrix.\n",
    "\n",
    "## Similarity\n",
    "There are different similarity measures that can be chosen. The Pearson correlation coefficient measures linear relation between two variables, and the cosine similarity measures the simialrirty between two vectors depending on the angle between them in a vector space. Similarity may also be referenced as the distance metric or correlation metric.\n",
    "\n",
    "## Model-based Methods\n",
    "Model-based collaborative filtering can be a lot quicker than memory-based methods. An example of this is the singular value decomposition (SVD). These methods use the user-item matrix to find rules between items and uses these rules to give a list of recommendations. If data is sparse, then model-based methods are recommended to deal with this. More advanced model-based recommendation systems can use clustering, neural networks and elements of graph theory. The main drawback of model-based methods is that they are typically have a very high computational cost and may require a large amount of memory.\n",
    "\n",
    "The most popular algorithm used for collaborative filtering, when the similarity matrix is sparse, is Alternating Least Squares (ALS) minimisation. Simply, this aims to estimate the entries of a matrix $M=UV^T$ when only a subset of these entries is observed. The algorithm minimises the squared error with the observed entries, when alternating in optimising $U$ and $V$. This would allow us to give predicted entries for items which a given user has not listened to yet.\n",
    "\n",
    "## Pros & Cons\n",
    "Collaborative filtering can be used when data is difficult to analyse since it can use the imnplicit feedback. However, there are a few problems. Firstly, the cold-start problem - a new user has no data, hence, the system cannot make meaningful recommendations for them. Also, if data is sparse, then recommendations can be less accurate and many items may not be recommended at all. Finally, the method must be scalable in order to stay efficient. The basic collaborative filtering methods can struggle with this, but model-based methods like SVD can be used to give efficient and robust recommendations."
   ]
  },
  {
   "cell_type": "markdown",
   "metadata": {},
   "source": [
    "# Content-based Filtering\n",
    "Content-based filtering uses features of the content of the items to make recommendations. These features are from items similar to those which a given user has interacted with and evaluated in the past. Many types of models can be used to compute the similarity between items and give recommendations. Some examples include vector space models using term frequency inverse docuyment frequency (TF/IDF), decision trees and neural networks. These use statistical and machine learning methods to learn the underlying structure of the data and use this to make recommendations. Content-based filtering does not depend on other users' profiles. Also, a large amount of knowledge about the features of the items is needed for success.\n",
    "\n",
    "## Pros & Cons\n",
    "Content-based filtering can recommend new items to users even if the user has not given any item ratings, hence, it can solve the cold-start problem. Furthermore, as user preferences are not used in this technique which can ensure users' privacy. Explanations of recommendations can also be given. The main drawback of content-based filtering is that in-depth knowledge of items' features is essential to make meaningful recommendations. Also, the model may become over-specialised since it will restrict users only to items that are similar to those in their profile."
   ]
  },
  {
   "cell_type": "markdown",
   "metadata": {},
   "source": [
    "# Hybrid Filtering\n",
    "Hybrid filtering is the combination of different recommendation techniques, with the goal of giving more accurate and meaningful recommendations. This is a way to benefit from the elements of the different techniques and limit the effect of their drawbacks. One approach to do so is combining collaborative and content-based filtering. Weighted hybridisation optimises a hyperparameter which determines the contribution from each method. Switching hybridisation chooses which method to use according to a chosen decision rule which depends on the data. Finally, mixed hybridisation gives recommendations which have been given by each of the different methods separately."
   ]
  },
  {
   "cell_type": "markdown",
   "metadata": {},
   "source": [
    "# Evaluation Metrics\n",
    "The suitable metrics which can be used to analyse the performance of a recommender system depend on the chosen models and techniques. Some examples are:\n",
    "\n",
    "- **Accuracy** is the proportion of correct reocmmendations out of the total possible recommendations\n",
    "- **Coverage** is the proportion of items in the item-space that the system is able to give recommendations for\n",
    "- **Precision**,  P = Correctly recommended items / Total recommended items\n",
    "- **Recall**, R = Correctly recommended items / Total useful recommended items\n",
    "- **F-measure** = 2PR / (P + R) \n",
    "- **Hit Rate** is the proportion of relevant items sucessfully recommended\n",
    "-**NDCG** evaluates the ranking quality of recommended items\n",
    "\n",
    "We can also use the (root) mean squared error ((R)MSE) and the mean absolute error (MAE) where the error is the difference between the recommendation or prediction from the user's actual value.\n",
    " "
   ]
  },
  {
   "cell_type": "markdown",
   "metadata": {},
   "source": [
    "# Graphical Methods\n",
    "\n",
    "In the field of recommendation systems, graphical approaches are becoming a more and more promising field, especially when it comes to Graph Neural Networks (GNNs). A graph is a structure consisting of nodes, or vertices, and paths connecting them, or edges. Many data sources that would be used to train recommender systems naturally take the shape of graphs. The most common of these is a bipartite graph, meaning that there are two different types of nodes, usually users and items. These two types of nodes are then connected with edges that represent interactions. For example, if a user has interacted with an item in the past then those two nodes will be connected with an edge. For a very simple example, consider:"
   ]
  },
  {
   "cell_type": "code",
   "execution_count": null,
   "metadata": {},
   "outputs": [
    {
     "name": "stdout",
     "output_type": "stream",
     "text": [
      "REQUIREMENTS for 01-Introduction.ipynb:\n",
      "\n",
      "pandas\n",
      "networkx\n",
      "matplotlib\n"
     ]
    }
   ],
   "source": [
    "import os\n",
    "\n",
    "print(\"REQUIREMENTS for 01-Introduction.ipynb:\\n\")\n",
    "with open(os.path.join('..','report','requirements','01-requirements.txt')) as f:\n",
    "    print(f.read())"
   ]
  },
  {
   "cell_type": "code",
   "execution_count": null,
   "metadata": {},
   "outputs": [],
   "source": [
    "# Run this to install required models from saved text file\n",
    "\n",
    "!pip install -r report/requirements/01-requirements.txt"
   ]
  },
  {
   "cell_type": "code",
   "execution_count": 1,
   "metadata": {},
   "outputs": [],
   "source": [
    "import os\n",
    "import sys\n",
    "import pandas as pd\n",
    "sys.path.insert(1, os.path.join('..','scripts'))\n",
    "\n",
    "import GraphFuncs as gf # Script containing some functions I wrote"
   ]
  },
  {
   "cell_type": "code",
   "execution_count": 2,
   "metadata": {},
   "outputs": [
    {
     "data": {
      "image/png": "[encoded data removed]",
      "text/plain": [
       "<Figure size 400x300 with 1 Axes>"
      ]
     },
     "metadata": {},
     "output_type": "display_data"
    }
   ],
   "source": [
    "vertices_pd = pd.DataFrame([('user1',0),('user2',0),('user3',0),\n",
    "                            ('item1',1),('item2',1),('item3',1)], \n",
    "                            columns=['id','partition'])\n",
    "edges_pd = pd.DataFrame([('user1','item1','interacted'),('user1','item3','interacted'),\n",
    "                         ('user2','item2','interacted'),('user2','item3','interacted'),\n",
    "                         ('user3','item3','interacted')],columns=['src','dst','relationship'])\n",
    "gf.plot_multipartite_graph(vertices_pd,edges_pd,fig_size = (4,3))"
   ]
  },
  {
   "cell_type": "markdown",
   "metadata": {},
   "source": [
    "User-User interactions could also be added with edges between the users. If we wanted to explore the full extend of this, we could include more types of nodes, known as a k-partite graph where k is the number of node types. Graphs can become incredibly large and incredibly rich with information. The bigger and more detailed the dataset is, the more possibilities there are for graph structures and exploration.\n",
    "\n",
    "GNNs take advantage of this rich structure, especially in recommender systems, where they are able to generate recommendations for a user based on the neighbour vertices to that user's vertex. The main advantages of GNNs are: [4]\n",
    "\n",
    "* They explicity encode collaborative signals. The network can propogate information along the edges of the graph to gather information about what each user might like from it's neighbours.\n",
    "* They can take advantage of multi-hop connections. Instead of just looking at a node's direct neighbours, they can also consider the neighbour's of those neighbours, helping it to gather information.\n",
    "* They are able to flexibly incorporate side information, such as user profiles or item attributes.\n",
    "* They are able to bypass the cold-start issue. This occurs when there is limited interaction data. GNNs can infer new connections based on pre-existing connections, and use those to generate recommendations.\n",
    "\n",
    "The main recommendation method that GNNs take advantage of is collaborative filtering, using the graph structure to identify similar users or items based on the already existing connections. They do this through their core components: message passing and aggregration. In each layer of the GNN, each node receives messages from its neighbours, which are then all aggregated to update the node representation. In this way, information is spread throughout the graph, allowing for the model to capture the collaborative nature of the dataset. After the model has been trained on the data, it can be used to make further predictions.\n",
    "\n",
    "We believe the our dataset, the LastFM dataset, admits a detailed graphical structure and thus GNNs can be applied to help make predictions. The graphical structure of the dataset will be explored more in `02-EDA`, and the application of GNN's, specifically the LightGCN model, will be explored in `05-Graph-Neural-Network`."
   ]
  },
  {
   "cell_type": "markdown",
   "metadata": {},
   "source": [
    "# Neural Network Methods\n",
    "\n",
    "Although a less traditional approach to creating a recommender system, neural networks offer a variety of different approaches for modelling such a system. One way is using Autoencoders to create a latent representation of the dataset and then use this latent space to reconstruct a higher-dimensional output which should be similar to the input. Although standard autoencoders are mainly used for tasks such as data compression and anomaly detection, using Variational Autoencoders are relevant here because of their generative nature. Unlike standard Autoencoers, Variational Autoencoders model the latent space as a continuous distribution and then sample from this distribution in order to reconstruct an output. This means that the output of the autoencoder should be similar to the input each time, but the effect of the random sampling means that it will vary slightly, allowing the model to generate different recommendations for a user which are still similar to their tastes.\n",
    "\n",
    "## Pros & Cons\n",
    "\n",
    "Due to their generative capabilities, Variational Autoencoders are able to handle sparse data effectively and deal with the 'cold-start' problem. They are also relatively flexible as models, as additional layers can be easily added to the model or removed appropriately, which can increase and decrease the complexity of the model. Since autoencoders are used for data compression, and their ability to compress high-dimensional data into a lower-dimensional latent space, Variational Autoencoders are also effective at handling large data as well as small data and are thus very scalable. However, Variational Autoencoders also tend to me more complex than ttraditional models which can make them harder to design and train, while increasing the computational cost of running them. There is also a risk of overfitting if there are too many layers in the model."
   ]
  },
  {
   "cell_type": "markdown",
   "metadata": {},
   "source": [
    "# Last.fm\n",
    "\n",
    "The dataset that we have decided to use is one that contains information gathered from last.fm, which can be found at [6]. More detailed information about the dataset is available through the `data/readme.md` file.\n",
    "\n",
    "Last.fm is a website that collects music listening data from its users by 'scrobbling' what they listen to [5]. A 'scrobble' is a single instance of a user listening to a song, which contains information about the track, artist, genres, and listening time. This information is then publicly available to the user to keep track of their listening history and habits, and to anyone else through the website or through an API if wanting to be accessed programmitcally [7]. The tags that are available in the `tags.dat` file are tags that the given user has manually assigned to the artist, which is why they are presented in the way that they are and may also be niche. The website has a built in recommendation system that is accessible to all users, but in this document we will be exploring alternate methods and seeing how they perform. Last.fm also has a social aspect that allows users to add other users as friends and compare listening habits."
   ]
  },
  {
   "cell_type": "markdown",
   "metadata": {},
   "source": [
    "## **References**\n",
    "[1] F.O. Isinkaye, Y.O. Folajimi, B.A. Ojokoh,\n",
    "Recommendation systems: Principles, methods and evaluation,\n",
    "Egyptian Informatics Journal,\n",
    "Volume 16, Issue 3,\n",
    "2015,\n",
    "Pages 261-273.\n",
    "(https://www.sciencedirect.com/science/article/pii/S1110866515000341)\n",
    "\n",
    "[2] Implicit Documentation: https://benfred.github.io/implicit/\n",
    "\n",
    "[3] PySpark Collaborative Filtering Documentation: https://spark.apache.org/docs/latest/ml-collaborative-filtering.html\n",
    "\n",
    "[4] Recommender Systems: The Rise of Graph Neural Networks - https://www.shaped.ai/blog/recommender-system-family-tree-gnn\n",
    "\n",
    "[6] Last.fm - https://www.last.fm\n",
    "\n",
    "[6] Grouplens: HetRec 2011 - https://grouplens.org/datasets/hetrec-2011/\n",
    "\n",
    "[7] Last.fm: API Docs - https://www.last.fm/api"
   ]
  },
  {
   "cell_type": "markdown",
   "metadata": {},
   "source": []
  }
 ],
 "metadata": {
  "kernelspec": {
   "display_name": "Python 3",
   "language": "python",
   "name": "python3"
  },
  "language_info": {
   "codemirror_mode": {
    "name": "ipython",
    "version": 3
   },
   "file_extension": ".py",
   "mimetype": "text/x-python",
   "name": "python",
   "nbconvert_exporter": "python",
   "pygments_lexer": "ipython3",
   "version": "3.11.8"
  }
 },
 "nbformat": 4,
 "nbformat_minor": 2
}
