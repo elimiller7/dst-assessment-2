{
 "cells": [
  {
   "cell_type": "markdown",
   "metadata": {},
   "source": [
    "## Loading Data & Importing Libraries"
   ]
  },
  {
   "cell_type": "code",
   "execution_count": 2,
   "metadata": {},
   "outputs": [],
   "source": [
    "# Load libraries\n",
    "import pandas as pd\n",
    "import matplotlib.pyplot as plt\n",
    "import seaborn as sns\n",
    "import numpy as np\n",
    "import os\n",
    "from sklearn.metrics.pairwise import cosine_similarity\n",
    "from sklearn.decomposition import TruncatedSVD\n",
    "from scipy.sparse import csr_matrix\n",
    "import implicit"
   ]
  },
  {
   "cell_type": "code",
   "execution_count": 3,
   "metadata": {},
   "outputs": [],
   "source": [
    "# import datasets\n",
    "artists = pd.read_csv(os.path.join('..','data','artists.dat'), delimiter='\\t')\n",
    "tags = pd.read_csv(os.path.join('..','data','tags.dat'), delimiter='\\t',encoding='ISO-8859-1')\n",
    "user_artists = pd.read_csv(os.path.join('..','data','user_artists.dat'), delimiter='\\t')\n",
    "user_friends = pd.read_csv(os.path.join('..','data','user_friends.dat'), delimiter='\\t')\n",
    "user_taggedartists_timestamps = pd.read_csv(os.path.join('..','data','user_taggedartists-timestamps.dat'), delimiter='\\t')\n",
    "user_taggedartists = pd.read_csv(os.path.join('..','data','user_taggedartists.dat'), delimiter='\\t')"
   ]
  },
  {
   "cell_type": "markdown",
   "metadata": {},
   "source": [
    "## Data Cleaning"
   ]
  },
  {
   "cell_type": "code",
   "execution_count": 4,
   "metadata": {},
   "outputs": [
    {
     "name": "stdout",
     "output_type": "stream",
     "text": [
      "<class 'pandas.core.frame.DataFrame'>\n",
      "RangeIndex: 17632 entries, 0 to 17631\n",
      "Data columns (total 2 columns):\n",
      " #   Column  Non-Null Count  Dtype \n",
      "---  ------  --------------  ----- \n",
      " 0   id      17632 non-null  int64 \n",
      " 1   name    17632 non-null  object\n",
      "dtypes: int64(1), object(1)\n",
      "memory usage: 275.6+ KB\n",
      "Cleaned Artists dataset: None    id               name\n",
      "0   1       MALICE MIZER\n",
      "1   2    Diary of Dreams\n",
      "2   3  Carpathian Forest\n",
      "3   4       Moi dix Mois\n",
      "4   5        Bella Morte\n",
      "<class 'pandas.core.frame.DataFrame'>\n",
      "RangeIndex: 11946 entries, 0 to 11945\n",
      "Data columns (total 2 columns):\n",
      " #   Column    Non-Null Count  Dtype \n",
      "---  ------    --------------  ----- \n",
      " 0   tagID     11946 non-null  int64 \n",
      " 1   tagValue  11946 non-null  object\n",
      "dtypes: int64(1), object(1)\n",
      "memory usage: 186.8+ KB\n",
      "Cleaned Tags dataset: None    tagID           tagValue\n",
      "0      1              metal\n",
      "1      2  alternative metal\n",
      "2      3          goth rock\n",
      "3      4        black metal\n",
      "4      5        death metal\n",
      "<class 'pandas.core.frame.DataFrame'>\n",
      "RangeIndex: 92834 entries, 0 to 92833\n",
      "Data columns (total 3 columns):\n",
      " #   Column    Non-Null Count  Dtype\n",
      "---  ------    --------------  -----\n",
      " 0   userID    92834 non-null  int64\n",
      " 1   artistID  92834 non-null  int64\n",
      " 2   weight    92834 non-null  int64\n",
      "dtypes: int64(3)\n",
      "memory usage: 2.1 MB\n",
      "Cleaned User-Artists dataset: None    userID  artistID  weight\n",
      "0       2        51   13883\n",
      "1       2        52   11690\n",
      "2       2        53   11351\n",
      "3       2        54   10300\n",
      "4       2        55    8983\n",
      "<class 'pandas.core.frame.DataFrame'>\n",
      "RangeIndex: 186479 entries, 0 to 186478\n",
      "Data columns (total 4 columns):\n",
      " #   Column     Non-Null Count   Dtype         \n",
      "---  ------     --------------   -----         \n",
      " 0   userID     186479 non-null  int64         \n",
      " 1   artistID   186479 non-null  int64         \n",
      " 2   tagID      186479 non-null  int64         \n",
      " 3   timestamp  186479 non-null  datetime64[ns]\n",
      "dtypes: datetime64[ns](1), int64(3)\n",
      "memory usage: 5.7 MB\n",
      "Cleaned User-Tagged Artists Timestamps dataset: None    userID  artistID  tagID           timestamp\n",
      "0       2        52     13 2009-03-31 22:00:00\n",
      "1       2        52     15 2009-03-31 22:00:00\n",
      "2       2        52     18 2009-03-31 22:00:00\n",
      "3       2        52     21 2009-03-31 22:00:00\n",
      "4       2        52     41 2009-03-31 22:00:00\n",
      "<class 'pandas.core.frame.DataFrame'>\n",
      "RangeIndex: 25434 entries, 0 to 25433\n",
      "Data columns (total 2 columns):\n",
      " #   Column    Non-Null Count  Dtype\n",
      "---  ------    --------------  -----\n",
      " 0   userID    25434 non-null  int64\n",
      " 1   friendID  25434 non-null  int64\n",
      "dtypes: int64(2)\n",
      "memory usage: 397.5 KB\n",
      "Cleaned User-Friends dataset: None    userID  friendID\n",
      "0       2       275\n",
      "1       2       428\n",
      "2       2       515\n",
      "3       2       761\n",
      "4       2       831\n"
     ]
    }
   ],
   "source": [
    "# Drop irrelevant columns from the Artists dataset\n",
    "artists_cleaned = artists.drop(columns=['url', 'pictureURL']).drop_duplicates(keep='first') \n",
    "\n",
    "# Drop the irrelevant columns in the Tags dataset\n",
    "tags_cleaned = tags.drop_duplicates(keep='first') \n",
    "\n",
    "# For the User-Artists dataset, we can filter out rows with a weight of 0, as they show no meaningful interaction\n",
    "# user_artists_cleaned = user_artists[user_artists['weight'] > 0]\n",
    "user_artists_cleaned = user_artists.drop_duplicates(keep='first') \n",
    "\n",
    "# Drop duplicates from the User-Tagged Artists Timestamps dataset\n",
    "user_taggedartists_timestamps_cleaned = user_taggedartists_timestamps.drop_duplicates(keep='first') \n",
    "\n",
    "# Convert timestamps from ms to datetime format\n",
    "user_taggedartists_timestamps_cleaned['timestamp'] = pd.to_datetime(user_taggedartists_timestamps_cleaned['timestamp'], unit='ms')\n",
    "\n",
    "# Drop duplicates from the User-Friends dataset\n",
    "user_friends_cleaned = user_friends.drop_duplicates(keep='first') \n",
    "\n",
    "# # Output cleaned datasets for inspection\n",
    "print(\"Cleaned Artists dataset:\", artists_cleaned.info(), artists_cleaned.head())\n",
    "print(\"Cleaned Tags dataset:\", tags_cleaned.info(), tags_cleaned.head())\n",
    "print(\"Cleaned User-Artists dataset:\", user_artists_cleaned.info(), user_artists_cleaned.head())\n",
    "print(\"Cleaned User-Tagged Artists Timestamps dataset:\", user_taggedartists_timestamps_cleaned.info(), user_taggedartists_timestamps_cleaned.head())\n",
    "print(\"Cleaned User-Friends dataset:\", user_friends_cleaned.info(), user_friends_cleaned.head())"
   ]
  },
  {
   "cell_type": "markdown",
   "metadata": {},
   "source": [
    "---"
   ]
  },
  {
   "cell_type": "markdown",
   "metadata": {},
   "source": [
    "# Collaborative Filtering"
   ]
  },
  {
   "cell_type": "markdown",
   "metadata": {},
   "source": [
    "## Theory\n",
    "\n",
    "............\n",
    "\n",
    "............\n",
    "\n",
    "............\n"
   ]
  },
  {
   "cell_type": "code",
   "execution_count": 4,
   "metadata": {},
   "outputs": [],
   "source": [
    "# Create a dictionary to map artistID to artistName\n",
    "artist_id_to_name = dict(zip(artists['id'], artists['name']))"
   ]
  },
  {
   "cell_type": "markdown",
   "metadata": {},
   "source": [
    "## Prepare Data for Model Implementation"
   ]
  },
  {
   "cell_type": "code",
   "execution_count": 5,
   "metadata": {},
   "outputs": [
    {
     "name": "stdout",
     "output_type": "stream",
     "text": [
      "artistID  1      2      3      4      5      6      7      8      9      \\\n",
      "userID                                                                    \n",
      "2           0.0    0.0    0.0    0.0    0.0    0.0    0.0    0.0    0.0   \n",
      "3           0.0    0.0    0.0    0.0    0.0    0.0    0.0    0.0    0.0   \n",
      "4           0.0    0.0    0.0    0.0    0.0    0.0    0.0    0.0    0.0   \n",
      "5           0.0    0.0    0.0    0.0    0.0    0.0    0.0    0.0    0.0   \n",
      "6           0.0    0.0    0.0    0.0    0.0    0.0    0.0    0.0    0.0   \n",
      "...         ...    ...    ...    ...    ...    ...    ...    ...    ...   \n",
      "2095        0.0    0.0    0.0    0.0    0.0    0.0    0.0    0.0    0.0   \n",
      "2096        0.0    0.0    0.0    0.0    0.0    0.0    0.0    0.0    0.0   \n",
      "2097        0.0    0.0    0.0    0.0    0.0    0.0    0.0    0.0    0.0   \n",
      "2099        0.0    0.0    0.0    0.0    0.0    0.0    0.0    0.0    0.0   \n",
      "2100        0.0    0.0  408.0    0.0    0.0  404.0    0.0    0.0    0.0   \n",
      "\n",
      "artistID  10     ...  18736  18737  18738  18739  18740  18741  18742  18743  \\\n",
      "userID           ...                                                           \n",
      "2           0.0  ...    0.0    0.0    0.0    0.0    0.0    0.0    0.0    0.0   \n",
      "3           0.0  ...    0.0    0.0    0.0    0.0    0.0    0.0    0.0    0.0   \n",
      "4           0.0  ...    0.0    0.0    0.0    0.0    0.0    0.0    0.0    0.0   \n",
      "5           0.0  ...    0.0    0.0    0.0    0.0    0.0    0.0    0.0    0.0   \n",
      "6           0.0  ...    0.0    0.0    0.0    0.0    0.0    0.0    0.0    0.0   \n",
      "...         ...  ...    ...    ...    ...    ...    ...    ...    ...    ...   \n",
      "2095        0.0  ...    0.0    0.0    0.0    0.0    0.0    0.0    0.0    0.0   \n",
      "2096        0.0  ...    0.0    0.0    0.0    0.0    0.0    0.0    0.0    0.0   \n",
      "2097        0.0  ...    0.0    0.0    0.0    0.0    0.0    0.0    0.0    0.0   \n",
      "2099        0.0  ...    0.0    0.0    0.0    0.0    0.0    0.0    0.0    0.0   \n",
      "2100        0.0  ...    0.0    0.0    0.0    0.0    0.0    0.0    0.0    0.0   \n",
      "\n",
      "artistID  18744  18745  \n",
      "userID                  \n",
      "2           0.0    0.0  \n",
      "3           0.0    0.0  \n",
      "4           0.0    0.0  \n",
      "5           0.0    0.0  \n",
      "6           0.0    0.0  \n",
      "...         ...    ...  \n",
      "2095        0.0    0.0  \n",
      "2096        0.0    0.0  \n",
      "2097        0.0    0.0  \n",
      "2099        0.0    0.0  \n",
      "2100        0.0    0.0  \n",
      "\n",
      "[1892 rows x 17632 columns]\n"
     ]
    }
   ],
   "source": [
    "# Create a user-artist interaction matrix using the user_artists_cleaned dataset\n",
    "user_artist_matrix = user_artists_cleaned.pivot(index='userID', columns='artistID', values='weight')\n",
    "\n",
    "# Fill NaN values with 0s (assuming binary or implicit feedback, i.e., 1 for interaction, 0 for no interaction)\n",
    "user_artist_matrix = user_artist_matrix.fillna(0)\n",
    "\n",
    "print(user_artist_matrix)"
   ]
  },
  {
   "cell_type": "markdown",
   "metadata": {},
   "source": [
    "## User-Based Implementation\n",
    "EXPLANATION"
   ]
  },
  {
   "cell_type": "code",
   "execution_count": 6,
   "metadata": {},
   "outputs": [],
   "source": [
    "# Compute the cosine similarity between users\n",
    "user_similarity = cosine_similarity(user_artist_matrix)\n",
    "\n",
    "# Convert the similarity matrix into a DataFrame for easy inspection\n",
    "user_similarity_df = pd.DataFrame(user_similarity, index=user_artist_matrix.index, columns=user_artist_matrix.index)\n",
    "\n",
    "# # Display a portion of the user similarity matrix\n",
    "# print(user_similarity_df.head())"
   ]
  },
  {
   "cell_type": "code",
   "execution_count": 7,
   "metadata": {},
   "outputs": [
    {
     "name": "stdout",
     "output_type": "stream",
     "text": [
      "Top User-Based Recommendations for User 2:\n",
      "Artist ID: 289, Artist: Britney Spears, Similarity Score: 20.67\n",
      "Artist ID: 288, Artist: Rihanna, Similarity Score: 20.10\n",
      "Artist ID: 295, Artist: Beyoncé, Similarity Score: 16.92\n",
      "Artist ID: 292, Artist: Christina Aguilera, Similarity Score: 16.73\n",
      "Artist ID: 300, Artist: Katy Perry, Similarity Score: 15.50\n"
     ]
    }
   ],
   "source": [
    "# Function to get user-based recommendations with the desired output format\n",
    "def get_user_based_recommendations(user_id, user_similarity_df, user_artist_matrix, artist_id_to_name, top_n=10):\n",
    "    # Check if the user_id exists in user_similarity_df\n",
    "    if user_id not in user_similarity_df.columns:\n",
    "        raise ValueError(f\"user_id {user_id} not found in the user_similarity_df columns\")\n",
    "    \n",
    "    # Get the most similar users (excluding the user itself)\n",
    "    similar_users = user_similarity_df[user_id].sort_values(ascending=False).index[1:]\n",
    "\n",
    "    recommendations = {}\n",
    "    for similar_user in similar_users:\n",
    "        # Get the artists this similar user has interacted with (non-zero values)\n",
    "        interacted_artists = user_artist_matrix.loc[similar_user][user_artist_matrix.loc[similar_user] > 0].index.tolist()\n",
    "\n",
    "        for artist in interacted_artists:\n",
    "            # Only consider artists the target user has not interacted with\n",
    "            if artist not in user_artist_matrix.loc[user_id][user_artist_matrix.loc[user_id] > 0].index.tolist():\n",
    "                # Add the artist to recommendations with a score (using the scaled similarity as a weight)\n",
    "                if artist not in recommendations:\n",
    "                    recommendations[artist] = user_similarity_df[user_id][similar_user]\n",
    "                else:\n",
    "                    # Add the weight of similarity to the current score\n",
    "                    recommendations[artist] += user_similarity_df[user_id][similar_user]\n",
    "\n",
    "    # Sort recommendations by score (highest first)\n",
    "    sorted_recommendations = sorted(recommendations.items(), key=lambda x: x[1], reverse=True)\n",
    "\n",
    "    # Convert artist IDs to names and prepare the final list with IDs, names, and scores\n",
    "    recommended_artists = [(artist, artist_id_to_name.get(artist, \"Unknown\"), score) for artist, score in sorted_recommendations[:top_n]]\n",
    "\n",
    "    return recommended_artists\n",
    "\n",
    "# Example: Get top 5 user-based recommendations for user with userID=2\n",
    "user_id = 2\n",
    "user_based_recommendations = get_user_based_recommendations(user_id, user_similarity_df, user_artist_matrix, artist_id_to_name, top_n=5)\n",
    "\n",
    "# Display user-based recommendations in the required format\n",
    "print(\"Top User-Based Recommendations for User 2:\")\n",
    "for artist_id, artist_name, score in user_based_recommendations:\n",
    "    print(f\"Artist ID: {artist_id}, Artist: {artist_name}, Similarity Score: {score:.2f}\")"
   ]
  },
  {
   "cell_type": "code",
   "execution_count": 8,
   "metadata": {},
   "outputs": [
    {
     "name": "stdout",
     "output_type": "stream",
     "text": [
      "Top User-Based Recommendations for User 3:\n",
      "Artist ID: 757, Artist: Crystal Castles, Similarity Score: 0.25\n",
      "Artist ID: 603, Artist: Aphex Twin, Similarity Score: 0.25\n",
      "Artist ID: 1222, Artist: Venetian Snares, Similarity Score: 0.23\n",
      "Artist ID: 2174, Artist: edIT, Similarity Score: 0.23\n",
      "Artist ID: 154, Artist: Radiohead, Similarity Score: 0.21\n"
     ]
    }
   ],
   "source": [
    "# Example: Get top 5 user-based recommendations for user with userID=3\n",
    "user_id = 3\n",
    "user_based_recommendations = get_user_based_recommendations(user_id, user_similarity_df, user_artist_matrix, artist_id_to_name, top_n=5)\n",
    "\n",
    "# Display user-based recommendations in the required format\n",
    "print(\"Top User-Based Recommendations for User 3:\")\n",
    "for artist_id, artist_name, score in user_based_recommendations:\n",
    "    print(f\"Artist ID: {artist_id}, Artist: {artist_name}, Similarity Score: {score:.2f}\")"
   ]
  },
  {
   "cell_type": "markdown",
   "metadata": {},
   "source": [
    "## Item-based Implementation\n",
    "EXPLANATION"
   ]
  },
  {
   "cell_type": "code",
   "execution_count": 9,
   "metadata": {},
   "outputs": [],
   "source": [
    "# Compute the cosine similarity between artists (transpose the matrix to compare artists)\n",
    "artist_similarity = cosine_similarity(user_artist_matrix.T)  # Transpose to compare artists (columns)\n",
    "\n",
    "# Convert the similarity matrix into a DataFrame for easy inspection\n",
    "artist_similarity_df = pd.DataFrame(artist_similarity, index=user_artist_matrix.columns, columns=user_artist_matrix.columns)\n",
    "\n",
    "# Display a portion of the artist similarity matrix\n",
    "# print(artist_similarity_df.head())"
   ]
  },
  {
   "cell_type": "code",
   "execution_count": 10,
   "metadata": {},
   "outputs": [],
   "source": [
    "def get_item_based_recommendations(user_id, user_artist_matrix, artist_similarity_df, artist_id_to_name, top_n=10):\n",
    "    # Get the artists the user has interacted with (non-zero values)\n",
    "    interacted_artists = user_artist_matrix.loc[user_id][user_artist_matrix.loc[user_id] > 0].index.tolist()\n",
    "    \n",
    "    recommendations = {}\n",
    "    for artist in interacted_artists:\n",
    "        # Get the most similar artists to the ones the user interacted with\n",
    "        similar_artists = artist_similarity_df[artist].sort_values(ascending=False).index[1:]  # Exclude the artist itself\n",
    "\n",
    "        for similar_artist in similar_artists:\n",
    "            # Add the similar artist to recommendations with a score (using the similarity as a weight)\n",
    "            if similar_artist not in recommendations:\n",
    "                recommendations[similar_artist] = artist_similarity_df[artist][similar_artist]\n",
    "            else:\n",
    "                recommendations[similar_artist] += artist_similarity_df[artist][similar_artist]\n",
    "\n",
    "    # Sort recommendations by score (highest first)\n",
    "    sorted_recommendations = sorted(recommendations.items(), key=lambda x: x[1], reverse=True)\n",
    "\n",
    "    # Convert artist IDs to names using artist_id_to_name\n",
    "    recommended_artists = [(artist_id, artist_id_to_name.get(artist_id, \"Unknown\"), score) \n",
    "                           for artist_id, score in sorted_recommendations[:top_n]]\n",
    "\n",
    "    return recommended_artists"
   ]
  },
  {
   "cell_type": "code",
   "execution_count": 11,
   "metadata": {},
   "outputs": [
    {
     "name": "stdout",
     "output_type": "stream",
     "text": [
      "\n",
      "Top Item-Based Recommendations for User 2:\n",
      "Artist ID: 74, Artist: Basia, Similarity Score: 24.97\n",
      "Artist ID: 92, Artist: Vitamin Z, Similarity Score: 24.97\n",
      "Artist ID: 79, Artist: Fiction Factory, Similarity Score: 24.97\n",
      "Artist ID: 87, Artist: Deacon Blue, Similarity Score: 24.97\n",
      "Artist ID: 60, Artist: Matt Bianco, Similarity Score: 23.97\n"
     ]
    }
   ],
   "source": [
    "# Example: Get top 5 item-based recommendations for user with userID=2\n",
    "user_id = 2\n",
    "item_based_recommendations = get_item_based_recommendations(user_id, user_artist_matrix, artist_similarity_df, artist_id_to_name, top_n=5)\n",
    "\n",
    "# Display item-based recommendations\n",
    "print(\"\\nTop Item-Based Recommendations for User 2:\")\n",
    "for artist_id, artist_name, score in item_based_recommendations:\n",
    "    print(f\"Artist ID: {artist_id}, Artist: {artist_name}, Similarity Score: {score:.2f}\")\n"
   ]
  },
  {
   "cell_type": "code",
   "execution_count": 12,
   "metadata": {},
   "outputs": [
    {
     "name": "stdout",
     "output_type": "stream",
     "text": [
      "\n",
      "Top Item-Based Recommendations for User 3:\n",
      "Artist ID: 134, Artist: Big Brotherz, Similarity Score: 41.77\n",
      "Artist ID: 131, Artist: Part Timer, Similarity Score: 41.77\n",
      "Artist ID: 130, Artist: Philippe Lamy, Similarity Score: 41.77\n",
      "Artist ID: 129, Artist: Aless, Similarity Score: 41.77\n",
      "Artist ID: 128, Artist: strom noir, Similarity Score: 41.77\n"
     ]
    }
   ],
   "source": [
    "# Example: Get top 5 item-based recommendations for user with userID=3\n",
    "user_id = 3\n",
    "item_based_recommendations = get_item_based_recommendations(user_id, user_artist_matrix, artist_similarity_df, artist_id_to_name, top_n=5)\n",
    "\n",
    "# Display item-based recommendations\n",
    "print(\"\\nTop Item-Based Recommendations for User 3:\")\n",
    "for artist_id, artist_name, score in item_based_recommendations:\n",
    "    print(f\"Artist ID: {artist_id}, Artist: {artist_name}, Similarity Score: {score:.2f}\")"
   ]
  },
  {
   "cell_type": "markdown",
   "metadata": {},
   "source": [
    "---"
   ]
  },
  {
   "cell_type": "markdown",
   "metadata": {},
   "source": [
    "## Matrix Decomposition Methods"
   ]
  },
  {
   "cell_type": "markdown",
   "metadata": {},
   "source": [
    "### SVD"
   ]
  },
  {
   "cell_type": "code",
   "execution_count": 13,
   "metadata": {},
   "outputs": [],
   "source": [
    "def get_svd_recommendations(user_id, user_artist_matrix, artist_id_to_name, top_n=10, n_components=50):\n",
    "    # Apply SVD to the user-artist matrix\n",
    "    svd = TruncatedSVD(n_components=n_components, random_state=42)\n",
    "    svd_matrix = svd.fit_transform(user_artist_matrix)\n",
    "    svd_components = svd.components_\n",
    "\n",
    "    # Reconstruct the user-artist interaction matrix\n",
    "    reconstructed_matrix = np.dot(svd_matrix, svd_components)\n",
    "    \n",
    "    recommendations = {}\n",
    "    \n",
    "    # Ensure user_id is within the valid range (2 to 1892)\n",
    "    if user_id < 2 or user_id > user_artist_matrix.shape[0] + 1:\n",
    "        raise ValueError(f\"User ID {user_id} is out of bounds for the user_artist_matrix.\")\n",
    "    \n",
    "    # Get the user's interaction vector from the reconstructed matrix (adjust for zero-based index)\n",
    "    reconstructed_user_vector = reconstructed_matrix[user_id - 2]  # User IDs start at 2, so subtract 2\n",
    "    \n",
    "    # Iterate through all artists to recommend\n",
    "    for i, score in enumerate(reconstructed_user_vector):\n",
    "        # Check if the artist has been interacted with (score > 0) and if the artist ID is valid\n",
    "        if user_artist_matrix.iloc[user_id - 2, i] == 0:  # Ensure we only recommend non-interacted artists\n",
    "            artist_id = i  # The index of the artist in the matrix\n",
    "            if artist_id not in recommendations:\n",
    "                recommendations[artist_id] = score\n",
    "            else:\n",
    "                recommendations[artist_id] += score\n",
    "    \n",
    "    # Sort recommendations by score (highest first)\n",
    "    sorted_recommendations = sorted(recommendations.items(), key=lambda x: x[1], reverse=True)\n",
    "    \n",
    "    # Convert artist IDs to names using the artist_id_to_name mapping\n",
    "    recommended_artists = [(artist_id, artist_id_to_name.get(artist_id, \"Unknown\"), score)\n",
    "                           for artist_id, score in sorted_recommendations[:top_n]]\n",
    "    \n",
    "    return recommended_artists"
   ]
  },
  {
   "cell_type": "code",
   "execution_count": 14,
   "metadata": {},
   "outputs": [
    {
     "name": "stdout",
     "output_type": "stream",
     "text": [
      "\n",
      "Top SVD-Based Recommendations for User 2:\n",
      "Artist ID: 3464, Artist: Counting Crows, Similarity Score: 2346.16\n",
      "Artist ID: 1089, Artist: Suede, Similarity Score: 1826.24\n",
      "Artist ID: 259, Artist: 9th Wonder, Similarity Score: 1581.01\n",
      "Artist ID: 153, Artist: De/Vision, Similarity Score: 1536.43\n",
      "Artist ID: 992, Artist: Chris Rea, Similarity Score: 1110.52\n"
     ]
    }
   ],
   "source": [
    "# Example: Get top 5 SVD-based recommendations for user with userID=2\n",
    "user_id = 2\n",
    "svd_recommendations = get_svd_recommendations(user_id, user_artist_matrix, artist_id_to_name, top_n=5)\n",
    "\n",
    "# Display SVD-based recommendations\n",
    "print(\"\\nTop SVD-Based Recommendations for User 2:\")\n",
    "for artist_id, artist_name, score in svd_recommendations:\n",
    "    print(f\"Artist ID: {artist_id}, Artist: {artist_name}, Similarity Score: {score:.2f}\")"
   ]
  },
  {
   "cell_type": "code",
   "execution_count": 15,
   "metadata": {},
   "outputs": [
    {
     "name": "stdout",
     "output_type": "stream",
     "text": [
      "\n",
      "Top SVD-Based Recommendations for User 3:\n",
      "Artist ID: 184, Artist: James Blunt, Similarity Score: 6.19\n",
      "Artist ID: 148, Artist: The Boats, Similarity Score: 4.82\n",
      "Artist ID: 1089, Artist: Suede, Similarity Score: 3.29\n",
      "Artist ID: 151, Artist: Deep Forest, Similarity Score: 2.92\n",
      "Artist ID: 298, Artist: Lily Allen, Similarity Score: 2.87\n"
     ]
    }
   ],
   "source": [
    "# Example: Get top 5 SVD-based recommendations for user with userID=3\n",
    "user_id = 3\n",
    "svd_recommendations = get_svd_recommendations(user_id, user_artist_matrix, artist_id_to_name, top_n=5)\n",
    "\n",
    "# Display SVD-based recommendations\n",
    "print(\"\\nTop SVD-Based Recommendations for User 3:\")\n",
    "for artist_id, artist_name, score in svd_recommendations:\n",
    "    print(f\"Artist ID: {artist_id}, Artist: {artist_name}, Similarity Score: {score:.2f}\")"
   ]
  },
  {
   "cell_type": "markdown",
   "metadata": {},
   "source": [
    "#### ALS Using `implicit`"
   ]
  },
  {
   "cell_type": "code",
   "execution_count": 16,
   "metadata": {},
   "outputs": [],
   "source": [
    "def get_als_recommendations(user_id, user_artist_matrix, artist_id_to_name, top_n=5, factors=50, regularization=0.1, iterations=20):\n",
    "    # Convert the user-artist matrix to sparse format (csr_matrix)\n",
    "    sparse_matrix = csr_matrix(user_artist_matrix.values)\n",
    "    \n",
    "    # Initialize and train the ALS model\n",
    "    model = implicit.als.AlternatingLeastSquares(factors=factors, regularization=regularization, iterations=iterations)\n",
    "    model.fit(sparse_matrix)\n",
    "\n",
    "    # Get the user's interaction vector (row from sparse matrix)\n",
    "    user_vector = sparse_matrix[user_id]\n",
    "\n",
    "    # Get top N artist recommendations (returns artist IDs and scores)\n",
    "    recommendations = model.recommend(user_id, user_vector, N=top_n)\n",
    "\n",
    "    # Convert artist IDs to artist names using the provided dictionary\n",
    "    recommended_artists = [(artist_id_to_name[artist_id], score) for artist_id, score in zip(recommendations[0], recommendations[1])]\n",
    "\n",
    "    return recommended_artists"
   ]
  },
  {
   "cell_type": "code",
   "execution_count": 17,
   "metadata": {},
   "outputs": [
    {
     "name": "stderr",
     "output_type": "stream",
     "text": [
      "c:\\Users\\milse\\AppData\\Local\\Programs\\Python\\Python311\\Lib\\site-packages\\implicit\\cpu\\als.py:95: RuntimeWarning: OpenBLAS is configured to use 8 threads. It is highly recommended to disable its internal threadpool by setting the environment variable 'OPENBLAS_NUM_THREADS=1' or by calling 'threadpoolctl.threadpool_limits(1, \"blas\")'. Having OpenBLAS use a threadpool can lead to severe performance issues here.\n",
      "  check_blas_config()\n"
     ]
    },
    {
     "data": {
      "application/vnd.jupyter.widget-view+json": {
       "model_id": "bbf80727eecc46cdbdbe4214a0ec1e22",
       "version_major": 2,
       "version_minor": 0
      },
      "text/plain": [
       "  0%|          | 0/20 [00:00<?, ?it/s]"
      ]
     },
     "metadata": {},
     "output_type": "display_data"
    },
    {
     "name": "stdout",
     "output_type": "stream",
     "text": [
      "\n",
      "Top ALS-Based Recommendations for User 2:\n",
      "Artist: Chiodos, Predicted Listening Count: 1.37\n",
      "Artist: Kiko Loureiro, Predicted Listening Count: 1.18\n",
      "Artist: Talk Talk, Predicted Listening Count: 1.06\n",
      "Artist: Digital Summer, Predicted Listening Count: 1.04\n",
      "Artist: Early Man, Predicted Listening Count: 1.01\n"
     ]
    }
   ],
   "source": [
    "# Example: Get top 5 ALS-based recommendations for user with userID=2\n",
    "user_id = 2\n",
    "als_recommendations = get_als_recommendations(user_id, user_artist_matrix, artist_id_to_name, top_n=5)\n",
    "\n",
    "# Display ALS-based recommendations\n",
    "print(f\"\\nTop ALS-Based Recommendations for User {user_id}:\")\n",
    "for artist_name, score in als_recommendations:\n",
    "    print(f\"Artist: {artist_name}, Predicted Listening Count: {score:.2f}\")"
   ]
  },
  {
   "cell_type": "code",
   "execution_count": 18,
   "metadata": {},
   "outputs": [
    {
     "data": {
      "application/vnd.jupyter.widget-view+json": {
       "model_id": "f16bdcfaa3dd42418a7d788b49d9a4fd",
       "version_major": 2,
       "version_minor": 0
      },
      "text/plain": [
       "  0%|          | 0/20 [00:00<?, ?it/s]"
      ]
     },
     "metadata": {},
     "output_type": "display_data"
    },
    {
     "name": "stdout",
     "output_type": "stream",
     "text": [
      "\n",
      "Top ALS-Based Recommendations for User 8:\n",
      "Artist: Talking Heads, Predicted Listening Count: 1.52\n",
      "Artist: Parliament, Predicted Listening Count: 1.22\n",
      "Artist: Jeff Buckley, Predicted Listening Count: 1.17\n",
      "Artist: Tortoise, Predicted Listening Count: 1.14\n",
      "Artist: Red Hot Chili Peppers, Predicted Listening Count: 1.14\n"
     ]
    }
   ],
   "source": [
    "# Example: Get top 5 ALS-based recommendations for user with userID=3\n",
    "user_id = 8\n",
    "als_recommendations = get_als_recommendations(user_id, user_artist_matrix, artist_id_to_name, top_n=5)\n",
    "\n",
    "# Display ALS-based recommendations\n",
    "print(f\"\\nTop ALS-Based Recommendations for User {user_id}:\")\n",
    "for artist_name, score in als_recommendations:\n",
    "    print(f\"Artist: {artist_name}, Predicted Listening Count: {score:.2f}\")"
   ]
  },
  {
   "cell_type": "markdown",
   "metadata": {},
   "source": [
    "# PySpark\n",
    "## Theory\n",
    "EXPLANATION"
   ]
  },
  {
   "cell_type": "markdown",
   "metadata": {},
   "source": [
    "## ALS User-based Collaborative Filtering with PySpark"
   ]
  },
  {
   "cell_type": "code",
   "execution_count": 21,
   "metadata": {},
   "outputs": [],
   "source": [
    "from pyspark.sql import SparkSession\n",
    "from pyspark.sql import functions as F\n",
    "from pyspark.ml.recommendation import ALS\n",
    "\n",
    "# Start Spark session\n",
    "spark = SparkSession.builder.appName(\"CollaborativeFilteringALS\").getOrCreate()\n",
    "\n",
    "# Convert cleaned pandas DataFrames to PySpark DataFrames\n",
    "artists_spark_df = spark.createDataFrame(artists_cleaned)\n",
    "user_artists_spark_df = spark.createDataFrame(user_artists_cleaned)"
   ]
  },
  {
   "cell_type": "code",
   "execution_count": 22,
   "metadata": {},
   "outputs": [],
   "source": [
    "# ALS model setup for user-based collaborative filtering\n",
    "# ALS model setup\n",
    "als = ALS(userCol=\"userID\", itemCol=\"artistID\", ratingCol=\"weight\", coldStartStrategy=\"drop\", implicitPrefs=True)\n",
    "\n",
    "# Fit the ALS model\n",
    "model = als.fit(user_artists_spark_df)\n",
    "\n",
    "# Generate recommendations\n",
    "user_recommendations = model.recommendForAllUsers(5)"
   ]
  },
  {
   "cell_type": "code",
   "execution_count": 23,
   "metadata": {},
   "outputs": [
    {
     "name": "stdout",
     "output_type": "stream",
     "text": [
      "+------+---------------------------------------------------------------------------------------------------------------------------+\n",
      "|userID|recommendations                                                                                                            |\n",
      "+------+---------------------------------------------------------------------------------------------------------------------------+\n",
      "|3     |[{Janelle Monáe, 1.21}, {Erik Satie, 1.19}, {L'Arc~en~Ciel, 1.19}, {Ricardo Arjona, 1.18}, {Camille, 1.17}]                |\n",
      "|5     |[{The Smiths, 1.1}, {Joy Division, 1.07}, {Radiohead, 1.06}, {The Rolling Stones, 1.06}, {Nine Inch Nails, 1.06}]          |\n",
      "|6     |[{Darren Hayes, 0.53}, {Mylène Farmer, 0.52}, {Lil' Wayne, 0.49}, {Duffy, 0.49}, {Kanye West, 0.49}]                       |\n",
      "|12    |[{Kill Hannah, 1.53}, {Omnia, 1.24}, {Stereophonics, 1.21}, {Blutengel, 1.18}, {L'Âme Immortelle, 1.17}]                   |\n",
      "|13    |[{Lady Gaga, 0.92}, {Glee Cast, 0.9}, {Eminem, 0.9}, {Michael Jackson, 0.9}, {Katy Perry, 0.9}]                            |\n",
      "|15    |[{Brian Eno, 1.23}, {Ladytron, 1.2}, {Faithless, 1.18}, {Portishead, 1.17}, {Miles Davis, 1.14}]                           |\n",
      "|16    |[{Dolly Parton, 1.72}, {Martina McBride, 1.36}, {Miranda Lambert, 1.34}, {JLS, 1.34}, {Sarah Brightman, 1.33}]             |\n",
      "|20    |[{Noize MC, 1.24}, {Converge, 1.18}, {The Fall of Troy, 1.17}, {Burial, 1.17}, {Gnarls Barkley, 1.17}]                     |\n",
      "|22    |[{BrokeNCYDE, 1.26}, {Journey, 1.2}, {Arch Enemy, 1.16}, {the GazettE, 1.15}, {DevilDriver, 1.15}]                         |\n",
      "|26    |[{Die Ärzte, 1.33}, {Die Toten Hosen, 1.24}, {Def Leppard, 1.24}, {Oomph!, 1.23}, {Riverside, 1.2}]                        |\n",
      "|27    |[{The Beatles, 1.22}, {Queen, 1.22}, {Coldplay, 1.2}, {Muse, 1.19}, {Placebo, 1.18}]                                       |\n",
      "|28    |[{Martin L. Gore, 0.39}, {Eurythmics, 0.37}, {Orchestral Manoeuvres in the Dark, 0.37}, {Ultravox, 0.36}, {Vangelis, 0.36}]|\n",
      "|31    |[{Era, 1.2}, {Amy Macdonald, 1.16}, {Blutengel, 1.13}, {Danny Elfman, 1.12}, {Emilie Autumn, 1.06}]                        |\n",
      "|34    |[{Adriana Calcanhotto, 1.34}, {The Dead Weather, 1.33}, {Soda Stereo, 1.29}, {Ray Charles, 1.29}, {Gustavo Cerati, 1.24}]  |\n",
      "|40    |[{Unheilig, 1.3}, {Diary of Dreams, 1.23}, {Laibach, 1.21}, {Rob Zombie, 1.18}, {Harry Gregson-Williams, 1.17}]            |\n",
      "|41    |[{Eisbrecher, 1.25}, {Blackmore's Night, 1.19}, {Godsmack, 1.14}, {Dire Straits, 1.13}, {Kreator, 1.13}]                   |\n",
      "|43    |[{Clint Mansell, 1.15}, {Björk, 1.12}, {Calvin Harris, 1.11}, {Gorillaz, 1.11}, {Janelle Monáe, 1.09}]                     |\n",
      "|44    |[{Misfits, 1.11}, {Bob Dylan, 1.09}, {Mew, 1.09}, {Pink Floyd, 1.07}, {Faith No More, 1.07}]                               |\n",
      "|47    |[{Backstreet Boys, 1.03}, {Katy Perry, 1.02}, {Lady Gaga, 1.02}, {David Guetta, 1.02}, {Ke$ha, 1.02}]                      |\n",
      "|48    |[{Janis Joplin, 1.09}, {Bryan Adams, 1.02}, {Emilie Autumn, 1.01}, {Madonna, 1.0}, {Legião Urbana, 1.0}]                   |\n",
      "+------+---------------------------------------------------------------------------------------------------------------------------+\n",
      "only showing top 20 rows\n",
      "\n"
     ]
    }
   ],
   "source": [
    "# Create a dictionary to map artistID to artistName\n",
    "artist_id_to_name = {row['id']: row['name'] for row in artists_spark_df.collect()}\n",
    "\n",
    "# Function to map artistID to artistName and round scores to 2 decimal places\n",
    "def map_recommendations(user_recommendations):\n",
    "    def map_row(row):\n",
    "        recommendations_with_names = [\n",
    "            (artist_id_to_name.get(rec[0], \"Unknown\"), round(rec[1], 2)) for rec in row['recommendations']\n",
    "        ]\n",
    "        return (row['userID'], recommendations_with_names)\n",
    "\n",
    "    mapped_recommendations = user_recommendations.rdd.map(map_row).toDF([\"userID\", \"recommendations\"])\n",
    "    return mapped_recommendations\n",
    "\n",
    "# Apply the artistID to name mapping function\n",
    "user_recommendations_with_names = map_recommendations(user_recommendations)\n",
    "\n",
    "# Show the final recommendations with artist names and rounded scores\n",
    "user_recommendations_with_names.show(truncate=False)"
   ]
  },
  {
   "cell_type": "code",
   "execution_count": null,
   "metadata": {},
   "outputs": [
    {
     "name": "stdout",
     "output_type": "stream",
     "text": [
      "+-------+-------------------+\n",
      "|summary|              score|\n",
      "+-------+-------------------+\n",
      "|  count|               9460|\n",
      "|   mean| 1.1072712600533408|\n",
      "| stddev|0.26236249658108024|\n",
      "|    min|        5.50755E-40|\n",
      "|    25%|          1.0340639|\n",
      "|    50%|          1.1207719|\n",
      "|    75%|          1.2433128|\n",
      "|    max|          1.9848865|\n",
      "+-------+-------------------+\n",
      "\n"
     ]
    }
   ],
   "source": [
    "# Explode the recommendations column into individual rows\n",
    "exploded_user_recommendations = user_recommendations.withColumn(\"recommendation\", F.explode(\"recommendations\"))\n",
    "\n",
    "# Extract artistID and rating from the struct fields\n",
    "exploded_user_recommendations = exploded_user_recommendations.select(\n",
    "    F.col(\"userID\"),\n",
    "    F.col(\"recommendation.artistID\").alias(\"artistID\"),  # Extract artistID\n",
    "    F.col(\"recommendation.rating\").alias(\"score\")        # Extract rating as score\n",
    ")\n",
    "\n",
    "# Generate summary statistics for the scores\n",
    "summary_stats = exploded_user_recommendations.select(\"score\").summary()\n",
    "\n",
    "# Display the summary statistics\n",
    "summary_stats.show()"
   ]
  },
  {
   "cell_type": "markdown",
   "metadata": {},
   "source": [
    "## ALS Item-based Collaborative Filtering with PySpark"
   ]
  },
  {
   "cell_type": "code",
   "execution_count": 24,
   "metadata": {},
   "outputs": [],
   "source": [
    "# ALS model setup for item-based collaborative filtering\n",
    "# Swap userCol and itemCol for item-based filtering\n",
    "als = ALS(userCol=\"artistID\", itemCol=\"userID\", ratingCol=\"weight\", coldStartStrategy=\"drop\", implicitPrefs=True)\n",
    "\n",
    "# Fit the ALS model\n",
    "model = als.fit(user_artists_spark_df)\n",
    "\n",
    "# Generate item-based recommendations for each artist (item)\n",
    "item_recommendations = model.recommendForAllItems(5)"
   ]
  },
  {
   "cell_type": "code",
   "execution_count": 25,
   "metadata": {},
   "outputs": [
    {
     "name": "stdout",
     "output_type": "stream",
     "text": [
      "+------+-----------------------------------------------------------------------------------------------------------------------------+\n",
      "|userID|recommendations                                                                                                              |\n",
      "+------+-----------------------------------------------------------------------------------------------------------------------------+\n",
      "|3     |[{Ani DiFranco, 1.21}, {Danny Elfman, 1.09}, {Michael Giacchino, 1.07}, {Gang of Four, 1.06}, {Clint Mansell, 1.04}]         |\n",
      "|5     |[{She Wants Revenge, 1.13}, {Nouvelle Vague, 1.09}, {Sigur Rós, 1.09}, {The Last Shadow Puppets, 1.08}, {Joy Division, 1.08}]|\n",
      "|6     |[{Aaliyah, 0.5}, {Whitney Houston, 0.5}, {Mary J. Blige, 0.49}, {Toni Braxton, 0.48}, {Janet Jackson, 0.48}]                 |\n",
      "|12    |[{Tarja, 1.32}, {Howard Shore, 1.27}, {Creed, 1.22}, {Trapt, 1.22}, {Porcelain and the Tramps, 1.2}]                         |\n",
      "|13    |[{Lady Gaga, 0.93}, {Evanescence, 0.91}, {Avril Lavigne, 0.91}, {Paramore, 0.91}, {Green Day, 0.91}]                         |\n",
      "|15    |[{Serge Gainsbourg, 1.26}, {Johann Sebastian Bach, 1.21}, {Kraftwerk, 1.21}, {Leonard Cohen, 1.19}, {Beck, 1.18}]            |\n",
      "|16    |[{Wisin & Yandel, 1.5}, {LeAnn Rimes, 1.48}, {Darren Hayes, 1.41}, {Loreena McKennitt, 1.38}, {Savage Garden, 1.36}]         |\n",
      "|20    |[{Akira Yamaoka, 1.33}, {Clint Mansell, 1.28}, {Burial, 1.24}, {Brian Eno, 1.2}, {Emancipator, 1.18}]                        |\n",
      "|22    |[{Protest The Hero, 1.35}, {Creed, 1.31}, {Avantasia, 1.29}, {Alter Bridge, 1.29}, {Sick Puppies, 1.28}]                     |\n",
      "|26    |[{Raul Seixas, 1.39}, {Sonata Arctica, 1.29}, {Trans-Siberian Orchestra, 1.29}, {Tenacious D, 1.25}, {Queensrÿche, 1.23}]    |\n",
      "|27    |[{Coldplay, 1.16}, {Daft Punk, 1.16}, {Muse, 1.16}, {Placebo, 1.16}, {The Killers, 1.15}]                                    |\n",
      "|28    |[{Erasure, 0.35}, {Crowded House, 0.34}, {Enigma, 0.33}, {Orchestral Manoeuvres in the Dark, 0.33}, {Eurythmics, 0.33}]      |\n",
      "|31    |[{ATB, 1.14}, {Camouflage, 1.13}, {Hans Zimmer, 1.08}, {Marilyn Manson, 1.08}, {Marc Almond, 1.07}]                          |\n",
      "|34    |[{Talking Heads, 1.23}, {Bright Eyes, 1.19}, {Morrissey, 1.18}, {The Jesus and Mary Chain, 1.18}, {LCD Soundsystem, 1.17}]   |\n",
      "|40    |[{Guano Apes, 1.33}, {Mesh, 1.3}, {Juno Reactor, 1.25}, {Faithless, 1.2}, {Diorama, 1.2}]                                    |\n",
      "|41    |[{Korpiklaani, 1.31}, {Madness, 1.21}, {Sepultura, 1.19}, {Manowar, 1.19}, {Van Halen, 1.18}]                                |\n",
      "|43    |[{Calvin Harris, 1.12}, {Daft Punk, 1.08}, {Björk, 1.06}, {La Roux, 1.06}, {Cansei de Ser Sexy, 1.06}]                       |\n",
      "|44    |[{Manu Chao, 1.1}, {John Frusciante, 1.08}, {Bob Dylan, 1.07}, {Pink Floyd, 1.06}, {Misfits, 1.05}]                          |\n",
      "|47    |[{Hannah Montana, 1.04}, {Backstreet Boys, 1.03}, {Glee Cast, 1.03}, {Avril Lavigne, 1.02}, {Adam Lambert, 1.02}]            |\n",
      "|48    |[{The Jackson 5, 1.07}, {Janis Joplin, 1.06}, {Legião Urbana, 1.02}, {Michael Jackson, 1.02}, {Amy Winehouse, 1.02}]         |\n",
      "+------+-----------------------------------------------------------------------------------------------------------------------------+\n",
      "only showing top 20 rows\n",
      "\n"
     ]
    }
   ],
   "source": [
    "# Apply the artistID to name mapping function\n",
    "item_recommendations_with_names = map_recommendations(item_recommendations)\n",
    "\n",
    "# Show the final recommendations with artist names and rounded scores\n",
    "item_recommendations_with_names.show(truncate=False)"
   ]
  },
  {
   "cell_type": "code",
   "execution_count": 31,
   "metadata": {},
   "outputs": [
    {
     "name": "stdout",
     "output_type": "stream",
     "text": [
      "+-------+------------------+\n",
      "|summary|             score|\n",
      "+-------+------------------+\n",
      "|  count|              9460|\n",
      "|   mean|1.1070918623936887|\n",
      "| stddev| 0.261973729412807|\n",
      "|    min|     1.8534923E-38|\n",
      "|    25%|         1.0341512|\n",
      "|    50%|         1.1195546|\n",
      "|    75%|         1.2442842|\n",
      "|    max|         2.1529148|\n",
      "+-------+------------------+\n",
      "\n"
     ]
    }
   ],
   "source": [
    "# Explode the recommendations column into individual rows\n",
    "exploded_item_recommendations = item_recommendations.withColumn(\"recommendation\", F.explode(\"recommendations\"))\n",
    "\n",
    "# Extract artistID and rating from the struct fields\n",
    "exploded_item_recommendations = exploded_item_recommendations.select(\n",
    "    F.col(\"userID\"),\n",
    "    F.col(\"recommendation.artistID\").alias(\"artistID\"),  # Extract artistID\n",
    "    F.col(\"recommendation.rating\").alias(\"score\")        # Extract rating as score\n",
    ")\n",
    "\n",
    "# Generate summary statistics for the scores\n",
    "summary_stats = exploded_item_recommendations.select(\"score\").summary()\n",
    "\n",
    "# Display the summary statistics\n",
    "summary_stats.show()"
   ]
  },
  {
   "cell_type": "markdown",
   "metadata": {},
   "source": [
    "## Conclusion"
   ]
  },
  {
   "cell_type": "markdown",
   "metadata": {},
   "source": [
    "---"
   ]
  }
 ],
 "metadata": {
  "kernelspec": {
   "display_name": "Python 3",
   "language": "python",
   "name": "python3"
  },
  "language_info": {
   "codemirror_mode": {
    "name": "ipython",
    "version": 3
   },
   "file_extension": ".py",
   "mimetype": "text/x-python",
   "name": "python",
   "nbconvert_exporter": "python",
   "pygments_lexer": "ipython3",
   "version": "3.11.4"
  }
 },
 "nbformat": 4,
 "nbformat_minor": 2
}
