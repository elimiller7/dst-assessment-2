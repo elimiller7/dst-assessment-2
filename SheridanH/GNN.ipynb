{
 "cells": [
  {
   "cell_type": "code",
   "execution_count": 14,
   "metadata": {},
   "outputs": [
    {
     "name": "stdout",
     "output_type": "stream",
     "text": [
      "+---+-------+\n",
      "| id|   name|\n",
      "+---+-------+\n",
      "|  1|  User1|\n",
      "|  2|  User2|\n",
      "|  3|Artist1|\n",
      "|  4|Artist2|\n",
      "|  5|   Tag1|\n",
      "|  6|   Tag2|\n",
      "+---+-------+\n",
      "\n",
      "+---+---+------------+\n",
      "|src|dst|relationship|\n",
      "+---+---+------------+\n",
      "|  1|  3|     listens|\n",
      "|  2|  4|     listens|\n",
      "|  3|  5|      tagged|\n",
      "|  4|  6|      tagged|\n",
      "+---+---+------------+\n",
      "\n"
     ]
    }
   ],
   "source": [
    "from pyspark import SparkConf, SparkContext\n",
    "from pyspark.sql import SparkSession\n",
    "from graphframes import GraphFrame\n",
    "\n",
    "import findspark\n",
    "findspark.init()\n",
    "\n",
    "\n",
    "python_path = r'C:\\Users\\Sheri\\AppData\\Local\\Programs\\Python\\Python311\\python.exe'  \n",
    "os.environ['PYSPARK_PYTHON'] = python_path\n",
    "os.environ['PYSPARK_DRIVER_PYTHON'] = python_path\n",
    "\n",
    "spark = SparkSession.builder \\\n",
    "    .appName(\"PySpark Installation Test\") \\\n",
    "    .getOrCreate()\n",
    "\n",
    "# Define vertices (users, artists, tags)\n",
    "users = spark.createDataFrame([\n",
    "    (1, \"User1\"),\n",
    "    (2, \"User2\")\n",
    "], [\"id\", \"name\"])\n",
    "\n",
    "artists = spark.createDataFrame([\n",
    "    (3, \"Artist1\"),\n",
    "    (4, \"Artist2\")\n",
    "], [\"id\", \"name\"])\n",
    "\n",
    "tags = spark.createDataFrame([\n",
    "    (5, \"Tag1\"),\n",
    "    (6, \"Tag2\")\n",
    "], [\"id\", \"name\"])\n",
    "\n",
    "# Define edges (User-Artist, Artist-Tag)\n",
    "userArtistEdges = spark.createDataFrame([\n",
    "    (1, 3, \"listens\"),\n",
    "    (2, 4, \"listens\")\n",
    "], [\"src\", \"dst\", \"relationship\"])\n",
    "\n",
    "artistTagEdges = spark.createDataFrame([\n",
    "    (3, 5, \"tagged\"),\n",
    "    (4, 6, \"tagged\")\n",
    "], [\"src\", \"dst\", \"relationship\"])\n",
    "\n",
    "# Combine all vertices and edges\n",
    "vertices = users.union(artists).union(tags)\n",
    "edges = userArtistEdges.union(artistTagEdges)\n",
    "\n",
    "# Create the graph\n",
    "graph = GraphFrame(vertices, edges)\n",
    "\n",
    "# Show vertices and edges\n",
    "graph.vertices.show()\n",
    "graph.edges.show()"
   ]
  }
 ],
 "metadata": {
  "kernelspec": {
   "display_name": "Python 3",
   "language": "python",
   "name": "python3"
  },
  "language_info": {
   "codemirror_mode": {
    "name": "ipython",
    "version": 3
   },
   "file_extension": ".py",
   "mimetype": "text/x-python",
   "name": "python",
   "nbconvert_exporter": "python",
   "pygments_lexer": "ipython3",
   "version": "3.11.8"
  }
 },
 "nbformat": 4,
 "nbformat_minor": 2
}
