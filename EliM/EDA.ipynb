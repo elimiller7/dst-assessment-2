{
 "cells": [
  {
   "cell_type": "markdown",
   "metadata": {},
   "source": [
    "# Exploratory Data Analysis (EDA)\n",
    "\n",
    "## Overview\n",
    "Datasets are from Last.fm:\n",
    "- `artists.dat`\n",
    "- `tags.dat`\n",
    "- `user_artists.dat` \n",
    "- `user_taggedartists.dat`\n",
    "- `user_taggedartists-timestamps.dat`\n",
    "- `user_friends.dat`\n",
    "\n",
    "## Data Descriptions\n",
    "\n",
    "1. **`artists.dat`**: contains information about music artists listened and tagged by the users.\n",
    "   - columns: `id`, `name`, `url`, `pictureURL`\n",
    "\n",
    "2. **`tags.dat`**: contains the set of tags available in the dataset.\n",
    "   - columns: `tagID`, `tagValue`\n",
    "\n",
    "3. **`user_artists.dat`**: contains the artists listened by each user, with a listening count for each [user, artist] pair.\n",
    "   - columns: `userID`, `artistID`, `weight`\n",
    "\n",
    "4. **`user_taggedartists.dat`**: contain the tag assignments of artists provided by each particular user wtih dates.\n",
    "   - columns: `userID`, `artistID`, `tagID`, `day`, `month`, `year`\n",
    "\n",
    "5. **`user_taggedartists-timestamps.dat`**: contain the tag assignments of artists provided by each particular user with the timestamps when the tag assignments were done.\n",
    "   - columns: `userID`, `artistID`, `tagID`, `timestamp`\n",
    "\n",
    "6. **`user_friends.dat`**: contain the friend relations between users in the database.\n",
    "   - columns: `userID`, `friendID`"
   ]
  },
  {
   "cell_type": "markdown",
   "metadata": {},
   "source": [
    "## Loading Data & Importing Libraries"
   ]
  },
  {
   "cell_type": "code",
   "execution_count": 5,
   "metadata": {},
   "outputs": [],
   "source": [
    "# Load libraries\n",
    "import pandas as pd\n",
    "import os"
   ]
  },
  {
   "cell_type": "code",
   "execution_count": 13,
   "metadata": {},
   "outputs": [],
   "source": [
    "# import datasets\n",
    "artists = pd.read_csv(os.path.join('..','data','artists.dat'), delimiter='\\t')\n",
    "tags = pd.read_csv(os.path.join('..','data','tags.dat'), delimiter='\\t',encoding='ISO-8859-1')\n",
    "user_artists = pd.read_csv(os.path.join('..','data','user_artists.dat'), delimiter='\\t')\n",
    "user_friends = pd.read_csv(os.path.join('..','data','user_friends.dat'), delimiter='\\t')\n",
    "user_taggedartists_timestamps = pd.read_csv(os.path.join('..','data','user_taggedartists-timestamps.dat'), delimiter='\\t')\n",
    "user_taggedartists = pd.read_csv(os.path.join('..','data','user_taggedartists.dat'), delimiter='\\t')"
   ]
  },
  {
   "cell_type": "markdown",
   "metadata": {},
   "source": [
    "## Initial Analysis\n",
    "We will check for missing values and look at the size and structure of each dataset."
   ]
  },
  {
   "cell_type": "markdown",
   "metadata": {},
   "source": [
    "### Artists Dataset"
   ]
  },
  {
   "cell_type": "code",
   "execution_count": 17,
   "metadata": {},
   "outputs": [
    {
     "name": "stdout",
     "output_type": "stream",
     "text": [
      "Artists dataset:\n",
      "<class 'pandas.core.frame.DataFrame'>\n",
      "RangeIndex: 17632 entries, 0 to 17631\n",
      "Data columns (total 4 columns):\n",
      " #   Column      Non-Null Count  Dtype \n",
      "---  ------      --------------  ----- \n",
      " 0   id          17632 non-null  int64 \n",
      " 1   name        17632 non-null  object\n",
      " 2   url         17632 non-null  object\n",
      " 3   pictureURL  17188 non-null  object\n",
      "dtypes: int64(1), object(3)\n",
      "memory usage: 551.1+ KB\n",
      "None\n",
      "   id               name                                         url  \\\n",
      "0   1       MALICE MIZER       http://www.last.fm/music/MALICE+MIZER   \n",
      "1   2    Diary of Dreams    http://www.last.fm/music/Diary+of+Dreams   \n",
      "2   3  Carpathian Forest  http://www.last.fm/music/Carpathian+Forest   \n",
      "3   4       Moi dix Mois       http://www.last.fm/music/Moi+dix+Mois   \n",
      "4   5        Bella Morte        http://www.last.fm/music/Bella+Morte   \n",
      "\n",
      "                                          pictureURL  \n",
      "0    http://userserve-ak.last.fm/serve/252/10808.jpg  \n",
      "1  http://userserve-ak.last.fm/serve/252/3052066.jpg  \n",
      "2  http://userserve-ak.last.fm/serve/252/40222717...  \n",
      "3  http://userserve-ak.last.fm/serve/252/54697835...  \n",
      "4  http://userserve-ak.last.fm/serve/252/14789013...  \n"
     ]
    }
   ],
   "source": [
    "print(\"Artists dataset:\")\n",
    "print(artists.info())\n",
    "print(artists.head())"
   ]
  },
  {
   "cell_type": "markdown",
   "metadata": {},
   "source": [
    "The `id` and `name` columns will be needed to match artists to their corresponding artist ID in our recommendations. We can see that the columns `url` and `pictureURL` are not relevant for our collaborative filtering model. hence, we will drop these. There are missing values in the `pictureURL` column but we are removing this so the missing values will not affect our model. After cleaning, this dataset will have 2 columns and 17,632 rows."
   ]
  },
  {
   "cell_type": "markdown",
   "metadata": {},
   "source": [
    "### Tags Dataset"
   ]
  },
  {
   "cell_type": "code",
   "execution_count": 18,
   "metadata": {},
   "outputs": [
    {
     "name": "stdout",
     "output_type": "stream",
     "text": [
      "Tags dataset:\n",
      "<class 'pandas.core.frame.DataFrame'>\n",
      "RangeIndex: 11946 entries, 0 to 11945\n",
      "Data columns (total 2 columns):\n",
      " #   Column    Non-Null Count  Dtype \n",
      "---  ------    --------------  ----- \n",
      " 0   tagID     11946 non-null  int64 \n",
      " 1   tagValue  11946 non-null  object\n",
      "dtypes: int64(1), object(1)\n",
      "memory usage: 186.8+ KB\n",
      "None\n",
      "   tagID           tagValue\n",
      "0      1              metal\n",
      "1      2  alternative metal\n",
      "2      3          goth rock\n",
      "3      4        black metal\n",
      "4      5        death metal\n"
     ]
    }
   ],
   "source": [
    "print(\"Tags dataset:\")\n",
    "print(tags.info())\n",
    "print(tags.head())"
   ]
  },
  {
   "cell_type": "markdown",
   "metadata": {},
   "source": [
    "Both the `tagID` and `tagValue` columns will be needed for our model. The `tagID` gives the unique tag and the `tagValue` provides a description of the tag, for example, 'metal' or 'rock' which could indicate that a user likes these genres of music. There are no missing values in this dataset. There are 2 columns and 11,946 rows."
   ]
  },
  {
   "cell_type": "markdown",
   "metadata": {},
   "source": [
    "### User-Artists Dataset"
   ]
  },
  {
   "cell_type": "code",
   "execution_count": 19,
   "metadata": {},
   "outputs": [
    {
     "name": "stdout",
     "output_type": "stream",
     "text": [
      "User-Artists dataset:\n",
      "<class 'pandas.core.frame.DataFrame'>\n",
      "RangeIndex: 92834 entries, 0 to 92833\n",
      "Data columns (total 3 columns):\n",
      " #   Column    Non-Null Count  Dtype\n",
      "---  ------    --------------  -----\n",
      " 0   userID    92834 non-null  int64\n",
      " 1   artistID  92834 non-null  int64\n",
      " 2   weight    92834 non-null  int64\n",
      "dtypes: int64(3)\n",
      "memory usage: 2.1 MB\n",
      "None\n",
      "   userID  artistID  weight\n",
      "0       2        51   13883\n",
      "1       2        52   11690\n",
      "2       2        53   11351\n",
      "3       2        54   10300\n",
      "4       2        55    8983\n"
     ]
    }
   ],
   "source": [
    "print(\"User-Artists dataset:\")\n",
    "print(user_artists.info())\n",
    "print(user_artists.head())"
   ]
  },
  {
   "cell_type": "markdown",
   "metadata": {},
   "source": [
    "The `userID` and `artistID` columns are used to identify the users and the artists that they interact with. The `weight` column represents the listening count, indicating how many times a user has listened to a specific artist. Clearly, the `weight` column will be important in building our recommender system, since the magnitude of the listening count can be used to determine a user's preference to listen to the given artist. There are no missing values in this dataset. There are 3 columns and 92,834 rows."
   ]
  },
  {
   "cell_type": "markdown",
   "metadata": {},
   "source": [
    "### User-Tagged Artists dataset"
   ]
  },
  {
   "cell_type": "code",
   "execution_count": 20,
   "metadata": {},
   "outputs": [
    {
     "name": "stdout",
     "output_type": "stream",
     "text": [
      "User-Tagged Artists dataset:\n",
      "<class 'pandas.core.frame.DataFrame'>\n",
      "RangeIndex: 186479 entries, 0 to 186478\n",
      "Data columns (total 6 columns):\n",
      " #   Column    Non-Null Count   Dtype\n",
      "---  ------    --------------   -----\n",
      " 0   userID    186479 non-null  int64\n",
      " 1   artistID  186479 non-null  int64\n",
      " 2   tagID     186479 non-null  int64\n",
      " 3   day       186479 non-null  int64\n",
      " 4   month     186479 non-null  int64\n",
      " 5   year      186479 non-null  int64\n",
      "dtypes: int64(6)\n",
      "memory usage: 8.5 MB\n",
      "None\n",
      "   userID  artistID  tagID  day  month  year\n",
      "0       2        52     13    1      4  2009\n",
      "1       2        52     15    1      4  2009\n",
      "2       2        52     18    1      4  2009\n",
      "3       2        52     21    1      4  2009\n",
      "4       2        52     41    1      4  2009\n"
     ]
    }
   ],
   "source": [
    "print(\"User-Tagged Artists dataset:\")\n",
    "print(user_taggedartists.info())\n",
    "print(user_taggedartists.head())"
   ]
  },
  {
   "cell_type": "markdown",
   "metadata": {},
   "source": [
    "The `userID` and `artistID` columns connect users to the artists that they have tagged, with the `tagID` column linking a specific tag with the artist. The `day`, `month`, and `year` columns show the exact date when a user tagged an artist. There are no missing values. There are 6 columns and 186,479 rows. The `day`, `month`, and `year` columns are not essential for our collaborative model, however, we will keep them in place as we could possibly implement a time-based element into the model."
   ]
  },
  {
   "cell_type": "markdown",
   "metadata": {},
   "source": [
    "### User-Tagged Artists Timestamps dataset"
   ]
  },
  {
   "cell_type": "code",
   "execution_count": 23,
   "metadata": {},
   "outputs": [
    {
     "name": "stdout",
     "output_type": "stream",
     "text": [
      "User-Tagged Artists Timestamps dataset:\n",
      "<class 'pandas.core.frame.DataFrame'>\n",
      "RangeIndex: 186479 entries, 0 to 186478\n",
      "Data columns (total 4 columns):\n",
      " #   Column     Non-Null Count   Dtype\n",
      "---  ------     --------------   -----\n",
      " 0   userID     186479 non-null  int64\n",
      " 1   artistID   186479 non-null  int64\n",
      " 2   tagID      186479 non-null  int64\n",
      " 3   timestamp  186479 non-null  int64\n",
      "dtypes: int64(4)\n",
      "memory usage: 5.7 MB\n",
      "None\n",
      "   userID  artistID  tagID      timestamp\n",
      "0       2        52     13  1238536800000\n",
      "1       2        52     15  1238536800000\n",
      "2       2        52     18  1238536800000\n",
      "3       2        52     21  1238536800000\n",
      "4       2        52     41  1238536800000\n"
     ]
    }
   ],
   "source": [
    "print(\"User-Tagged Artists Timestamps dataset:\")\n",
    "print(user_taggedartists_timestamps.info())\n",
    "print(user_taggedartists_timestamps.head())"
   ]
  },
  {
   "cell_type": "markdown",
   "metadata": {},
   "source": [
    "This is essentially just the `user_taggedartists.dat` dataset, except the `day`, `month`, and `year` columns have been replaced by a single timestamp. This has no missing values and has the same number of rows but less columns than the previous dataset. Hence, considering computational efficiency, this dataset is likely more useful to us than the previous, and if we were to implement time-based elements into our model, we will prefer this.  "
   ]
  },
  {
   "cell_type": "markdown",
   "metadata": {},
   "source": [
    "### User-Friends dataset"
   ]
  },
  {
   "cell_type": "code",
   "execution_count": 22,
   "metadata": {},
   "outputs": [
    {
     "name": "stdout",
     "output_type": "stream",
     "text": [
      "User-Friends dataset:\n",
      "<class 'pandas.core.frame.DataFrame'>\n",
      "RangeIndex: 25434 entries, 0 to 25433\n",
      "Data columns (total 2 columns):\n",
      " #   Column    Non-Null Count  Dtype\n",
      "---  ------    --------------  -----\n",
      " 0   userID    25434 non-null  int64\n",
      " 1   friendID  25434 non-null  int64\n",
      "dtypes: int64(2)\n",
      "memory usage: 397.5 KB\n",
      "None\n",
      "   userID  friendID\n",
      "0       2       275\n",
      "1       2       428\n",
      "2       2       515\n",
      "3       2       761\n",
      "4       2       831\n"
     ]
    }
   ],
   "source": [
    "print(\"User-Friends dataset:\")\n",
    "print(user_friends.info())\n",
    "print(user_friends.head())"
   ]
  },
  {
   "cell_type": "markdown",
   "metadata": {},
   "source": [
    "The `userID` column identifies the user, and the `friendID` column links them to their friends on the platform. This will be useful in analysing social interactions in our model and make recommendations based on the a user's friend's preferences. There are 2 columns and 25,434 rows. There are no missing values."
   ]
  },
  {
   "cell_type": "markdown",
   "metadata": {},
   "source": [
    "### **Conclusion of Initial Analysis**\n",
    "We have looked at the basic properties of each dataset. There are many useful features of the data, including listening counts, tagged artists and user friendships. We need to clean the data by removing irrelevant columns.\n",
    "\n",
    "We will summarise how we will use each dataset in our collaborative filtering model:\n",
    "\n",
    "- **Artists dataset**: This dataset contains information about artists. It will be used to link artists to their corresponding `artistID` in the user-related datasets. There are no missing values, but we will remove the `url` and `pictureURL` columns, as these will not be relevant for our model.\n",
    "\n",
    "- **Tags dataset**: This dataset contains the tags associated with artists. It will be used to link `tagID` to tags for the artists. There are no missing values, however, we need to ensure there are no irrelevant tags and remove duplicates if present.\n",
    "\n",
    "- **User-Artists dataset**: This dataset will be used to shows which artists each user listens to, with the `weight` column representing listening counts. There are no missing values, but we need to check for and remove duplicates if present.\n",
    "\n",
    "- **User-Tagged Artists dataset**: This dataset will not be used, since we will use the **User-Tagged Artists Timestamps dataset** instead as this contains the same amount of data but in a more compact structure with less columns.\n",
    "\n",
    "- **User-Tagged Artists Timestamps dataset**: This dataset gives timestamped interactions of users with tagged artists. It can be used for time-sensitive recommendations, however, we may not use timestamps in our model. We will keep the timestamp column regardless, in case we decide to use time-sensitive recommendations later. There are no missing values, but we need to check for and remove duplicates if present. When implementing a model without time-sensitive recommendations, we will drop the `timestamp` column after cleaning.\n",
    "\n",
    "- **User-Friends dataset**: This dataset shows the friendships between users and will be used to model user similarity or influence. There are no missing values, but we need to check for and remove duplicates if present.\n",
    "\n",
    "In summary, each dataset is mostly clean but will require checking for duplicates and potential removal of unnecessary columns. The main goal is to keep only the relevant data for the recommendation system.\n"
   ]
  },
  {
   "cell_type": "markdown",
   "metadata": {},
   "source": [
    "## Data Cleaning"
   ]
  },
  {
   "cell_type": "code",
   "execution_count": 26,
   "metadata": {},
   "outputs": [
    {
     "name": "stdout",
     "output_type": "stream",
     "text": [
      "<class 'pandas.core.frame.DataFrame'>\n",
      "RangeIndex: 17632 entries, 0 to 17631\n",
      "Data columns (total 2 columns):\n",
      " #   Column  Non-Null Count  Dtype \n",
      "---  ------  --------------  ----- \n",
      " 0   id      17632 non-null  int64 \n",
      " 1   name    17632 non-null  object\n",
      "dtypes: int64(1), object(1)\n",
      "memory usage: 275.6+ KB\n",
      "Cleaned Artists dataset: None    id               name\n",
      "0   1       MALICE MIZER\n",
      "1   2    Diary of Dreams\n",
      "2   3  Carpathian Forest\n",
      "3   4       Moi dix Mois\n",
      "4   5        Bella Morte\n",
      "<class 'pandas.core.frame.DataFrame'>\n",
      "RangeIndex: 11946 entries, 0 to 11945\n",
      "Data columns (total 2 columns):\n",
      " #   Column    Non-Null Count  Dtype \n",
      "---  ------    --------------  ----- \n",
      " 0   tagID     11946 non-null  int64 \n",
      " 1   tagValue  11946 non-null  object\n",
      "dtypes: int64(1), object(1)\n",
      "memory usage: 186.8+ KB\n",
      "Cleaned Tags dataset: None    tagID           tagValue\n",
      "0      1              metal\n",
      "1      2  alternative metal\n",
      "2      3          goth rock\n",
      "3      4        black metal\n",
      "4      5        death metal\n",
      "<class 'pandas.core.frame.DataFrame'>\n",
      "RangeIndex: 92834 entries, 0 to 92833\n",
      "Data columns (total 3 columns):\n",
      " #   Column    Non-Null Count  Dtype\n",
      "---  ------    --------------  -----\n",
      " 0   userID    92834 non-null  int64\n",
      " 1   artistID  92834 non-null  int64\n",
      " 2   weight    92834 non-null  int64\n",
      "dtypes: int64(3)\n",
      "memory usage: 2.1 MB\n",
      "Cleaned User-Artists dataset: None    userID  artistID  weight\n",
      "0       2        51   13883\n",
      "1       2        52   11690\n",
      "2       2        53   11351\n",
      "3       2        54   10300\n",
      "4       2        55    8983\n",
      "<class 'pandas.core.frame.DataFrame'>\n",
      "RangeIndex: 186479 entries, 0 to 186478\n",
      "Data columns (total 4 columns):\n",
      " #   Column     Non-Null Count   Dtype         \n",
      "---  ------     --------------   -----         \n",
      " 0   userID     186479 non-null  int64         \n",
      " 1   artistID   186479 non-null  int64         \n",
      " 2   tagID      186479 non-null  int64         \n",
      " 3   timestamp  186479 non-null  datetime64[ns]\n",
      "dtypes: datetime64[ns](1), int64(3)\n",
      "memory usage: 5.7 MB\n",
      "Cleaned User-Tagged Artists Timestamps dataset: None    userID  artistID  tagID           timestamp\n",
      "0       2        52     13 2009-03-31 22:00:00\n",
      "1       2        52     15 2009-03-31 22:00:00\n",
      "2       2        52     18 2009-03-31 22:00:00\n",
      "3       2        52     21 2009-03-31 22:00:00\n",
      "4       2        52     41 2009-03-31 22:00:00\n",
      "<class 'pandas.core.frame.DataFrame'>\n",
      "RangeIndex: 25434 entries, 0 to 25433\n",
      "Data columns (total 2 columns):\n",
      " #   Column    Non-Null Count  Dtype\n",
      "---  ------    --------------  -----\n",
      " 0   userID    25434 non-null  int64\n",
      " 1   friendID  25434 non-null  int64\n",
      "dtypes: int64(2)\n",
      "memory usage: 397.5 KB\n",
      "Cleaned User-Friends dataset: None    userID  friendID\n",
      "0       2       275\n",
      "1       2       428\n",
      "2       2       515\n",
      "3       2       761\n",
      "4       2       831\n"
     ]
    }
   ],
   "source": [
    "# Drop irrelevant columns from the Artists dataset\n",
    "artists_cleaned = artists.drop(columns=['url', 'pictureURL']).drop_duplicates(keep='first') \n",
    "\n",
    "# Drop the irrelevant columns in the Tags dataset\n",
    "tags_cleaned = tags.drop_duplicates(keep='first') \n",
    "\n",
    "# For the User-Artists dataset, we can filter out rows with a weight of 0, as they show no meaningful interaction\n",
    "user_artists_cleaned = user_artists[user_artists['weight'] > 0]\n",
    "user_artists_cleaned = user_artists_cleaned.drop_duplicates(keep='first') \n",
    "\n",
    "# Drop duplicates from the User-Tagged Artists Timestamps dataset\n",
    "user_taggedartists_timestamps_cleaned = user_taggedartists_timestamps.drop_duplicates(keep='first') \n",
    "\n",
    "# Convert timestamps from ms to datetime format\n",
    "user_taggedartists_timestamps_cleaned['timestamp'] = pd.to_datetime(user_taggedartists_timestamps_cleaned['timestamp'], unit='ms')\n",
    "\n",
    "# Drop duplicates from the User-Friends dataset\n",
    "user_friends_cleaned = user_friends.drop_duplicates(keep='first') \n",
    "\n",
    "# Output cleaned datasets for inspection\n",
    "print(\"Cleaned Artists dataset:\", artists_cleaned.info(), artists_cleaned.head())\n",
    "print(\"Cleaned Tags dataset:\", tags_cleaned.info(), tags_cleaned.head())\n",
    "print(\"Cleaned User-Artists dataset:\", user_artists_cleaned.info(), user_artists_cleaned.head())\n",
    "print(\"Cleaned User-Tagged Artists Timestamps dataset:\", user_taggedartists_timestamps_cleaned.info(), user_taggedartists_timestamps_cleaned.head())\n",
    "print(\"Cleaned User-Friends dataset:\", user_friends_cleaned.info(), user_friends_cleaned.head())\n"
   ]
  },
  {
   "cell_type": "markdown",
   "metadata": {},
   "source": [
    "We can see that there were no duplicates but the it is good to clean in practice. We have now prepared the data to be analysed."
   ]
  },
  {
   "cell_type": "markdown",
   "metadata": {},
   "source": [
    "## Data Analysis"
   ]
  },
  {
   "cell_type": "code",
   "execution_count": null,
   "metadata": {},
   "outputs": [],
   "source": []
  },
  {
   "cell_type": "code",
   "execution_count": null,
   "metadata": {},
   "outputs": [],
   "source": []
  },
  {
   "cell_type": "code",
   "execution_count": null,
   "metadata": {},
   "outputs": [],
   "source": []
  }
 ],
 "metadata": {
  "kernelspec": {
   "display_name": "Python 3",
   "language": "python",
   "name": "python3"
  },
  "language_info": {
   "codemirror_mode": {
    "name": "ipython",
    "version": 3
   },
   "file_extension": ".py",
   "mimetype": "text/x-python",
   "name": "python",
   "nbconvert_exporter": "python",
   "pygments_lexer": "ipython3",
   "version": "3.11.4"
  }
 },
 "nbformat": 4,
 "nbformat_minor": 2
}
