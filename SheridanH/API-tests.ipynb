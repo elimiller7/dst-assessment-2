{
 "cells": [
  {
   "cell_type": "code",
   "execution_count": 6,
   "metadata": {},
   "outputs": [
    {
     "name": "stdout",
     "output_type": "stream",
     "text": [
      "'numpy' not found. Installing...\n",
      "'pandas' not found. Installing...\n",
      "'requests' is already installed.\n",
      "\n",
      "All required packages are checked/installed.\n"
     ]
    }
   ],
   "source": [
    "######## REQUIREMENTS #################\n",
    "### PLEASE RUN THIS CELL FIRST ########\n",
    "#######################################\n",
    "\n",
    "import subprocess\n",
    "import sys\n",
    "\n",
    "# List of required packages\n",
    "required_packages = ['numpy','pandas', 'requests']\n",
    "\n",
    "# Function to check and install packages\n",
    "def install(package):\n",
    "    subprocess.check_call([sys.executable, '-m', 'pip', 'install', package])\n",
    "\n",
    "# Check and install required packages\n",
    "for package in required_packages:\n",
    "    try:\n",
    "        __import__(package)\n",
    "        print(f\"'{package}' is already installed.\")\n",
    "    except ImportError:\n",
    "        print(f\"'{package}' not found. Installing...\")\n",
    "        install(package)\n",
    "\n",
    "print(\"\\nAll required packages are checked/installed.\")"
   ]
  },
  {
   "cell_type": "code",
   "execution_count": 7,
   "metadata": {},
   "outputs": [],
   "source": [
    "import requests\n",
    "import numpy as np\n",
    "import pandas as pd"
   ]
  },
  {
   "cell_type": "code",
   "execution_count": 8,
   "metadata": {},
   "outputs": [],
   "source": [
    "with open('../SheridanH/api-key.txt', 'r') as file: \n",
    "    api_key = file.readline().strip()"
   ]
  },
  {
   "cell_type": "code",
   "execution_count": 1,
   "metadata": {},
   "outputs": [
    {
     "ename": "NameError",
     "evalue": "name 'api_key' is not defined",
     "output_type": "error",
     "traceback": [
      "\u001b[1;31m---------------------------------------------------------------------------\u001b[0m",
      "\u001b[1;31mNameError\u001b[0m                                 Traceback (most recent call last)",
      "Cell \u001b[1;32mIn[1], line 7\u001b[0m\n\u001b[0;32m      4\u001b[0m page \u001b[38;5;241m=\u001b[39m \u001b[38;5;241m1\u001b[39m\n\u001b[0;32m      5\u001b[0m all_tracks \u001b[38;5;241m=\u001b[39m []\n\u001b[1;32m----> 7\u001b[0m url \u001b[38;5;241m=\u001b[39m \u001b[38;5;124mf\u001b[39m\u001b[38;5;124m'\u001b[39m\u001b[38;5;124mhttp://ws.audioscrobbler.com/2.0/?method=user.getRecentTracks&user=\u001b[39m\u001b[38;5;132;01m{\u001b[39;00muser\u001b[38;5;132;01m}\u001b[39;00m\u001b[38;5;124m&api_key=\u001b[39m\u001b[38;5;132;01m{\u001b[39;00m\u001b[43mapi_key\u001b[49m\u001b[38;5;132;01m}\u001b[39;00m\u001b[38;5;124m&format=json&limit=\u001b[39m\u001b[38;5;132;01m{\u001b[39;00mlimit\u001b[38;5;132;01m}\u001b[39;00m\u001b[38;5;124m&page=\u001b[39m\u001b[38;5;132;01m{\u001b[39;00mpage\u001b[38;5;132;01m}\u001b[39;00m\u001b[38;5;124m'\u001b[39m\n\u001b[0;32m      8\u001b[0m response \u001b[38;5;241m=\u001b[39m requests\u001b[38;5;241m.\u001b[39mget(url)\n\u001b[0;32m      9\u001b[0m data \u001b[38;5;241m=\u001b[39m response\u001b[38;5;241m.\u001b[39mjson()\n",
      "\u001b[1;31mNameError\u001b[0m: name 'api_key' is not defined"
     ]
    }
   ],
   "source": [
    "user = 'SHeywood8'\n",
    "\n",
    "limit = 200  # Number of tracks per page\n",
    "page = 1\n",
    "all_tracks = []\n",
    "\n",
    "url = f'http://ws.audioscrobbler.com/2.0/?method=user.getRecentTracks&user={user}&api_key={api_key}&format=json&limit={limit}&page={page}'\n",
    "response = requests.get(url)\n",
    "data = response.json()\n",
    "total_pages = int(data['recenttracks']['@attr']['totalPages'])\n",
    "all_tracks = data['recenttracks']['track']\n",
    "\n",
    "for page in range(2,total_pages+1):\n",
    "    url = f'http://ws.audioscrobbler.com/2.0/?method=user.getRecentTracks&user={user}&api_key={api_key}&format=json&limit={limit}&page={page}'\n",
    "    response = requests.get(url)\n",
    "    data = response.json()\n",
    "    all_tracks.append(data['recenttracks']['track'])"
   ]
  },
  {
   "cell_type": "code",
   "execution_count": null,
   "metadata": {},
   "outputs": [],
   "source": []
  }
 ],
 "metadata": {
  "kernelspec": {
   "display_name": "Python 3",
   "language": "python",
   "name": "python3"
  },
  "language_info": {
   "codemirror_mode": {
    "name": "ipython",
    "version": 3
   },
   "file_extension": ".py",
   "mimetype": "text/x-python",
   "name": "python",
   "nbconvert_exporter": "python",
   "pygments_lexer": "ipython3",
   "version": "3.12.5"
  }
 },
 "nbformat": 4,
 "nbformat_minor": 2
}
