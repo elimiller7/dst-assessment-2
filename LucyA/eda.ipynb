{
 "cells": [
  {
   "cell_type": "code",
   "execution_count": 1,
   "metadata": {},
   "outputs": [],
   "source": [
    "import pandas as pd"
   ]
  },
  {
   "cell_type": "code",
   "execution_count": 20,
   "metadata": {},
   "outputs": [],
   "source": [
    "def user_top_ten(user_id):\n",
    "\n",
    "    user_data = pd.read_csv('../unpushed_work/last_fm_data/user_artists.dat', sep='\\t')\n",
    "    artist_ids = pd.read_csv('../unpushed_work/last_fm_data/artists.dat', sep='\\t')\n",
    "\n",
    "    artist_id_to_name = pd.Series(artist_ids.name.values, index=artist_ids.id).to_dict()\n",
    "\n",
    "    df = pd.DataFrame(user_data)\n",
    "    df.sort_values(by='weight', ascending=False)\n",
    "\n",
    "    user_artists = df[df['userID'] == user_id]\n",
    "    user_artists = user_artists['artistID']\n",
    "\n",
    "    for artist_id in user_artists:\n",
    "        artist_name = artist_id_to_name.get(artist_id, \"Unknown artist\")\n",
    "        print(f\"Artist ID: {artist_id}, Name: {artist_name}\")"
   ]
  },
  {
   "cell_type": "code",
   "execution_count": 38,
   "metadata": {},
   "outputs": [
    {
     "name": "stdout",
     "output_type": "stream",
     "text": [
      "Artist ID: 52, Name: Morcheeba\n",
      "Artist ID: 58, Name: Goldfrapp\n",
      "Artist ID: 59, Name: New Order\n",
      "Artist ID: 170, Name: Mew\n",
      "Artist ID: 418, Name: Sigur Rós\n",
      "Artist ID: 429, Name: The Smiths\n",
      "Artist ID: 515, Name: Clan of Xymox\n",
      "Artist ID: 618, Name: Belle and Sebastian\n",
      "Artist ID: 632, Name: Explosions in the Sky\n",
      "Artist ID: 1083, Name: Siouxsie and the Banshees\n",
      "Artist ID: 1131, Name: Tool\n",
      "Artist ID: 1510, Name: Black Rebel Motorcycle Club\n",
      "Artist ID: 2289, Name: Stereolab\n",
      "Artist ID: 2542, Name: My Bloody Valentine\n",
      "Artist ID: 3201, Name: Kate Bush\n",
      "Artist ID: 3280, Name: Cocteau Twins\n",
      "Artist ID: 3282, Name: The Sundays\n",
      "Artist ID: 3290, Name: Cranes\n",
      "Artist ID: 3411, Name: M83\n",
      "Artist ID: 3451, Name: Love and Rockets\n",
      "Artist ID: 3884, Name: Slowdive\n",
      "Artist ID: 3890, Name: Mazzy Star\n",
      "Artist ID: 4064, Name: Spiritualized\n",
      "Artist ID: 4138, Name: Hungry Lucy\n",
      "Artist ID: 4222, Name: Strung Out\n",
      "Artist ID: 5658, Name: Black Tape for a Blue Girl\n",
      "Artist ID: 5932, Name: Pogo\n",
      "Artist ID: 6205, Name: The Clientele\n",
      "Artist ID: 6414, Name: Asobi Seksu\n",
      "Artist ID: 6582, Name: Ulrich Schnauss\n",
      "Artist ID: 7878, Name: Pale Saints\n",
      "Artist ID: 8672, Name: Ride\n",
      "Artist ID: 8680, Name: Chapterhouse\n",
      "Artist ID: 11006, Name: Belle Epoque\n",
      "Artist ID: 11892, Name: Blood Ruby\n",
      "Artist ID: 11893, Name: Lycia\n",
      "Artist ID: 11894, Name: Mike Van Portfleet\n",
      "Artist ID: 11895, Name: Spider\n",
      "Artist ID: 11896, Name: Kitchens of Distinction\n",
      "Artist ID: 11897, Name: Bel Canto\n",
      "Artist ID: 11898, Name: Love Spirals Downwards\n",
      "Artist ID: 11899, Name: Hope Sandoval & The Warm Inventions\n",
      "Artist ID: 11900, Name: Low\n",
      "Artist ID: 11901, Name: Loop\n",
      "Artist ID: 11902, Name: Spooncurve\n",
      "Artist ID: 11903, Name: Mahogany\n",
      "Artist ID: 11904, Name: Monster Movie\n",
      "Artist ID: 11905, Name: Destroyalldreamers\n",
      "Artist ID: 11906, Name: Nachtmystium\n",
      "Artist ID: 11907, Name: Keshco\n"
     ]
    }
   ],
   "source": [
    "user_top_ten(1035)"
   ]
  },
  {
   "cell_type": "code",
   "execution_count": 48,
   "metadata": {},
   "outputs": [],
   "source": [
    "def user_who_likes_artist(artist_name):\n",
    "\n",
    "    user_data = pd.read_csv('../unpushed_work/last_fm_data/user_artists.dat', sep='\\t')\n",
    "    artist_ids = pd.read_csv('../unpushed_work/last_fm_data/artists.dat', sep='\\t')\n",
    "    \n",
    "    artist_id_to_name = pd.Series(artist_ids.name.values, index=artist_ids.id).to_dict()\n",
    "    name_to_artist_id = {v: k for k, v in artist_id_to_name.items()}\n",
    "\n",
    "    artist_id = name_to_artist_id.get(artist_name, 'Unknown User')\n",
    "\n",
    "    if artist_id == 'Unknown User':\n",
    "         print('User not known')\n",
    "         return\n",
    "    \n",
    "    else:\n",
    "        user_ids = user_data['userID'].unique()\n",
    "        \n",
    "        for user_id in user_ids:\n",
    "            user_artists = user_data[user_data['userID'] == user_id]\n",
    "            user_artists = user_artists['artistID']\n",
    "            for id in user_artists:\n",
    "                if id == artist_id:\n",
    "                    print(user_id)\n",
    "                    return user_id\n"
   ]
  },
  {
   "cell_type": "code",
   "execution_count": 52,
   "metadata": {},
   "outputs": [
    {
     "name": "stdout",
     "output_type": "stream",
     "text": [
      "4\n"
     ]
    }
   ],
   "source": [
    "user_who_likes_artist('Radiohead')"
   ]
  }
 ],
 "metadata": {
  "kernelspec": {
   "display_name": "Python 3",
   "language": "python",
   "name": "python3"
  },
  "language_info": {
   "codemirror_mode": {
    "name": "ipython",
    "version": 3
   },
   "file_extension": ".py",
   "mimetype": "text/x-python",
   "name": "python",
   "nbconvert_exporter": "python",
   "pygments_lexer": "ipython3",
   "version": "3.12.3"
  }
 },
 "nbformat": 4,
 "nbformat_minor": 2
}
