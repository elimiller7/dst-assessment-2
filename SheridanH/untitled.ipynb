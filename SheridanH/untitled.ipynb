{
 "cells": [
  {
   "cell_type": "markdown",
   "metadata": {},
   "source": [
    "# Recommender Systems\n",
    "\n",
    "### Types: [\\[1, 2\\]](#references)\n",
    "\n",
    "1. **Collaborative Filtering:**\n",
    "Recommends items based on information from many users, using similarity of user preference behaviour. If two people have similar tastes, then data from one will be used to create recommendations for the other. This is also called User-User collaborative filtering.\n",
    "\n",
    "2. **Content Filtering:**\n",
    "Recommends future items based on the attributes or features of past items, e.g: Genres, Cast, Colour, etc... This is done by analysing the user's historical data, such as search history, browsing history, or purchase history.\n",
    "\n",
    "3. **Hybrid Recommender Systems:**\n",
    "Combines the advantages of the first two types to create a more comprehensive recommender.\n",
    "\n",
    "4. **Context Filtering:**\n",
    "Includes users' contextual information in the recommendation process. It takes a sequence of contextual user actions, and then considers the current context to predict the next action.\n",
    "\n",
    "### Benefits:\n",
    "\n",
    "* Improving retention\n",
    "* Increasing sales\n",
    "* Helping to form customer habits and trends\n",
    "* Speeding up pace of work\n",
    "* Boosting cart value\n",
    "\n",
    "### Methods:\n",
    "\n",
    "* Matrix Factorisation\n",
    "* Deep Neural Networks:\n",
    "  - Neural Collaborative Filtering\n",
    "  - Variational Autoencoder for Collaborative Filtering\n",
    "  - Contextual Sequence Learning\n",
    "  - Wide & Deep\n",
    "  - DLRM"
   ]
  },
  {
   "cell_type": "markdown",
   "metadata": {},
   "source": [
    "# References\n",
    "\n",
    "[1] https://www.nvidia.com/en-gb/glossary/recommendation-system/\n",
    "\n",
    "[2] https://utsavdesai26.medium.com/recommendation-systems-explained-understanding-the-basic-to-advance-43a5fce77c47\n",
    "\n",
    "[3] https://towardsdatascience.com/introduction-to-recommender-systems-6c66cf15ada"
   ]
  },
  {
   "cell_type": "markdown",
   "metadata": {},
   "source": []
  }
 ],
 "metadata": {
  "language_info": {
   "name": "python"
  }
 },
 "nbformat": 4,
 "nbformat_minor": 2
}
