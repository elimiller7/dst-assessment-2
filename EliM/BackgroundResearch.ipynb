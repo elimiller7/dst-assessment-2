{
 "cells": [
  {
   "cell_type": "markdown",
   "metadata": {},
   "source": [
    "# **Research**"
   ]
  },
  {
   "cell_type": "markdown",
   "metadata": {},
   "source": [
    "## Recommender Systems\n",
    "\n",
    "Recommender systems are strategies designed to make decisions for users when the available information is complex.\n",
    "The aim of a recommender system is to help users make decisions about choices about their preferences when there is a lack of experience with some of the available options. Large amounts of historical data are given to the recommender system and the system will output personalised recommendations for the user.\n",
    "\n",
    "There are a variety of techniques that a recommender system may use. Some examples include collaborative filtering, content-based filtering and hybrid filtering. These can utilise many statistical methods, including neural networks and graphical approaches.\n",
    "\n",
    "Collaborative filtering identifies users with similar preferences and uses the similar data to make recommendations to the user of interest.\n",
    "\n",
    "Content-based filtering focuses on the characteristics of the items that it needs to recommend, disregarding preferences of other users.\n",
    "\n",
    "There are drawbacks for the two methods described. Collaborative filtering encounters problems with cold-starts, meaning there can be difficulty with giving meamningful recommendations for new users or items. Furthermore, sparse data has a significant impact on the quality of the predictions, and there may be issues with scalability depending on the specific collaborative technique used. Content-based filtering also has problems when dealing with sparse data and may give limited analysis on the given content.\n",
    "\n",
    "Hybrid filtering can be used to combine collaborative and content-based filtering, allowing us to use both the information about similar users and the characteristics of the items. This may mitigate some of the drawbacks and improve the accuracy of a recommender system. There are a number of different approaches to hybrid filtering, inlcuding weighted hybrid, mixed hybrid and meta-level hybrid.\n",
    "\n",
    "There are 3 phases in a recommender system. Firstly, all relevant data is collected and pre-processed. This data may be explicit or implicit feedback. Explicit feedback can be item ratings that the user gives, and this type of feedback is seen as more reliable. Implicit feedback is less reliable, however, this does not need any user effort since this may be clicks and counts of listens or views. Hybrid filtering allows us to gain knowledge from both types of feedback. In the next phase, the recommender system learns from the chosen data, using particular algorithms, depending on the type of recommender system. Finally, the system makes recommendations or gives predictions on items that the user will hopefully like."
   ]
  },
  {
   "cell_type": "markdown",
   "metadata": {},
   "source": [
    "## Collaborative Filtering & Methods\n",
    "\n",
    "Collaborative filtering creates a user-item matrix with values corresponding to the users preferences. Next, using a chosen similarity metric, the similarities between users' preferences are used to give recommendations for each user. Each user will be given recommendations for items that they have not given feedback for, but have positive feedback from users similar to the chosen user. These recommendations may also be predictions. \n",
    "\n",
    "The two types of collaborative filtering techniques are model-based and memory-based."
   ]
  },
  {
   "cell_type": "markdown",
   "metadata": {},
   "source": [
    "## User-based CF"
   ]
  },
  {
   "cell_type": "markdown",
   "metadata": {},
   "source": [
    "## Item-based CF"
   ]
  },
  {
   "cell_type": "markdown",
   "metadata": {},
   "source": [
    "## Matrix Decomposition CF - SVD"
   ]
  },
  {
   "cell_type": "markdown",
   "metadata": {},
   "source": [
    "## ALS with `implicit`"
   ]
  },
  {
   "cell_type": "markdown",
   "metadata": {},
   "source": [
    "## ALS with PySpark"
   ]
  },
  {
   "cell_type": "markdown",
   "metadata": {},
   "source": [
    "## **References**\n",
    "[1] F.O. Isinkaye, Y.O. Folajimi, B.A. Ojokoh,\n",
    "Recommendation systems: Principles, methods and evaluation,\n",
    "Egyptian Informatics Journal,\n",
    "Volume 16, Issue 3,\n",
    "2015,\n",
    "Pages 261-273,\n",
    "ISSN 1110-8665,\n",
    "https://doi.org/10.1016/j.eij.2015.06.005.\n",
    "(https://www.sciencedirect.com/science/article/pii/S1110866515000341)"
   ]
  }
 ],
 "metadata": {
  "language_info": {
   "name": "python"
  }
 },
 "nbformat": 4,
 "nbformat_minor": 2
}
