{
 "cells": [
  {
   "cell_type": "code",
   "execution_count": 1,
   "metadata": {},
   "outputs": [],
   "source": [
    "import pandas as pd\n",
    "import numpy as np\n",
    "import os"
   ]
  },
  {
   "cell_type": "code",
   "execution_count": 2,
   "metadata": {},
   "outputs": [],
   "source": [
    "base_directory = \"/Users/harrywilson/Desktop/DataScienceToolbox/Assessment2Data\""
   ]
  },
  {
   "cell_type": "code",
   "execution_count": 3,
   "metadata": {},
   "outputs": [
    {
     "name": "stdout",
     "output_type": "stream",
     "text": [
      "{'encoding': 'utf-8', 'confidence': 0.87625, 'language': ''}\n"
     ]
    }
   ],
   "source": [
    "import chardet\n",
    "\n",
    "file_path = f\"{base_directory}/artists.dat\"\n",
    "with open(file_path, \"rb\") as f:\n",
    "    result = chardet.detect(f.read(10000))  # Analyze the first 10KB\n",
    "    print(result)\n"
   ]
  },
  {
   "cell_type": "code",
   "execution_count": 4,
   "metadata": {},
   "outputs": [],
   "source": [
    "# Function to load data\n",
    "def load_data(filename):\n",
    "    file_path = f\"{base_directory}/{filename}\"\n",
    "    return pd.read_csv(file_path, sep=\"\\t\", header=0)  # sep=\"\\t\" for tab-separated, header=0 means first row is the header"
   ]
  },
  {
   "cell_type": "code",
   "execution_count": 5,
   "metadata": {},
   "outputs": [],
   "source": [
    "# Load the dataset\n",
    "artists_file = os.path.join(base_directory, \"artists.dat\")\n",
    "tags_file = os.path.join(base_directory, \"tags.dat\")\n",
    "user_artists_file = os.path.join(base_directory, \"user_artists.dat\")\n",
    "user_taggedartists_file = os.path.join(base_directory, \"user_taggedartists.dat\")"
   ]
  },
  {
   "cell_type": "code",
   "execution_count": 6,
   "metadata": {},
   "outputs": [],
   "source": [
    "# Load the datasets\n",
    "artists = pd.read_csv(artists_file, sep=\"\\t\", header=0)\n",
    "tags = pd.read_csv(tags_file, sep=\"\\t\", header=0, encoding=\"latin-1\")\n",
    "user_artists = pd.read_csv(user_artists_file, sep=\"\\t\", header=0)\n",
    "user_taggedartists = pd.read_csv(user_taggedartists_file, sep=\"\\t\", header=0)"
   ]
  },
  {
   "cell_type": "code",
   "execution_count": 7,
   "metadata": {},
   "outputs": [
    {
     "name": "stdout",
     "output_type": "stream",
     "text": [
      "   id               name                                         url  \\\n",
      "0   1       MALICE MIZER       http://www.last.fm/music/MALICE+MIZER   \n",
      "1   2    Diary of Dreams    http://www.last.fm/music/Diary+of+Dreams   \n",
      "2   3  Carpathian Forest  http://www.last.fm/music/Carpathian+Forest   \n",
      "3   4       Moi dix Mois       http://www.last.fm/music/Moi+dix+Mois   \n",
      "4   5        Bella Morte        http://www.last.fm/music/Bella+Morte   \n",
      "\n",
      "                                          pictureURL  \n",
      "0    http://userserve-ak.last.fm/serve/252/10808.jpg  \n",
      "1  http://userserve-ak.last.fm/serve/252/3052066.jpg  \n",
      "2  http://userserve-ak.last.fm/serve/252/40222717...  \n",
      "3  http://userserve-ak.last.fm/serve/252/54697835...  \n",
      "4  http://userserve-ak.last.fm/serve/252/14789013...  \n",
      "   tagID           tagValue\n",
      "0      1              metal\n",
      "1      2  alternative metal\n",
      "2      3          goth rock\n",
      "3      4        black metal\n",
      "4      5        death metal\n",
      "   userID  artistID  weight\n",
      "0       2        51   13883\n",
      "1       2        52   11690\n",
      "2       2        53   11351\n",
      "3       2        54   10300\n",
      "4       2        55    8983\n",
      "   userID  artistID  tagID  day  month  year\n",
      "0       2        52     13    1      4  2009\n",
      "1       2        52     15    1      4  2009\n",
      "2       2        52     18    1      4  2009\n",
      "3       2        52     21    1      4  2009\n",
      "4       2        52     41    1      4  2009\n"
     ]
    }
   ],
   "source": [
    "# Display a preview of the data\n",
    "print(artists.head())\n",
    "print(tags.head())\n",
    "print(user_artists.head())\n",
    "print(user_taggedartists.head())"
   ]
  },
  {
   "cell_type": "code",
   "execution_count": 8,
   "metadata": {},
   "outputs": [
    {
     "name": "stdout",
     "output_type": "stream",
     "text": [
      "   artistID        artist_name  \\\n",
      "0         1       MALICE MIZER   \n",
      "1         2    Diary of Dreams   \n",
      "2         3  Carpathian Forest   \n",
      "3         4       Moi dix Mois   \n",
      "4         5        Bella Morte   \n",
      "\n",
      "                                                tags  \n",
      "0  [gothic, jrock, j-rock, weeabo, japanese, visu...  \n",
      "1  [gothic rock, true goth emo, german, ambient, ...  \n",
      "2  [true norwegian black metal, saxophones, black...  \n",
      "3  [japanese, gothic, rock, j-rock, gothic japane...  \n",
      "4  [gothic rock, gothic, darkwave, deathrock, cov...  \n"
     ]
    }
   ],
   "source": [
    "# Join user_taggedartists with tags for tag information\n",
    "artist_tags_df = user_taggedartists.merge(tags, on=\"tagID\", how=\"inner\")\n",
    "\n",
    "# Join the result with artists to get artist details and tag names\n",
    "artist_tags_info_df = artist_tags_df.merge(artists, left_on=\"artistID\", right_on=\"id\")\n",
    "\n",
    "# Aggregate tags for each artist into a list and remove duplicates\n",
    "artist_profiles_df = (\n",
    "    artist_tags_info_df.groupby([\"artistID\", \"name\"])[\"tagValue\"]\n",
    "    .apply(lambda tags: list(set(tags)))  # Remove duplicates and collect tags\n",
    "    .reset_index()\n",
    "    .rename(columns={\"name\": \"artist_name\", \"tagValue\": \"tags\"})\n",
    ")\n",
    "\n",
    "# Display artist profiles\n",
    "print(artist_profiles_df.head())\n"
   ]
  },
  {
   "cell_type": "code",
   "execution_count": 9,
   "metadata": {},
   "outputs": [
    {
     "name": "stderr",
     "output_type": "stream",
     "text": [
      "/Users/harrywilson/anaconda3/lib/python3.11/site-packages/sklearn/feature_extraction/text.py:525: UserWarning: The parameter 'token_pattern' will not be used since 'tokenizer' is not None'\n",
      "  warnings.warn(\n"
     ]
    },
    {
     "name": "stdout",
     "output_type": "stream",
     "text": [
      "   artistID        artist_name  '80s  'n'  -  --  ---  --------  ---king  \\\n",
      "0         1       MALICE MIZER     0    0  0   0    0         0        0   \n",
      "1         2    Diary of Dreams     0    0  0   0    0         0        0   \n",
      "2         3  Carpathian Forest     0    0  0   0    0         0        0   \n",
      "3         4       Moi dix Mois     0    0  0   0    0         0        0   \n",
      "4         5        Bella Morte     0    0  0   0    0         0        0   \n",
      "\n",
      "   -angels  ...  zombie  zombieland  zone  zoocore  zooey  zorn  zornish  ztt  \\\n",
      "0        0  ...       0           0     0        0      0     0        0    0   \n",
      "1        0  ...       0           0     0        0      0     0        0    0   \n",
      "2        0  ...       0           0     0        0      0     0        0    0   \n",
      "3        0  ...       0           0     0        0      0     0        0    0   \n",
      "4        0  ...       0           0     0        0      0     0        0    0   \n",
      "\n",
      "   zu  ärzte  \n",
      "0   0      0  \n",
      "1   0      0  \n",
      "2   0      0  \n",
      "3   0      0  \n",
      "4   0      0  \n",
      "\n",
      "[5 rows x 7954 columns]\n"
     ]
    }
   ],
   "source": [
    "from sklearn.feature_extraction.text import CountVectorizer\n",
    "\n",
    "# Convert tags into strings (required for CountVectorizer)\n",
    "artist_profiles_df[\"tag_text\"] = artist_profiles_df[\"tags\"].apply(lambda tags: \" \".join(tags))\n",
    "\n",
    "# Initialize CountVectorizer\n",
    "vectorizer = CountVectorizer(tokenizer=lambda x:x.split())\n",
    "\n",
    "\n",
    "# Fit and transform the tag_text column\n",
    "tag_vectors = vectorizer.fit_transform(artist_profiles_df[\"tag_text\"])\n",
    "\n",
    "# Convert the sparse matrix to a dense DataFrame for better visualization\n",
    "tag_vectors_df = pd.DataFrame(tag_vectors.toarray(), columns=vectorizer.get_feature_names_out())\n",
    "\n",
    "# Add artist information for context\n",
    "vectorized_artist_profiles_df = pd.concat(\n",
    "    [artist_profiles_df[[\"artistID\", \"artist_name\"]], tag_vectors_df], axis=1\n",
    ")\n",
    "\n",
    "# Display vectorized features\n",
    "print(vectorized_artist_profiles_df.head())"
   ]
  },
  {
   "cell_type": "code",
   "execution_count": 10,
   "metadata": {},
   "outputs": [
    {
     "name": "stdout",
     "output_type": "stream",
     "text": [
      "                   80s  alternative  dance  electronic  female  hip  hop  \\\n",
      "artist_name                                                                \n",
      "MALICE MIZER       0.0          0.0    0.0    0.000000     0.0  0.0  0.0   \n",
      "Diary of Dreams    0.0          0.0    0.0    0.486988     0.0  0.0  0.0   \n",
      "Carpathian Forest  0.0          0.0    0.0    0.000000     0.0  0.0  0.0   \n",
      "Moi dix Mois       0.0          0.0    0.0    0.000000     0.0  0.0  0.0   \n",
      "Bella Morte        0.0          0.0    0.0    0.000000     0.0  0.0  0.0   \n",
      "\n",
      "                   indie      live  love     metal  new  pop  post  punk  \\\n",
      "artist_name                                                                \n",
      "MALICE MIZER         0.0  0.000000   0.0  0.000000  0.0  0.0   0.0   0.0   \n",
      "Diary of Dreams      0.0  0.558014   0.0  0.000000  0.0  0.0   0.0   0.0   \n",
      "Carpathian Forest    0.0  0.000000   0.0  1.000000  0.0  0.0   0.0   0.0   \n",
      "Moi dix Mois         0.0  0.000000   0.0  0.832669  0.0  0.0   0.0   0.0   \n",
      "Bella Morte          0.0  0.000000   0.0  0.000000  0.0  0.0   0.0   0.0   \n",
      "\n",
      "                       rock     seen  songs  the  vocalists  \n",
      "artist_name                                                  \n",
      "MALICE MIZER       1.000000  0.00000    0.0  0.0        0.0  \n",
      "Diary of Dreams    0.347468  0.57509    0.0  0.0        0.0  \n",
      "Carpathian Forest  0.000000  0.00000    0.0  0.0        0.0  \n",
      "Moi dix Mois       0.553770  0.00000    0.0  0.0        0.0  \n",
      "Bella Morte        1.000000  0.00000    0.0  0.0        0.0  \n"
     ]
    }
   ],
   "source": [
    "from sklearn.feature_extraction.text import TfidfVectorizer\n",
    "\n",
    "# Use TF-IDF to encode tags into numerical vectors\n",
    "tfidf = TfidfVectorizer(max_features=20)  # Limit to 10 features for simplicity\n",
    "artist_tag_matrix = tfidf.fit_transform(artist_profiles_df[\"tag_text\"])\n",
    "\n",
    "# Convert the matrix to a DataFrame for easier use\n",
    "artist_features = pd.DataFrame(\n",
    "    artist_tag_matrix.toarray(), \n",
    "    index=artist_profiles_df[\"artist_name\"], \n",
    "    columns=tfidf.get_feature_names_out()\n",
    ")\n",
    "print(artist_features.head())\n"
   ]
  },
  {
   "cell_type": "code",
   "execution_count": 11,
   "metadata": {},
   "outputs": [
    {
     "name": "stdout",
     "output_type": "stream",
     "text": [
      "                   80s  alternative  dance  electronic  female  hip  hop  \\\n",
      "artist_name                                                                \n",
      "MALICE MIZER       0.0          0.0    0.0    0.000000     0.0  0.0  0.0   \n",
      "Diary of Dreams    0.0          0.0    0.0    0.486988     0.0  0.0  0.0   \n",
      "Carpathian Forest  0.0          0.0    0.0    0.000000     0.0  0.0  0.0   \n",
      "Moi dix Mois       0.0          0.0    0.0    0.000000     0.0  0.0  0.0   \n",
      "Bella Morte        0.0          0.0    0.0    0.000000     0.0  0.0  0.0   \n",
      "\n",
      "                   indie      live  love     metal  new  pop  post  punk  \\\n",
      "artist_name                                                                \n",
      "MALICE MIZER         0.0  0.000000   0.0  0.000000  0.0  0.0   0.0   0.0   \n",
      "Diary of Dreams      0.0  0.558014   0.0  0.000000  0.0  0.0   0.0   0.0   \n",
      "Carpathian Forest    0.0  0.000000   0.0  1.000000  0.0  0.0   0.0   0.0   \n",
      "Moi dix Mois         0.0  0.000000   0.0  0.832669  0.0  0.0   0.0   0.0   \n",
      "Bella Morte          0.0  0.000000   0.0  0.000000  0.0  0.0   0.0   0.0   \n",
      "\n",
      "                       rock      seen  songs  the  vocalists  \n",
      "artist_name                                                   \n",
      "MALICE MIZER       1.000000  0.000000    0.0  0.0        0.0  \n",
      "Diary of Dreams    0.347468  0.639198    0.0  0.0        0.0  \n",
      "Carpathian Forest  0.000000  0.000000    0.0  0.0        0.0  \n",
      "Moi dix Mois       0.553770  0.000000    0.0  0.0        0.0  \n",
      "Bella Morte        1.000000  0.000000    0.0  0.0        0.0  \n"
     ]
    }
   ],
   "source": [
    "from sklearn.preprocessing import MinMaxScaler\n",
    "\n",
    "# Apply MinMaxScaler to normalize the feature vectors\n",
    "scaler = MinMaxScaler()\n",
    "scaled_artist_features = pd.DataFrame(\n",
    "    scaler.fit_transform(artist_features),\n",
    "    index=artist_features.index,\n",
    "    columns=artist_features.columns\n",
    ")\n",
    "\n",
    "# Display the scaled features\n",
    "print(scaled_artist_features.head())\n"
   ]
  },
  {
   "cell_type": "code",
   "execution_count": 12,
   "metadata": {},
   "outputs": [
    {
     "name": "stdout",
     "output_type": "stream",
     "text": [
      "          artistID_1    artistID_2  similarity\n",
      "0    Diary of Dreams  MALICE MIZER    0.334686\n",
      "1  Carpathian Forest  MALICE MIZER    0.000000\n",
      "2        Bella Morte  MALICE MIZER    1.000000\n",
      "3        DIR EN GREY  MALICE MIZER    0.706250\n",
      "4        Combichrist  MALICE MIZER    0.000000\n"
     ]
    }
   ],
   "source": [
    "import pandas as pd\n",
    "from sklearn.metrics.pairwise import cosine_similarity\n",
    "\n",
    "# Assuming that scaled_artist_features is a DataFrame where the index represents artist IDs\n",
    "# Step 1: Compute cosine similarity matrix\n",
    "similarity_matrix = cosine_similarity(scaled_artist_features)\n",
    "\n",
    "# Step 2: Convert cosine similarity matrix to a DataFrame\n",
    "artist_ids = scaled_artist_features.index  # Assuming index represents artist IDs\n",
    "similarities_df = pd.DataFrame(\n",
    "    similarity_matrix, index=artist_ids, columns=artist_ids\n",
    ")\n",
    "\n",
    "# Step 3: Reset the index and melt the DataFrame into long format\n",
    "similarities_long_df = similarities_df.reset_index()\n",
    "similarities_long_df = similarities_long_df.melt(\n",
    "    id_vars=similarities_long_df.columns[0], var_name=\"artistID_2\", value_name=\"similarity\"\n",
    ")\n",
    "similarities_long_df.rename(columns={similarities_long_df.columns[0]: \"artistID_1\"}, inplace=True)\n",
    "\n",
    "# Step 4: Filter out self-similarities and keep unique pairs\n",
    "similarities_long_df = similarities_long_df[similarities_long_df[\"artistID_1\"] < similarities_long_df[\"artistID_2\"]]\n",
    "\n",
    "# Reset the index after filtering\n",
    "similarities_long_df = similarities_long_df.reset_index(drop=True)\n",
    "\n",
    "# Display the updated DataFrame\n",
    "print(similarities_long_df.head())\n",
    "\n"
   ]
  },
  {
   "cell_type": "code",
   "execution_count": 13,
   "metadata": {},
   "outputs": [
    {
     "name": "stdout",
     "output_type": "stream",
     "text": [
      "   artistID_2          artist_name  avg_similarity\n",
      "1       12012     Foxes In Fiction        0.237294\n",
      "7           3    Carpathian Forest        0.228564\n",
      "3        1997           Dragonland        0.226423\n",
      "8         311  Natasha Bedingfield        0.207139\n",
      "10        883               Tiamat        0.179470\n",
      "11        999       Thompson Twins        0.102851\n",
      "4        2002        John Petrucci        0.070631\n",
      "2        1349     Rhapsody of Fire        0.064027\n",
      "0         112         Go Koyashiki        0.044043\n",
      "6        2562              Arcadia        0.011732\n"
     ]
    }
   ],
   "source": [
    "# Input a user ID\n",
    "input_user_id = 5\n",
    "\n",
    "# Step 1: Get artists the user has already interacted with\n",
    "interacted_artists = user_artists[user_artists[\"userID\"] == input_user_id][\"artistID\"].tolist()\n",
    "\n",
    "# Step 2: Filter the similarity matrix to exclude artists the user has interacted with\n",
    "recommendations_filtered_df = similarities_long_df[\n",
    "    (~similarities_long_df[\"artistID_1\"].isin(interacted_artists)) &  # Artist 1 is not interacted with\n",
    "    (~similarities_long_df[\"artistID_2\"].isin(interacted_artists))    # Artist 2 is not interacted with\n",
    "]\n",
    "\n",
    "# Step 3: Group recommendations by artistID_2 (the recommended artist)\n",
    "user_recommendations = (\n",
    "    recommendations_filtered_df.groupby(\"artistID_2\")\n",
    "    .agg({\"similarity\": \"mean\"})  # Calculate average similarity for recommendations\n",
    "    .rename(columns={\"similarity\": \"avg_similarity\"})\n",
    "    .reset_index()\n",
    ")\n",
    "\n",
    "# Ensure data types match before merging\n",
    "user_recommendations[\"artistID_2\"] = user_recommendations[\"artistID_2\"].astype(str)\n",
    "artists[\"id\"] = artists[\"id\"].astype(str)\n",
    "\n",
    "# Step 4: Merge with the artists DataFrame to add artist names\n",
    "user_recommendations_with_names = pd.merge(\n",
    "    user_recommendations, \n",
    "    artists, \n",
    "    left_on=\"artistID_2\", \n",
    "    right_on=\"id\", \n",
    "    how=\"inner\"\n",
    ").rename(columns={\"name\": \"artist_name\"})\n",
    "\n",
    "# Step 5: Sort the recommendations by average similarity in descending order\n",
    "user_recommendations_with_names = user_recommendations_with_names.sort_values(\n",
    "    by=\"avg_similarity\", ascending=False\n",
    ")\n",
    "\n",
    "# Step 6: Display the top recommendations\n",
    "print(user_recommendations_with_names[[\"artistID_2\", \"artist_name\", \"avg_similarity\"]].head(10))\n"
   ]
  },
  {
   "cell_type": "code",
   "execution_count": 14,
   "metadata": {},
   "outputs": [
    {
     "name": "stdout",
     "output_type": "stream",
     "text": [
      "   artistID_2          artist_name  avg_similarity\n",
      "1       12012     Foxes In Fiction        0.237294\n",
      "7           3    Carpathian Forest        0.228564\n",
      "3        1997           Dragonland        0.226423\n",
      "8         311  Natasha Bedingfield        0.207139\n",
      "10        883               Tiamat        0.179470\n",
      "11        999       Thompson Twins        0.102851\n",
      "4        2002        John Petrucci        0.070631\n",
      "2        1349     Rhapsody of Fire        0.064027\n",
      "0         112         Go Koyashiki        0.044043\n",
      "6        2562              Arcadia        0.011732\n"
     ]
    }
   ],
   "source": [
    "# Input a user ID\n",
    "input_user_id = 5\n",
    "\n",
    "# Step 1: Get artists the user has already interacted with\n",
    "interacted_artists = user_artists[user_artists[\"userID\"] == input_user_id][\"artistID\"].tolist()\n",
    "\n",
    "# Step 2: Filter the similarity matrix to exclude artists the user has interacted with\n",
    "recommendations_filtered_df = similarities_long_df[\n",
    "    ~similarities_long_df[\"artistID_2\"].isin(interacted_artists)\n",
    "]\n",
    "\n",
    "# Step 3: Group recommendations by userID and artistID_2\n",
    "user_recommendations = (\n",
    "    recommendations_filtered_df.groupby([\"artistID_2\"])\n",
    "    .agg({\"similarity\": \"mean\"})  # Calculate average similarity for recommendations\n",
    "    .rename(columns={\"similarity\": \"avg_similarity\"})\n",
    "    .reset_index()\n",
    ")\n",
    "\n",
    "# Ensure data types match before merging\n",
    "user_recommendations[\"artistID_2\"] = user_recommendations[\"artistID_2\"].astype(str)\n",
    "artists[\"id\"] = artists[\"id\"].astype(str)\n",
    "\n",
    "# Step 4: Merge with the artists DataFrame to add artist names\n",
    "user_recommendations_with_names = pd.merge(\n",
    "    user_recommendations,\n",
    "    artists,\n",
    "    left_on=\"artistID_2\",\n",
    "    right_on=\"id\",\n",
    "    how=\"inner\"\n",
    ").rename(columns={\"name\": \"artist_name\"})\n",
    "\n",
    "# Step 5: Sort the recommendations by average similarity in descending order\n",
    "user_recommendations_with_names = user_recommendations_with_names.sort_values(\n",
    "    by=\"avg_similarity\", ascending=False\n",
    ")\n",
    "\n",
    "# Step 6: Display the top recommendations\n",
    "print(user_recommendations_with_names[[\"artistID_2\", \"artist_name\", \"avg_similarity\"]].head(10))\n"
   ]
  }
 ],
 "metadata": {
  "kernelspec": {
   "display_name": "base",
   "language": "python",
   "name": "python3"
  },
  "language_info": {
   "codemirror_mode": {
    "name": "ipython",
    "version": 3
   },
   "file_extension": ".py",
   "mimetype": "text/x-python",
   "name": "python",
   "nbconvert_exporter": "python",
   "pygments_lexer": "ipython3",
   "version": "3.11.5"
  }
 },
 "nbformat": 4,
 "nbformat_minor": 2
}
