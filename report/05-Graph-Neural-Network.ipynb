{
 "cells": [
  {
   "cell_type": "markdown",
   "metadata": {},
   "source": [
    "# Graph Neural Network"
   ]
  },
  {
   "cell_type": "markdown",
   "metadata": {},
   "source": [
    "## 0: Introducing the Model\n",
    "\n",
    "We have already laid out the basic idea of Graph Neural Networks (GNNs) in the introduction, and as such we will instead introduce a useful variant, known as Graph Convolutional Networks (GCNs). GCNs are the most prevelant and broadly applied model of GNNs, [1] which are able to leverage both the information of the nodes and their locality to make predictions [2]. They do this using a convolution layer, which merges the features of a node with those of its neighbours. The most common method of recommender systems used with GCNs is Collaborative Filtering, where user's past interactions and connections to other users is used to make predictions. The main way it does this is through learning latent features (or an embedding) for each user and item node. GCNs then update this embedding by propagating information across the graph:\n",
    "\n",
    "Let $\\mathbf{e}_u^{(0)}$ denote the user embedding of user $u$, and $\\mathbf{e}_i^{(0)}$ the item embedding of item $i$. Then after $k$ layers of propagation, we have:\n",
    "\n",
    "$$\\mathbf{e}_u^{(k+1)} = \\sigma \\left( \\mathbf{W}_1 \\mathbf{e}_u^{(k)} + \\sum_{i\\in \\mathcal{N}_u} \\frac{1}{\\sqrt{|\\mathcal{N}_u||\\mathcal{N}_i|}} (\\mathbf{W}_1\\mathbf{e}_u^{(k)} + \\mathbf{W}_2(\\mathbf{e}_i^{(k)}\\odot \\mathbf{e}_u^{(k)}))\\right)$$\n",
    "\n",
    "and a similar equation for $\\mathbf{e}_i^{(k+1)}$ [3]. In this equation, $\\sigma$ is the nonlinear activation function (e.g. ReLU), $\\mathcal{N}_u$ denotes the set of items that are interacted with by user $u$, and similar for $\\mathcal{N}_i$ and item $i$. $\\mathbf{W}_1$ and $\\mathbf{W}_2$ are trainable weight matrices used to perform feature transformations in each layer.\n",
    "\n",
    "These equations represent the basic building block of most GCNs, however after recent investigations as published in paper [3], it was discovered that for recommendation systems in particular, both the activation function, $\\sigma$, and the feature transformation matrices, $\\mathbf{W}_1, \\mathbf{W}_2$, have little influence on the model and in fact make the predictions worse in some situations. As such a new model was suggested that stripped these parts for a much simpler propogation method:\n",
    "\n",
    "$$\\mathbf{e}_u^{(k+1)} = \\sum_{i\\in \\mathcal{N}_u} \\frac{1}{\\sqrt{|\\mathcal{N}_u||\\mathcal{N}_i|}} \\mathbf{e}_i^{(k)}$$\n",
    "\n",
    "$$\\mathbf{e}_i^{(k+1)} = \\sum_{u\\in \\mathcal{N}_i} \\frac{1}{\\sqrt{|\\mathcal{N}_i||\\mathcal{N}_u|}} \\mathbf{e}_u^{(k)}$$\n",
    "\n",
    "This model is known as LightGCN, and was shown to perform better in most cases than the other prevalent GCN and GNN models for recommendation systems. This goes to show that more complicated is not always better, which carries over to data at scale. Sometimes one of the best ways to deal with big data is to make sure your model isn't performing unnecessary calculations.\n",
    "\n",
    "LightGCN is still among the best models for collaborative filtering in recommender systems, and as such is the one that we will consider here."
   ]
  },
  {
   "cell_type": "markdown",
   "metadata": {},
   "source": [
    "---"
   ]
  },
  {
   "cell_type": "markdown",
   "metadata": {},
   "source": [
    "## 1: Importing Modules, Requirements, and Reading Data"
   ]
  },
  {
   "cell_type": "markdown",
   "metadata": {},
   "source": [
    "### Requirements\n",
    "\n",
    "Module requirements are listed below. Other requirements are a bit more tricky which will be spoken about here.\n",
    "\n",
    "In order to implement GPU usage, a NVIDIA toolkit known as CUDA is required which is only available on Linux and Windows. This document uses CUDA 12.4, with Python 3.11.8, but should work on newer versions of Python. When using CUDA on Windows, a special install of PyTorch is required. To install CUDA and PyTorch please visit:\n",
    "\n",
    "* CUDA can be found at https://developer.nvidia.com/cuda-12-4-0-download-archive.\n",
    "* PyTorch can be found at https://pytorch.org/get-started/locally/\n",
    "\n",
    "The models will still run without CUDA installed but will likely take longer as they must run on the CPU, however the final section looking at GPU memory usage will not be able to run without CUDA."
   ]
  },
  {
   "cell_type": "code",
   "execution_count": null,
   "metadata": {},
   "outputs": [],
   "source": [
    "# Run this cell to automatically generate requirements\n",
    "\n",
    "!pip install pipreqsnb\n",
    "\n",
    "!pipreqsnb --savepath report/requirements/06-requirements.txt --encoding utf-8 report/06-Graph-Neural-Network.ipynb\n",
    "!pipreqsnb --savepath report/requirements/LightGCN-requirements.txt --encoding utf-8 scripts/LightGCN"
   ]
  },
  {
   "cell_type": "code",
   "execution_count": null,
   "metadata": {},
   "outputs": [
    {
     "name": "stdout",
     "output_type": "stream",
     "text": [
      "REQUIREMENTS for 06-Graph-Neural-Networks.ipynb:\n",
      "\n",
      "ipython==8.12.3\n",
      "matplotlib==3.9.2\n",
      "pandas==2.2.3\n",
      "Requests==2.32.3\n",
      "scikit_learn==1.5.2\n",
      "torch==2.4.1\n",
      "\n",
      "REQUIREMENTS to run LightGCN scripts:\n",
      "\n",
      "cppimport==22.8.2\n",
      "numpy==2.1.3\n",
      "pandas==2.2.3\n",
      "scikit_learn==1.5.2\n",
      "scipy==1.14.1\n",
      "tensorboardX==2.6.2.2\n",
      "tensorboardX==2.6.2.2\n",
      "torch==2.4.1\n",
      "tqdm==4.66.5\n",
      "\n"
     ]
    }
   ],
   "source": [
    "import os\n",
    "\n",
    "print(\"REQUIREMENTS for 06-Graph-Neural-Networks.ipynb:\\n\")\n",
    "with open(os.path.join('..','report','requirements','06-requirements.txt')) as f:\n",
    "    print(f.read())\n",
    "\n",
    "print(\"REQUIREMENTS to run LightGCN scripts:\\n\")\n",
    "with open(os.path.join('..','report','requirements','LightGCN-requirements.txt')) as f:\n",
    "    print(f.read())"
   ]
  },
  {
   "cell_type": "code",
   "execution_count": null,
   "metadata": {},
   "outputs": [],
   "source": [
    "# Run this cell to automatically install requirements from saves .txt files\n",
    "\n",
    "!pip install -r report/requirements/06-requirements.txt\n",
    "!pip install -r report/requirements/LightGCN-requirements.txt"
   ]
  },
  {
   "cell_type": "code",
   "execution_count": null,
   "metadata": {},
   "outputs": [],
   "source": [
    "import pandas as pd\n",
    "import matplotlib.pyplot as plt\n",
    "import os\n",
    "import sys\n",
    "import torch\n",
    "import requests\n",
    "import io\n",
    "import contextlib\n",
    "from sklearn.model_selection import train_test_split\n",
    "from IPython import get_ipython\n",
    "\n",
    "sys.path.append(os.path.join('..','scripts'))\n",
    "\n",
    "import GraphFuncs as gf # Script containing some useful functions, written for GNN"
   ]
  },
  {
   "cell_type": "code",
   "execution_count": 2,
   "metadata": {},
   "outputs": [],
   "source": [
    "artists = pd.read_csv(os.path.join('..','data','artists.dat'), delimiter='\\t')\n",
    "tags = pd.read_csv(os.path.join('..','data','tags.dat'), delimiter='\\t',encoding='ISO-8859-1')\n",
    "user_artists = pd.read_csv(os.path.join('..','data','user_artists.dat'), delimiter='\\t')\n",
    "user_friends = pd.read_csv(os.path.join('..','data','user_friends.dat'), delimiter='\\t')\n",
    "user_taggedartists_timestamps = pd.read_csv(os.path.join('..','data','user_taggedartists-timestamps.dat'), delimiter='\\t')\n",
    "user_taggedartists = pd.read_csv(os.path.join('..','data','user_taggedartists.dat'), delimiter='\\t')"
   ]
  },
  {
   "cell_type": "markdown",
   "metadata": {},
   "source": [
    "---"
   ]
  },
  {
   "cell_type": "markdown",
   "metadata": {},
   "source": [
    "## 2: Deciding the Question\n",
    "\n",
    "The goal of a recommender system is to try to predict which items a user will like, and then give them recommendations based on this. In this section, for our dataset, we will look at the goal of predicting whether or not a user will like an artist. To achieve this, we will create an 80-20 training-testing split of the data. We have seen that for most users, the `user_artist` dataset contains their top 50 artists, so we will take 40 of them for each user at random, and isolate the other 10 to use as testing data. We will then train a GNN on the 40 artists in the training dataset, and evaluate the model by seeing how it predicts if the user will like the 10 artists in the testing data. If the model performs well on this target, then we could use the model to predict whether or not a user will like an artist not contained in their 50 artists."
   ]
  },
  {
   "cell_type": "markdown",
   "metadata": {},
   "source": [
    "---"
   ]
  },
  {
   "cell_type": "markdown",
   "metadata": {},
   "source": [
    "## 3: Creating the Train-Test Split\n",
    "\n",
    "In order to create the train-test split we will use the Scikit-learn module, which has a built in function for it. It also has a built in `stratify` parameter, which allows us to specify that the data should be split whilst keeping the proportion of data the same for each user, i.e. what we described above. However this requires that each user has atleast 2 artist data entries, but we see that this is not the case:"
   ]
  },
  {
   "cell_type": "code",
   "execution_count": 3,
   "metadata": {},
   "outputs": [
    {
     "name": "stdout",
     "output_type": "stream",
     "text": [
      "[112, 615, 1013, 1307, 1603, 1731, 1758, 2085]\n"
     ]
    }
   ],
   "source": [
    "users = user_artists['userID'].unique()\n",
    "singleartistusers = [int(user) for user in users if len(gf.get_artists(user,user_artists)) == 1]\n",
    "print(singleartistusers)"
   ]
  },
  {
   "cell_type": "markdown",
   "metadata": {},
   "source": [
    "We see that there are 8 users with only 1 artist data entry. As such we remove those, create the train-test split, and then re-add those users back to the training data:"
   ]
  },
  {
   "cell_type": "code",
   "execution_count": 4,
   "metadata": {},
   "outputs": [],
   "source": [
    "# Isolate the rows of data for the users which only have one artist data point.\n",
    "singleartistusersdf = user_artists[user_artists['userID'].isin(singleartistusers)]\n",
    "# Take the rest of the data into a temp df\n",
    "user_artists_temp = user_artists[~user_artists['userID'].isin(singleartistusers)]\n",
    "\n",
    "# Create the train-test split using this temp df\n",
    "user_artists_train, user_artists_test = train_test_split(user_artists_temp,\n",
    "                                                          test_size = 0.2, \n",
    "                                                          stratify = user_artists_temp['userID'], \n",
    "                                                          random_state = 47)\n",
    "\n",
    "# Concat the dfs back together\n",
    "user_artists_train = pd.concat([user_artists_train,singleartistusersdf])"
   ]
  },
  {
   "cell_type": "markdown",
   "metadata": {},
   "source": [
    "Then we save the datasets as text files so that the model can access them."
   ]
  },
  {
   "cell_type": "code",
   "execution_count": 5,
   "metadata": {},
   "outputs": [],
   "source": [
    "dfs = [user_artists_train, user_artists_test, user_friends]\n",
    "\n",
    "filepath = os.path.join('..','data','GNN')\n",
    "if not os.path.exists(filepath):\n",
    "    os.makedirs(filepath)\n",
    "\n",
    "for df in dfs:\n",
    "    df.to_csv(os.path.join(filepath,gf.get_df_name(df, globals()) + '.txt'),sep='\\t',header=False,index=False)"
   ]
  },
  {
   "cell_type": "markdown",
   "metadata": {},
   "source": [
    "---"
   ]
  },
  {
   "cell_type": "markdown",
   "metadata": {},
   "source": [
    "## 4: Exploring the Model\n",
    "\n",
    "In order to use the LightGCN model, we have downloaded the scripts from the GitHub repository [4] associated with the paper [3] that suggested the model. This repository already had a Last.fm dataset built in, however it is different to ours and as such we must alter the code to run to our needs. This mostly involved adding a new class in the `dataloader.py` script, known as LastFM2, which was done by duplicating and altering the already existing LastFM class."
   ]
  },
  {
   "cell_type": "code",
   "execution_count": 6,
   "metadata": {},
   "outputs": [
    {
     "name": "stdout",
     "output_type": "stream",
     "text": [
      "class LastFM2(BasicDataset):\n",
      "    \"\"\"\n",
      "    Dataset type for pytorch\n",
      "    LastFM dataset 2\n",
      "    \"\"\"\n",
      "    def __init__(self, path=os.path.join('..','data','GNN')):\n",
      "        # train or test\n",
      "        cprint(\"loading [last fm 2]\")\n",
      "        self.mode_dict = {'train':0, \"test\":1}\n",
      "        self.mode    = self.mode_dict['train']\n",
      "        # self.n_users = 2100\n",
      "        # self.m_items = 18745\n",
      "        trainData = pd.read_table(join(path, 'user_artists_train.txt'), header=None)\n",
      "        #print(trainData.head())\n",
      "        testData  = pd.read_table(join(path, 'user_artists_test.txt'), header=None)\n",
      "        #print(testData.head())\n",
      "        trustNet  = pd.read_table(join(path, 'user_friends.txt'), header=None).to_numpy()\n",
      "        #print(trustNet[:5])\n",
      "        trustNet -= 1\n",
      "        trainData-= 1\n",
      "        testData -= 1\n",
      "        self.trustNet  = trustNet\n",
      "        self.trainData = trainData\n",
      "        self.testData  = testData\n",
      "        self.trainUser = np.array(trainData[:][0])\n",
      "        self.trainUniqueUsers = np.unique(self.trainU \n",
      "Output Truncated.\n"
     ]
    }
   ],
   "source": [
    "with open(os.path.join('..','scripts','LightGCN','dataloader.py')) as file:\n",
    "    content = file.read()\n",
    "    start = content.index('class LastFM2')\n",
    "    print(content[start:start+1000] + ' \\nOutput Truncated.')"
   ]
  },
  {
   "cell_type": "markdown",
   "metadata": {},
   "source": [
    "We have also made other alterations to the code to suit our needs for the model. These changes will be annotated in the scripts themselves with comments starting with 'SH8'.\n",
    "\n",
    "The downloaded scripts are contained in the `../scripts/LightGCN` directory."
   ]
  },
  {
   "cell_type": "markdown",
   "metadata": {},
   "source": [
    "---"
   ]
  },
  {
   "cell_type": "markdown",
   "metadata": {},
   "source": [
    "## 5: Testing the Model\n",
    "\n",
    "To run the model, we use the `%run` magic command to access and run the script. Here we will run a small test of 10 epochs just to check that the model is working correctly. An epoch is a single run of the data through the algorithm. The more epochs we run, the better trained the model will be."
   ]
  },
  {
   "cell_type": "code",
   "execution_count": null,
   "metadata": {},
   "outputs": [
    {
     "name": "stdout",
     "output_type": "stream",
     "text": [
      "Verbose = True\n",
      "Device used is cpu.\n",
      "\u001b[0;30;43mCpp extension not loaded\u001b[0m\n",
      ">>SEED: 3\n",
      "\u001b[0;30;43mloading [last fm 2]\u001b[0m\n",
      "LastFm2 Sparsity : 0.00235706955576828\n",
      "===========config================\n",
      "{'A_n_fold': 100,\n",
      " 'A_split': False,\n",
      " 'bigdata': False,\n",
      " 'bpr_batch_size': 2048,\n",
      " 'decay': 0.0001,\n",
      " 'dropout': 0,\n",
      " 'keep_prob': 0.6,\n",
      " 'latent_dim_rec': 64,\n",
      " 'lightGCN_n_layers': 3,\n",
      " 'lr': 0.001,\n",
      " 'multicore': 0,\n",
      " 'pretrain': 0,\n",
      " 'test_u_batch_size': 100}\n",
      "cores for test: 8\n",
      "comment: lgn\n",
      "tensorboard: 1\n",
      "LOAD: 0\n",
      "Weight path: ./checkpoints\n",
      "Test Topks: [20]\n",
      "using bpr loss\n",
      "===========end===================\n",
      "Device used is cpu.\n",
      "\u001b[0;30;43mCpp extension not loaded\u001b[0m\n",
      "\u001b[0;30;43mloading [last fm 2]\u001b[0m\n",
      "LastFm2 Sparsity : 0.00235706955576828\n",
      "===========config================\n",
      "{'A_n_fold': 100,\n",
      " 'A_split': False,\n",
      " 'bigdata': False,\n",
      " 'bpr_batch_size': 2048,\n",
      " 'decay': 0.0001,\n",
      " 'dropout': 0,\n",
      " 'keep_prob': 0.6,\n",
      " 'latent_dim_rec': 64,\n",
      " 'lightGCN_n_layers': 3,\n",
      " 'lr': 0.001,\n",
      " 'multicore': 0,\n",
      " 'pretrain': 0,\n",
      " 'test_u_batch_size': 100}\n",
      "cores for test: 8\n",
      "comment: lgn\n",
      "tensorboard: 1\n",
      "LOAD: 0\n",
      "Weight path: ./checkpoints\n",
      "Test Topks: [20]\n",
      "using bpr loss\n",
      "===========end===================\n",
      "\u001b[0;30;43muse NORMAL distribution initilizer\u001b[0m\n"
     ]
    },
    {
     "name": "stderr",
     "output_type": "stream",
     "text": [
      "C:\\Users\\Sheri\\Documents\\GitHub\\dst-assessment-2\\scripts\\LightGCN\\dataloader.py:490: UserWarning: torch.sparse.SparseTensor(indices, values, shape, *, device=) is deprecated.  Please use torch.sparse_coo_tensor(indices, values, shape, dtype=, device=). (Triggered internally at C:\\actions-runner\\_work\\pytorch\\pytorch\\builder\\windows\\pytorch\\torch\\csrc\\utils\\tensor_new.cpp:653.)\n",
      "  self.Graph = torch.sparse.IntTensor(index, data, torch.Size([self.n_users+self.m_items, self.n_users+self.m_items]))\n"
     ]
    },
    {
     "name": "stdout",
     "output_type": "stream",
     "text": [
      "lgn is already to go(dropout:0)\n",
      "load and save to C:\\Users\\Sheri\\Documents\\GitHub\\dst-assessment-2\\scripts\\code\\checkpoints\\lgn-lastfm2-3-64-3.pth.tar\n",
      "\u001b[0;30;43m[TEST]\u001b[0m\n",
      "{'precision': array([0.00055792]), 'recall': array([0.00112174]), 'ndcg': array([0.00072005])}\n",
      "EPOCH[10/10] loss0.205-|Sample:0.69|\u001b[0;30;43m[TEST]\u001b[0m\n",
      "{'precision': array([0.06657811]), 'recall': array([0.13601918]), 'ndcg': array([0.13879479])}\n",
      "Total time taken: 85.10709691047668\n",
      "Training time: 74.0718719959259\n"
     ]
    }
   ],
   "source": [
    "%run -i ../scripts/LightGCN/main.py --seed=3 --dataset=\"lastfm2\" --epochs=10 --device=CPU"
   ]
  },
  {
   "cell_type": "markdown",
   "metadata": {},
   "source": [
    "We see that even just for 10 epochs, the model takes a very long time to train (around 75 seconds in our tests). This is because we are running it on the device's CPU. When it comes to machine learning, and especially for big datasets, running the model on the CPU is usually very slow and not ideal. Instead a GPU is often used since GPUs are designed to perform many parallel operations, which is very useful for training neural network models on large datasets. PyTorch and other frameworks for neural networks have this feature built in, and with the help of the CUDA platform we can efficiently use a GPU to run the models if one is available. CUDA is a platform published by NVIDIA which allows for general-purpose processing on their GPUs [5,6]. This section will use CUDA 12.4 to run the model on a NVIDIA RTX 3060 Ti GPU:"
   ]
  },
  {
   "cell_type": "code",
   "execution_count": null,
   "metadata": {},
   "outputs": [
    {
     "name": "stdout",
     "output_type": "stream",
     "text": [
      "Verbose = True\n",
      ">>SEED: 3\n",
      "Device used is cuda.\n",
      "\u001b[0;30;43mCpp extension not loaded\u001b[0m\n",
      "\u001b[0;30;43mloading [last fm 2]\u001b[0m\n",
      "LastFm2 Sparsity : 0.00235706955576828\n",
      "===========config================\n",
      "{'A_n_fold': 100,\n",
      " 'A_split': False,\n",
      " 'bigdata': False,\n",
      " 'bpr_batch_size': 2048,\n",
      " 'decay': 0.0001,\n",
      " 'dropout': 0,\n",
      " 'keep_prob': 0.6,\n",
      " 'latent_dim_rec': 64,\n",
      " 'lightGCN_n_layers': 3,\n",
      " 'lr': 0.001,\n",
      " 'multicore': 0,\n",
      " 'pretrain': 0,\n",
      " 'test_u_batch_size': 100}\n",
      "cores for test: 8\n",
      "comment: lgn\n",
      "tensorboard: 1\n",
      "LOAD: 0\n",
      "Weight path: ./checkpoints\n",
      "Test Topks: [20]\n",
      "using bpr loss\n",
      "===========end===================\n",
      "\u001b[0;30;43muse NORMAL distribution initilizer\u001b[0m\n",
      "lgn is already to go(dropout:0)\n",
      "load and save to C:\\Users\\Sheri\\Documents\\GitHub\\dst-assessment-2\\scripts\\code\\checkpoints\\lgn-lastfm2-3-64-3.pth.tar\n",
      "\u001b[0;30;43m[TEST]\u001b[0m\n",
      "{'precision': array([0.00055792]), 'recall': array([0.00112174]), 'ndcg': array([0.00072005])}\n",
      "EPOCH[10/10] loss0.205-|Sample:0.83|\u001b[0;30;43m[TEST]\u001b[0m\n",
      "{'precision': array([0.06657811]), 'recall': array([0.13601918]), 'ndcg': array([0.13879468])}\n",
      "Total time taken: 17.547926902770996\n",
      "Training time: 11.857393503189087\n"
     ]
    }
   ],
   "source": [
    "%run -i ../scripts/LightGCN/main.py --seed=3 --dataset=\"lastfm2\" --epochs=10 --device=GPU"
   ]
  },
  {
   "cell_type": "markdown",
   "metadata": {},
   "source": [
    "In our tests, we have seen that on a GPU, the time taken has gone from around 75 seconds to just 20 seconds (and training time reduced from around 65 to around 12). A significant time improvement, especially if we want to run the models for more epochs, which we often will. For this model, we often want to run the model for hundreds or possibly even a thousand epochs."
   ]
  },
  {
   "cell_type": "code",
   "execution_count": 9,
   "metadata": {},
   "outputs": [],
   "source": [
    "os.remove(os.path.join('..','scripts','LightGCN','results','results_l3_rd64_lr0.001_3.csv'))"
   ]
  },
  {
   "cell_type": "markdown",
   "metadata": {},
   "source": [
    "---"
   ]
  },
  {
   "cell_type": "markdown",
   "metadata": {},
   "source": [
    "## 6: Tuning the Model\n",
    "\n",
    "LightGCN has a few parameters that we may want to tune. This includes but is not limited to:\n",
    "\n",
    "* The number of layers: `--layer`. In a GCN the number of layers represents how far we want information to propagate across the graph. 1 layer means that a node will only receive information from its direct neighbours, whilst 2 layers would provide information from a node's neighbour's neighbours as well, and so on.\n",
    "* The embedding size of the nodes: `--recdim`. This represents the number of features each node embedding has, essentially dictating the capacity of information that each node can hold.\n",
    "* The learning rate: `--lr`, i.e. how much the model is adjusted with respect to the loss function during training. A high learning rate might make the model converge quickly to a solution, but this solution may not be optimal. A lower learning rate means the model might take a long time or get stuck in a local minima.\n",
    "\n",
    "To better investigate tuning these parameters, we write a function to allow us to easily run the model whilst changing parameters, e.g. in a for loop. We do this by using the IPython module, which lets you run line magic from a string, which we can thus format:"
   ]
  },
  {
   "cell_type": "code",
   "execution_count": 10,
   "metadata": {},
   "outputs": [],
   "source": [
    "def LightGCN(decay = 1e-4, lr = 0.001, layer = 3, seed = 47, dataset = \"lastfm2\", \n",
    "             topks = 20, recdim = 64, epochs = 100, device = 'GPU', verbose = True):\n",
    "    # Create results.csv to store the performance metrics\n",
    "    resultspath = os.path.join('..','scripts','LightGCN','results')\n",
    "    if not os.path.exists(resultspath):\n",
    "        os.makedirs(resultspath)\n",
    "    filename = f'results_l{layer}_rd{recdim}_lr{lr}_{seed}.csv'\n",
    "    resultsfile = os.path.join(resultspath,filename)\n",
    "    if os.path.exists(resultsfile):\n",
    "        os.remove(resultsfile)\n",
    "    pd.DataFrame(columns=['precision','recall','ndcg']).to_csv(resultsfile)\n",
    "    # Run the model\n",
    "    get_ipython().run_line_magic('run', f'-i ../scripts/LightGCN/main.py --decay={decay}'\n",
    "                                  + f' --lr={lr} --layer={layer} --seed={seed} --dataset={dataset}'\n",
    "                                  + f' --topks=\"[{topks}]\" --recdim={recdim} --epochs={epochs}'\n",
    "                                  + f' --device={device} --verbose={verbose}')"
   ]
  },
  {
   "cell_type": "markdown",
   "metadata": {},
   "source": [
    "Since our goal is to train a model that works well to generate new predictions, we will use the testing data as validation data to evaluate the performance of the model, and then use the model to predict if a user will like artists that we do not have data on them liking.\n",
    "\n",
    "The model will be evaluated every 10 epochs on three metrics:\n",
    "\n",
    "* precision at k: This represents how many out of the top k predictions are present in the testing dataset.\n",
    "* recall at k: This represents how many of the items in the testing dataset are present in the top k predictions.\n",
    "* ndcg at k: NDCG stands for Normalized Discounted Cumulative Gain, and is a metric that compares predicted rankings of recommendations to an ideal order where all the testing datapoints are at the top of the list.\n",
    "\n",
    "These may also be written as `precision@k`, `recall@k`, and `ndcg@k`, where this k is the same as the `--topks` parameter of the model.\n",
    "\n",
    "The code below is commented out since it takes a very long time to run, but we have left it in to show what we did. We performed a manual gridsearch for the parameters, trying 36 different combinations to find which is best. We then plot the results below, first looking at how the results vary based on how many layers we had. To compare the models, we mainly consider the `recall@k`. This is because the `precision@k` is heavily limited by our `--topks` value. Since we have set `k = 20`, the maximum precision we can reach for a user is 50%, which happens if all 10 testing artists appear in the top 20 predictions. This number is even lower for those users which did not have 50 artists to begin with. On the other hand, `recall@k` just measures what percentage of the testing artists appear in the top 20 predictions, and so is not reliant on how many test artists each user had. `ndcg@k` is a useful metric but since we have not ranked the test artists it is less useful for us.\n",
    "\n",
    "In the plots below, the label names are `results_l{layers}_rd{embedding size}_lr{learning rate}_{seed}`."
   ]
  },
  {
   "cell_type": "code",
   "execution_count": 11,
   "metadata": {},
   "outputs": [],
   "source": [
    "## Commented out since it takes around 5 hours to run. Do not run again unless seeing all the way through\n",
    "## as otherwise the result csv's will be cleared and the following plots will not have the required data.\n",
    "\n",
    "# for layers in [1,2,3]:\n",
    "#     for recdims in [16,32,48,64]:\n",
    "#         for lrs in [0.1,0.01,0.001]:\n",
    "#             LightGCN(layer = layers, recdim = recdims, lr = lrs, epochs=500)"
   ]
  },
  {
   "cell_type": "code",
   "execution_count": null,
   "metadata": {},
   "outputs": [
    {
     "ename": "FileNotFoundError",
     "evalue": "[WinError 3] The system cannot find the path specified: '..\\\\scripts\\\\LightGCN\\\\results'",
     "output_type": "error",
     "traceback": [
      "\u001b[1;31m---------------------------------------------------------------------------\u001b[0m",
      "\u001b[1;31mFileNotFoundError\u001b[0m                         Traceback (most recent call last)",
      "Cell \u001b[1;32mIn[48], line 5\u001b[0m\n\u001b[0;32m      1\u001b[0m metric \u001b[38;5;241m=\u001b[39m \u001b[38;5;124m'\u001b[39m\u001b[38;5;124mrecall\u001b[39m\u001b[38;5;124m'\u001b[39m\n\u001b[0;32m      2\u001b[0m \u001b[38;5;66;03m#metric = 'precision'\u001b[39;00m\n\u001b[0;32m      3\u001b[0m \u001b[38;5;66;03m#metric = 'ndcg'\u001b[39;00m\n\u001b[1;32m----> 5\u001b[0m all_results \u001b[38;5;241m=\u001b[39m \u001b[43mos\u001b[49m\u001b[38;5;241;43m.\u001b[39;49m\u001b[43mlistdir\u001b[49m\u001b[43m(\u001b[49m\u001b[43mos\u001b[49m\u001b[38;5;241;43m.\u001b[39;49m\u001b[43mpath\u001b[49m\u001b[38;5;241;43m.\u001b[39;49m\u001b[43mjoin\u001b[49m\u001b[43m(\u001b[49m\u001b[38;5;124;43m'\u001b[39;49m\u001b[38;5;124;43m..\u001b[39;49m\u001b[38;5;124;43m'\u001b[39;49m\u001b[43m,\u001b[49m\u001b[38;5;124;43m'\u001b[39;49m\u001b[38;5;124;43mscripts\u001b[39;49m\u001b[38;5;124;43m'\u001b[39;49m\u001b[43m,\u001b[49m\u001b[38;5;124;43m'\u001b[39;49m\u001b[38;5;124;43mLightGCN\u001b[39;49m\u001b[38;5;124;43m'\u001b[39;49m\u001b[43m,\u001b[49m\u001b[38;5;124;43m'\u001b[39;49m\u001b[38;5;124;43mresults\u001b[39;49m\u001b[38;5;124;43m'\u001b[39;49m\u001b[43m)\u001b[49m\u001b[43m)\u001b[49m\n\u001b[0;32m      6\u001b[0m results \u001b[38;5;241m=\u001b[39m [x \u001b[38;5;28;01mfor\u001b[39;00m x \u001b[38;5;129;01min\u001b[39;00m all_results \u001b[38;5;28;01mif\u001b[39;00m \u001b[38;5;124m'\u001b[39m\u001b[38;5;124m_47\u001b[39m\u001b[38;5;124m'\u001b[39m \u001b[38;5;129;01min\u001b[39;00m x]\n\u001b[0;32m      8\u001b[0m fig \u001b[38;5;241m=\u001b[39m plt\u001b[38;5;241m.\u001b[39mfigure()\n",
      "\u001b[1;31mFileNotFoundError\u001b[0m: [WinError 3] The system cannot find the path specified: '..\\\\scripts\\\\LightGCN\\\\results'"
     ]
    }
   ],
   "source": [
    "metric = 'recall'\n",
    "#metric = 'precision'\n",
    "#metric = 'ndcg'\n",
    "\n",
    "all_results = os.listdir(os.path.join('..','scripts','LightGCN','results'))\n",
    "results = [x for x in all_results if '_47' in x]\n",
    "\n",
    "fig = plt.figure()\n",
    "results1 = []\n",
    "for result in results:\n",
    "    if 'l1' in result:\n",
    "        results1.append(result)\n",
    "        resultdf = pd.read_csv(os.path.join('..','scripts','LightGCN','results',result),index_col='Unnamed: 0')\n",
    "        plt.plot(resultdf[metric])\n",
    "plt.legend(results1, loc='center left',bbox_to_anchor=(1, 0.5))\n",
    "plt.title(f'1 Layer - {metric}@20')\n",
    "plt.xlim((-10,500))\n",
    "plt.xlabel('Epoch')\n",
    "plt.show()\n",
    "\n",
    "fig = plt.figure()\n",
    "results2 = []\n",
    "for result in results:\n",
    "    if 'l2' in result:\n",
    "        results2.append(result)\n",
    "        resultdf = pd.read_csv(os.path.join('..','scripts','LightGCN','results',result),index_col='Unnamed: 0')\n",
    "        plt.plot(resultdf[metric])\n",
    "plt.legend(results2, loc='center left',bbox_to_anchor=(1, 0.5))\n",
    "plt.title(f'2 Layers - {metric}@20')\n",
    "plt.xlim((-10,500))\n",
    "plt.xlabel('Epoch')\n",
    "plt.show()\n",
    "\n",
    "fig = plt.figure()\n",
    "results3 = []\n",
    "for result in results:\n",
    "    if 'l3' in result:\n",
    "        results3.append(result)\n",
    "        resultdf = pd.read_csv(os.path.join('..','scripts','LightGCN','results',result),index_col='Unnamed: 0')\n",
    "        plt.plot(resultdf[metric])\n",
    "plt.legend(results3, loc='center left',bbox_to_anchor=(1, 0.5))\n",
    "plt.title(f'3 Layers - {metric}@20')\n",
    "plt.xlim((-10,500))\n",
    "plt.xlabel('Epoch')\n",
    "plt.show()"
   ]
  },
  {
   "cell_type": "markdown",
   "metadata": {},
   "source": [
    "We see that across the board, the model represented by the light blue line achieves the best outcome. This is the model with `--recdim = 64` and `--lr = 0.001`. We will now compare the score for this model across the layer counts."
   ]
  },
  {
   "cell_type": "code",
   "execution_count": 13,
   "metadata": {},
   "outputs": [
    {
     "data": {
      "image/png": "[encoded data removed]",
      "text/plain": [
       "<Figure size 640x480 with 1 Axes>"
      ]
     },
     "metadata": {},
     "output_type": "display_data"
    }
   ],
   "source": [
    "metric = 'recall'\n",
    "#metric = 'precision'\n",
    "#metric = 'ndcg'\n",
    "\n",
    "all_results = os.listdir(os.path.join('..','scripts','LightGCN','results'))\n",
    "results = [x for x in all_results if '_47' in x]\n",
    "\n",
    "fig = plt.figure()\n",
    "results1 = []\n",
    "for result in results:\n",
    "    if 'rd64_lr0.001' in result:\n",
    "        results1.append(result)\n",
    "        resultdf = pd.read_csv(os.path.join('..','scripts','LightGCN','results',result),index_col='Unnamed: 0')\n",
    "        plt.plot(resultdf[metric])\n",
    "plt.legend(results1,loc='lower right')\n",
    "plt.title(f'rd64_lr0.001 - {metric}@20')\n",
    "plt.xlim((-10,500))\n",
    "plt.xlabel('Epoch')\n",
    "plt.show()"
   ]
  },
  {
   "cell_type": "markdown",
   "metadata": {},
   "source": [
    "We see that in the long run, the model with 3 layers manages to achieve the greatest recall, and whilst it is not shown above it actually achieves the best results in all three metrics. As such the model we will use for making further predictions will be this one, with 3 layers, 64 features for each embedding, and a learning rate of 0.001."
   ]
  },
  {
   "cell_type": "markdown",
   "metadata": {},
   "source": [
    "---"
   ]
  },
  {
   "cell_type": "markdown",
   "metadata": {},
   "source": [
    "## 7: Running the Final Model\n",
    "\n",
    "We will now run the final model as decided on in the previous section. We will run it for 1000 epochs to ensure it is fully trained."
   ]
  },
  {
   "cell_type": "code",
   "execution_count": 17,
   "metadata": {},
   "outputs": [
    {
     "name": "stdout",
     "output_type": "stream",
     "text": [
      "Verbose = False\n",
      ">>SEED: 47\n",
      "Device used is cuda.\n",
      "\u001b[0;30;43mCpp extension not loaded\u001b[0m\n",
      "\u001b[0;30;43mloading [last fm 2]\u001b[0m\n",
      "LastFm2 Sparsity : 0.00235706955576828\n",
      "\u001b[0;30;43muse NORMAL distribution initilizer\u001b[0m\n",
      "lgn is already to go(dropout:0)\n",
      "load and save to C:\\Users\\Sheri\\Documents\\GitHub\\dst-assessment-2\\scripts\\code\\checkpoints\\lgn-lastfm2-3-64-47.pth.tar\n",
      "\u001b[0;30;43m[TEST]\u001b[0m\n",
      "{'precision': array([0.00026567]), 'recall': array([0.00053135]), 'ndcg': array([0.00040668])}\n",
      "EPOCH[100/1000] loss0.037-|Sample:0.67|\u001b[0;30;43m[TEST]\u001b[0m\n",
      "{'precision': array([0.10977683]), 'recall': array([0.22285605]), 'ndcg': array([0.22166219])}\n",
      "EPOCH[200/1000] loss0.018-|Sample:0.82|\u001b[0;30;43m[TEST]\u001b[0m\n",
      "{'precision': array([0.12191817]), 'recall': array([0.24783454]), 'ndcg': array([0.2491156])}\n",
      "EPOCH[300/1000] loss0.014-|Sample:0.82|\u001b[0;30;43m[TEST]\u001b[0m\n",
      "{'precision': array([0.12938363]), 'recall': array([0.26276884]), 'ndcg': array([0.26270338])}\n",
      "EPOCH[400/1000] loss0.011-|Sample:0.68|\u001b[0;30;43m[TEST]\u001b[0m\n",
      "{'precision': array([0.13265143]), 'recall': array([0.26936263]), 'ndcg': array([0.26912709])}\n",
      "EPOCH[500/1000] loss0.010-|Sample:0.69|\u001b[0;30;43m[TEST]\u001b[0m\n",
      "{'precision': array([0.13429862]), 'recall': array([0.27266438]), 'ndcg': array([0.27246493])}\n",
      "EPOCH[600/1000] loss0.009-|Sample:0.85|\u001b[0;30;43m[TEST]\u001b[0m\n",
      "{'precision': array([0.13552072]), 'recall': array([0.27504449]), 'ndcg': array([0.27480315])}\n",
      "EPOCH[700/1000] loss0.008-|Sample:0.93|\u001b[0;30;43m[TEST]\u001b[0m\n",
      "{'precision': array([0.13528162]), 'recall': array([0.27461182]), 'ndcg': array([0.2765759])}\n",
      "EPOCH[800/1000] loss0.008-|Sample:0.71|\u001b[0;30;43m[TEST]\u001b[0m\n",
      "{'precision': array([0.13647715]), 'recall': array([0.27719519]), 'ndcg': array([0.27864811])}\n",
      "EPOCH[900/1000] loss0.007-|Sample:0.68|\u001b[0;30;43m[TEST]\u001b[0m\n",
      "{'precision': array([0.13639745]), 'recall': array([0.27729387]), 'ndcg': array([0.2790266])}\n",
      "EPOCH[1000/1000] loss0.008-|Sample:0.68|\u001b[0;30;43m[TEST]\u001b[0m\n",
      "{'precision': array([0.1370085]), 'recall': array([0.27828066]), 'ndcg': array([0.27953316])}\n",
      "Total time taken: 1041.046865940094\n",
      "Training time: 1035.2578852176666\n"
     ]
    }
   ],
   "source": [
    "# Runs in about 17 mins\n",
    "LightGCN(lr = 0.001, layer = 3, recdim = 64, epochs = 1000, verbose = False)"
   ]
  },
  {
   "cell_type": "code",
   "execution_count": 18,
   "metadata": {},
   "outputs": [
    {
     "data": {
      "image/png": "[encoded data removed]",
      "text/plain": [
       "<Figure size 640x480 with 1 Axes>"
      ]
     },
     "metadata": {},
     "output_type": "display_data"
    }
   ],
   "source": [
    "finalresults = pd.read_csv(os.path.join('..','scripts','LightGCN','results','results_l3_rd64_lr0.001_47.csv'), index_col='Unnamed: 0')\n",
    "\n",
    "plt.figure()\n",
    "plt.plot(finalresults.index, finalresults['precision'])\n",
    "plt.plot(finalresults.index, finalresults['recall'])\n",
    "plt.plot(finalresults.index, finalresults['ndcg'])\n",
    "plt.title('Final Model Performance')\n",
    "plt.xlabel('Epoch')\n",
    "plt.legend(['precision@20','recall@20','ndcg@20'])\n",
    "plt.show()"
   ]
  },
  {
   "cell_type": "markdown",
   "metadata": {},
   "source": [
    "---"
   ]
  },
  {
   "cell_type": "markdown",
   "metadata": {},
   "source": [
    "## 8: Getting Recommendations\n",
    "\n",
    "In order to use our trained model to make predictions, we can load the checkpoint of the model that is created after training. We can then input a user and some artists to see how the model predicts the user will like those artists. Or we can just input a user and get the top recommendations for them."
   ]
  },
  {
   "cell_type": "code",
   "execution_count": 19,
   "metadata": {},
   "outputs": [
    {
     "name": "stdout",
     "output_type": "stream",
     "text": [
      "\u001b[0;30;43muse NORMAL distribution initilizer\u001b[0m\n",
      "lgn is already to go(dropout:0)\n"
     ]
    },
    {
     "data": {
      "text/plain": [
       "<All keys matched successfully>"
      ]
     },
     "execution_count": 19,
     "metadata": {},
     "output_type": "execute_result"
    }
   ],
   "source": [
    "## Model needs to be run atleast once so that the scripts can be called like this.\n",
    "## Run the next two lines if a full run has not been previously done. Should take 10 seconds at most.\n",
    "# LightGCN(epochs=1,seed=99,verbose=False)\n",
    "# os.remove(os.path.join('..','scripts','LightGCN','results','results_l3_rd64_lr0.001_99.csv'))\n",
    "\n",
    "Recmodel = register.MODELS[world.model_name](world.config, dataset).to('cuda')\n",
    "checkpoint = torch.load('../scripts/code/checkpoints/lgn-lastfm2-3-64-47.pth.tar')\n",
    "Recmodel.load_state_dict(checkpoint)"
   ]
  },
  {
   "cell_type": "code",
   "execution_count": 20,
   "metadata": {},
   "outputs": [],
   "source": [
    "def recommend_top_k(model, user_id, artist_ids, top_k=10, verbose = False):\n",
    "    \"\"\"Gets the top k artist recommendations for a given user.\"\"\"\n",
    "    GPU = torch.cuda.is_available()\n",
    "    device2 = torch.device('cuda' if GPU else 'cpu')\n",
    "    if verbose:\n",
    "        print(f'Device used is {device2}.')\n",
    "    user_tensor = torch.tensor([user_id]).to(device2)\n",
    "    recommendations = []\n",
    "    artist_tensor = torch.tensor(artist_ids).to(device2)\n",
    "    recommendation_scores = model(user_tensor, artist_tensor)\n",
    "    recommendations = [(artist_id, score.item()) for artist_id, score in zip(artist_ids, recommendation_scores)]\n",
    "    recommendations.sort(key=lambda x: x[1], reverse=True)\n",
    "    top_recommendations = recommendations[:top_k]\n",
    "    return top_recommendations\n",
    "\n",
    "def test_user_predictions(model, userID : int, verbose = False):\n",
    "    \"\"\"Tests how the model recommends the artists in the user's test data.\"\"\" \n",
    "    GPU = torch.cuda.is_available()\n",
    "    device2 = torch.device('cuda' if GPU else 'cpu')\n",
    "    if verbose:\n",
    "        print(f'Device used is {device2}.')\n",
    "    user_id = userID\n",
    "    user_tensor = torch.tensor([user_id]).to(device2)\n",
    "    user_artist_test_list = gf.get_artists(user_id, user_artists_test)\n",
    "    user_artist_test_list.sort()\n",
    "    recommendations = []\n",
    "    for artist_id in user_artist_test_list:\n",
    "        artist_tensor = torch.tensor([artist_id]).to(device2)\n",
    "        recommendation_score = model(user_tensor,artist_tensor)\n",
    "        recommendations.append([artist_id,recommendation_score.item()])\n",
    "    return recommendations"
   ]
  },
  {
   "cell_type": "code",
   "execution_count": null,
   "metadata": {},
   "outputs": [
    {
     "name": "stdout",
     "output_type": "stream",
     "text": [
      "User 4 test artist recommendations:\n",
      "- User 4 is recommended artist 'Duran Duran' with score: 5.978760719299316.\n",
      "- User 4 is recommended artist 'Air' with score: 4.810736656188965.\n",
      "- User 4 is recommended artist 'Coldplay' with score: 6.649209976196289.\n",
      "- User 4 is recommended artist 'Moby' with score: 5.8190083503723145.\n",
      "- User 4 is recommended artist 'VAST' with score: 5.480764389038086.\n",
      "- User 4 is recommended artist 'Enrique Iglesias' with score: 6.876409530639648.\n",
      "- User 4 is recommended artist 'Scissor Sisters' with score: -0.2590234577655792.\n",
      "- User 4 is recommended artist 'דניאל סלומון' with score: 1.3090952634811401.\n",
      "- User 4 is recommended artist 'Paradise Lost' with score: 7.851715087890625.\n",
      "- User 4 is recommended artist 'James Blunt' with score: 1.4431679248809814.\n",
      "\n",
      "User 4 top 10 recommendations:\n",
      "- User 4 is recommended artist 'De/Vision' with score: 13.273152351379395.\n",
      "- User 4 is recommended artist 'Queens of the Stone Age' with score: 11.957819938659668.\n",
      "- User 4 is recommended artist 'System of a Down' with score: 10.912717819213867.\n",
      "- User 4 is recommended artist 'Beirut' with score: 10.715569496154785.\n",
      "- User 4 is recommended artist 'Garbage' with score: 10.659178733825684.\n",
      "- User 4 is recommended artist 'Sparklehorse' with score: 10.604070663452148.\n",
      "- User 4 is recommended artist 'Poets of the Fall' with score: 10.589756965637207.\n",
      "- User 4 is recommended artist 'The Tiger Lillies' with score: 10.45883846282959.\n",
      "- User 4 is recommended artist 'Bright Eyes' with score: 10.042089462280273.\n",
      "- User 4 is recommended artist 'Kings of Leon' with score: 9.906499862670898.\n"
     ]
    }
   ],
   "source": [
    "user_id = 4 \n",
    "artist_ids = list(artists['id'].unique())\n",
    "top_k = 10\n",
    "top_items = recommend_top_k(Recmodel, user_id, artist_ids, top_k)\n",
    "test_items = test_user_predictions(Recmodel, user_id)\n",
    "\n",
    "print(f'User {user_id} test artist recommendations:')\n",
    "for item in test_items:\n",
    "    print(f\"- User {user_id} is recommended artist '{gf.get_artist_name(item[0],artists)}' with score: {item[1]:.4f}.\")\n",
    "\n",
    "print(f'\\nUser {user_id} top {top_k} recommendations:')\n",
    "for item in top_items:\n",
    "    print(f\"- User {user_id} is recommended artist '{gf.get_artist_name(item[0],artists)}' with score: {item[1]:.4f}.\")"
   ]
  },
  {
   "cell_type": "markdown",
   "metadata": {},
   "source": [
    "We see that for this user, their test artists are almost all recommended positively, and we are also able to get 10 more artists that the model recommends to them. However for other users the model is not as confident."
   ]
  },
  {
   "cell_type": "code",
   "execution_count": 22,
   "metadata": {},
   "outputs": [
    {
     "name": "stdout",
     "output_type": "stream",
     "text": [
      "User 2 test artist recommendations:\n",
      "- User 2 is recommended artist 'Kylie Minogue' with score: -6.3738.\n",
      "- User 2 is recommended artist 'Daft Punk' with score: 2.7453.\n",
      "- User 2 is recommended artist 'New Order' with score: 3.8837.\n",
      "- User 2 is recommended artist 'Prefab Sprout' with score: -3.0230.\n",
      "- User 2 is recommended artist 'The Adventures' with score: 3.2448.\n",
      "- User 2 is recommended artist 'Spandau Ballet' with score: -5.2864.\n",
      "- User 2 is recommended artist 'Vitamin Z' with score: 0.8008.\n",
      "- User 2 is recommended artist 'Duffy' with score: -6.0018.\n",
      "- User 2 is recommended artist 'Japan' with score: -8.6472.\n",
      "- User 2 is recommended artist 'INXS' with score: -5.6387.\n",
      "\n",
      "User 2 top 10 recommendations:\n",
      "- User 2 is recommended artist 'Worm Is Green' with score: 11.9784.\n",
      "- User 2 is recommended artist 'Deru' with score: 11.5157.\n",
      "- User 2 is recommended artist 'billy gomberg + offthesky' with score: 11.1967.\n",
      "- User 2 is recommended artist 'ABC' with score: 11.0828.\n",
      "- User 2 is recommended artist 'Segue' with score: 10.9449.\n",
      "- User 2 is recommended artist 'Lukid' with score: 10.7057.\n",
      "- User 2 is recommended artist 'Svarte Greiner' with score: 10.6999.\n",
      "- User 2 is recommended artist 'Pleq & Chihiro' with score: 10.5605.\n",
      "- User 2 is recommended artist 'Spyweirdos' with score: 10.5197.\n",
      "- User 2 is recommended artist 'strom noir' with score: 10.4631.\n"
     ]
    }
   ],
   "source": [
    "user_id = 2\n",
    "artist_ids = list(artists['id'].unique())\n",
    "top_k = 10\n",
    "top_items = recommend_top_k(Recmodel, user_id, artist_ids, top_k)\n",
    "test_items = test_user_predictions(Recmodel, user_id)\n",
    "\n",
    "print(f'User {user_id} test artist recommendations:')\n",
    "for item in test_items:\n",
    "    print(f\"- User {user_id} is recommended artist '{gf.get_artist_name(item[0],artists)}' with score: {item[1]:.4f}.\")\n",
    "\n",
    "print(f'\\nUser {user_id} top {top_k} recommendations:')\n",
    "for item in top_items:\n",
    "    print(f\"- User {user_id} is recommended artist '{gf.get_artist_name(item[0],artists)}' with score: {item[1]:.4f}.\")"
   ]
  },
  {
   "cell_type": "markdown",
   "metadata": {},
   "source": [
    "This user has the majority of their test artists negatively recommended, and for those that are positive the value is small. The model is still able to confidently recommend new artists however, and so is still useful. If we want to check the see if the recommended artists are similar, we can use the last.fm API to get the top tags for each artist and compare them."
   ]
  },
  {
   "cell_type": "code",
   "execution_count": null,
   "metadata": {},
   "outputs": [
    {
     "name": "stdout",
     "output_type": "stream",
     "text": [
      "Artist 'Worm Is Green' has tags:\n",
      " ['icelandic', 'electronic', 'ambient', 'idm', 'electronica', 'trip-hop', 'downtempo', 'post-rock', 'seen live', 'indie', 'female vocalists', 'experimental', 'iceland', 'indie-electronic', 'chillout', 'glitch', 'indietronica', 'scandinavian', 'post rock', 'dreampop', 'electropop', 'trip hop', 'dream pop', 'Worm is Green', 'electro', 'Island', 'dreamtronica']\n",
      "Artist 'Deru' has tags:\n",
      " ['idm', 'ambient', 'electronic', 'glitch', 'electronica', 'experimental', 'downtempo', 'abstract', 'american', 'chillout', 'minimal', 'm3rck', 'avantgarde', 'noise', 'trip-hop', 'USA', 'Ghostly International', 'neo ouija', 'seen live', 'instrumental', 'techno', 'night', 'glitch-hop', 'abstract hip-hop', 'us', 'merck', 'All', 'pra', 'delikatessen records', 'mad-hop', 'limpet hiphop']\n",
      "Artist 'billy gomberg' has tags:\n",
      " ['ambient', 'Avant-Garde', 'electroacoustic', 'minimal', 'experimental', 'ilse', 'electronic', 'glitch', 'drone', 'eai', 'improv', 'sound art', 'avant archive', 'free improvisation', 'noise', 'alternative', 'synth', 'improvisation', 'Electronics', 'avantgarde', 'microsound', 'under 2000 listeners', 'electro-acoustic', 'netaudio', 'mutant techno', 'digitalis limited', 'netlabel artist', 'Standard Klik Music', 'Julia Child', 'm-hole', 'blair treu', 'into the m-hole multiverse', 'Zyxax', 'field - recordings']\n",
      "Artist 'ABC' has tags:\n",
      " ['80s', 'new wave', 'new romantic', 'pop', 'synth pop', 'synthpop', 'british', 'electronic', 'abc', 'Sophisti-Pop', 'dance', 'Sheffield', 'seen live', 'UK', 'rock', 'england', 'male vocalists', 'dance-pop', 'english', 'post-punk', \"80's\", '80s Pop', 'soul', 'funk', 'elegant', '1980s', 'Disco', 'pop rock', 'synth', 'eighties', 'synth-pop', 'britpop', '90s', 'sophisticated', 'trevor horn', 'Yorkshire']\n",
      "Artist 'Segue' has tags:\n",
      " ['ambient', 'dub', 'electronic', 'dub techno', 'Ambient dub', 'netlabel', 'electronica', 'Crust', 'techno', 'screamo', 'electro dub', 'thinner', 'idm', 'glitch', 'australia', 'Ambient Techno', 'autoplate', 'blubber', 'net-label', 'sidechain', 'punk', 'grindcore', 'hardcore', 'experimental', 'electro', 'australian', 'canada', 'minimal', 'beautiful', 'Sludge', 'drone', 'Progressive House', 'live act', 'female vocals', 'dark ambient', 'Vancouver', 'hardcore punk', 'CC', 'creative commons', 'Brisbane', 'British Columbia', 'tech', 'female fronted', 'forest', 'netaudio', 'neocrust', 'natural', 'spotify', 'psy-ambient', 'Sem', 'violincore', 'Segue', 'minimal rhythmical', 'churbacca', 'squat-punk']\n",
      "Artist 'Lukid' has tags:\n",
      " ['electronic', 'idm', 'downtempo', 'abstract hip-hop', 'Hip-Hop', 'instrumental hip-hop', 'dubstep', 'experimental', 'electronica', 'ambient', 'hip hop', 'beats', 'trip-hop', 'glitch-hop', 'british', 'abstract', 'glitch', 'wonky', 'seen live', 'instrumental', 'abstract hip hop', 'polyshufflez', 'instrumental hip hop', 'future garage', 'Werk', 'lukid', 'chillout', 'dub', 'UK', 'minimal', 'underground hip-hop', 'glitch hop', 'All', 'Elettronica', 'experimental hip-hop', 'interested', 'intrumental hip-hop', 'Werk Discs', 'electropop', 'Grime', 'techno', 'experimental hip hop', 'psychedelic', 'groove', 'bass', 'trip hop', 'Broken Beat', 'breakbeat', 'psych', 'intelligent', 'complex', 'check out later', 'deep house', 'beat', 'lesser known yet streamable artists', 'To and Fro', 'must listen', 'to listen', 'check out', 'Hi', 'DJ SHADOW', '2010s', 'Fett', 'chunky', 'post-dubstep', 'seen-live', 'Instrumental Rap', 'music for the small hours', 'experimental ambient', 'DJ Krush', 'post garage', 'bass music', 'Fuck Off', 'experimental electronic', 'electronic rap', 'vaporwave', 'themusicsarecoming', 'Aquacrunk', 'on a mission in space', '2 stars', 'artists reviewed in groove magazine', 'to explore', 'Talent', 'study music', 'mad-hop', 'Producers', 'I Need More Of', 'From: UK', 'great production', 'b side', 'sett', 'chilled idm', 'dubtastic', 'idmtastic', 'followup', 'avanthop', 'lookat', 'tom tyler', 'armchair techno', 'cos co niektorzy nazywaja nowymi brzmieniami czy cos']\n",
      "Artist 'Svarte Greiner' has tags:\n",
      " ['dark ambient', 'ambient', 'experimental', 'acoustic doom', 'electronic', 'drone', 'seen live', 'norwegian', 'minimal', 'Avant-Garde', 'electroacoustic', 'dark', 'atmospheric', 'minimalism', 'type', 'Type Records', 'experimental electronic', 'electronica', 'soundscape', 'neoclassical', 'haunting', 'Doom', 'gruizig en prettig', 'Norway', 'miasmah', 'bands I need to check out', 'The Bloody Hours', 'noise', 'depressing', 'horror ambient', 'PostClassical', 'asylum', 'darker than the deepest sea', 'dark ethereal ambient', 'scandinavian', 'abstract', 'night', 'nordic', 'modern classical', 'fucked up', 'acousmatic', 'Made for Dark Souls', 'wieder auskramen', 'instrumental', 'late night', 'scary', 'avantgarde', 'new', 'folktronica', 'check out later', 'Berlin', 'icelandic', '00s', 'to listen', 'field recordings', 'modern classic', 'must check out', 'minimalist', 'creepy', 'Silent Hill', 'eric', 'oslo', 'atmospheric black metal', 'depressive', 'electro-acoustic', 'All', 'wanted', 'experimental ambient', 'Impressionism', 'sett live', 'post-classical', 'artists reviewed in groove magazine', 'acousmatique', 'gothic ambient', 'remarkable', 'avant-garde or experimental', 'sett', 'new artist for mozo78', 'classic horror', 'zxzw', 'ZXZW 2008', 'hankintalistalla', 'amalgamation', 'ad-lib', 'kyl', 'thisismysummer', 'nordic ambient', 'nordic wooden death', 'electromental', 'future collective', 'home listening', 'ami mowi ze chujowe', 'post vocal', 'knirsch', 'kloppf', 'raschel', 'experiXXImental', 'dolfijnen']\n",
      "Artist 'Pleq' has tags:\n",
      " ['idm', 'ambient', 'glitch', 'experimental', 'electronic', 'electronica', 'seen live', 'clicks and cuts', 'modern classical', 'polish', 'downtempo', 'melancholic', 'noise', 'drone', 'atmospheric', 'poland', 'dark idm', 'trip-hop', 'instrumental', 'abstract', 'field recordings', 'minimal', 'mille plateaux', 'cut up', 'u-cover', 'alternative', 'Love', 'glitch-hop', 'melancholy', 'ethereal', 'folktronica', 'All', \"clicks'n'cuts\", 'dobre bo polskie', 'soft glitch', 'vu-us', 'future-elements', 'basses frequences']\n",
      "Artist 'Spyweirdos' has tags:\n",
      " ['idm', 'glitch', 'ambient', 'experimental', 'electronic', 'minimal', 'electronica', 'downtempo', 'chill', 'abstract', 'modern classical', 'soundscapes', 'downbeat', 'Avant-Garde', 'breaks', 'psychill', 'deep', 'tolisten', 'music', 'All', 'experimental ambient', 'anxious', 'musique concrète', 'microwave', 'greek electronic', 'guillen', 'glitchy electronica', 'avantgarde and minimalism', 'poeta negra', 'play ground', 'cdc skyphone']\n",
      "Artist 'strom noir' has tags:\n",
      " ['ambient', 'drone', 'minimal', 'experimental', 'Field Recording', 'drone ambient', 'field recordings', 'slovakia', 'deep ambient', 'electronic', 'abstract', 'soundscape', 'minimalism', 'sound art', 'All', 'Lattice', 'rural colours', 'zone ambient', 'hibernate', 'taalem', 'electronica', 'instrumental', 'Dreamy', 'atmospheric', 'guitar ambient', 'drone rock', 'minimalist', 'electro-acoustic', 'bookmarked', 'for sleep', 'slovakian', 'Ambient Drone', 'resting bell', 'darker than the deepest sea', 'to see it', 'u-cover', 'fwap', 'slovensko', 'minipark: chill', 'dataobscura', 'ambient guitar music', 'awintersgift', 'Winter-Light']\n"
     ]
    }
   ],
   "source": [
    "# Read API key from locally saved text file. This is good practice as you shouldn't publicly upload API keys.\n",
    "# If an API key is needed, a last.fm account is required, then visit here: https://www.last.fm/api/authentication.\n",
    "# Then edit the file_path below to read the API key from the correct place.\n",
    "file_path = os.path.join('..', 'SheridanH', 'api-key.txt')\n",
    "with open(file_path, 'r') as file:\n",
    "    api_key = file.readline().strip()\n",
    "\n",
    "def get_artist_tags(api_key, artistID):\n",
    "    artist_name = gf.get_artist_name(artistID, artists)\n",
    "    if ' + ' in artist_name:\n",
    "        artist_name = artist_name.partition(' + ')[0]\n",
    "    elif ' & ' in artist_name:\n",
    "        artist_name = artist_name.partition(' & ')[0]\n",
    "    url = f'https://ws.audioscrobbler.com/2.0/?method=artist.gettoptags&artist={artist_name}&api_key={api_key}&format=json'\n",
    "    response = requests.get(url)\n",
    "    data = response.json()\n",
    "    tags = []\n",
    "    for i in range(len(data['toptags']['tag'])):\n",
    "        tags.append(data['toptags']['tag'][i]['name'])\n",
    "    return artist_name, tags\n",
    "\n",
    "for artistID in [x[0] for x in top_items]:\n",
    "    name, tags = get_artist_tags(api_key, artistID)\n",
    "    print(f\"Artist '{name}' has tags:\\n {tags}\")"
   ]
  },
  {
   "cell_type": "markdown",
   "metadata": {},
   "source": [
    "We see that for user 2, the recommended artists are fairly similar, with all of them being tagged with `electronic`, and many of them also including `ambient` and other similar tags. This suggests that the model is in fact correctly learning relationships between the artist nodes and building patterns based on user listening data."
   ]
  },
  {
   "cell_type": "markdown",
   "metadata": {},
   "source": [
    "---"
   ]
  },
  {
   "cell_type": "markdown",
   "metadata": {},
   "source": [
    "## 9: Investigating the Computational Performance of the Model"
   ]
  },
  {
   "cell_type": "markdown",
   "metadata": {},
   "source": [
    "Throughout this document we have already considered the time required to run the model at a few different occasions. We will look at it in more depth here, only considering the training time since the 'bootup' time taken for the model to load everything will be static across different parameters."
   ]
  },
  {
   "cell_type": "code",
   "execution_count": 24,
   "metadata": {},
   "outputs": [
    {
     "name": "stdout",
     "output_type": "stream",
     "text": [
      "Training Time for 1 epochs: 3.0446 seconds\n",
      "Training Time for 5 epochs: 6.9487 seconds\n",
      "Training Time for 25 epochs: 27.2036 seconds\n",
      "Training Time for 125 epochs: 131.9016 seconds\n",
      "Training Time for 625 epochs: 652.8090 seconds\n"
     ]
    }
   ],
   "source": [
    "for epoch in [1,5,25,125,625]:\n",
    "    output = io.StringIO()\n",
    "    with contextlib.redirect_stdout(output):\n",
    "        LightGCN(seed = 101, epochs = epoch, verbose=False)\n",
    "    captured_output = output.getvalue()\n",
    "    print(f\"Training Time for {epoch} epochs: {float(captured_output.partition('Training time: ')[2]):.4f} seconds\")"
   ]
  },
  {
   "cell_type": "markdown",
   "metadata": {},
   "source": [
    "We see that the time complexity for the training of the model scales linearly with the number of epochs, with a 5 times increase in epochs leading to a roughly 5 times increase in training time. We can also see how much GPU memory the model uses using some built in torch functions."
   ]
  },
  {
   "cell_type": "code",
   "execution_count": 25,
   "metadata": {},
   "outputs": [
    {
     "name": "stdout",
     "output_type": "stream",
     "text": [
      "Model used 48.57MB of GPU memory.\n"
     ]
    }
   ],
   "source": [
    "torch.cuda.reset_peak_memory_stats(device=None)\n",
    "\n",
    "before = torch.cuda.max_memory_allocated(device=None)\n",
    "output = io.StringIO()\n",
    "with contextlib.redirect_stdout(output):\n",
    "    LightGCN(seed=101,epochs=1,verbose=False,recdim=64)\n",
    "after = torch.cuda.max_memory_allocated(device=None)\n",
    "\n",
    "usageB = after - before\n",
    "usageMB = usageB / (1024**2)\n",
    "\n",
    "print(f'Model used {usageMB:.2f}MB of GPU memory.')"
   ]
  },
  {
   "cell_type": "code",
   "execution_count": 26,
   "metadata": {},
   "outputs": [
    {
     "name": "stdout",
     "output_type": "stream",
     "text": [
      "Model used 40.85MB of GPU memory.\n"
     ]
    }
   ],
   "source": [
    "torch.cuda.reset_peak_memory_stats(device=None)\n",
    "\n",
    "before = torch.cuda.max_memory_allocated(device=None)\n",
    "output = io.StringIO()\n",
    "with contextlib.redirect_stdout(output):\n",
    "    recommend_top_k(Recmodel,2,artist_ids)\n",
    "after = torch.cuda.max_memory_allocated(device=None)\n",
    "\n",
    "usageB = after - before\n",
    "usageMB = usageB / (1024**2)\n",
    "print(f'Model used {usageMB:.2f}MB of GPU memory.')"
   ]
  },
  {
   "cell_type": "markdown",
   "metadata": {},
   "source": [
    "The model uses around 40MB of memory to both train the model and then also make predictions (in our tests this varies from around 40 to 80). This does not change with most parameters, as in most cases the actual data is not effected by the parameters, but rather just the methods used. However, the memory usage does seem to scale with the number of embedding features (`--recdim`)."
   ]
  },
  {
   "cell_type": "code",
   "execution_count": 27,
   "metadata": {},
   "outputs": [
    {
     "name": "stdout",
     "output_type": "stream",
     "text": [
      "Model used 5.63MB of GPU memory with recdim = 16.\n",
      "Model used 34.42MB of GPU memory with recdim = 32.\n",
      "Model used 58.75MB of GPU memory with recdim = 64.\n",
      "Model used 111.29MB of GPU memory with recdim = 128.\n",
      "Model used 212.13MB of GPU memory with recdim = 256.\n"
     ]
    }
   ],
   "source": [
    "for rd in [16,32,64,128,256]:\n",
    "    torch.cuda.reset_peak_memory_stats(device=None)\n",
    "\n",
    "    before = torch.cuda.max_memory_allocated(device=None)\n",
    "    output = io.StringIO()\n",
    "    with contextlib.redirect_stdout(output):\n",
    "        LightGCN(seed=101,epochs=1,verbose=False,recdim=rd)\n",
    "    after = torch.cuda.max_memory_allocated(device=None)\n",
    "\n",
    "    usageB = after - before\n",
    "    usageMB = usageB / (1024**2)\n",
    "\n",
    "    print(f'Model used {usageMB:.2f}MB of GPU memory with recdim = {rd}.')"
   ]
  },
  {
   "cell_type": "markdown",
   "metadata": {},
   "source": [
    "Except for when `--recdim = 16`, the memory usage seems to scale linearly. This is interesting because it shows us that while the model may perform better with more embedding features, the cost of that is a higher memory usage, and whilst this is not a big deal on this scale, were this to be applied to big data a decision would have to be made on how much more memory usage is worth it for better results."
   ]
  },
  {
   "cell_type": "markdown",
   "metadata": {},
   "source": [
    "---"
   ]
  },
  {
   "cell_type": "markdown",
   "metadata": {},
   "source": [
    "## 10: Conclusion\n",
    "\n",
    "We have considered the use of the LightGCN model for creating recommendation systems, achieving a maximum recall of around 0.27 on our test set after tuning the model. Looking further at recommended artists, we have seen that the system does seem to recommend similar artists that we do not have user listening data for, suggesting that it the model is able to effectively generate new suggestions for the user. We have also looked at the computational and time complexity of the model, and explored the use of GPUs to increase model training and prediction times."
   ]
  },
  {
   "cell_type": "markdown",
   "metadata": {},
   "source": [
    "---"
   ]
  },
  {
   "cell_type": "markdown",
   "metadata": {},
   "source": [
    "# 11: References\n",
    "\n",
    "[1] Papers With Code: Graph Models - https://paperswithcode.com/methods/category/graph-models\n",
    "\n",
    "[2] Towards Data Science: Graph Convolutional Networks - https://towardsdatascience.com/graph-convolutional-networks-introduction-to-gnns-24b3f60d6c95\n",
    "\n",
    "[3] Xiangnan He, et al. 2020. LightGCN: Simplifying and Powering Graph Convolution Network for Recommendation - https://arxiv.org/abs/2002.02126\n",
    "\n",
    "[4] Guyse1234 Github Repository: LightGCN-PyTorch - https://github.com/gusye1234/LightGCN-PyTorch\n",
    "\n",
    "[5] NVIDIA: CUDA Toolkit - https://developer.nvidia.com/cuda-toolkit\n",
    "\n",
    "[6] Towards Data Science: Why Deep Learning Models Run Faster on GPUs: A Brief Introduction to CUDA Programming - https://towardsdatascience.com/why-deep-learning-models-run-faster-on-gpus-a-brief-introduction-to-cuda-programming-035272906d66"
   ]
  },
  {
   "cell_type": "markdown",
   "metadata": {},
   "source": []
  }
 ],
 "metadata": {
  "kernelspec": {
   "display_name": "Python 3",
   "language": "python",
   "name": "python3"
  },
  "language_info": {
   "codemirror_mode": {
    "name": "ipython",
    "version": 3
   },
   "file_extension": ".py",
   "mimetype": "text/x-python",
   "name": "python",
   "nbconvert_exporter": "python",
   "pygments_lexer": "ipython3",
   "version": "3.11.8"
  }
 },
 "nbformat": 4,
 "nbformat_minor": 2
}
