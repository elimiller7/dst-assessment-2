{
 "cells": [
  {
   "cell_type": "markdown",
   "metadata": {},
   "source": [
    "## Content-Based Filtering with PySpark\n",
    "\n",
    "In this section, we explore content-based filtering using the built in PySpark. We use a dataset which includes information about music artists, their associated tags, and how users interacted with them. We aim to generate artist recommendations for users based on the tags associated with artists they have interacted with. This involves loading the data, creating profiles for the artists, vectorising the tags, calculating similarities and finally generating recommendations based on those similarities."
   ]
  },
  {
   "cell_type": "markdown",
   "metadata": {},
   "source": [
    "# Chapter 0: Importing Required Libraries\n",
    "\n",
    "The key libraries used are from PySpark, which is ideal for handling large datasets efficiently."
   ]
  },
  {
   "cell_type": "code",
   "execution_count": 1,
   "metadata": {},
   "outputs": [],
   "source": [
    "from pyspark.sql import SparkSession\n",
    "from pyspark.sql import functions as F\n",
    "from pyspark.ml.feature import CountVectorizer, IDF\n",
    "from pyspark.ml.linalg import Vectors\n",
    "from pyspark.ml.feature import MinMaxScaler\n",
    "from pyspark.ml.stat import Correlation\n",
    "from pyspark.mllib.linalg.distributed import RowMatrix"
   ]
  },
  {
   "cell_type": "markdown",
   "metadata": {},
   "source": [
    "# Chapter 1: Loading Our Data\n",
    "\n",
    "First we initialise our Spark session. Initialising a Spark session is required for any operation in PySpark. This session allows us to leverage PySpark's machine learning capabalities. "
   ]
  },
  {
   "cell_type": "code",
   "execution_count": 2,
   "metadata": {},
   "outputs": [
    {
     "name": "stderr",
     "output_type": "stream",
     "text": [
      "Setting default log level to \"WARN\".\n",
      "To adjust logging level use sc.setLogLevel(newLevel). For SparkR, use setLogLevel(newLevel).\n",
      "24/11/24 17:14:20 WARN NativeCodeLoader: Unable to load native-hadoop library for your platform... using builtin-java classes where applicable\n"
     ]
    }
   ],
   "source": [
    "spark = SparkSession.builder \\\n",
    "    .appName(\"Content-Based Filtering\") \\\n",
    "    .getOrCreate()"
   ]
  },
  {
   "cell_type": "markdown",
   "metadata": {},
   "source": [
    "Then, we define the Base Directory for our dataset files. This allows us to load the data for further processing. "
   ]
  },
  {
   "cell_type": "code",
   "execution_count": 3,
   "metadata": {},
   "outputs": [],
   "source": [
    "base_directory = \"/Users/harrywilson/Desktop/DataScienceToolbox/Assessment2Data\""
   ]
  },
  {
   "cell_type": "markdown",
   "metadata": {},
   "source": [
    "Finally, we load our datasets. This includes information about artists, their tags and user interactions. In this step, we also read our data into Spark DataFrames."
   ]
  },
  {
   "cell_type": "code",
   "execution_count": 4,
   "metadata": {},
   "outputs": [
    {
     "name": "stderr",
     "output_type": "stream",
     "text": [
      "                                                                                \r"
     ]
    },
    {
     "name": "stdout",
     "output_type": "stream",
     "text": [
      "User-Artists Dataset:\n",
      "+------+--------+------+\n",
      "|userID|artistID|weight|\n",
      "+------+--------+------+\n",
      "|     2|      51| 13883|\n",
      "|     2|      52| 11690|\n",
      "|     2|      53| 11351|\n",
      "|     2|      54| 10300|\n",
      "|     2|      55|  8983|\n",
      "+------+--------+------+\n",
      "only showing top 5 rows\n",
      "\n",
      "Artists Dataset:\n",
      "+---+-----------------+--------------------+--------------------+\n",
      "| id|             name|                 url|          pictureURL|\n",
      "+---+-----------------+--------------------+--------------------+\n",
      "|  1|     MALICE MIZER|http://www.last.f...|http://userserve-...|\n",
      "|  2|  Diary of Dreams|http://www.last.f...|http://userserve-...|\n",
      "|  3|Carpathian Forest|http://www.last.f...|http://userserve-...|\n",
      "|  4|     Moi dix Mois|http://www.last.f...|http://userserve-...|\n",
      "|  5|      Bella Morte|http://www.last.f...|http://userserve-...|\n",
      "+---+-----------------+--------------------+--------------------+\n",
      "only showing top 5 rows\n",
      "\n",
      "Tags Dataset:\n",
      "+-----+-----------------+\n",
      "|tagID|         tagValue|\n",
      "+-----+-----------------+\n",
      "|    1|            metal|\n",
      "|    2|alternative metal|\n",
      "|    3|        goth rock|\n",
      "|    4|      black metal|\n",
      "|    5|      death metal|\n",
      "+-----+-----------------+\n",
      "only showing top 5 rows\n",
      "\n",
      "User-Tagged Artists Dataset:\n",
      "+------+--------+-----+---+-----+----+\n",
      "|userID|artistID|tagID|day|month|year|\n",
      "+------+--------+-----+---+-----+----+\n",
      "|     2|      52|   13|  1|    4|2009|\n",
      "|     2|      52|   15|  1|    4|2009|\n",
      "|     2|      52|   18|  1|    4|2009|\n",
      "|     2|      52|   21|  1|    4|2009|\n",
      "|     2|      52|   41|  1|    4|2009|\n",
      "+------+--------+-----+---+-----+----+\n",
      "only showing top 5 rows\n",
      "\n"
     ]
    }
   ],
   "source": [
    "# Function to load a .dat file as a DataFrame\n",
    "def load_data(filename):\n",
    "    file_path = f\"{base_directory}/{filename}\"\n",
    "    return spark.read.csv(file_path, sep=\"\\t\", header=True, inferSchema=True)\n",
    "\n",
    "# Load datasets\n",
    "user_artists_df = load_data(\"user_artists.dat\")\n",
    "artists_df = load_data(\"artists.dat\")\n",
    "tags_df = load_data(\"tags.dat\")\n",
    "user_taggedartists_df = load_data(\"user_taggedartists.dat\")\n",
    "\n",
    "# Display a few rows from the datasets to ensure everything is working\n",
    "print(\"User-Artists Dataset:\")\n",
    "user_artists_df.show(5)\n",
    "\n",
    "print(\"Artists Dataset:\")\n",
    "artists_df.show(5)\n",
    "\n",
    "print(\"Tags Dataset:\")\n",
    "tags_df.show(5)\n",
    "\n",
    "print(\"User-Tagged Artists Dataset:\")\n",
    "user_taggedartists_df.show(5)\n"
   ]
  },
  {
   "cell_type": "markdown",
   "metadata": {},
   "source": [
    "# Chapter 2: Creating Artist Profiles\n",
    "\n",
    "This first step involves creating profiles, based on the tags associated with each artist. We aggregate the tags to form this profile."
   ]
  },
  {
   "cell_type": "code",
   "execution_count": 5,
   "metadata": {},
   "outputs": [
    {
     "name": "stderr",
     "output_type": "stream",
     "text": [
      "[Stage 14:>                                                         (0 + 1) / 1]\r"
     ]
    },
    {
     "name": "stdout",
     "output_type": "stream",
     "text": [
      "+--------+-----------------+---------------------------------------------------------------------------------------------------------------+\n",
      "|artistID|artist_name      |tags                                                                                                           |\n",
      "+--------+-----------------+---------------------------------------------------------------------------------------------------------------+\n",
      "|1       |MALICE MIZER     |[j-rock, weeabo, jrock, visual kei, better than lady gaga, gothic, japanese]                                   |\n",
      "|2       |Diary of Dreams  |[darkwave, ambient, true goth emo, gothic rock, gothic, industrial, dark, german, seen live, electronic, vocal]|\n",
      "|3       |Carpathian Forest|[norsk arysk metal, very kvlt, black metal, saxophones, true norwegian black metal, norwegian black metal]     |\n",
      "|4       |Moi dix Mois     |[j-rock, rock, visual kei, bazarov, gothic, metal, gothic japanese, gothic metal, japanese]                    |\n",
      "|5       |Bella Morte      |[covers, darkwave, gothic rock, gothic, deathrock]                                                             |\n",
      "+--------+-----------------+---------------------------------------------------------------------------------------------------------------+\n",
      "only showing top 5 rows\n",
      "\n"
     ]
    },
    {
     "name": "stderr",
     "output_type": "stream",
     "text": [
      "                                                                                \r"
     ]
    }
   ],
   "source": [
    "# Join user_taggedartists with tags for tag information\n",
    "artist_tags_df = user_taggedartists_df.join(tags_df, on=\"tagID\", how=\"inner\")\n",
    "\n",
    "# Join artist tags with artists to get artist details and tag names\n",
    "artist_tags_info_df = artist_tags_df.join(\n",
    "    artists_df, artist_tags_df.artistID == artists_df.id\n",
    ").select(\n",
    "    artist_tags_df[\"artistID\"],\n",
    "    artists_df[\"name\"].alias(\"artist_name\"),\n",
    "    artist_tags_df[\"tagValue\"].alias(\"tag\")\n",
    ")\n",
    "\n",
    "# Aggregate tags for each artist into a list and remove duplicates\n",
    "artist_profiles_df = artist_tags_info_df.groupBy(\"artistID\", \"artist_name\") \\\n",
    "    .agg(F.collect_set(\"tag\").alias(\"tags\"))\n",
    "\n",
    "# Display artist profiles\n",
    "artist_profiles_df.show(5, truncate=False)"
   ]
  },
  {
   "cell_type": "markdown",
   "metadata": {},
   "source": [
    "To apply similarity calculation, which is vital for content based filtering, we need to convert the tags into numerical interpretations. Therefore, we use CountVectorizer, this creates a vector of word counts for each artist's tags."
   ]
  },
  {
   "cell_type": "code",
   "execution_count": 6,
   "metadata": {},
   "outputs": [
    {
     "name": "stderr",
     "output_type": "stream",
     "text": [
      "[Stage 28:>                                                         (0 + 1) / 1]\r"
     ]
    },
    {
     "name": "stdout",
     "output_type": "stream",
     "text": [
      "+--------+-----------------+---------------------------------------------------------------------------------------------------------------+-------------------------------------------------------------------------------------------+\n",
      "|artistID|artist_name      |tag_text                                                                                                       |raw_features                                                                               |\n",
      "+--------+-----------------+---------------------------------------------------------------------------------------------------------------+-------------------------------------------------------------------------------------------+\n",
      "|1       |MALICE MIZER     |[j-rock, weeabo, jrock, visual kei, better than lady gaga, gothic, japanese]                                   |(9718,[92,95,220,255,427,760,2520],[1.0,1.0,1.0,1.0,1.0,1.0,1.0])                          |\n",
      "|2       |Diary of Dreams  |[darkwave, ambient, true goth emo, gothic rock, gothic, industrial, dark, german, seen live, electronic, vocal]|(9718,[3,6,13,51,78,92,160,168,183,190,2686],[1.0,1.0,1.0,1.0,1.0,1.0,1.0,1.0,1.0,1.0,1.0])|\n",
      "|3       |Carpathian Forest|[norsk arysk metal, very kvlt, black metal, saxophones, true norwegian black metal, norwegian black metal]     |(9718,[136,879,893,1074,2412,2910],[1.0,1.0,1.0,1.0,1.0,1.0])                              |\n",
      "|4       |Moi dix Mois     |[j-rock, rock, visual kei, bazarov, gothic, metal, gothic japanese, gothic metal, japanese]                    |(9718,[0,21,92,95,164,220,255,850,8362],[1.0,1.0,1.0,1.0,1.0,1.0,1.0,1.0,1.0])             |\n",
      "|5       |Bella Morte      |[covers, darkwave, gothic rock, gothic, deathrock]                                                             |(9718,[81,92,160,190,937],[1.0,1.0,1.0,1.0,1.0])                                           |\n",
      "+--------+-----------------+---------------------------------------------------------------------------------------------------------------+-------------------------------------------------------------------------------------------+\n",
      "only showing top 5 rows\n",
      "\n"
     ]
    },
    {
     "name": "stderr",
     "output_type": "stream",
     "text": [
      "                                                                                \r"
     ]
    }
   ],
   "source": [
    "# Ensure tag_text is an array of strings\n",
    "tags_df = artist_profiles_df.select(\n",
    "    F.col(\"artistID\"),\n",
    "    F.col(\"artist_name\"),\n",
    "    F.col(\"tags\").alias(\"tag_text\")\n",
    ")\n",
    "\n",
    "# Vectorise tags\n",
    "vectoriser = CountVectorizer(inputCol=\"tag_text\", outputCol=\"raw_features\")\n",
    "vectorised_model = vectoriser.fit(tags_df)\n",
    "vectorised_df = vectorised_model.transform(tags_df)\n",
    "\n",
    "# Display vectorized features\n",
    "vectorised_df.show(5, truncate=False)\n"
   ]
  },
  {
   "cell_type": "markdown",
   "metadata": {},
   "source": [
    "For the raw_features column, we have the format (total_features, [indices], [values]). Where:\n",
    "total_features: total number of unique tags in the dataset\n",
    "indices: Indices of non-zero features (tags present for the artist)\n",
    "values: Corresponding count of each tag (as we got rid of duplicates, these values are all 1)\n"
   ]
  },
  {
   "cell_type": "markdown",
   "metadata": {},
   "source": [
    "Next, we compute the Term Frequency - Inverse Document Frequency (TF-IDF). This assesses the importance of each tag within an artist's profile."
   ]
  },
  {
   "cell_type": "code",
   "execution_count": 7,
   "metadata": {},
   "outputs": [
    {
     "name": "stderr",
     "output_type": "stream",
     "text": [
      "[Stage 35:>                                                         (0 + 1) / 1]\r"
     ]
    },
    {
     "name": "stderr",
     "output_type": "stream",
     "text": [
      "[Stage 38:>                                                         (0 + 1) / 1]\r"
     ]
    },
    {
     "name": "stdout",
     "output_type": "stream",
     "text": [
      "+--------+-----------------+---------------------------------------------------------------------------------------------------------------+-------------------------------------------------------------------------------------------+--------------------------------------------------------------------------------------------------------------------------------------------------------------------------------------------------------------------------------------------------------+\n",
      "|artistID|artist_name      |tag_text                                                                                                       |raw_features                                                                               |features                                                                                                                                                                                                                                                |\n",
      "+--------+-----------------+---------------------------------------------------------------------------------------------------------------+-------------------------------------------------------------------------------------------+--------------------------------------------------------------------------------------------------------------------------------------------------------------------------------------------------------------------------------------------------------+\n",
      "|1       |MALICE MIZER     |[j-rock, weeabo, jrock, visual kei, better than lady gaga, gothic, japanese]                                   |(9718,[92,95,220,255,427,760,2520],[1.0,1.0,1.0,1.0,1.0,1.0,1.0])                          |(9718,[92,95,220,255,427,760,2520],[4.151493280455613,4.162019693442601,5.099701615298073,5.2141119664758175,5.666097090218875,6.225712878154297,7.794328796068143])                                                                                    |\n",
      "|2       |Diary of Dreams  |[darkwave, ambient, true goth emo, gothic rock, gothic, industrial, dark, german, seen live, electronic, vocal]|(9718,[3,6,13,51,78,92,160,168,183,190,2686],[1.0,1.0,1.0,1.0,1.0,1.0,1.0,1.0,1.0,1.0,1.0])|(9718,[3,6,13,51,78,92,160,168,183,190,2686],[1.962446318784626,2.494013426857433,2.7651989193357225,3.5288359776502127,3.9570293368359333,4.151493280455613,4.703286342709827,4.778793895217972,4.860471926232239,4.903957038171978,8.017472347382352])|\n",
      "|3       |Carpathian Forest|[norsk arysk metal, very kvlt, black metal, saxophones, true norwegian black metal, norwegian black metal]     |(9718,[136,879,893,1074,2412,2910],[1.0,1.0,1.0,1.0,1.0,1.0])                              |(9718,[136,879,893,1074,2412,2910],[4.5595796220436515,6.4593277293358025,6.4593277293358025,6.695716507400033,7.794328796068143,8.017472347382352])                                                                                                    |\n",
      "|4       |Moi dix Mois     |[j-rock, rock, visual kei, bazarov, gothic, metal, gothic japanese, gothic metal, japanese]                    |(9718,[0,21,92,95,164,220,255,850,8362],[1.0,1.0,1.0,1.0,1.0,1.0,1.0,1.0,1.0])             |(9718,[0,21,92,95,164,220,255,850,8362],[1.6855257565429276,2.943862254124708,4.151493280455613,4.162019693442601,4.74980635834472,5.099701615298073,5.2141119664758175,6.408034434948252,8.710619527942297])                                           |\n",
      "|5       |Bella Morte      |[covers, darkwave, gothic rock, gothic, deathrock]                                                             |(9718,[81,92,160,190,937],[1.0,1.0,1.0,1.0,1.0])                                           |(9718,[81,92,160,190,937],[3.9832317092299574,4.151493280455613,4.703286342709827,4.903957038171978,6.513394950606078])                                                                                                                                 |\n",
      "+--------+-----------------+---------------------------------------------------------------------------------------------------------------+-------------------------------------------------------------------------------------------+--------------------------------------------------------------------------------------------------------------------------------------------------------------------------------------------------------------------------------------------------------+\n",
      "only showing top 5 rows\n",
      "\n"
     ]
    },
    {
     "name": "stderr",
     "output_type": "stream",
     "text": [
      "                                                                                \r"
     ]
    }
   ],
   "source": [
    "# Compute TF-IDF\n",
    "idf = IDF(inputCol=\"raw_features\", outputCol=\"features\")\n",
    "idf_model = idf.fit(vectorised_df)\n",
    "tfidf_df = idf_model.transform(vectorised_df)\n",
    "\n",
    "# Display TF-IDF features\n",
    "tfidf_df.show(5, truncate=False)"
   ]
  },
  {
   "cell_type": "markdown",
   "metadata": {},
   "source": [
    "Now, we normalise the feature vectors. Here, we are ensuring all features are on the same scale. We use MinMaxScaler to normalise the tag vectors. This is vital for similarity calculation."
   ]
  },
  {
   "cell_type": "code",
   "execution_count": 8,
   "metadata": {},
   "outputs": [
    {
     "name": "stderr",
     "output_type": "stream",
     "text": [
      "[Stage 51:>                                                         (0 + 1) / 1]\r"
     ]
    },
    {
     "name": "stdout",
     "output_type": "stream",
     "text": [
      "+--------+-----------------+---------------------------------------------------------------------------------------------------------------+-------------------------------------------------------------------------------------------+--------------------------------------------------------------------------------------------------------------------------------------------------------------------------------------------------------------------------------------------------------+-------------------------------------------------------------------------------------------------------------------------+\n",
      "|artistID|artist_name      |tag_text                                                                                                       |raw_features                                                                               |features                                                                                                                                                                                                                                                |scaled_features                                                                                                          |\n",
      "+--------+-----------------+---------------------------------------------------------------------------------------------------------------+-------------------------------------------------------------------------------------------+--------------------------------------------------------------------------------------------------------------------------------------------------------------------------------------------------------------------------------------------------------+-------------------------------------------------------------------------------------------------------------------------+\n",
      "|1       |MALICE MIZER     |[j-rock, weeabo, jrock, visual kei, better than lady gaga, gothic, japanese]                                   |(9718,[92,95,220,255,427,760,2520],[1.0,1.0,1.0,1.0,1.0,1.0,1.0])                          |(9718,[92,95,220,255,427,760,2520],[4.151493280455613,4.162019693442601,5.099701615298073,5.2141119664758175,5.666097090218875,6.225712878154297,7.794328796068143])                                                                                    |(9718,[92,95,220,255,427,760,2520],[1.0,1.0,1.0,1.0,1.0,1.0,1.0])                                                        |\n",
      "|2       |Diary of Dreams  |[darkwave, ambient, true goth emo, gothic rock, gothic, industrial, dark, german, seen live, electronic, vocal]|(9718,[3,6,13,51,78,92,160,168,183,190,2686],[1.0,1.0,1.0,1.0,1.0,1.0,1.0,1.0,1.0,1.0,1.0])|(9718,[3,6,13,51,78,92,160,168,183,190,2686],[1.962446318784626,2.494013426857433,2.7651989193357225,3.5288359776502127,3.9570293368359333,4.151493280455613,4.703286342709827,4.778793895217972,4.860471926232239,4.903957038171978,8.017472347382352])|(9718,[3,6,13,51,78,92,160,168,183,190,2686],[1.0,0.9999999999999999,1.0,1.0,0.9999999999999999,1.0,1.0,1.0,1.0,1.0,1.0])|\n",
      "|3       |Carpathian Forest|[norsk arysk metal, very kvlt, black metal, saxophones, true norwegian black metal, norwegian black metal]     |(9718,[136,879,893,1074,2412,2910],[1.0,1.0,1.0,1.0,1.0,1.0])                              |(9718,[136,879,893,1074,2412,2910],[4.5595796220436515,6.4593277293358025,6.4593277293358025,6.695716507400033,7.794328796068143,8.017472347382352])                                                                                                    |(9718,[136,879,893,1074,2412,2910],[1.0,1.0,1.0,1.0,1.0,1.0])                                                            |\n",
      "|4       |Moi dix Mois     |[j-rock, rock, visual kei, bazarov, gothic, metal, gothic japanese, gothic metal, japanese]                    |(9718,[0,21,92,95,164,220,255,850,8362],[1.0,1.0,1.0,1.0,1.0,1.0,1.0,1.0,1.0])             |(9718,[0,21,92,95,164,220,255,850,8362],[1.6855257565429276,2.943862254124708,4.151493280455613,4.162019693442601,4.74980635834472,5.099701615298073,5.2141119664758175,6.408034434948252,8.710619527942297])                                           |(9718,[0,21,92,95,164,220,255,850,8362],[1.0,1.0,1.0,1.0,1.0,1.0,1.0,1.0,1.0])                                           |\n",
      "|5       |Bella Morte      |[covers, darkwave, gothic rock, gothic, deathrock]                                                             |(9718,[81,92,160,190,937],[1.0,1.0,1.0,1.0,1.0])                                           |(9718,[81,92,160,190,937],[3.9832317092299574,4.151493280455613,4.703286342709827,4.903957038171978,6.513394950606078])                                                                                                                                 |(9718,[81,92,160,190,937],[1.0,1.0,1.0,1.0,0.9999999999999999])                                                          |\n",
      "+--------+-----------------+---------------------------------------------------------------------------------------------------------------+-------------------------------------------------------------------------------------------+--------------------------------------------------------------------------------------------------------------------------------------------------------------------------------------------------------------------------------------------------------+-------------------------------------------------------------------------------------------------------------------------+\n",
      "only showing top 5 rows\n",
      "\n"
     ]
    },
    {
     "name": "stderr",
     "output_type": "stream",
     "text": [
      "                                                                                \r"
     ]
    }
   ],
   "source": [
    "\n",
    "# Normalise the feature vectors\n",
    "scaler = MinMaxScaler(inputCol=\"features\", outputCol=\"scaled_features\")\n",
    "scaler_model = scaler.fit(tfidf_df)\n",
    "scaled_tfidf_df = scaler_model.transform(tfidf_df)\n",
    "\n",
    "# Display scaled features\n",
    "scaled_tfidf_df.show(5, truncate=False)\n"
   ]
  },
  {
   "cell_type": "markdown",
   "metadata": {},
   "source": [
    "# Chapter : Similarities Between Artists\n",
    "\n",
    "We can compute cosine similarity between artists. This is done using RowMatrix and columnSimilarities."
   ]
  },
  {
   "cell_type": "code",
   "execution_count": 9,
   "metadata": {},
   "outputs": [
    {
     "name": "stderr",
     "output_type": "stream",
     "text": [
      "[Stage 58:>                                                         (0 + 1) / 1]\r"
     ]
    },
    {
     "name": "stderr",
     "output_type": "stream",
     "text": [
      "24/11/24 17:17:25 WARN Executor: Managed memory leak detected; size = 79008692 bytes, task 0.0 in stage 63.0 (TID 49)\n",
      "[Stage 66:>                                                         (0 + 1) / 1]\r"
     ]
    },
    {
     "name": "stdout",
     "output_type": "stream",
     "text": [
      "+----------+----------+--------------------+\n",
      "|artistID_1|artistID_2|similarity          |\n",
      "+----------+----------+--------------------+\n",
      "|261       |1529      |0.1270001270001905  |\n",
      "|65        |673       |0.02369561801910072 |\n",
      "|742       |758       |0.1739130434782609  |\n",
      "|233       |1265      |0.03603749850782236 |\n",
      "|65        |2431      |0.030206104666508846|\n",
      "+----------+----------+--------------------+\n",
      "only showing top 5 rows\n",
      "\n"
     ]
    },
    {
     "name": "stderr",
     "output_type": "stream",
     "text": [
      "24/11/24 17:17:36 WARN Executor: Managed memory leak detected; size = 79008692 bytes, task 0.0 in stage 66.0 (TID 50)\n",
      "                                                                                \r"
     ]
    }
   ],
   "source": [
    "\n",
    "# Convert the scaled features column to RDD of dense vectors\n",
    "row_matrix_rdd = scaled_tfidf_df.select(\"scaled_features\").rdd.map(lambda row: row.scaled_features.toArray())\n",
    "\n",
    "# Create a RowMatrix from the RDD\n",
    "row_matrix = RowMatrix(row_matrix_rdd)\n",
    "\n",
    "# Compute pairwise cosine similarities\n",
    "similarities = row_matrix.columnSimilarities()\n",
    "\n",
    "# Convert the similarities result back to a DataFrame for better readability\n",
    "similarities_df = similarities.entries.toDF([\"artistID_1\", \"artistID_2\", \"similarity\"])\n",
    "\n",
    "# Show the top 5 results\n",
    "similarities_df.show(5, truncate=False)\n"
   ]
  },
  {
   "cell_type": "code",
   "execution_count": 10,
   "metadata": {},
   "outputs": [
    {
     "name": "stderr",
     "output_type": "stream",
     "text": [
      "24/11/24 17:17:58 WARN RowBasedKeyValueBatch: Calling spill() on RowBasedKeyValueBatch. Will not spill but return 0.\n",
      "24/11/24 17:17:58 WARN RowBasedKeyValueBatch: Calling spill() on RowBasedKeyValueBatch. Will not spill but return 0.\n",
      "24/11/24 17:17:58 WARN RowBasedKeyValueBatch: Calling spill() on RowBasedKeyValueBatch. Will not spill but return 0.\n",
      "24/11/24 17:17:58 WARN RowBasedKeyValueBatch: Calling spill() on RowBasedKeyValueBatch. Will not spill but return 0.\n",
      "24/11/24 17:18:05 WARN RowBasedKeyValueBatch: Calling spill() on RowBasedKeyValueBatch. Will not spill but return 0.\n",
      "24/11/24 17:18:05 WARN RowBasedKeyValueBatch: Calling spill() on RowBasedKeyValueBatch. Will not spill but return 0.\n",
      "24/11/24 17:18:05 WARN RowBasedKeyValueBatch: Calling spill() on RowBasedKeyValueBatch. Will not spill but return 0.\n",
      "24/11/24 17:18:06 WARN RowBasedKeyValueBatch: Calling spill() on RowBasedKeyValueBatch. Will not spill but return 0.\n",
      "24/11/24 17:18:17 WARN RowBasedKeyValueBatch: Calling spill() on RowBasedKeyValueBatch. Will not spill but return 0.\n",
      "24/11/24 17:18:18 WARN RowBasedKeyValueBatch: Calling spill() on RowBasedKeyValueBatch. Will not spill but return 0.\n",
      "24/11/24 17:18:18 WARN RowBasedKeyValueBatch: Calling spill() on RowBasedKeyValueBatch. Will not spill but return 0.\n",
      "24/11/24 17:18:18 WARN RowBasedKeyValueBatch: Calling spill() on RowBasedKeyValueBatch. Will not spill but return 0.\n",
      "24/11/24 17:18:24 WARN RowBasedKeyValueBatch: Calling spill() on RowBasedKeyValueBatch. Will not spill but return 0.\n",
      "24/11/24 17:18:24 WARN RowBasedKeyValueBatch: Calling spill() on RowBasedKeyValueBatch. Will not spill but return 0.\n",
      "24/11/24 17:18:24 WARN RowBasedKeyValueBatch: Calling spill() on RowBasedKeyValueBatch. Will not spill but return 0.\n",
      "24/11/24 17:18:25 WARN RowBasedKeyValueBatch: Calling spill() on RowBasedKeyValueBatch. Will not spill but return 0.\n",
      "24/11/24 17:18:30 WARN RowBasedKeyValueBatch: Calling spill() on RowBasedKeyValueBatch. Will not spill but return 0.\n",
      "24/11/24 17:18:30 WARN RowBasedKeyValueBatch: Calling spill() on RowBasedKeyValueBatch. Will not spill but return 0.\n",
      "[Stage 82:=======================>                                  (2 + 3) / 5]\r"
     ]
    },
    {
     "name": "stdout",
     "output_type": "stream",
     "text": [
      "+------+----------+------------------+\n",
      "|userID|artistID_2|avg_similarity    |\n",
      "+------+----------+------------------+\n",
      "|2100  |6333      |1.0               |\n",
      "|2100  |6864      |1.0               |\n",
      "|2100  |8703      |1.0               |\n",
      "|2100  |6826      |0.7071067811865475|\n",
      "|2100  |4307      |0.7071067811865475|\n",
      "|2100  |4932      |0.7071067811865475|\n",
      "|2100  |4993      |0.7071067811865475|\n",
      "|2100  |5856      |0.7071067811865475|\n",
      "|2100  |5531      |0.7071067811865475|\n",
      "|2100  |6511      |0.7071067811865475|\n",
      "|2100  |6704      |0.7071067811865475|\n",
      "|2100  |4889      |0.7071067811865475|\n",
      "|2100  |7670      |0.7071067811865475|\n",
      "|2100  |7962      |0.7071067811865475|\n",
      "|2100  |8273      |0.7071067811865475|\n",
      "|2100  |6874      |0.7071067811865475|\n",
      "|2100  |9028      |0.7071067811865475|\n",
      "|2100  |9109      |0.7071067811865475|\n",
      "|2100  |9493      |0.7071067811865475|\n",
      "|2100  |5020      |0.7071067811865475|\n",
      "|2100  |9166      |0.7071067811865475|\n",
      "|2100  |7001      |0.7071067811865475|\n",
      "|2100  |5142      |0.7071067811865475|\n",
      "|2100  |7663      |0.7071067811865475|\n",
      "|2100  |5227      |0.7071067811865475|\n",
      "|2100  |7995      |0.7071067811865475|\n",
      "|2100  |5691      |0.7071067811865475|\n",
      "|2100  |8382      |0.7071067811865475|\n",
      "|2100  |5780      |0.7071067811865475|\n",
      "|2100  |8762      |0.7071067811865475|\n",
      "|2100  |6506      |0.7071067811865475|\n",
      "|2100  |8900      |0.7071067811865475|\n",
      "|2100  |6541      |0.7071067811865475|\n",
      "|2100  |8047      |0.7071067811865475|\n",
      "|2100  |8061      |0.7071067811865475|\n",
      "|2100  |8840      |0.7071067811865475|\n",
      "|2100  |4470      |0.5773502691896258|\n",
      "|2100  |5583      |0.5773502691896258|\n",
      "|2100  |5518      |0.5773502691896258|\n",
      "|2100  |4277      |0.5773502691896258|\n",
      "|2100  |5795      |0.5773502691896258|\n",
      "|2100  |6919      |0.5773502691896258|\n",
      "|2100  |6610      |0.5773502691896258|\n",
      "|2100  |5101      |0.5773502691896258|\n",
      "|2100  |8099      |0.5773502691896258|\n",
      "|2100  |8876      |0.5773502691896258|\n",
      "|2100  |8123      |0.5773502691896258|\n",
      "|2100  |5533      |0.5773502691896258|\n",
      "|2100  |5572      |0.5773502691896258|\n",
      "|2100  |5676      |0.5773502691896258|\n",
      "+------+----------+------------------+\n",
      "only showing top 50 rows\n",
      "\n"
     ]
    },
    {
     "name": "stderr",
     "output_type": "stream",
     "text": [
      "                                                                                \r"
     ]
    }
   ],
   "source": [
    "# Join user interactions with artist similarity data\n",
    "user_artist_df = user_artists_df.join(artists_df, user_artists_df.artistID == artists_df.id).select(\n",
    "    user_artists_df[\"userID\"], \n",
    "    user_artists_df[\"artistID\"]\n",
    ")\n",
    "\n",
    "# Join user interactions with artist similarity data\n",
    "user_recommendations = user_artist_df.join(\n",
    "    similarities_df,\n",
    "    user_artist_df.artistID == similarities_df.artistID_1\n",
    ").groupBy(\"userID\", \"artistID_2\") \\\n",
    " .agg(F.mean(\"similarity\").alias(\"avg_similarity\")) \\\n",
    " .orderBy(\"userID\", \"avg_similarity\", ascending=False)\n",
    "\n",
    "# Display recommendations\n",
    "user_recommendations.show(50, truncate=False)"
   ]
  },
  {
   "cell_type": "code",
   "execution_count": 11,
   "metadata": {},
   "outputs": [
    {
     "name": "stderr",
     "output_type": "stream",
     "text": [
      "[Stage 95:>                                                         (0 + 4) / 4]\r"
     ]
    },
    {
     "name": "stdout",
     "output_type": "stream",
     "text": [
      "+------+----------+-----------------------+-------------------+\n",
      "|userID|artistID_2|artist_name            |avg_similarity     |\n",
      "+------+----------+-----------------------+-------------------+\n",
      "|5     |995       |China Crisis           |0.43643578047198495|\n",
      "|5     |93        |Jean-Michel Jarre      |0.4220981192619431 |\n",
      "|5     |1129      |Villa cariño           |0.4163331998932266 |\n",
      "|5     |1130      |Ludwig van Beethoven   |0.4163331998932266 |\n",
      "|5     |908       |Vanessa Hudgens        |0.3920784235278428 |\n",
      "|5     |1283      |Blue Planet Corporation|0.3829708431025352 |\n",
      "|5     |1324      |A7ie                   |0.3829708431025352 |\n",
      "|5     |1196      |Suicide Silence        |0.36666666666666664|\n",
      "|5     |1396      |Digitalism             |0.3651483716701107 |\n",
      "|5     |1331      |Accessory              |0.34815531191139565|\n",
      "+------+----------+-----------------------+-------------------+\n",
      "only showing top 10 rows\n",
      "\n"
     ]
    },
    {
     "name": "stderr",
     "output_type": "stream",
     "text": [
      "                                                                                \r"
     ]
    }
   ],
   "source": [
    "# Input a user I\n",
    "input_user_id = 5\n",
    "\n",
    "# Get artists the user has already interacted with\n",
    "interacted_artists = user_artists_df.filter(F.col(\"userID\") == input_user_id).select(\"artistID\")\n",
    "\n",
    "# Collect artistIDs as a list for filtering\n",
    "interacted_artist_ids = [row[\"artistID\"] for row in interacted_artists.collect()]\n",
    "\n",
    "# Generate recommendations for the user\n",
    "user_recommendations_filtered = (\n",
    "    user_artist_df.filter(F.col(\"userID\") == input_user_id)\n",
    "    .join(similarities_df, user_artist_df.artistID == similarities_df.artistID_1)\n",
    "    .filter(~F.col(\"artistID_2\").isin(interacted_artist_ids))  # Exclude already interacted artists\n",
    "    .groupBy(\"userID\", \"artistID_2\")\n",
    "    .agg(F.mean(\"similarity\").alias(\"avg_similarity\"))\n",
    "    .orderBy(F.col(\"avg_similarity\").desc())  # Ensure descending order\n",
    ")\n",
    "\n",
    "# Add artist names to the recommendations\n",
    "user_recommendations_with_names = (\n",
    "    user_recommendations_filtered\n",
    "    .join(artists_df, user_recommendations_filtered.artistID_2 == artists_df.id, how=\"inner\")\n",
    "    .select(\n",
    "        \"userID\",\n",
    "        \"artistID_2\",\n",
    "        F.col(\"name\").alias(\"artist_name\"),\n",
    "        \"avg_similarity\"\n",
    "    )\n",
    "    .orderBy(F.col(\"avg_similarity\").desc())  # Reconfirm descending order for display\n",
    ")\n",
    "\n",
    "# Display the recommendations with artist names\n",
    "user_recommendations_with_names.show(10, truncate=False)\n"
   ]
  },
  {
   "cell_type": "markdown",
   "metadata": {},
   "source": [
    "I will now try to make afunction that inputs an artist, and finds similar artists and displays their tags they share in common"
   ]
  },
  {
   "cell_type": "code",
   "execution_count": 14,
   "metadata": {},
   "outputs": [
    {
     "name": "stderr",
     "output_type": "stream",
     "text": [
      "                                                                                \r"
     ]
    },
    {
     "name": "stdout",
     "output_type": "stream",
     "text": [
      "Artists similar to 'Jean-Michel Jarre':\n"
     ]
    },
    {
     "name": "stderr",
     "output_type": "stream",
     "text": [
      "                                                                                \r"
     ]
    },
    {
     "name": "stdout",
     "output_type": "stream",
     "text": [
      "+-----------------+-------------------+-------------------+\n",
      "|similar_artist_id|similar_artist_name|similarity         |\n",
      "+-----------------+-------------------+-------------------+\n",
      "|53               |Air                |0.4220981192619431 |\n",
      "|746              |Salem              |0.3488454123148556 |\n",
      "|85               |Spandau Ballet     |0.34644975803462397|\n",
      "|590              |Louis Prima        |0.3266090840290086 |\n",
      "|730              |Eagles             |0.23756554836659938|\n",
      "|197              |Tom Waits          |0.21428571428571427|\n",
      "|754              |Maximum the Hormone|0.1971734939170923 |\n",
      "|886              |Dragonette         |0.1543033499620919 |\n",
      "|1855             |Pillar             |0.14847846772912468|\n",
      "|18               |The Crüxshadows    |0.1320777173283695 |\n",
      "+-----------------+-------------------+-------------------+\n",
      "only showing top 10 rows\n",
      "\n",
      "Shared tags with 'Jean-Michel Jarre':\n"
     ]
    },
    {
     "name": "stderr",
     "output_type": "stream",
     "text": [
      "[Stage 137:>                                                        (0 + 1) / 1]\r"
     ]
    },
    {
     "name": "stdout",
     "output_type": "stream",
     "text": [
      "+---------------------+-----------------------------------+\n",
      "|artist_name          |shared_tags                        |\n",
      "+---------------------+-----------------------------------+\n",
      "|Diary of Dreams      |[ambient, seen live, electronic]   |\n",
      "|Moonspell            |[seen live, instrumental]          |\n",
      "|Marilyn Manson       |[90s, instrumental, seen live]     |\n",
      "|Combichrist          |[electro, seen live, electronic]   |\n",
      "|Grendel              |[electronic]                       |\n",
      "|Agonoize             |[electronic]                       |\n",
      "|Hocico               |[electronic]                       |\n",
      "|London After Midnight|[electronic]                       |\n",
      "|The Crüxshadows      |[electronica, electronic, synthpop]|\n",
      "|:wumpscut:           |[electronic]                       |\n",
      "+---------------------+-----------------------------------+\n",
      "only showing top 10 rows\n",
      "\n"
     ]
    },
    {
     "name": "stderr",
     "output_type": "stream",
     "text": [
      "                                                                                \r"
     ]
    }
   ],
   "source": [
    "from pyspark.sql import functions as F\n",
    "\n",
    "# Input: Artist Name\n",
    "input_artist_name = \"Jean-Michel Jarre\"  # Change this to any artist name for testing\n",
    "\n",
    "# Step 1: Check if the artist exists in the dataset\n",
    "artist_exists = artists_df.filter(F.col(\"name\") == input_artist_name).count()\n",
    "\n",
    "if artist_exists == 0:\n",
    "    print(f\"The artist '{input_artist_name}' is not in the list.\")\n",
    "else:\n",
    "    # Step 2: Get the artist ID for the input artist\n",
    "    input_artist_id = artists_df.filter(F.col(\"name\") == input_artist_name).select(\"id\").first()[\"id\"]\n",
    "\n",
    "    # Step 3: Find similar artists using the similarity matrix\n",
    "    similar_artists = similarities_df.filter(\n",
    "        (F.col(\"artistID_1\") == input_artist_id) | (F.col(\"artistID_2\") == input_artist_id)\n",
    "    ).withColumn(\n",
    "        \"similar_artist_id\",\n",
    "        F.when(F.col(\"artistID_1\") == input_artist_id, F.col(\"artistID_2\")).otherwise(F.col(\"artistID_1\"))\n",
    "    ).join(\n",
    "        artists_df, F.col(\"similar_artist_id\") == artists_df.id\n",
    "    ).select(\n",
    "        F.col(\"similar_artist_id\"),\n",
    "        F.col(\"name\").alias(\"similar_artist_name\"),\n",
    "        F.col(\"similarity\")\n",
    "    ).orderBy(F.col(\"similarity\").desc())\n",
    "\n",
    "    # Step 4: Get tags for the input artist and similar artists\n",
    "    input_artist_tags = artist_tags_info_df.filter(\n",
    "        F.col(\"artistID\") == input_artist_id\n",
    "    ).select(\"tag\").distinct()\n",
    "\n",
    "    similar_artist_tags = artist_tags_info_df.filter(\n",
    "        F.col(\"artistID\").isin([row[\"similar_artist_id\"] for row in similar_artists.collect()])\n",
    "    ).select(\"artistID\", \"tag\").distinct()\n",
    "\n",
    "    # Step 5: Find shared tags between the input artist and similar artists\n",
    "    shared_tags = similar_artist_tags.join(\n",
    "        input_artist_tags, [\"tag\"], \"inner\"\n",
    "    ).groupBy(\"artistID\").agg(\n",
    "        F.collect_list(\"tag\").alias(\"shared_tags\")\n",
    "    ).join(\n",
    "        artists_df, F.col(\"artistID\") == artists_df.id\n",
    "    ).select(\n",
    "        F.col(\"name\").alias(\"artist_name\"),\n",
    "        \"shared_tags\"\n",
    "    )\n",
    "\n",
    "    # Display Results\n",
    "    print(f\"Artists similar to '{input_artist_name}':\")\n",
    "    similar_artists.show(10, truncate=False)\n",
    "\n",
    "    print(f\"Shared tags with '{input_artist_name}':\")\n",
    "    shared_tags.show(10, truncate=False)\n"
   ]
  },
  {
   "cell_type": "code",
   "execution_count": 16,
   "metadata": {},
   "outputs": [
    {
     "name": "stderr",
     "output_type": "stream",
     "text": [
      "                                                                                \r"
     ]
    },
    {
     "name": "stdout",
     "output_type": "stream",
     "text": [
      "Artists similar to 'Jean-Michel Jarre':\n"
     ]
    },
    {
     "name": "stderr",
     "output_type": "stream",
     "text": [
      "                                                                                \r"
     ]
    },
    {
     "name": "stdout",
     "output_type": "stream",
     "text": [
      "+-----------------+-------------------+-------------------+\n",
      "|similar_artist_id|similar_artist_name|similarity         |\n",
      "+-----------------+-------------------+-------------------+\n",
      "|53               |Air                |0.4220981192619431 |\n",
      "|746              |Salem              |0.3488454123148556 |\n",
      "|85               |Spandau Ballet     |0.34644975803462397|\n",
      "|590              |Louis Prima        |0.3266090840290086 |\n",
      "|730              |Eagles             |0.23756554836659938|\n",
      "|197              |Tom Waits          |0.21428571428571427|\n",
      "|754              |Maximum the Hormone|0.1971734939170923 |\n",
      "|886              |Dragonette         |0.1543033499620919 |\n",
      "|1855             |Pillar             |0.14847846772912468|\n",
      "|18               |The Crüxshadows    |0.1320777173283695 |\n",
      "+-----------------+-------------------+-------------------+\n",
      "\n",
      "Shared tags with 'Jean-Michel Jarre':\n"
     ]
    },
    {
     "name": "stderr",
     "output_type": "stream",
     "text": [
      "[Stage 170:>                                                        (0 + 1) / 1]\r"
     ]
    },
    {
     "name": "stdout",
     "output_type": "stream",
     "text": [
      "+---------------+------------------------------------------------------------------------------------------------+\n",
      "|name           |shared_tags                                                                                     |\n",
      "+---------------+------------------------------------------------------------------------------------------------+\n",
      "|Spandau Ballet |[pop, 1984 songs, fav songs, new wave, atmospheric, synthpop]                                   |\n",
      "|The Crüxshadows|[electronica, electronic, synthpop]                                                             |\n",
      "|Tom Waits      |[90s, instrumental]                                                                             |\n",
      "|Salem          |[electronica, electronic, ambient]                                                              |\n",
      "|Dragonette     |[pop, seen live, electronic]                                                                    |\n",
      "|Air            |[atmospheric, electro, instrumental, ambient, electronic, 90s, chillout, seen live, electronica]|\n",
      "|Eagles         |[pop]                                                                                           |\n",
      "+---------------+------------------------------------------------------------------------------------------------+\n",
      "\n"
     ]
    },
    {
     "name": "stderr",
     "output_type": "stream",
     "text": [
      "                                                                                \r"
     ]
    }
   ],
   "source": [
    "from pyspark.sql import functions as F\n",
    "\n",
    "# Input: Artist Name\n",
    "input_artist_name = \"Jean-Michel Jarre\"  # Change this to any artist name for testing\n",
    "\n",
    "# Step 1: Check if the artist exists in the dataset\n",
    "artist_exists = artists_df.filter(F.col(\"name\") == input_artist_name).count()\n",
    "\n",
    "if artist_exists == 0:\n",
    "    print(f\"The artist '{input_artist_name}' is not in the list.\")\n",
    "else:\n",
    "    # Step 2: Get the artist ID for the input artist\n",
    "    input_artist_id = artists_df.filter(F.col(\"name\") == input_artist_name).select(\"id\").first()[\"id\"]\n",
    "\n",
    "    # Step 3: Find similar artists using the similarity matrix\n",
    "    similar_artists = similarities_df.filter(\n",
    "        (F.col(\"artistID_1\") == input_artist_id) | (F.col(\"artistID_2\") == input_artist_id)\n",
    "    ).withColumn(\n",
    "        \"similar_artist_id\",\n",
    "        F.when(F.col(\"artistID_1\") == input_artist_id, F.col(\"artistID_2\")).otherwise(F.col(\"artistID_1\"))\n",
    "    ).join(\n",
    "        artists_df, F.col(\"similar_artist_id\") == artists_df.id\n",
    "    ).select(\n",
    "        F.col(\"similar_artist_id\"),\n",
    "        F.col(\"name\").alias(\"similar_artist_name\"),\n",
    "        F.col(\"similarity\")\n",
    "    ).orderBy(F.col(\"similarity\").desc())\n",
    "\n",
    "    # Step 4: Limit to the top similar artists\n",
    "    top_similar_artists = similar_artists.limit(10)\n",
    "\n",
    "    # Step 5: Get tags for the input artist\n",
    "    input_artist_tags = artist_tags_info_df.filter(\n",
    "        F.col(\"artistID\") == input_artist_id\n",
    "    ).select(\"tag\").distinct()\n",
    "\n",
    "    # Step 6: Get tags for the top similar artists\n",
    "    similar_artist_tags = artist_tags_info_df.filter(\n",
    "        F.col(\"artistID\").isin([row[\"similar_artist_id\"] for row in top_similar_artists.collect()])\n",
    "    ).select(\"artistID\", \"tag\").distinct()\n",
    "\n",
    "    # Step 7: Find shared tags between the input artist and top similar artists\n",
    "    shared_tags = similar_artist_tags.join(\n",
    "        input_artist_tags, [\"tag\"], \"inner\"\n",
    "    ).join(\n",
    "        artists_df, similar_artist_tags.artistID == artists_df.id\n",
    "    ).groupBy(\"name\").agg(\n",
    "        F.collect_list(\"tag\").alias(\"shared_tags\")\n",
    "    )\n",
    "\n",
    "    # Display Results\n",
    "    print(f\"Artists similar to '{input_artist_name}':\")\n",
    "    top_similar_artists.show(10, truncate=False)\n",
    "\n",
    "    print(f\"Shared tags with '{input_artist_name}':\")\n",
    "    shared_tags.show(10, truncate=False)\n"
   ]
  },
  {
   "cell_type": "code",
   "execution_count": 19,
   "metadata": {},
   "outputs": [
    {
     "name": "stderr",
     "output_type": "stream",
     "text": [
      "                                                                                \r"
     ]
    },
    {
     "name": "stdout",
     "output_type": "stream",
     "text": [
      "Artists similar to 'Kanye West':\n"
     ]
    },
    {
     "name": "stderr",
     "output_type": "stream",
     "text": [
      "                                                                                \r"
     ]
    },
    {
     "name": "stdout",
     "output_type": "stream",
     "text": [
      "+-----------------+-------------------+-------------------+\n",
      "|similar_artist_id|similar_artist_name|similarity         |\n",
      "+-----------------+-------------------+-------------------+\n",
      "|322              |Ashanti            |0.3654521978535896 |\n",
      "|596              |The Montesas       |0.3579169947954394 |\n",
      "|526              |La Roux            |0.33620447449965185|\n",
      "|296              |Sugababes          |0.3338489304447944 |\n",
      "|425              |Yeah Yeah Yeahs    |0.32803051263052163|\n",
      "|408              |Crossfade          |0.32410186177608213|\n",
      "|734              |Bruce Springsteen  |0.3144140727612663 |\n",
      "|336              |Vanessa Petruo     |0.3137254901960783 |\n",
      "|265              |Céline Dion        |0.3047887380849036 |\n",
      "|328              |David Guetta       |0.29127586401773153|\n",
      "+-----------------+-------------------+-------------------+\n",
      "\n",
      "Shared tags with 'Kanye West':\n"
     ]
    },
    {
     "name": "stderr",
     "output_type": "stream",
     "text": [
      "[Stage 260:>                                                        (0 + 1) / 1]\r"
     ]
    },
    {
     "name": "stdout",
     "output_type": "stream",
     "text": [
      "+-------------------+----------------------------------------------------------------------------------------------------------------------------------------------------------------------+-------------------+\n",
      "|similar_artist_name|shared_tags                                                                                                                                                           |similarity         |\n",
      "+-------------------+----------------------------------------------------------------------------------------------------------------------------------------------------------------------+-------------------+\n",
      "|Ashanti            |[favorite songs, rnb, american, female, hip-hop, sexy, amazing, hip hop, jams]                                                                                        |0.3654521978535896 |\n",
      "|The Montesas       |[]                                                                                                                                                                    |0.3579169947954394 |\n",
      "|La Roux            |[dance, alternative, awesome, electronic, favorite song, love at first listen]                                                                                        |0.33620447449965185|\n",
      "|Sugababes          |[sexy, female, love, 2009, 2007, dance, raven girls top 20, amazing, rnb, weekly top artists, favorites, awesome, weekly top tracks, 00s, electronic, catchy]         |0.3338489304447944 |\n",
      "|Yeah Yeah Yeahs    |[love at first listen, dance, cool, electronic, sad, american, alternative rock, alternative, favorites, favorite, awesome, favorite songs]                           |0.32803051263052163|\n",
      "|Crossfade          |[american, alternative, alternative rock, awesome]                                                                                                                    |0.32410186177608213|\n",
      "|Bruce Springsteen  |[american, sad, singer-songwriter]                                                                                                                                    |0.3144140727612663 |\n",
      "|Vanessa Petruo     |[]                                                                                                                                                                    |0.3137254901960783 |\n",
      "|Céline Dion        |[favorite, weekly top artists, american, english, sad, weekly top tracks, 00s, love, amazing, alternative, singer-songwriter, favorites, female, dance, classic]      |0.3047887380849036 |\n",
      "|David Guetta       |[rnb, top 40, love at first listen, 2008, club, rap, english, 2007, amazing, 00s, female, sexy, male vocalists, favorite songs, duet, catchy, 2009, dance, electronic]|0.29127586401773153|\n",
      "+-------------------+----------------------------------------------------------------------------------------------------------------------------------------------------------------------+-------------------+\n",
      "\n"
     ]
    },
    {
     "name": "stderr",
     "output_type": "stream",
     "text": [
      "                                                                                \r"
     ]
    }
   ],
   "source": [
    "from pyspark.sql import functions as F\n",
    "\n",
    "# Input: Artist Name\n",
    "input_artist_name = \"Kanye West\"  # Change this to any artist name for testing\n",
    "\n",
    "# Step 1: Check if the artist exists in the dataset\n",
    "artist_exists = artists_df.filter(F.col(\"name\") == input_artist_name).count()\n",
    "\n",
    "if artist_exists == 0:\n",
    "    print(f\"The artist '{input_artist_name}' is not in the list.\")\n",
    "else:\n",
    "    # Step 2: Get the artist ID for the input artist\n",
    "    input_artist_id = artists_df.filter(F.col(\"name\") == input_artist_name).select(\"id\").first()[\"id\"]\n",
    "\n",
    "    # Step 3: Find similar artists using the similarity matrix\n",
    "    similar_artists = similarities_df.filter(\n",
    "        (F.col(\"artistID_1\") == input_artist_id) | (F.col(\"artistID_2\") == input_artist_id)\n",
    "    ).withColumn(\n",
    "        \"similar_artist_id\",\n",
    "        F.when(F.col(\"artistID_1\") == input_artist_id, F.col(\"artistID_2\")).otherwise(F.col(\"artistID_1\"))\n",
    "    ).join(\n",
    "        artists_df, F.col(\"similar_artist_id\") == artists_df.id\n",
    "    ).select(\n",
    "        F.col(\"similar_artist_id\"),\n",
    "        F.col(\"name\").alias(\"similar_artist_name\"),\n",
    "        F.col(\"similarity\")\n",
    "    ).orderBy(F.col(\"similarity\").desc())\n",
    "\n",
    "    # Step 4: Limit to the top similar artists\n",
    "    top_similar_artists = similar_artists.limit(10)\n",
    "\n",
    "    # Step 5: Get tags for the input artist\n",
    "    input_artist_tags = artist_tags_info_df.filter(\n",
    "        F.col(\"artistID\") == input_artist_id\n",
    "    ).select(\"tag\").distinct()\n",
    "\n",
    "    # Step 6: Get tags for the top similar artists\n",
    "    similar_artist_tags = artist_tags_info_df.filter(\n",
    "        F.col(\"artistID\").isin([row[\"similar_artist_id\"] for row in top_similar_artists.collect()])\n",
    "    ).select(\"artistID\", \"tag\").distinct()\n",
    "\n",
    "    # Step 7: Find shared tags between the input artist and top similar artists\n",
    "    shared_tags = top_similar_artists.join(\n",
    "        similar_artist_tags.join(\n",
    "            input_artist_tags, [\"tag\"], \"inner\"\n",
    "        ).groupBy(\"artistID\").agg(\n",
    "            F.collect_list(\"tag\").alias(\"shared_tags\")\n",
    "        ),\n",
    "        top_similar_artists.similar_artist_id == similar_artist_tags.artistID,\n",
    "        how=\"left\"\n",
    "    ).select(\n",
    "        F.col(\"similar_artist_name\"),\n",
    "        F.coalesce(F.col(\"shared_tags\"), F.array()).alias(\"shared_tags\"),\n",
    "        F.col(\"similarity\")\n",
    "    ).orderBy(F.col(\"similarity\").desc())  # Ensure order matches top_similar_artists\n",
    "\n",
    "    # Display Results\n",
    "    print(f\"Artists similar to '{input_artist_name}':\")\n",
    "    top_similar_artists.show(10, truncate=False)\n",
    "\n",
    "    print(f\"Shared tags with '{input_artist_name}':\")\n",
    "    shared_tags.show(10, truncate=False)\n"
   ]
  }
 ],
 "metadata": {
  "kernelspec": {
   "display_name": "base",
   "language": "python",
   "name": "python3"
  },
  "language_info": {
   "codemirror_mode": {
    "name": "ipython",
    "version": 3
   },
   "file_extension": ".py",
   "mimetype": "text/x-python",
   "name": "python",
   "nbconvert_exporter": "python",
   "pygments_lexer": "ipython3",
   "version": "3.11.5"
  }
 },
 "nbformat": 4,
 "nbformat_minor": 2
}
