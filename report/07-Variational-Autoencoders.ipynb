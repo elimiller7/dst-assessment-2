{
 "cells": [
  {
   "cell_type": "markdown",
   "metadata": {},
   "source": [
    "## 0: Section Overview\n",
    "\n",
    "In the following documentation, we will explore the use of auto-encoders to address the question: Can we predict artist preferences for users based off left-out test data? We want to evaluate the computational performance of this model, while applying it to make predictions based off user data on artist preferences. Thus we will also address the question: How can different approaches to a recommender system affect the computational performance of our models?\n",
    "\n",
    "## 1: Necessary Imports"
   ]
  },
  {
   "cell_type": "code",
   "execution_count": 1,
   "metadata": {},
   "outputs": [],
   "source": [
    "import numpy as np\n",
    "import pandas as pd\n",
    "import torch\n",
    "from torch import nn, optim\n",
    "from sklearn.preprocessing import LabelEncoder\n",
    "from sklearn.manifold import TSNE\n",
    "import matplotlib.pyplot as plt\n",
    "import time\n",
    "import torch.nn.functional as F\n",
    "import tracemalloc"
   ]
  },
  {
   "cell_type": "markdown",
   "metadata": {},
   "source": [
    "## 2: Data Access and Preparation\n",
    "\n",
    "Our data is available in our GitHub repository in the file 'Data'."
   ]
  },
  {
   "cell_type": "code",
   "execution_count": 2,
   "metadata": {},
   "outputs": [],
   "source": [
    "path1 = '../data/user_artists.dat'\n",
    "path2 = '../data/artists.dat'\n",
    "\n",
    "user_data = pd.read_csv(path1, sep='\\t')\n",
    "artist_ids = pd.read_csv(path2, sep='\\t')"
   ]
  },
  {
   "cell_type": "markdown",
   "metadata": {},
   "source": [
    "We will now split the data into a test and train set so that we can evaluate our model on unseen data. We will then split the test set further into `test_x` and `test_y` such that we can use `test_x` to generate a prediction using our model, and `test_y` to evaluate this prediction. The train and test set will be split so that they contain mutually exclusive users, and 80% of the data is used for the train set and 20% for the test set. The test set will then be split so that 50% of each user's data is in `test_x` and `test_y`. This makes sense in the context of the problem since I want to ensure that the model has enough input data to provide a good prediction, but also enough verification data to accurately measure its performance. For this model, performance can be considered 'good' if many of its recommendations from `test_x` can also be observed in `test_y`, however there is a certain amount of randomness in this approach. Potentially the model could be providing 'good' predictions, but by chance, these do not correspond to the user's preferences in `test_y`. This is why we dedicate more data than is standard practice to the `test_y` set, to give a greater chance of the model's 'good' performance being recognised."
   ]
  },
  {
   "cell_type": "code",
   "execution_count": 3,
   "metadata": {},
   "outputs": [],
   "source": [
    "user_interaction_counts = user_data.groupby('userID').size()\n",
    "users_with_50_interactions = user_interaction_counts[user_interaction_counts >= 50].index\n",
    "user_data_filtered = user_data[user_data['userID'].isin(users_with_50_interactions)]\n",
    "\n",
    "unique_users = user_data_filtered['userID'].unique()\n",
    "\n",
    "# Ensure that test users have at least 50 interactions in 'test_data'\n",
    "\n",
    "np.random.seed(42)\n",
    "\n",
    "shuffled_users = np.random.permutation(unique_users)\n",
    "\n",
    "train_users = []\n",
    "test_users = []\n",
    "\n",
    "# Collect test users until we have enough that have at least 50 interactions\n",
    "for user in shuffled_users:\n",
    "    user_data_temp = user_data_filtered[user_data_filtered['userID'] == user]\n",
    "    if len(test_users) < int(0.2 * len(unique_users)):\n",
    "        test_users.append(user)\n",
    "    else:\n",
    "        train_users.append(user)\n",
    "\n",
    "# Recreate test_data and train_data\n",
    "train_data = user_data_filtered[user_data_filtered['userID'].isin(train_users)]\n",
    "test_data = user_data_filtered[user_data_filtered['userID'].isin(test_users)]\n",
    "\n",
    "# Now check that each user in test_data has 50 interactions\n",
    "# Remove any users from test_users who don't meet this criterion\n",
    "valid_test_users = []\n",
    "for user in test_users:\n",
    "    user_data_temp = test_data[test_data['userID'] == user]\n",
    "    if len(user_data_temp) == 50:\n",
    "        valid_test_users.append(user)\n",
    "\n",
    "# Update test_users and test_data\n",
    "test_users = valid_test_users\n",
    "test_data = test_data[test_data['userID'].isin(test_users)]\n",
    "\n",
    "# Update train_data to include any users removed from test_users\n",
    "removed_test_users = set(shuffled_users) - set(train_users) - set(test_users)\n",
    "if removed_test_users:\n",
    "    train_users.extend(list(removed_test_users))\n",
    "    train_data = user_data_filtered[user_data_filtered['userID'].isin(train_users)]\n",
    "\n",
    "# Split test_data into test_x and test_y\n",
    "test_x = pd.DataFrame(columns=test_data.columns)\n",
    "test_y = pd.DataFrame(columns=test_data.columns)\n",
    "\n",
    "for user in test_users:\n",
    "    user_data_temp = test_data[test_data['userID'] == user]\n",
    "    user_data_shuffled = user_data_temp.sample(frac=1, random_state=42)\n",
    "    user_test_x = user_data_shuffled.iloc[:25]\n",
    "    user_test_y = user_data_shuffled.iloc[25:50]\n",
    "    test_x = pd.concat([test_x, user_test_x], ignore_index=True)\n",
    "    test_y = pd.concat([test_y, user_test_y], ignore_index=True)"
   ]
  },
  {
   "cell_type": "markdown",
   "metadata": {},
   "source": [
    "Next we will encode our data using `LabelEncoder()` which converts categorical variables into numerical representations. Although our values are already numerical in this case, using an encoder can still be useful for ensuring the indices are compact and suitable for tensor or matrix operations, and also as a method for decoding indices back to original IDs for interpretability."
   ]
  },
  {
   "cell_type": "code",
   "execution_count": 4,
   "metadata": {},
   "outputs": [],
   "source": [
    "# Encode artistIDs\n",
    "artist_encoder = LabelEncoder()\n",
    "all_artistIDs = user_data_filtered['artistID'].unique()\n",
    "artist_encoder.fit(all_artistIDs)\n",
    "num_artists = len(artist_encoder.classes_)\n",
    "\n",
    "# Encode train users\n",
    "train_user_encoder = LabelEncoder()\n",
    "train_user_encoder.fit(train_users)\n",
    "num_train_users = len(train_user_encoder.classes_)\n",
    "\n",
    "# Encode test users\n",
    "test_user_encoder = LabelEncoder()\n",
    "test_user_encoder.fit(test_users)\n",
    "num_test_users = len(test_user_encoder.classes_)"
   ]
  },
  {
   "cell_type": "markdown",
   "metadata": {},
   "source": [
    "Now, we will create a user-item interaction matrix, and will scale our data before inputting it into the autoencoder. A user-interaction matrix is a structured and computationally efficient way to represent user preferences since its structure allows VAEs to leverage GPU acceleration for faster training, which we will see later. Data normalisation is essential for improving training efficiency, and preventing instability. If the data has a wide range of values, the model's weights may not converge during training, whearas for normalised data, the optimisation process becomes more stable and faster."
   ]
  },
  {
   "cell_type": "code",
   "execution_count": 5,
   "metadata": {},
   "outputs": [],
   "source": [
    "# Function to create user-item interaction matrix\n",
    "def create_user_item_matrix(data, user_encoder, num_users):\n",
    "    user_item_matrix = np.zeros((num_users, num_artists))\n",
    "    for idx, row in data.iterrows():\n",
    "        user_idx = user_encoder.transform([row['userID']])[0]\n",
    "        artist_idx = artist_encoder.transform([row['artistID']])[0]\n",
    "        weight = row['weight']\n",
    "        user_item_matrix[user_idx, artist_idx] = weight\n",
    "    return user_item_matrix\n",
    "\n",
    "train_user_item_matrix = create_user_item_matrix(train_data, train_user_encoder, num_train_users)\n",
    "test_x_user_item_matrix = create_user_item_matrix(test_x, test_user_encoder, num_test_users)\n",
    "test_y_user_item_matrix = create_user_item_matrix(test_y, test_user_encoder, num_test_users)\n",
    "\n",
    "# Scale data before inputting it into autoencoder\n",
    "# Find the maximum and minimum values across all matrices for consistent scaling\n",
    "max_value = max(train_user_item_matrix.max(), test_x_user_item_matrix.max(), test_y_user_item_matrix.max())\n",
    "min_value = min(train_user_item_matrix.min(), test_x_user_item_matrix.min(), test_y_user_item_matrix.min())\n",
    "\n",
    "# Define a function to normalise a matrix\n",
    "def normalise(matrix, min_value, max_value):\n",
    "    return (matrix - min_value) / (max_value - min_value)\n",
    "\n",
    "# Normalise each matrix\n",
    "train_user_item_matrix = normalise(train_user_item_matrix, min_value, max_value)\n",
    "test_x_user_item_matrix = normalise(test_x_user_item_matrix, min_value, max_value)\n",
    "test_y_user_item_matrix = normalise(test_y_user_item_matrix, min_value, max_value)"
   ]
  },
  {
   "cell_type": "markdown",
   "metadata": {},
   "source": [
    "## 3: Variational Autoencoders\n",
    "\n",
    "### 3.1: Model Definition\n",
    "\n",
    "We will now define the autoencoder using object oriented programming. In the context of our problem, variational autoencoders (VAEs) will be useful since they provide a probabilistic approach to autoencoders. Unlike standard autoencoders, VAEs model the latent space as a continuous, smooth distribution with the learned parameters of mean and (log-)variance. Thus VAEs are generative as the model output is reconstructed from the latent space by sampling from the learned distribution. This generative property makes VAEs particularly appropriate for creating Recommender Systems since they address the cold-start problem, and problems associated data sparcity, by generating recommendations for unseen users effectively using the latent space distribution. Our VAE model consists of the functions: `__init__` , `encode`, `rreparametrise`, `decode`, and `forward`. The `__init__` function intialised the parameters of the input dimension, hidden dimension and latent dimension. The `encode` function respectively encodes to the latent space by outputting the mean and log-variance. `reparametrise` allows backprapogation by inputting the mean and log-variance and outputting a latent sample from $\\mathcal{N}(\\mu, \\sigma^2)$, whilst also sampling noise from a standard normal distribution. Then the function `decode` decodes the latent variable z back to the original data space, and `forward` in the function that defines the forward pass of the VAE by combining the other functions."
   ]
  },
  {
   "cell_type": "code",
   "execution_count": 6,
   "metadata": {},
   "outputs": [],
   "source": [
    "class VAE(nn.Module):\n",
    "    def __init__(self, input_dim, hidden_dim, latent_dim):\n",
    "        super(VAE, self).__init__()\n",
    "        # Encoder\n",
    "        self.fc1 = nn.Linear(input_dim, hidden_dim)\n",
    "        self.fc_mu = nn.Linear(hidden_dim, latent_dim)\n",
    "        self.fc_logvar = nn.Linear(hidden_dim, latent_dim)\n",
    "        # Decoder\n",
    "        self.fc_decode = nn.Linear(latent_dim, hidden_dim)\n",
    "        self.fc_out = nn.Linear(hidden_dim, input_dim)\n",
    "        \n",
    "    def encode(self, x):\n",
    "        h = torch.relu(self.fc1(x))\n",
    "        mu = self.fc_mu(h)\n",
    "        logvar = self.fc_logvar(h)\n",
    "        logvar = torch.clamp(logvar, min=-10, max=10)\n",
    "        return mu, logvar\n",
    "    \n",
    "    def reparameterise(self, mu, logvar):\n",
    "        std = torch.exp(0.5 * logvar)\n",
    "        eps = torch.randn_like(std)\n",
    "        return mu + eps * std\n",
    "    \n",
    "    def decode(self, z):\n",
    "        h = torch.relu(self.fc_decode(z))\n",
    "        return torch.sigmoid(self.fc_out(h))\n",
    "    \n",
    "    def forward(self, x):\n",
    "        mu, logvar = self.encode(x)\n",
    "        z = self.reparameterise(mu, logvar)\n",
    "        return self.decode(z), mu, logvar"
   ]
  },
  {
   "cell_type": "markdown",
   "metadata": {},
   "source": [
    "### 3.2: Model Training\n",
    "\n",
    "Now we will train our model using the `train_user_item_matrix` created from our train dataset. We use a dataloader to implement batches which splits the data into smaller batches, so that only a smaller subset of the data is loaded into memory at any time, making the model more computationally efficient. Moreover, if a GPU is available, it can leverage the parallel computation capabilities of batches for efficient data processing, which speeds up training.\n",
    "\n",
    "For readability, and to facilitate adapting the model later, we will use a series of functions to define the implementation of our model."
   ]
  },
  {
   "cell_type": "code",
   "execution_count": 7,
   "metadata": {},
   "outputs": [],
   "source": [
    "def train_model(train_user_item_matrix, artist_encoder, layers, batch_size=64, optimiser=None):\n",
    "    # Convert train data to tensor\n",
    "    train_tensor = torch.FloatTensor(train_user_item_matrix)\n",
    "\n",
    "    # Create DataLoader\n",
    "    train_dataset = torch.utils.data.TensorDataset(train_tensor)\n",
    "    train_loader = torch.utils.data.DataLoader(train_dataset, batch_size=batch_size, shuffle=True)\n",
    "\n",
    "    # Initialise the model, optimiser, and loss function\n",
    "    num_artists = len(artist_encoder.classes_)\n",
    "\n",
    "    if layers == 1:\n",
    "        input_dim = num_artists\n",
    "        hidden_dim = 256\n",
    "        latent_dim = 50\n",
    "        model = VAE(input_dim, hidden_dim, latent_dim)\n",
    "\n",
    "    if layers == 2:\n",
    "        input_dim = num_artists\n",
    "        hidden_dim1 = 512\n",
    "        hidden_dim2 = 256\n",
    "        latent_dim = 50\n",
    "        model = VAE(input_dim, hidden_dim1, hidden_dim2, latent_dim)\n",
    "\n",
    "    if optimiser == None:\n",
    "        optimiser = optim.Adam(model.parameters(), lr=1e-3)\n",
    "    \n",
    "    if optimiser == 'SGD':\n",
    "        optimiser = optim.SGD(model.parameters(), lr=1e-3, momentum=0.9)\n",
    "\n",
    "\n",
    "    def loss_function(recon_x, x, mu, logvar):\n",
    "        MSE = nn.functional.mse_loss(recon_x, x, reduction='sum')\n",
    "        KLD = -0.5 * torch.sum(1 + logvar - mu.pow(2) - logvar.exp())\n",
    "        return MSE + KLD\n",
    "\n",
    "    # Training loop\n",
    "    num_epochs = 10\n",
    "    for epoch in range(num_epochs):\n",
    "        model.train()\n",
    "        train_loss = 0\n",
    "        for data_batch in train_loader:\n",
    "            data = data_batch[0]\n",
    "            optimiser.zero_grad()\n",
    "            recon_batch, mu, logvar = model(data)\n",
    "            loss = loss_function(recon_batch, data, mu, logvar)\n",
    "            loss.backward()\n",
    "            train_loss += loss.item()\n",
    "            optimiser.step()\n",
    "        # We have the option to print the loss at each epoch\n",
    "        loss_at_epoch = train_loss / len(train_loader.dataset)\n",
    "\n",
    "    model.eval()\n",
    "    latent_mu_list = []\n",
    "    latent_logvar_list = []\n",
    "\n",
    "    with torch.no_grad():\n",
    "        for data_batch in train_loader:  # or test_loader\n",
    "            data = data_batch[0]\n",
    "            mu, logvar = model.encode(data)\n",
    "            latent_mu_list.append(mu)\n",
    "            latent_logvar_list.append(logvar)\n",
    "\n",
    "    latent_mu = torch.cat(latent_mu_list).cpu().numpy()\n",
    "\n",
    "    return model, latent_mu"
   ]
  },
  {
   "cell_type": "markdown",
   "metadata": {},
   "source": [
    "### 3.3: Model Testing\n",
    "\n",
    "Now we will test our model using our test data. We will provide a variety of metrics which can each be used to judge model performance. MSE is the standard metric which measures the squared difference between the values of the reconstructed output, `predictions`, and the true values, `test_y_tensor`. The hit rate @ k measures the proportion of users for which at least one of their top-k predictions (the top-k elements of `predictions`), is also in `test_y_tensor`. The Normalised Discounted Cumulative Gain (NDCG) measures how well the model ranks relevant items along the top-k predictions, while taking into account the ranking of recommendations."
   ]
  },
  {
   "cell_type": "code",
   "execution_count": 8,
   "metadata": {},
   "outputs": [],
   "source": [
    "def test_model(model, test_x_user_item_matrix, test_y_user_item_matrix, metric, k=5):\n",
    "\n",
    "    # Convert test data to tensor\n",
    "    test_x_tensor = torch.FloatTensor(test_x_user_item_matrix)\n",
    "    test_y_tensor = torch.FloatTensor(test_y_user_item_matrix)\n",
    "\n",
    "    # Get the model's predictions on test_x\n",
    "    model.eval()\n",
    "\n",
    "    with torch.no_grad():\n",
    "        predictions, _, _ = model(test_x_tensor) # Reconstructed predictions\n",
    "\n",
    "    if metric == 'MSE':\n",
    "        mse_loss = nn.functional.mse_loss(predictions, test_y_tensor)\n",
    "        return mse_loss, predictions\n",
    "\n",
    "    if metric == 'Hit Rate':\n",
    "        def hit_rate_at_k(true_matrix, predicted_matrix, k):\n",
    "            hits = 0\n",
    "            n_users = true_matrix.shape[0]\n",
    "\n",
    "            for user_idx in range(n_users):\n",
    "\n",
    "                _, top_k_indices = torch.topk(predicted_matrix[user_idx], k=k, largest=True, sorted=True)\n",
    "\n",
    "                if torch.any(true_matrix[user_idx][top_k_indices] > 0):\n",
    "                    hits += 1\n",
    "\n",
    "            return hits / n_users\n",
    "        \n",
    "        hit_rate = hit_rate_at_k(test_y_tensor, predictions, k)\n",
    "        return hit_rate, predictions\n",
    "    \n",
    "    if metric == 'NDCG':\n",
    "        def ndcg_at_k(true_matrix, predicted_matrix, k):\n",
    "            n_users = true_matrix.shape[0]\n",
    "            ndcg_scores = torch.zeros(n_users)\n",
    "\n",
    "            for user_idx in range(n_users):\n",
    "                _, top_k_indices = torch.topk(predicted_matrix[user_idx], k=k, largest=True, sorted=True)\n",
    "                \n",
    "                true_relevance = true_matrix[user_idx][top_k_indices]\n",
    "\n",
    "                # Compute DCG@k\n",
    "                gains = true_relevance / torch.log2(torch.arange(2, k + 2, dtype=torch.float32))\n",
    "                dcg = torch.sum(gains)\n",
    "\n",
    "                # Compute IDCG@k (ideal DCG)\n",
    "                sorted_relevance, _ = torch.sort(true_matrix[user_idx], descending=True)\n",
    "                ideal_relevance = sorted_relevance[:k]\n",
    "                ideal_gains = ideal_relevance / torch.log2(torch.arange(2, k + 2, dtype=torch.float32))\n",
    "                idcg = torch.sum(ideal_gains)\n",
    "\n",
    "                # Avoid division by zero in case of no relevant items\n",
    "                ndcg_scores[user_idx] = dcg / idcg if idcg > 0 else 0\n",
    "\n",
    "            return torch.mean(ndcg_scores)\n",
    "                \n",
    "        return ndcg_at_k(test_y_tensor, predictions, k), predictions"
   ]
  },
  {
   "cell_type": "code",
   "execution_count": 47,
   "metadata": {},
   "outputs": [
    {
     "name": "stdout",
     "output_type": "stream",
     "text": [
      "Test MSE: 0.00016167547437362373\n",
      "Hit Rate: 0.005479452054794521\n",
      "NDCG: 0.0014055618084967136\n"
     ]
    }
   ],
   "source": [
    "model, latent_mu = train_model(train_user_item_matrix, artist_encoder, layers=1)\n",
    "mse, predictions = test_model(model, test_x_user_item_matrix, test_y_user_item_matrix, metric='MSE')\n",
    "print(f\"Test MSE: {mse}\")\n",
    "hit_rate, predictions = test_model(model, test_x_user_item_matrix, test_y_user_item_matrix, metric='Hit Rate')\n",
    "print(f'Hit Rate: {hit_rate}')\n",
    "ndcg, predictions = test_model(model, test_x_user_item_matrix, test_y_user_item_matrix, metric='NDCG')\n",
    "print(f'NDCG: {ndcg}')"
   ]
  },
  {
   "cell_type": "markdown",
   "metadata": {},
   "source": [
    "### 3.4: Model Visualisation\n",
    "\n",
    "The above results show ... Now we will plot the latent space in order to visualise how our VAE is .... Since our data points are the rows of our input user-artist interaction matrix (`test_x_user_item_matrix`), we can define `labels` as our user IDs, and use these labels to colour-code the data points in our latent space. "
   ]
  },
  {
   "cell_type": "code",
   "execution_count": 49,
   "metadata": {},
   "outputs": [
    {
     "data": {
      "image/png": "[encoded data removed]",
      "text/plain": [
       "<Figure size 800x600 with 1 Axes>"
      ]
     },
     "metadata": {},
     "output_type": "display_data"
    }
   ],
   "source": [
    "tsne = TSNE(n_components=2, random_state=42)\n",
    "reduced_latent = tsne.fit_transform(latent_mu)\n",
    "m = len(test_x_user_item_matrix[0])\n",
    "list(np.arange(m))\n",
    "plt.figure(figsize=(8, 6))\n",
    "plt.scatter(reduced_latent[:, 0], reduced_latent[:, 1], alpha=0.6, s=10)\n",
    "plt.title(\"Latent Space Visualization\")\n",
    "plt.xlabel(\"Latent Dimension 1\")\n",
    "plt.ylabel(\"Latent Dimension 2\")\n",
    "plt.show()"
   ]
  },
  {
   "cell_type": "markdown",
   "metadata": {},
   "source": [
    "### 3.5: Baseline Computational Efficiency\n",
    "\n",
    "In order to evaluate computational efficiency, we will measure the efficiency of the initial version of the model, which will then serve as a baseline. Firstly, we will use the module `time`, which will allow us to track the run time of `train_model` and `test_model`."
   ]
  },
  {
   "cell_type": "code",
   "execution_count": 50,
   "metadata": {},
   "outputs": [
    {
     "name": "stdout",
     "output_type": "stream",
     "text": [
      "Training time: 24.56 seconds\n",
      "Testing time (with MSE): 0.11 seconds\n"
     ]
    }
   ],
   "source": [
    "start_time = time.time()\n",
    "model, latent_mu = train_model(train_user_item_matrix, artist_encoder, layers=1)\n",
    "train_time = time.time() - start_time\n",
    "print(f\"Training time: {train_time:.2f} seconds\")\n",
    "\n",
    "start_time = time.time()\n",
    "mse, predictions = test_model(model, test_x_user_item_matrix, test_y_user_item_matrix, metric='MSE')\n",
    "test_time = time.time() - start_time\n",
    "print(f\"Testing time (with MSE): {test_time:.2f} seconds\")"
   ]
  },
  {
   "cell_type": "markdown",
   "metadata": {},
   "source": [
    "## 4: Optimising the Model\n",
    "\n",
    "### 4.1: Adding Layers\n",
    "\n",
    "Now, we will adjust our model to try to improve its computational efficiency and its performance. The first adaptation we will make is to add additional layers to the VAE. This has the potential to enable our VAE to capture more complex patterns in the data, resulting in an improved reconstruction accuracy. However there is also a risk of overfitting, and vanishing or exploding gradients."
   ]
  },
  {
   "cell_type": "code",
   "execution_count": 9,
   "metadata": {},
   "outputs": [
    {
     "name": "stdout",
     "output_type": "stream",
     "text": [
      "Training time: 62.53 seconds\n",
      "Test MSE: 9.324674721256088e-08\n",
      "Hit Rate for k=5: 0.0027397260273972603\n",
      "NDCG for k=5: 0.0\n"
     ]
    }
   ],
   "source": [
    "class VAE(nn.Module):\n",
    "    def __init__(self, input_dim, hidden_dim1, hidden_dim2, latent_dim):\n",
    "        super(VAE, self).__init__()\n",
    "\n",
    "        self.fc1 = nn.Linear(input_dim, hidden_dim1)\n",
    "        self.fc2 = nn.Linear(hidden_dim1, hidden_dim2)\n",
    "        self.fc_mu = nn.Linear(hidden_dim2, latent_dim)\n",
    "        self.fc_logvar = nn.Linear(hidden_dim2, latent_dim)\n",
    "\n",
    "        self.fc_decode1 = nn.Linear(latent_dim, hidden_dim2)\n",
    "        self.fc_decode2 = nn.Linear(hidden_dim2, hidden_dim1)\n",
    "        self.fc_out = nn.Linear(hidden_dim1, input_dim)\n",
    "        \n",
    "    def encode(self, x):\n",
    "        h1 = torch.relu(self.fc1(x))\n",
    "        h2 = torch.relu(self.fc2(h1))\n",
    "        mu = self.fc_mu(h2)\n",
    "        logvar = self.fc_logvar(h2)\n",
    "        logvar = torch.clamp(logvar, min=-10, max=10)\n",
    "        return mu, logvar\n",
    "    \n",
    "    def reparameterise(self, mu, logvar):\n",
    "        std = torch.exp(0.5 * logvar)\n",
    "        eps = torch.randn_like(std)\n",
    "        return mu + eps * std\n",
    "    \n",
    "    def decode(self, z):\n",
    "        h2 = torch.relu(self.fc_decode1(z))\n",
    "        h1 = torch.relu(self.fc_decode2(h2))\n",
    "        return torch.sigmoid(self.fc_out(h1))\n",
    "    \n",
    "    def forward(self, x):\n",
    "        mu, logvar = self.encode(x)\n",
    "        z = self.reparameterise(mu, logvar)\n",
    "        return self.decode(z), mu, logvar\n",
    "\n",
    "start_time = time.time()\n",
    "model, latent_mu = train_model(train_user_item_matrix, artist_encoder, layers=2)\n",
    "train_time = time.time() - start_time\n",
    "print(f\"Training time: {train_time:.2f} seconds\")\n",
    "mse, predictions = test_model(model, test_x_user_item_matrix, test_y_user_item_matrix, metric='MSE')\n",
    "print(f\"Test MSE: {mse}\")\n",
    "hit_rate, predictions = test_model(model, test_x_user_item_matrix, test_y_user_item_matrix, metric='Hit Rate')\n",
    "print(f'Hit Rate for k=5: {hit_rate}')\n",
    "ndcg, predictions = test_model(model, test_x_user_item_matrix, test_y_user_item_matrix, metric='NDCG')\n",
    "print(f'NDCG for k=5: {ndcg}')"
   ]
  },
  {
   "cell_type": "markdown",
   "metadata": {},
   "source": [
    "Note that, while a lower MSE indicates better model performance, a higher hit rate means that the model is 'hitting' more values which indicates better model performance, and similarly for NDCG. Also note that our MSE may be deceptively small, since it measures the MSE between the normalised matrices, where every entry is between 0 and 1. Thus, the squaring of these values makes them even smaller, leading to a very small MSE which does not necessarily reflect the fact that our model is highly accurate. This is why metrics such as hit rate and NDCG may be more appropriate for measuring the performance of our model. Compare and analyse these results ........................................................................................................ also mention how results can vary due to probabilistic nature of VAE.\n",
    "\n",
    "The hit rate and the NDCG depend on the value of k, with the hit rate becoming stricter for smaller values of k, and the NDCG becoming more sensitive for smaller values of k. In the context of our recommendation system, the hit rate with a large k value may be more appropriate since we want to evaluate the overall recommendation quality of our model, not just the top few recommendations. Additionally, the NDCG may be less relevant since we care less about the ranking of relevant items, because we mostly just want to show that our recommender system can generate appropriate recommendations. However, we must be careful to not choose our k value to be too high, as this can lead to an overly leniant metric which can overestimate the performance of our model."
   ]
  },
  {
   "cell_type": "code",
   "execution_count": 16,
   "metadata": {},
   "outputs": [
    {
     "name": "stdout",
     "output_type": "stream",
     "text": [
      "Hit Rate for k=10: 0.057534246575342465\n",
      "NDCG for k=10: 0.006563125178217888\n",
      "Hit Rate for k=20: 0.16712328767123288\n",
      "NDCG for k=20: 0.007571022026240826\n"
     ]
    }
   ],
   "source": [
    "hit_rate, predictions = test_model(model, test_x_user_item_matrix, test_y_user_item_matrix, metric='Hit Rate', k=10)\n",
    "print(f'Hit Rate for k=10: {hit_rate}')\n",
    "ndcg, predictions = test_model(model, test_x_user_item_matrix, test_y_user_item_matrix, metric='NDCG', k=10)\n",
    "print(f'NDCG for k=10: {ndcg}')\n",
    "hit_rate, predictions = test_model(model, test_x_user_item_matrix, test_y_user_item_matrix, metric='Hit Rate', k=20)\n",
    "print(f'Hit Rate for k=20: {hit_rate}')\n",
    "ndcg, predictions = test_model(model, test_x_user_item_matrix, test_y_user_item_matrix, metric='NDCG', k=20)\n",
    "print(f'NDCG for k=20: {ndcg}')"
   ]
  },
  {
   "cell_type": "markdown",
   "metadata": {},
   "source": [
    "### 4.2: Changing the Activation Function\n",
    "\n",
    "We will first consider the Exponential Linear Unit (ELU) activation function. ELU differs from the Rectified Linear Unit (ReLU) in its handling of negative input values. The ReLU function outputs ${x}$ if ${x>0}$, and ${0}$ if $x \\leq 0$. This introduces non-linearity to the VAE, allowing it to learn more complex interactions, however it can lead to the 'dying ReLU problem', where an output is consistently negative and thus this layer of the network effectively 'dies', or stops working. This problem can be solved by using ELU, since the ELU allows a small gradient for negative inputs, and also introduces a smooth transition at ${x = 0}$. ELU has the potential to be particularly useful for a VAE model, where the latent space and reconstructed outputs can include a mix of values. However, the ELU function can increase computational cost slightly as it includes an exponential."
   ]
  },
  {
   "cell_type": "code",
   "execution_count": 10,
   "metadata": {},
   "outputs": [
    {
     "name": "stdout",
     "output_type": "stream",
     "text": [
      "Training time for ELU: 55.96 seconds\n",
      "Test MSE for ELU: 9.817393583944067e-05\n",
      "Hit Rate for k=20, ELU: 0.0273972602739726\n",
      "NDCG for k=20, ELU: 0.0012779345270246267\n"
     ]
    }
   ],
   "source": [
    "class VAE(nn.Module):\n",
    "    def __init__(self, input_dim, hidden_dim1, hidden_dim2, latent_dim):\n",
    "        super(VAE, self).__init__()\n",
    "\n",
    "        self.fc1 = nn.Linear(input_dim, hidden_dim1)\n",
    "        self.fc2 = nn.Linear(hidden_dim1, hidden_dim2)\n",
    "        self.fc_mu = nn.Linear(hidden_dim2, latent_dim)\n",
    "        self.fc_logvar = nn.Linear(hidden_dim2, latent_dim)\n",
    "        \n",
    "        self.fc_decode1 = nn.Linear(latent_dim, hidden_dim2)\n",
    "        self.fc_decode2 = nn.Linear(hidden_dim2, hidden_dim1)\n",
    "        self.fc_out = nn.Linear(hidden_dim1, input_dim)\n",
    "\n",
    "    def encode(self, x):\n",
    "        h1 = F.elu(self.fc1(x), alpha=1.0)\n",
    "        h2 = F.elu(self.fc2(h1), alpha=1.0)\n",
    "        mu = self.fc_mu(h2)\n",
    "        logvar = self.fc_logvar(h2)\n",
    "        logvar = torch.clamp(logvar, min=-10, max=10)\n",
    "        return mu, logvar\n",
    "\n",
    "    def reparameterise(self, mu, logvar):\n",
    "        std = torch.exp(0.5 * logvar)\n",
    "        eps = torch.randn_like(std)\n",
    "        return mu + eps * std\n",
    "\n",
    "    def decode(self, z):\n",
    "        h2 = F.elu(self.fc_decode1(z), alpha=1.0)\n",
    "        h1 = F.elu(self.fc_decode2(h2), alpha=1.0)\n",
    "        return torch.sigmoid(self.fc_out(h1))\n",
    "\n",
    "    def forward(self, x):\n",
    "        mu, logvar = self.encode(x)\n",
    "        z = self.reparameterise(mu, logvar)\n",
    "        return self.decode(z), mu, logvar\n",
    "\n",
    "start_time = time.time()\n",
    "model, latent_mu = train_model(train_user_item_matrix, artist_encoder, layers=2)\n",
    "train_time = time.time() - start_time\n",
    "print(f\"Training time for ELU: {train_time:.2f} seconds\")\n",
    "mse, predictions = test_model(model, test_x_user_item_matrix, test_y_user_item_matrix, metric='MSE')\n",
    "print(f\"Test MSE for ELU: {mse}\")\n",
    "hit_rate, predictions = test_model(model, test_x_user_item_matrix, test_y_user_item_matrix, metric='Hit Rate', k=20)\n",
    "print(f'Hit Rate for k=20, ELU: {hit_rate}')\n",
    "ndcg, predictions = test_model(model, test_x_user_item_matrix, test_y_user_item_matrix, metric='NDCG', k=20)\n",
    "print(f'NDCG for k=20, ELU: {ndcg}')"
   ]
  },
  {
   "cell_type": "markdown",
   "metadata": {},
   "source": [
    "As we can see, the ELU function seems to perform worst, with the longest training time, which could be due to its greater computational complexity.\n",
    "\n",
    "We will now try implementing the activation function Leaky Rectified Linear Unit (Leaky ReLU), which also allows small negative values, but does not include an exponential."
   ]
  },
  {
   "cell_type": "code",
   "execution_count": 53,
   "metadata": {},
   "outputs": [
    {
     "name": "stdout",
     "output_type": "stream",
     "text": [
      "Training time for Leaky ReLU: 53.98 seconds\n",
      "Test MSE for Leaky ReLU: 9.670124967442462e-08\n",
      "Hit Rate for k=20, Leaky ReLU: 0.005479452054794521\n",
      "NDCG for k=20, Leaky ReLU: 0.0006751553737558424\n"
     ]
    }
   ],
   "source": [
    "class VAE(nn.Module):\n",
    "    def __init__(self, input_dim, hidden_dim1, hidden_dim2, latent_dim):\n",
    "        super(VAE, self).__init__()\n",
    "\n",
    "        self.fc1 = nn.Linear(input_dim, hidden_dim1)\n",
    "        self.fc2 = nn.Linear(hidden_dim1, hidden_dim2)\n",
    "        self.fc_mu = nn.Linear(hidden_dim2, latent_dim)\n",
    "        self.fc_logvar = nn.Linear(hidden_dim2, latent_dim)\n",
    "        \n",
    "        self.fc_decode1 = nn.Linear(latent_dim, hidden_dim2)\n",
    "        self.fc_decode2 = nn.Linear(hidden_dim2, hidden_dim1)\n",
    "        self.fc_out = nn.Linear(hidden_dim1, input_dim)\n",
    "\n",
    "    def encode(self, x):\n",
    "        h1 = F.leaky_relu(self.fc1(x), negative_slope=0.01)\n",
    "        h2 = F.leaky_relu(self.fc2(h1), negative_slope=0.01)\n",
    "        mu = self.fc_mu(h2)\n",
    "        logvar = self.fc_logvar(h2)\n",
    "        logvar = torch.clamp(logvar, min=-10, max=10)\n",
    "        return mu, logvar\n",
    "\n",
    "    def reparameterise(self, mu, logvar):\n",
    "        std = torch.exp(0.5 * logvar)\n",
    "        eps = torch.randn_like(std)\n",
    "        return mu + eps * std\n",
    "\n",
    "    def decode(self, z):\n",
    "        h2 = F.leaky_relu(self.fc_decode1(z), negative_slope=0.01)\n",
    "        h1 = F.leaky_relu(self.fc_decode2(h2), negative_slope=0.01)\n",
    "        return torch.sigmoid(self.fc_out(h1))\n",
    "\n",
    "    def forward(self, x):\n",
    "        mu, logvar = self.encode(x)\n",
    "        z = self.reparameterise(mu, logvar)\n",
    "        return self.decode(z), mu, logvar\n",
    "\n",
    "start_time = time.time()\n",
    "model, latent_mu = train_model(train_user_item_matrix, artist_encoder, layers=2)\n",
    "train_time = time.time() - start_time\n",
    "print(f\"Training time for Leaky ReLU: {train_time:.2f} seconds\")\n",
    "mse, predictions = test_model(model, test_x_user_item_matrix, test_y_user_item_matrix, metric='MSE')\n",
    "print(f\"Test MSE for Leaky ReLU: {mse}\")\n",
    "hit_rate, predictions = test_model(model, test_x_user_item_matrix, test_y_user_item_matrix, metric='Hit Rate',)\n",
    "print(f'Hit Rate for k=20, Leaky ReLU: {hit_rate}')\n",
    "ndcg, predictions = test_model(model, test_x_user_item_matrix, test_y_user_item_matrix, metric='NDCG', k=20)\n",
    "print(f'NDCG for k=20, Leaky ReLU: {ndcg}')"
   ]
  },
  {
   "cell_type": "markdown",
   "metadata": {},
   "source": [
    "Now, we will consider batch optimisation for improving our model's performance and compuational efficiency.\n",
    "\n",
    "### 4.3: Batch optimisation\n",
    "\n",
    "In autoencoders, batches are subsets of the dataset which can be used to compute the model's forward and backward pass during training. Using batches reduces the computational cost, by dividing the dataset into smaller subsets which are passed through the model one at a time, instead of passing the entire dataset at once. Using a GPU can also parallelise this process which will then be even more computationally efficient, and faster. But choosing the optimal batch size is important, as a smaller batch size can provide greater stochasticity in gradient updates, leading to better model generalisation, while a larger batch size can lead to faster convergence. Batches are especially important when working with large datasets, because they improve efficiency, and allow the model to be trained on data that is too large to fit in memory. We can also adjust our model to include batch normalisation. This can enhance compuational efficiency by normalising the inputs at each layer of the model which can improve convergence."
   ]
  },
  {
   "cell_type": "code",
   "execution_count": 11,
   "metadata": {},
   "outputs": [
    {
     "name": "stdout",
     "output_type": "stream",
     "text": [
      "Training time, batch size=256: 24.98 seconds\n",
      "Test MSE, batch size=256: 2.0917730125802336e-07\n",
      "Hit Rate for k=20, batch size=256: 0.0136986301369863\n",
      "NDCG for k=20, batch size=256: 0.0007118417997844517\n"
     ]
    }
   ],
   "source": [
    "class VAE(nn.Module):\n",
    "    def __init__(self, input_dim, hidden_dim1, hidden_dim2, latent_dim):\n",
    "        super(VAE, self).__init__()\n",
    "        self.fc1 = nn.Linear(input_dim, hidden_dim1)\n",
    "        self.bn1 = nn.BatchNorm1d(hidden_dim1)  # Batch normalisation for the encoder hidden layer\n",
    "        self.fc2 = nn.Linear(hidden_dim1, hidden_dim2)\n",
    "        self.bn2 = nn.BatchNorm1d(hidden_dim2)  # Batch normalisation for the encoder hidden layer\n",
    "        self.fc_mu = nn.Linear(hidden_dim2, latent_dim)\n",
    "        self.fc_logvar = nn.Linear(hidden_dim2, latent_dim)\n",
    "\n",
    "        self.fc_decode1 = nn.Linear(latent_dim, hidden_dim2)\n",
    "        self.bn_decode1 = nn.BatchNorm1d(hidden_dim2)  # Batch normalisation for decoder hidden layer\n",
    "        self.fc_decode2 = nn.Linear(hidden_dim2, hidden_dim1)\n",
    "        self.bn_decode2 = nn.BatchNorm1d(hidden_dim1)  # Batch normalisation for decoder hidden layer\n",
    "        self.fc_out = nn.Linear(hidden_dim1, input_dim)\n",
    "\n",
    "    def encode(self, x):\n",
    "        h1 = F.relu(self.bn1(self.fc1(x)))\n",
    "        h2 = F.relu(self.bn2(self.fc2(h1)))\n",
    "        mu = self.fc_mu(h2)\n",
    "        logvar = self.fc_logvar(h2)\n",
    "        return mu, logvar\n",
    "\n",
    "    def reparameterise(self, mu, logvar):\n",
    "        std = torch.exp(0.5 * logvar)\n",
    "        eps = torch.randn_like(std)\n",
    "        return mu + eps * std\n",
    "\n",
    "    def decode(self, z):\n",
    "        h1 = F.relu(self.bn_decode1(self.fc_decode1(z)))\n",
    "        h2 = F.relu(self.bn_decode2(self.fc_decode2(h1)))\n",
    "        return torch.sigmoid(self.fc_out(h2))\n",
    "\n",
    "    def forward(self, x):\n",
    "        mu, logvar = self.encode(x)\n",
    "        z = self.reparameterise(mu, logvar)\n",
    "        return self.decode(z), mu, logvar\n",
    "\n",
    "start_time = time.time()\n",
    "model, latent_mu = train_model(train_user_item_matrix, artist_encoder, layers=2, batch_size=256)\n",
    "train_time = time.time() - start_time\n",
    "print(f\"Training time, batch size=256: {train_time:.2f} seconds\")\n",
    "mse, predictions = test_model(model, test_x_user_item_matrix, test_y_user_item_matrix, metric='MSE')\n",
    "print(f\"Test MSE, batch size=256: {mse}\")\n",
    "hit_rate, predictions = test_model(model, test_x_user_item_matrix, test_y_user_item_matrix, metric='Hit Rate',)\n",
    "print(f'Hit Rate for k=20, batch size=256: {hit_rate}')\n",
    "ndcg, predictions = test_model(model, test_x_user_item_matrix, test_y_user_item_matrix, metric='NDCG', k=20)\n",
    "print(f'NDCG for k=20, batch size=256: {ndcg}')"
   ]
  },
  {
   "cell_type": "markdown",
   "metadata": {},
   "source": [
    "As we can see, using batch normalisation and a batch size of 256 decreases the training time and the MSE and increases the hit rate.\n",
    "\n",
    "Another adaptation we can implement is changing the optimiser. Optimisers are algorithms that adjust the parameters of a model in order to minimise the loss function. We are currently using the optimiser `Adam` (Adaptive Moment Estimation), which combines the strengths of two other algorithms: `RMSprop` and `Momentum`. The Adam algorithm works by computing the gradient of the loss function and using this to update biased moving averages.  It then corrects the bias and updates the model parameters using the 'Adam rule'. It is known to be adaptive and fast, but sometimes prone to poor generalisation. `SGD` is a simpler algorithm which often generalises better, which we will try implementing now."
   ]
  },
  {
   "cell_type": "code",
   "execution_count": 31,
   "metadata": {},
   "outputs": [
    {
     "name": "stdout",
     "output_type": "stream",
     "text": [
      "Training time with SGD: 20.79 seconds\n",
      "Test MSE with SGD: nan\n",
      "Hit Rate for k=20 with SGD: 0.010958904109589041\n",
      "NDCG for k=20 with SGD: 0.0036875910591334105\n"
     ]
    }
   ],
   "source": [
    "start_time = time.time()\n",
    "model, latent_mu = train_model(train_user_item_matrix, artist_encoder, layers=2, batch_size=256, optimiser='SGD')\n",
    "train_time = time.time() - start_time\n",
    "print(f\"Training time with SGD: {train_time:.2f} seconds\")\n",
    "mse, predictions = test_model(model, test_x_user_item_matrix, test_y_user_item_matrix, metric='MSE')\n",
    "print(f\"Test MSE with SGD: {mse}\")\n",
    "hit_rate, predictions = test_model(model, test_x_user_item_matrix, test_y_user_item_matrix, metric='Hit Rate',)\n",
    "print(f'Hit Rate for k=20 with SGD: {hit_rate}')\n",
    "ndcg, predictions = test_model(model, test_x_user_item_matrix, test_y_user_item_matrix, metric='NDCG', k=20)\n",
    "print(f'NDCG for k=20 with SGD: {ndcg}')"
   ]
  },
  {
   "cell_type": "markdown",
   "metadata": {},
   "source": [
    "The nan value for the MSE here could be due to explosion of gradients, or vanishing or explosing gradients. \n",
    "\n",
    "## 5: Assembling the Recommender System\n",
    "\n",
    "Now that we have our VAE model, and we have adjusted the hyperparameters to optimise the performance metrics and the model efficiency, we can assemble the recommender system. As the above results show, we found the optimal VAE for this problem to have a batch size of 256, batch normalisation, 2 layers, and a ReLU activation function. We will first create two dictionaries that respectively convert an artist's ID to their name and an artist's name to their ID. Then we will define a function which, for a given user, outputs that user's top 10 favourite artists, as well as their top 10 recommended artists (generated by the autoencoder)."
   ]
  },
  {
   "cell_type": "code",
   "execution_count": 12,
   "metadata": {},
   "outputs": [
    {
     "name": "stdout",
     "output_type": "stream",
     "text": [
      "Top 10 True Artists for User 1104:\n",
      "1. Westlife\n",
      "2. Björk\n",
      "3. Prince\n",
      "4. Madonna\n",
      "5. Mariah Carey\n",
      "6. Michael Jackson\n",
      "7. Donna Summer\n",
      "8. Air Supply\n",
      "9. Meat Loaf\n",
      "10. Kylie Minogue\n",
      "\n",
      "Top 10 Recommended Artists for User 1104:\n",
      "1. Os Arrebatados\n",
      "2. Fall to the Queen\n",
      "3. Kaizers Orchestra\n",
      "4. Devils\n",
      "5. Asriel\n",
      "6. The Heartbreakers\n",
      "7. Noize MC\n",
      "8. Forever the Sickest Kids\n",
      "9. Red Hot 'N' Blue\n",
      "10. Pepper\n"
     ]
    }
   ],
   "source": [
    "# Define optimal VAE\n",
    "model, latent_mu = train_model(train_user_item_matrix, artist_encoder, layers=2, batch_size=256)\n",
    "mse, predictions = test_model(model, test_x_user_item_matrix, test_y_user_item_matrix, metric='MSE')\n",
    "\n",
    "artist_id_to_name = pd.Series(artist_ids.name.values, index=artist_ids.id).to_dict()\n",
    "name_to_artist_id = {v: k for k, v in artist_id_to_name.items()}\n",
    "\n",
    "def get_top_10_artists(userID, predictions, test_y_tensor, test_user_encoder, artist_encoder, artist_id_to_name):\n",
    "    # Get the index of the user in the tensor\n",
    "    if userID not in test_user_encoder.classes_:\n",
    "        print(\"User ID not found in the test set.\")\n",
    "        return\n",
    "    \n",
    "    user_idx = test_user_encoder.transform([userID])[0]\n",
    "    \n",
    "    # Get true ratings and predicted ratings for this user\n",
    "    true_ratings = test_y_tensor[user_idx]\n",
    "    predicted_ratings = predictions[user_idx]\n",
    "    \n",
    "    # Get the indices of the top 10 true artists (by highest ratings)\n",
    "    top_true_artist_indices = torch.topk(true_ratings, k=10).indices\n",
    "    # Convert the indices back to artistIDs\n",
    "    top_true_artist_ids = artist_encoder.inverse_transform(top_true_artist_indices.cpu().numpy())\n",
    "    top_true_artist_names = [artist_id_to_name.get(artist_id, \"Unknown Artist\") for artist_id in top_true_artist_ids]\n",
    "    \n",
    "    # Get the indices of the top 10 predicted artists (by highest predicted ratings)\n",
    "    top_predicted_artist_indices = torch.topk(predicted_ratings, k=10).indices\n",
    "    top_predicted_artist_ids = artist_encoder.inverse_transform(top_predicted_artist_indices.cpu().numpy())\n",
    "    top_predicted_artist_names = [artist_id_to_name.get(artist_id, \"Unknown Artist\") for artist_id in top_predicted_artist_ids]\n",
    "    \n",
    "    # Output the top 10 true and predicted artist names\n",
    "    print(f\"Top 10 True Artists for User {userID}:\")\n",
    "    for idx, artist_name in enumerate(top_true_artist_names, start=1):\n",
    "        print(f\"{idx}. {artist_name}\")\n",
    "    \n",
    "    print(f\"\\nTop 10 Recommended Artists for User {userID}:\")\n",
    "    for idx, artist_name in enumerate(top_predicted_artist_names, start=1):\n",
    "        print(f\"{idx}. {artist_name}\")\n",
    "\n",
    "get_top_10_artists(userID=1104, predictions=predictions, test_y_tensor = torch.FloatTensor(test_y_user_item_matrix), \n",
    "                   test_user_encoder=test_user_encoder, artist_encoder=artist_encoder, artist_id_to_name=artist_id_to_name)"
   ]
  },
  {
   "cell_type": "markdown",
   "metadata": {},
   "source": [
    "The following function input the list `artist_preferences` which can be any list of artist names which are contained in the database, and it outputs a recommendation based off `artist_preferences`. Thus, we can generate a recommendation for anyone based off their favourite artists. We can also use this function to visually analyse the performance of our model, by choosing artists of a specific genre and verifying if our model outputs recommendations from the same genre."
   ]
  },
  {
   "cell_type": "code",
   "execution_count": 38,
   "metadata": {},
   "outputs": [
    {
     "name": "stdout",
     "output_type": "stream",
     "text": [
      "Top 10 recommendations: \n",
      "The Tragically Hip\n",
      "Jorge Reyes\n",
      "Torche\n",
      "Тени Свободы\n",
      "OST Tension\n",
      "Supercombo\n",
      "Max Corbacho & Bruno Sanfilippo\n",
      "Arnaldo Antunes, Carlinhos Brown & Marisa Monte\n",
      "Counterstrike & Current Value\n",
      "Rinôçérôse\n"
     ]
    }
   ],
   "source": [
    "def recommendation_generator(artist_preferences, model):\n",
    "\n",
    "    columns = ['userID', 'artistID', 'weight']\n",
    "    df = pd.DataFrame(columns=columns)\n",
    "    rows = []\n",
    "    weight = 1000\n",
    "    for i in artist_preferences:\n",
    "        artistID = name_to_artist_id.get(i, None)\n",
    "        if artistID is None:\n",
    "            print('The artist ', i, ' unfortunately does not appear in our records, please pick a different artist')\n",
    "            return\n",
    "        if artistID is not None:\n",
    "            new_row = {'userID' : 2, 'artistID': artistID, 'weight' : weight}\n",
    "            weight -= 1\n",
    "            rows.append(new_row)\n",
    "    df = pd.concat([df, pd.DataFrame(rows)], ignore_index=True)\n",
    "    \n",
    "    # Encode df users\n",
    "    df_users = df['userID'].unique()\n",
    "    df_user_encoder = LabelEncoder()\n",
    "    df_user_encoder.fit(df_users)\n",
    "    num_df_users = len(df_user_encoder.classes_)\n",
    "    df_matrix = create_user_item_matrix(df, df_user_encoder, num_df_users)\n",
    "\n",
    "    # Scale data before inputting it into autoencoder\n",
    "    max_value = df_matrix.max()\n",
    "    min_value = df_matrix.min()\n",
    "\n",
    "    # Normalise each matrix\n",
    "    df_matrix = normalise(df_matrix, min_value, max_value)\n",
    "\n",
    "    # Convert test data to tensor\n",
    "    df_tensor = torch.FloatTensor(df_matrix)\n",
    "\n",
    "    model.eval()\n",
    "    with torch.no_grad():\n",
    "        prediction, _, _ = model(df_tensor) # Reconstructed predictions\n",
    "    \n",
    "    # Get the indices of the top 10 predicted artists (by highest predicted ratings)\n",
    "    top_predicted_artist_indices = torch.topk(prediction, k=10).indices\n",
    "    top_predicted_artist_ids = artist_encoder.inverse_transform(top_predicted_artist_indices.cpu().numpy().flatten())\n",
    "    top_predicted_artist_names = [artist_id_to_name.get(artist_id, \"Unknown Artist\") for artist_id in top_predicted_artist_ids]\n",
    "\n",
    "    return top_predicted_artist_names\n",
    "\n",
    "model, latent_mu = train_model(train_user_item_matrix, artist_encoder, layers=2, batch_size=256)\n",
    "prog_rock = ['Pink Floyd', 'Radiohead', 'Led Zeppelin', 'Genesis', 'The Doors']\n",
    "recommendations = recommendation_generator(prog_rock, model)\n",
    "print('Top 10 recommendations: ')\n",
    "for i in recommendations:\n",
    "    print(i)"
   ]
  },
  {
   "cell_type": "markdown",
   "metadata": {},
   "source": [
    "## 6: Investigating Computational Performance\n",
    "\n",
    "We can measure the memory usage of our model using the Python library `tracemalloc` which measures the memory allocation on the CPU."
   ]
  },
  {
   "cell_type": "code",
   "execution_count": 26,
   "metadata": {},
   "outputs": [
    {
     "name": "stdout",
     "output_type": "stream",
     "text": [
      "Current Memory Usage: 0.05 MB; Peak Memory Usage: 0.17 MB\n"
     ]
    }
   ],
   "source": [
    "tracemalloc.start()\n",
    "model, latent_mu = train_model(train_user_item_matrix, artist_encoder, layers=2, batch_size=256, optimiser='SGD')\n",
    "current, peak = tracemalloc.get_traced_memory()\n",
    "print(f\"Current Memory Usage: {current / 1e6:.2f} MB; Peak Memory Usage: {peak / 1e6:.2f} MB\")\n",
    "tracemalloc.stop()"
   ]
  },
  {
   "cell_type": "markdown",
   "metadata": {},
   "source": [
    "### 6.1 Parallelism via GPUs\n",
    "\n",
    "GPUs can improve computational efficiency, and are particularly relevant for our VAE model as they can process matrix operations in parallel. We will show how to implement GPU acceleration, and how to measure the GPU memory usage, if a GPU is available. To do this, we will re-define the `train_model` function."
   ]
  },
  {
   "cell_type": "code",
   "execution_count": 32,
   "metadata": {},
   "outputs": [],
   "source": [
    "def train_model(train_user_item_matrix, artist_encoder, layers, batch_size=64, optimiser=None):\n",
    "    # Set device to GPU if available\n",
    "    device = torch.device(\"cuda\" if torch.cuda.is_available() else \"cpu\")\n",
    "    print(f\"Using device: {device}\")\n",
    "\n",
    "    # Convert train data to tensor and move to GPU\n",
    "    train_tensor = torch.FloatTensor(train_user_item_matrix).to(device)\n",
    "    train_dataset = torch.utils.data.TensorDataset(train_tensor)\n",
    "    train_loader = torch.utils.data.DataLoader(train_dataset, batch_size=batch_size, shuffle=True)\n",
    "\n",
    "    # Initialise the model and move to GPU\n",
    "    num_artists = len(artist_encoder.classes_)\n",
    "    if layers == 1:\n",
    "        input_dim = num_artists\n",
    "        hidden_dim = 256\n",
    "        latent_dim = 50\n",
    "        model = VAE(input_dim, hidden_dim, latent_dim).to(device)\n",
    "    elif layers == 2:\n",
    "        input_dim = num_artists\n",
    "        hidden_dim1 = 512\n",
    "        hidden_dim2 = 256\n",
    "        latent_dim = 50\n",
    "        model = VAE(input_dim, hidden_dim1, hidden_dim2, latent_dim).to(device)\n",
    "\n",
    "    if optimiser is None:\n",
    "        optimiser = torch.optim.Adam(model.parameters(), lr=1e-3)\n",
    "    elif optimiser == \"SGD\":\n",
    "        optimiser = torch.optim.SGD(model.parameters(), lr=1e-3, momentum=0.9)\n",
    "\n",
    "    def loss_function(recon_x, x, mu, logvar):\n",
    "        MSE = nn.functional.mse_loss(recon_x, x, reduction='sum')\n",
    "        KLD = -0.5 * torch.sum(1 + logvar - mu.pow(2) - logvar.exp())\n",
    "        return MSE + KLD\n",
    "\n",
    "    num_epochs = 10\n",
    "    for epoch in range(num_epochs):\n",
    "        model.train()\n",
    "        train_loss = 0\n",
    "        for data_batch in train_loader:\n",
    "            data = data_batch[0].to(device)  # Move data to GPU\n",
    "            optimiser.zero_grad()\n",
    "            recon_batch, mu, logvar = model(data)\n",
    "            loss = loss_function(recon_batch, data, mu, logvar)\n",
    "            loss.backward()\n",
    "            train_loss += loss.item()\n",
    "            optimiser.step()\n",
    "\n",
    "        print(f\"Epoch {epoch + 1}, Loss: {train_loss / len(train_loader.dataset):.6f}\")\n",
    "\n",
    "    # Move model back to CPU for evaluation if needed\n",
    "    model.to(\"cpu\")\n",
    "\n",
    "    return model\n"
   ]
  },
  {
   "cell_type": "markdown",
   "metadata": {},
   "source": [
    "Now, if a GPU is available, we can check the GPU memory usage."
   ]
  },
  {
   "cell_type": "code",
   "execution_count": 34,
   "metadata": {},
   "outputs": [
    {
     "name": "stdout",
     "output_type": "stream",
     "text": [
      "CUDA device not available. Ensure you are running on a system with a compatible GPU.\n"
     ]
    }
   ],
   "source": [
    "if torch.cuda.is_available():\n",
    "    torch.cuda.reset_peak_memory_stats()\n",
    "    model, latent_mu = train_model(train_user_item_matrix, artist_encoder, layers=2, batch_size=256, optimiser=\"SGD\")\n",
    "    torch.cuda.synchronize()\n",
    "    print(f\"Peak GPU Memory Usage: {torch.cuda.max_memory_allocated() / 1e6:.2f} MB\")\n",
    "else:\n",
    "    print(\"CUDA device not available. Ensure you are running on a system with a compatible GPU.\")\n"
   ]
  },
  {
   "cell_type": "code",
   "execution_count": null,
   "metadata": {},
   "outputs": [],
   "source": []
  }
 ],
 "metadata": {
  "kernelspec": {
   "display_name": "Python 3",
   "language": "python",
   "name": "python3"
  },
  "language_info": {
   "codemirror_mode": {
    "name": "ipython",
    "version": 3
   },
   "file_extension": ".py",
   "mimetype": "text/x-python",
   "name": "python",
   "nbconvert_exporter": "python",
   "pygments_lexer": "ipython3",
   "version": "3.12.3"
  }
 },
 "nbformat": 4,
 "nbformat_minor": 2
}
