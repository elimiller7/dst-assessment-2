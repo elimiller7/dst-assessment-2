{
 "cells": [
  {
   "cell_type": "code",
   "execution_count": null,
   "metadata": {},
   "outputs": [],
   "source": [
    "import pandas as pd\n",
    "import os\n",
    "from math import sqrt,pow\n",
    "from GNNfuncs import *"
   ]
  },
  {
   "cell_type": "code",
   "execution_count": null,
   "metadata": {},
   "outputs": [],
   "source": [
    "artists = pd.read_csv(os.path.join('..','data','artists.dat'), delimiter='\\t')\n",
    "tags = pd.read_csv(os.path.join('..','data','tags.dat'), delimiter='\\t',encoding='ISO-8859-1')\n",
    "user_artists = pd.read_csv(os.path.join('..','data','user_artists.dat'), delimiter='\\t')\n",
    "user_friends = pd.read_csv(os.path.join('..','data','user_friends.dat'), delimiter='\\t')\n",
    "user_taggedartists_timestamps = pd.read_csv(os.path.join('..','data','user_taggedartists-timestamps.dat'), delimiter='\\t')\n",
    "user_taggedartists = pd.read_csv(os.path.join('..','data','user_taggedartists.dat'), delimiter='\\t')"
   ]
  },
  {
   "cell_type": "code",
   "execution_count": null,
   "metadata": {},
   "outputs": [
    {
     "name": "stdout",
     "output_type": "stream",
     "text": [
      "artists \n",
      " id              0\n",
      "name            0\n",
      "url             0\n",
      "pictureURL    444\n",
      "dtype: int64 \n",
      "\n",
      "tags \n",
      " tagID       0\n",
      "tagValue    0\n",
      "dtype: int64 \n",
      "\n",
      "user_artists \n",
      " userID      0\n",
      "artistID    0\n",
      "weight      0\n",
      "dtype: int64 \n",
      "\n",
      "user_friends \n",
      " userID      0\n",
      "friendID    0\n",
      "dtype: int64 \n",
      "\n",
      "user_taggedartists \n",
      " userID      0\n",
      "artistID    0\n",
      "tagID       0\n",
      "day         0\n",
      "month       0\n",
      "year        0\n",
      "dtype: int64 \n",
      "\n",
      "user_taggedartists_timestamps \n",
      " userID       0\n",
      "artistID     0\n",
      "tagID        0\n",
      "timestamp    0\n",
      "dtype: int64 \n",
      "\n"
     ]
    }
   ],
   "source": [
    "for dfs in [artists,tags,user_artists,user_friends,user_taggedartists,user_taggedartists_timestamps]:\n",
    "    print(get_df_name(dfs, globals()),'\\n',dfs.isna().sum(),'\\n')"
   ]
  },
  {
   "cell_type": "code",
   "execution_count": 6,
   "metadata": {},
   "outputs": [
    {
     "data": {
      "text/html": [
       "<div>\n",
       "<style scoped>\n",
       "    .dataframe tbody tr th:only-of-type {\n",
       "        vertical-align: middle;\n",
       "    }\n",
       "\n",
       "    .dataframe tbody tr th {\n",
       "        vertical-align: top;\n",
       "    }\n",
       "\n",
       "    .dataframe thead th {\n",
       "        text-align: right;\n",
       "    }\n",
       "</style>\n",
       "<table border=\"1\" class=\"dataframe\">\n",
       "  <thead>\n",
       "    <tr style=\"text-align: right;\">\n",
       "      <th></th>\n",
       "      <th>id</th>\n",
       "      <th>name</th>\n",
       "    </tr>\n",
       "  </thead>\n",
       "  <tbody>\n",
       "    <tr>\n",
       "      <th>0</th>\n",
       "      <td>1</td>\n",
       "      <td>MALICE MIZER</td>\n",
       "    </tr>\n",
       "    <tr>\n",
       "      <th>1</th>\n",
       "      <td>2</td>\n",
       "      <td>Diary of Dreams</td>\n",
       "    </tr>\n",
       "    <tr>\n",
       "      <th>2</th>\n",
       "      <td>3</td>\n",
       "      <td>Carpathian Forest</td>\n",
       "    </tr>\n",
       "    <tr>\n",
       "      <th>3</th>\n",
       "      <td>4</td>\n",
       "      <td>Moi dix Mois</td>\n",
       "    </tr>\n",
       "    <tr>\n",
       "      <th>4</th>\n",
       "      <td>5</td>\n",
       "      <td>Bella Morte</td>\n",
       "    </tr>\n",
       "  </tbody>\n",
       "</table>\n",
       "</div>"
      ],
      "text/plain": [
       "   id               name\n",
       "0   1       MALICE MIZER\n",
       "1   2    Diary of Dreams\n",
       "2   3  Carpathian Forest\n",
       "3   4       Moi dix Mois\n",
       "4   5        Bella Morte"
      ]
     },
     "execution_count": 6,
     "metadata": {},
     "output_type": "execute_result"
    }
   ],
   "source": [
    "colnames = ['id','name']\n",
    "artists2 = artists[colnames]\n",
    "artists2.head()"
   ]
  },
  {
   "cell_type": "code",
   "execution_count": 41,
   "metadata": {},
   "outputs": [],
   "source": [
    "users = user_artists['userID'].unique()\n",
    "artistcount = [[user,len(get_artists(user))] for user in users]"
   ]
  },
  {
   "cell_type": "code",
   "execution_count": 40,
   "metadata": {},
   "outputs": [
    {
     "name": "stdout",
     "output_type": "stream",
     "text": [
      "63 0.033298097251585626\n",
      "['user35', 15]\n",
      "['user38', 49]\n",
      "['user112', 1]\n",
      "['user188', 2]\n",
      "['user192', 30]\n",
      "['user270', 14]\n",
      "['user344', 35]\n",
      "['user374', 4]\n",
      "['user408', 18]\n",
      "['user486', 32]\n",
      "['user493', 33]\n",
      "['user510', 43]\n",
      "['user526', 49]\n",
      "['user542', 7]\n",
      "['user553', 46]\n",
      "['user558', 12]\n",
      "['user613', 34]\n",
      "['user615', 1]\n",
      "['user701', 11]\n",
      "['user712', 38]\n",
      "['user745', 10]\n",
      "['user768', 44]\n",
      "['user769', 33]\n",
      "['user797', 11]\n",
      "['user819', 41]\n",
      "['user845', 28]\n",
      "['user869', 10]\n",
      "['user942', 34]\n",
      "['user995', 38]\n",
      "['user1004', 41]\n",
      "['user1013', 1]\n",
      "['user1014', 25]\n",
      "['user1115', 5]\n",
      "['user1205', 14]\n",
      "['user1262', 21]\n",
      "['user1266', 3]\n",
      "['user1290', 32]\n",
      "['user1307', 1]\n",
      "['user1323', 48]\n",
      "['user1334', 4]\n",
      "['user1397', 14]\n",
      "['user1432', 9]\n",
      "['user1513', 48]\n",
      "['user1543', 27]\n",
      "['user1552', 12]\n",
      "['user1603', 1]\n",
      "['user1611', 4]\n",
      "['user1634', 4]\n",
      "['user1665', 37]\n",
      "['user1675', 13]\n",
      "['user1693', 44]\n",
      "['user1731', 1]\n",
      "['user1744', 15]\n",
      "['user1758', 1]\n",
      "['user1773', 10]\n",
      "['user1799', 43]\n",
      "['user1810', 22]\n",
      "['user1851', 43]\n",
      "['user1859', 37]\n",
      "['user1868', 36]\n",
      "['user1893', 4]\n",
      "['user1939', 40]\n",
      "['user2085', 1]\n"
     ]
    }
   ],
   "source": [
    "not50 = []\n",
    "for i in range(len(artistcount)):\n",
    "    if artistcount[i][1] != 50:\n",
    "        not50.append(artistcount[i])\n",
    "print(len(not50),len(not50)/len(users))\n",
    "for x in not50:\n",
    "    print(x)"
   ]
  },
  {
   "cell_type": "markdown",
   "metadata": {},
   "source": [
    "## Investigating user-user interactions"
   ]
  },
  {
   "cell_type": "code",
   "execution_count": 23,
   "metadata": {},
   "outputs": [],
   "source": [
    "# Taken from https://dev.to/josethz00/math-for-devs-cosine-similarity-in-python-2524\n",
    "\n",
    "def cosine_similarity(vector1: list[float], vector2: list[float]) -> float:\n",
    "    \"\"\"Returns the cosine of the angle between two vectors.\"\"\"\n",
    "    # the cosine similarity between two vectors is the dot product of the two vectors divided by the magnitude of each vector\n",
    "\n",
    "    dot_product = 0\n",
    "    magnitude_vector1 = 0\n",
    "    magnitude_vector2 = 0\n",
    "\n",
    "    vector1_length = len(vector1)\n",
    "    vector2_length = len(vector2)\n",
    "\n",
    "    if vector1_length > vector2_length:\n",
    "        # fill vector2 with 0s until it is the same length as vector1 (required for dot product)\n",
    "        vector2 = vector2 + [0] * (vector1_length - vector2_length)\n",
    "    elif vector2_length > vector1_length:\n",
    "        # fill vector1 with 0s until it is the same length as vector2 (required for dot product)\n",
    "        vector1 = vector1 + [0] * (vector2_length - vector1_length)\n",
    "\n",
    "    # dot product calculation\n",
    "    for i in range(len(vector1)):\n",
    "        dot_product += vector1[i] * vector2[i]\n",
    "\n",
    "    # vector1 magnitude calculation\n",
    "    for i in range(len(vector1)):\n",
    "        magnitude_vector1 += pow(vector1[i], 2)\n",
    "\n",
    "    # vector2 magnitude calculation\n",
    "    for i in range(len(vector2)):\n",
    "        magnitude_vector2 += pow(vector2[i], 2)\n",
    "\n",
    "    # final magnitude calculation\n",
    "    magnitude = sqrt(magnitude_vector1) * sqrt(magnitude_vector2)\n",
    "\n",
    "    # return cosine similarity\n",
    "    return dot_product / magnitude"
   ]
  },
  {
   "cell_type": "code",
   "execution_count": 28,
   "metadata": {},
   "outputs": [],
   "source": [
    "def friends_tag_similarity(userID):\n",
    "    friends = get_friends(userID)\n",
    "    sims = []\n",
    "    for friend in friends:\n",
    "        sims.append(cosine_similarity(get_tags(2),get_tags(friend)))\n",
    "    return sum(sims)/len(sims)"
   ]
  },
  {
   "cell_type": "code",
   "execution_count": 35,
   "metadata": {},
   "outputs": [
    {
     "name": "stdout",
     "output_type": "stream",
     "text": [
      "0.30130843520311024\n"
     ]
    }
   ],
   "source": [
    "sims2 = []\n",
    "for userID in user_artists['userID'].unique():\n",
    "    sims2.append(friends_tag_similarity(userID))\n",
    "print(sum(sims2)/len(sims2))"
   ]
  },
  {
   "cell_type": "code",
   "execution_count": null,
   "metadata": {},
   "outputs": [],
   "source": []
  }
 ],
 "metadata": {
  "kernelspec": {
   "display_name": "Python 3",
   "language": "python",
   "name": "python3"
  },
  "language_info": {
   "codemirror_mode": {
    "name": "ipython",
    "version": 3
   },
   "file_extension": ".py",
   "mimetype": "text/x-python",
   "name": "python",
   "nbconvert_exporter": "python",
   "pygments_lexer": "ipython3",
   "version": "3.11.8"
  }
 },
 "nbformat": 4,
 "nbformat_minor": 2
}
