{
 "cells": [
  {
   "cell_type": "markdown",
   "metadata": {},
   "source": [
    "# **Collaborative Filtering**"
   ]
  },
  {
   "cell_type": "markdown",
   "metadata": {},
   "source": [
    "# 0: Theory\n",
    "\n",
    "Collaborative filtering creates a user-item matrix with values corresponding to the users preferences. Next, using a chosen similarity metric, the similarities between users' preferences are used to give recommendations for each user. Each user will be given recommendations for items that they have not given feedback for, but have positive feedback from users similar to the chosen user. These recommendations may also be predictions.\n",
    "\n",
    "### Similarity\n",
    "There are different similarity measures that can be chosen. The Pearson correlation coefficient measures linear relation between two variables, and the cosine similarity measures the simialrirty between two vectors depending on the angle between them in a vector space. Similarity may also be referenced as the distance metric or correlation metric.\n",
    "\n",
    "The two types of collaborative filtering techniques are model-based and memory-based.\n",
    "\n",
    "### Memory-based Methods\n",
    "Memory-based collaborative filtering can be user-based or item-based. User-based techniques compute the similarities between users based on their implicit feedback for the same item. Then, the predicted rating or given feedback is calculated using weighted averages of the item's ratings given by similar users. The weights are the similarities of the other users with the chosen item. Item-based techniques work similalrly but use the similarity between items instead of the similarity between users. Both of these methods form a similarity matrix.\n",
    "\n",
    "### Model-based Methods\n",
    "Model-based collaborative filtering can be a lot quicker than memory-based methods. An example of this is the singular value decomposition (SVD). These methods use the user-item matrix to find rules between items and uses these rules to give a list of recommendations. If data is sparse, then model-based methods are recommended to deal with this. More advanced model-based recommendation systems can use clustering, neural networks and elements of graph theory. The main drawback of model-based methods is that they are typically have a very high computational cost and may require a large amount of memory.\n",
    "\n",
    "The most popular algorithm used for collaborative filtering, when the similarity matrix is sparse, is Alternating Least Squares (ALS) minimisation. Simply, this aims to estimate the entries of a matrix $M=UV^T$ when only a subset of these entries is observed. The algorithm minimises the squared error with the observed entries, when alternating in optimising $U$ and $V$. This would allow us to give predicted entries for items which a given user has not listened to yet.\n",
    "\n",
    "### Pros & Cons\n",
    "Collaborative filtering can be used when data is difficult to analyse since it can use the imnplicit feedback. However, there are a few problems. Firstly, the cold-start problem - a new user has no data, hence, the system cannot make meaningful recommendations for them. Also, if data is sparse, then recommendations can be less accurate and many items may not be recommended at all. Finally, the method must be scalable in order to stay efficient. The basic collaborative filtering methods can struggle with this, but model-based methods like SVD can be used to give efficient and robust recommendations."
   ]
  },
  {
   "cell_type": "markdown",
   "metadata": {},
   "source": [
    "# 1: Data Preparation\n",
    "## 1.1 Loading Data & Importing Libraries"
   ]
  },
  {
   "cell_type": "code",
   "execution_count": null,
   "metadata": {},
   "outputs": [],
   "source": [
    "# Load libraries\n",
    "import pandas as pd\n",
    "import numpy as np\n",
    "import os\n",
    "from sklearn.metrics.pairwise import cosine_similarity\n",
    "from sklearn.decomposition import TruncatedSVD\n",
    "from scipy.sparse import csr_matrix\n",
    "import implicit\n",
    "import time\n",
    "from sklearn.model_selection import train_test_split"
   ]
  },
  {
   "cell_type": "code",
   "execution_count": 2,
   "metadata": {},
   "outputs": [],
   "source": [
    "# Import datasets\n",
    "artists = pd.read_csv(os.path.join('..','data','artists.dat'), delimiter='\\t')\n",
    "tags = pd.read_csv(os.path.join('..','data','tags.dat'), delimiter='\\t',encoding='ISO-8859-1')\n",
    "user_artists = pd.read_csv(os.path.join('..','data','user_artists.dat'), delimiter='\\t')\n",
    "user_friends = pd.read_csv(os.path.join('..','data','user_friends.dat'), delimiter='\\t')\n",
    "user_taggedartists_timestamps = pd.read_csv(os.path.join('..','data','user_taggedartists-timestamps.dat'), delimiter='\\t')\n",
    "user_taggedartists = pd.read_csv(os.path.join('..','data','user_taggedartists.dat'), delimiter='\\t')"
   ]
  },
  {
   "cell_type": "markdown",
   "metadata": {},
   "source": [
    "## 1.2 Data Cleaning"
   ]
  },
  {
   "cell_type": "code",
   "execution_count": 3,
   "metadata": {},
   "outputs": [],
   "source": [
    "# Drop irrelevant columns from the Artists dataset\n",
    "artists_cleaned = artists.drop(columns=['url', 'pictureURL']).drop_duplicates(keep='first') \n",
    "\n",
    "# Drop the irrelevant columns in the Tags dataset\n",
    "tags_cleaned = tags.drop_duplicates(keep='first') \n",
    "\n",
    "# For the User-Artists dataset, we can filter out rows with a weight of 0, as they show no meaningful interaction\n",
    "user_artists_cleaned = user_artists[user_artists['weight'] > 0]\n",
    "user_artists_cleaned = user_artists_cleaned.drop_duplicates(keep='first') \n",
    "\n",
    "# Drop duplicates from the User-Tagged Artists Timestamps dataset\n",
    "user_taggedartists_timestamps_cleaned = user_taggedartists_timestamps.drop_duplicates(keep='first') \n",
    "\n",
    "# Convert timestamps from ms to datetime format\n",
    "user_taggedartists_timestamps_cleaned['timestamp'] = pd.to_datetime(user_taggedartists_timestamps_cleaned['timestamp'], unit='ms')\n",
    "\n",
    "# Drop duplicates from the User-Friends dataset\n",
    "user_friends_cleaned = user_friends.drop_duplicates(keep='first')"
   ]
  },
  {
   "cell_type": "code",
   "execution_count": 4,
   "metadata": {},
   "outputs": [
    {
     "name": "stdout",
     "output_type": "stream",
     "text": [
      "<class 'pandas.core.frame.DataFrame'>\n",
      "RangeIndex: 92834 entries, 0 to 92833\n",
      "Data columns (total 3 columns):\n",
      " #   Column    Non-Null Count  Dtype\n",
      "---  ------    --------------  -----\n",
      " 0   userID    92834 non-null  int64\n",
      " 1   artistID  92834 non-null  int64\n",
      " 2   weight    92834 non-null  int64\n",
      "dtypes: int64(3)\n",
      "memory usage: 2.1 MB\n",
      "Cleaned User-Artists dataset: None    userID  artistID  weight\n",
      "0       2        51   13883\n",
      "1       2        52   11690\n",
      "2       2        53   11351\n",
      "3       2        54   10300\n",
      "4       2        55    8983\n"
     ]
    }
   ],
   "source": [
    "# Uncomment to output cleaned datasets for inspection\n",
    "# print(\"Cleaned Artists dataset:\", artists_cleaned.info(), artists_cleaned.head())\n",
    "# print(\"Cleaned Tags dataset:\", tags_cleaned.info(), tags_cleaned.head())\n",
    "print(\"Cleaned User-Artists dataset:\", user_artists_cleaned.info(), user_artists_cleaned.head())\n",
    "# print(\"Cleaned User-Tagged Artists Timestamps dataset:\", user_taggedartists_timestamps_cleaned.info(), user_taggedartists_timestamps_cleaned.head())\n",
    "# print(\"Cleaned User-Friends dataset:\", user_friends_cleaned.info(), user_friends_cleaned.head())"
   ]
  },
  {
   "cell_type": "markdown",
   "metadata": {},
   "source": [
    "---"
   ]
  },
  {
   "cell_type": "markdown",
   "metadata": {},
   "source": [
    "# 2: Implementing Collaborative Filtering"
   ]
  },
  {
   "cell_type": "markdown",
   "metadata": {},
   "source": [
    "We now implement collaborative filtering using some of the different techniques that we have described. We will use some memory-based and some model-based methods.\n",
    "We will investigate how these methods give recommendations and how efficient they are at doing so.\n",
    "\n",
    "First, we create a dictionary which will allow us to map artistID recommendations to the corresponding names of the artists."
   ]
  },
  {
   "cell_type": "code",
   "execution_count": 5,
   "metadata": {},
   "outputs": [],
   "source": [
    "# Create a dictionary to map artistID to artistName\n",
    "artist_id_to_name = dict(zip(artists['id'], artists['name']))"
   ]
  },
  {
   "cell_type": "markdown",
   "metadata": {},
   "source": [
    "We initialise the user-artist matrix which has values corresponding to the listening counts."
   ]
  },
  {
   "cell_type": "code",
   "execution_count": 6,
   "metadata": {},
   "outputs": [
    {
     "name": "stdout",
     "output_type": "stream",
     "text": [
      "artistID  1      2      3      4      5      6      7      8      9      \\\n",
      "userID                                                                    \n",
      "2           0.0    0.0    0.0    0.0    0.0    0.0    0.0    0.0    0.0   \n",
      "3           0.0    0.0    0.0    0.0    0.0    0.0    0.0    0.0    0.0   \n",
      "4           0.0    0.0    0.0    0.0    0.0    0.0    0.0    0.0    0.0   \n",
      "5           0.0    0.0    0.0    0.0    0.0    0.0    0.0    0.0    0.0   \n",
      "6           0.0    0.0    0.0    0.0    0.0    0.0    0.0    0.0    0.0   \n",
      "...         ...    ...    ...    ...    ...    ...    ...    ...    ...   \n",
      "2095        0.0    0.0    0.0    0.0    0.0    0.0    0.0    0.0    0.0   \n",
      "2096        0.0    0.0    0.0    0.0    0.0    0.0    0.0    0.0    0.0   \n",
      "2097        0.0    0.0    0.0    0.0    0.0    0.0    0.0    0.0    0.0   \n",
      "2099        0.0    0.0    0.0    0.0    0.0    0.0    0.0    0.0    0.0   \n",
      "2100        0.0    0.0  408.0    0.0    0.0  404.0    0.0    0.0    0.0   \n",
      "\n",
      "artistID  10     ...  18736  18737  18738  18739  18740  18741  18742  18743  \\\n",
      "userID           ...                                                           \n",
      "2           0.0  ...    0.0    0.0    0.0    0.0    0.0    0.0    0.0    0.0   \n",
      "3           0.0  ...    0.0    0.0    0.0    0.0    0.0    0.0    0.0    0.0   \n",
      "4           0.0  ...    0.0    0.0    0.0    0.0    0.0    0.0    0.0    0.0   \n",
      "5           0.0  ...    0.0    0.0    0.0    0.0    0.0    0.0    0.0    0.0   \n",
      "6           0.0  ...    0.0    0.0    0.0    0.0    0.0    0.0    0.0    0.0   \n",
      "...         ...  ...    ...    ...    ...    ...    ...    ...    ...    ...   \n",
      "2095        0.0  ...    0.0    0.0    0.0    0.0    0.0    0.0    0.0    0.0   \n",
      "2096        0.0  ...    0.0    0.0    0.0    0.0    0.0    0.0    0.0    0.0   \n",
      "2097        0.0  ...    0.0    0.0    0.0    0.0    0.0    0.0    0.0    0.0   \n",
      "2099        0.0  ...    0.0    0.0    0.0    0.0    0.0    0.0    0.0    0.0   \n",
      "2100        0.0  ...    0.0    0.0    0.0    0.0    0.0    0.0    0.0    0.0   \n",
      "\n",
      "artistID  18744  18745  \n",
      "userID                  \n",
      "2           0.0    0.0  \n",
      "3           0.0    0.0  \n",
      "4           0.0    0.0  \n",
      "5           0.0    0.0  \n",
      "6           0.0    0.0  \n",
      "...         ...    ...  \n",
      "2095        0.0    0.0  \n",
      "2096        0.0    0.0  \n",
      "2097        0.0    0.0  \n",
      "2099        0.0    0.0  \n",
      "2100        0.0    0.0  \n",
      "\n",
      "[1892 rows x 17632 columns]\n"
     ]
    }
   ],
   "source": [
    "# Create a user-artist interaction matrix using the user_artists_cleaned dataset\n",
    "user_artist_matrix = user_artists_cleaned.pivot(index='userID', columns='artistID', values='weight')\n",
    "\n",
    "# Fill NaN values with 0s (assuming binary or implicit feedback, i.e., 1 for interaction, 0 for no interaction)\n",
    "user_artist_matrix = user_artist_matrix.fillna(0)\n",
    "\n",
    "print(user_artist_matrix)"
   ]
  },
  {
   "cell_type": "code",
   "execution_count": null,
   "metadata": {},
   "outputs": [
    {
     "name": "stdout",
     "output_type": "stream",
     "text": [
      "Top User-Based Recommendations for User 2:\n",
      "Artist ID: 227, Artist: The Beatles, Similarity Score: 10.22\n",
      "Artist ID: 159, Artist: The Cure, Similarity Score: 9.35\n",
      "Artist ID: 89, Artist: Lady Gaga, Similarity Score: 9.13\n",
      "Artist ID: 154, Artist: Radiohead, Similarity Score: 9.00\n",
      "Artist ID: 190, Artist: Muse, Similarity Score: 8.79\n",
      "Time elapsed: 8.6982 seconds\n"
     ]
    }
   ],
   "source": [
    "# Perform train-test split\n",
    "train_data, test_data = train_test_split(user_artists_cleaned, test_size=0.2, random_state=27)\n",
    "\n",
    "# Initialize train and test matrices directly with 0s\n",
    "train_matrix = pd.DataFrame(0, index=user_artist_matrix.index, columns=user_artist_matrix.columns)\n",
    "test_matrix = pd.DataFrame(0, index=user_artist_matrix.index, columns=user_artist_matrix.columns)\n",
    "\n",
    "# Populate train and test matrices\n",
    "for _, row in train_data.iterrows():\n",
    "    train_matrix.at[row['userID'], row['artistID']] = row['weight']\n",
    "\n",
    "for _, row in test_data.iterrows():\n",
    "    test_matrix.at[row['userID'], row['artistID']] = row['weight']\n",
    "\n",
    "# Compute cosine similarity\n",
    "user_similarity = cosine_similarity(train_matrix)\n",
    "user_similarity_df = pd.DataFrame(user_similarity, index=train_matrix.index, columns=train_matrix.index)\n",
    "\n",
    "# Dictionary to map artistID to artistName\n",
    "artist_id_to_name = dict(zip(artists['id'], artists['name']))\n",
    "\n",
    "# User-based recommendation function\n",
    "def get_user_based_recommendations(user_id, user_similarity_df, train_matrix, artist_id_to_name, top_n=10):\n",
    "    similar_users = user_similarity_df[user_id].sort_values(ascending=False).index[1:]\n",
    "    recommendations = {}\n",
    "\n",
    "    for similar_user in similar_users:\n",
    "        interacted_artists = train_matrix.loc[similar_user][train_matrix.loc[similar_user] > 0].index.tolist()\n",
    "        for artist in interacted_artists:\n",
    "            if artist not in train_matrix.loc[user_id][train_matrix.loc[user_id] > 0].index.tolist():\n",
    "                recommendations[artist] = recommendations.get(artist, 0) + user_similarity_df[user_id][similar_user]\n",
    "\n",
    "    sorted_recommendations = sorted(recommendations.items(), key=lambda x: x[1], reverse=True)\n",
    "    return [(artist, artist_id_to_name.get(artist, \"Unknown\"), score) for artist, score in sorted_recommendations[:top_n]]\n",
    "\n",
    "# Start timing\n",
    "start_time = time.time()\n",
    "\n",
    "# Example: Get recommendations for user 2\n",
    "user_id = 2\n",
    "user_based_recommendations = get_user_based_recommendations(user_id, user_similarity_df, train_matrix, artist_id_to_name, top_n=5)\n",
    "\n",
    "# Display recommendations\n",
    "print(\"Top User-Based Recommendations for User 2:\")\n",
    "for artist_id, artist_name, score in user_based_recommendations:\n",
    "    print(f\"Artist ID: {artist_id}, Artist: {artist_name}, Similarity Score: {score:.2f}\")\n",
    "\n",
    "# End timing\n",
    "end_time = time.time()\n",
    "\n",
    "# Calculate and display elapsed time\n",
    "elapsed_time = end_time - start_time\n",
    "print(f\"Time elapsed: {elapsed_time:.4f} seconds\")"
   ]
  },
  {
   "cell_type": "markdown",
   "metadata": {},
   "source": [
    "## 2.1 Memory-based Collaborative Filtering"
   ]
  },
  {
   "cell_type": "markdown",
   "metadata": {},
   "source": [
    "### 2.1.1 User-Based Implementation\n",
    "For the user-based implementation, we must compute the similarity matrix using the cosine similarity between users."
   ]
  },
  {
   "cell_type": "code",
   "execution_count": 8,
   "metadata": {},
   "outputs": [
    {
     "name": "stdout",
     "output_type": "stream",
     "text": [
      "userID      2     3         4         5         6         7         8     \\\n",
      "userID                                                                     \n",
      "2       1.000000   0.0  0.144786  0.028692  0.007016  0.030219  0.008964   \n",
      "3       0.000000   1.0  0.000000  0.000000  0.000000  0.000000  0.000000   \n",
      "4       0.144786   0.0  1.000000  0.081193  0.006609  0.000000  0.000000   \n",
      "5       0.028692   0.0  0.081193  1.000000  0.000000  0.000000  0.000000   \n",
      "6       0.007016   0.0  0.006609  0.000000  1.000000  0.012713  0.018881   \n",
      "\n",
      "userID  9         10        11    ...      2090      2091      2092      2093  \\\n",
      "userID                            ...                                           \n",
      "2        0.0  0.000000  0.021267  ...  0.000000  0.043405  0.000000  0.004625   \n",
      "3        0.0  0.000000  0.000000  ...  0.000000  0.000000  0.000000  0.000000   \n",
      "4        0.0  0.009072  0.013407  ...  0.000000  0.000000  0.003776  0.006178   \n",
      "5        0.0  0.169078  0.004639  ...  0.010993  0.000000  0.205141  0.000000   \n",
      "6        0.0  0.000000  0.000000  ...  0.000000  0.000000  0.000000  0.000000   \n",
      "\n",
      "userID      2094  2095      2096      2097      2099  2100  \n",
      "userID                                                      \n",
      "2       0.001585   0.0  0.000956  0.082134  0.000000   0.0  \n",
      "3       0.000000   0.0  0.000000  0.000000  0.000318   0.0  \n",
      "4       0.000000   0.0  0.045125  0.659085  0.000000   0.0  \n",
      "5       0.000000   0.0  0.204557  0.119133  0.000000   0.0  \n",
      "6       0.000000   0.0  0.000000  0.000000  0.000000   0.0  \n",
      "\n",
      "[5 rows x 1892 columns]\n"
     ]
    }
   ],
   "source": [
    "# Compute the cosine similarity between users\n",
    "user_similarity = cosine_similarity(user_artist_matrix)\n",
    "\n",
    "# Convert the similarity matrix into a DataFrame for easy inspection\n",
    "user_similarity_df = pd.DataFrame(user_similarity, index=user_artist_matrix.index, columns=user_artist_matrix.index)\n",
    "\n",
    "# Display a portion of the user similarity matrix\n",
    "print(user_similarity_df.head())"
   ]
  },
  {
   "cell_type": "markdown",
   "metadata": {},
   "source": [
    "We create a function which gives user-based recommendations. This function uses the user-artist matrix and the similarity matrix to give the top-$N$ recommendations for the given user. It then maps the corresponding ID recommendations of artists to the artist names using the previously defined dictionary.\n",
    "\n",
    "The implementation is shown for user 2."
   ]
  },
  {
   "cell_type": "code",
   "execution_count": 9,
   "metadata": {},
   "outputs": [],
   "source": [
    "# Function to get user-based recommendations\n",
    "def get_user_based_recommendations(user_id, user_similarity_df, user_artist_matrix, artist_id_to_name, top_n=10):    \n",
    "    # Get the most similar users (excluding the user itself)\n",
    "    similar_users = user_similarity_df[user_id].sort_values(ascending=False).index[1:]\n",
    "\n",
    "    recommendations = {}\n",
    "    for similar_user in similar_users:\n",
    "        # Get the artists this similar user has interacted with (non-zero values)\n",
    "        interacted_artists = user_artist_matrix.loc[similar_user][user_artist_matrix.loc[similar_user] > 0].index.tolist()\n",
    "\n",
    "        for artist in interacted_artists:\n",
    "            # Only consider artists the target user has not interacted with\n",
    "            if artist not in user_artist_matrix.loc[user_id][user_artist_matrix.loc[user_id] > 0].index.tolist():\n",
    "                # Add the artist to recommendations with a score (using the scaled similarity as a weight)\n",
    "                if artist not in recommendations:\n",
    "                    recommendations[artist] = user_similarity_df[user_id][similar_user]\n",
    "                else:\n",
    "                    # Add the weight of similarity to the current score\n",
    "                    recommendations[artist] += user_similarity_df[user_id][similar_user]\n",
    "\n",
    "    # Sort recommendations by score (highest first)\n",
    "    sorted_recommendations = sorted(recommendations.items(), key=lambda x: x[1], reverse=True)\n",
    "\n",
    "    # Convert artist IDs to names and prepare the final list with IDs, names, and scores\n",
    "    recommended_artists = [(artist, artist_id_to_name.get(artist, \"Unknown\"), score) for artist, score in sorted_recommendations[:top_n]]\n",
    "\n",
    "    return recommended_artists"
   ]
  },
  {
   "cell_type": "code",
   "execution_count": 10,
   "metadata": {},
   "outputs": [
    {
     "name": "stdout",
     "output_type": "stream",
     "text": [
      "Top User-Based Recommendations for User 2:\n",
      "Artist ID: 289, Artist: Britney Spears, Similarity Score: 20.67\n",
      "Artist ID: 288, Artist: Rihanna, Similarity Score: 20.10\n",
      "Artist ID: 295, Artist: Beyoncé, Similarity Score: 16.92\n",
      "Artist ID: 292, Artist: Christina Aguilera, Similarity Score: 16.73\n",
      "Artist ID: 300, Artist: Katy Perry, Similarity Score: 15.50\n",
      "Time elapsed: 10.7437 seconds\n"
     ]
    }
   ],
   "source": [
    "# start timing\n",
    "start_time = time.time()\n",
    "\n",
    "# Example: Get top 5 user-based recommendations for user with userID=2\n",
    "user_id = 2\n",
    "user_based_recommendations = get_user_based_recommendations(user_id, user_similarity_df, user_artist_matrix, artist_id_to_name, top_n=5)\n",
    "\n",
    "# Display user-based recommendations\n",
    "print(\"Top User-Based Recommendations for User 2:\")\n",
    "for artist_id, artist_name, score in user_based_recommendations:\n",
    "    print(f\"Artist ID: {artist_id}, Artist: {artist_name}, Similarity Score: {score:.2f}\")\n",
    "\n",
    "# end timing\n",
    "end_time = time.time()\n",
    "\n",
    "# calculate and display elapsed time\n",
    "elapsed_time = end_time - start_time\n",
    "print(f\"Time elapsed: {elapsed_time:.4f} seconds\")"
   ]
  },
  {
   "cell_type": "markdown",
   "metadata": {},
   "source": [
    "We can see that the output is the top 5 recommendations for user 2 with their similarity scores. The output has recommended 5 female pop singers which is interesting. We will now give recommendations for user 3. We also take note of the time taken to give the recommendations."
   ]
  },
  {
   "cell_type": "code",
   "execution_count": 11,
   "metadata": {},
   "outputs": [
    {
     "name": "stdout",
     "output_type": "stream",
     "text": [
      "Top User-Based Recommendations for User 3:\n",
      "Artist ID: 757, Artist: Crystal Castles, Similarity Score: 0.25\n",
      "Artist ID: 603, Artist: Aphex Twin, Similarity Score: 0.25\n",
      "Artist ID: 1222, Artist: Venetian Snares, Similarity Score: 0.23\n",
      "Artist ID: 2174, Artist: edIT, Similarity Score: 0.23\n",
      "Artist ID: 154, Artist: Radiohead, Similarity Score: 0.21\n",
      "Time elapsed: 11.3848 seconds\n"
     ]
    }
   ],
   "source": [
    "# start timing\n",
    "start_time = time.time()\n",
    "\n",
    "# Example: Get top 5 user-based recommendations for user with userID=3\n",
    "user_id = 3\n",
    "user_based_recommendations = get_user_based_recommendations(user_id, user_similarity_df, user_artist_matrix, artist_id_to_name, top_n=5)\n",
    "\n",
    "# Display user-based recommendations\n",
    "print(\"Top User-Based Recommendations for User 3:\")\n",
    "for artist_id, artist_name, score in user_based_recommendations:\n",
    "    print(f\"Artist ID: {artist_id}, Artist: {artist_name}, Similarity Score: {score:.2f}\")\n",
    "\n",
    "# end timing\n",
    "end_time = time.time()\n",
    "\n",
    "# calculate and display elapsed time\n",
    "elapsed_time = end_time - start_time\n",
    "print(f\"Time elapsed: {elapsed_time:.4f} seconds\")"
   ]
  },
  {
   "cell_type": "markdown",
   "metadata": {},
   "source": [
    "The artists recommended for user 3 have much lower similarity scores than those recommended to user 2. In this case, the top 4 recommendations all could be categorised as electronic artists. However, the fifth recommendation 'Radiohead' is not very similar to the others.  We also take note of the time taken to give the recommendations."
   ]
  },
  {
   "cell_type": "markdown",
   "metadata": {},
   "source": [
    "### 2.1.1 Item-based Implementation\n",
    "For the item-based implementation, we must compute the similarity matrix using the cosine similarity between artists."
   ]
  },
  {
   "cell_type": "code",
   "execution_count": 12,
   "metadata": {},
   "outputs": [
    {
     "name": "stdout",
     "output_type": "stream",
     "text": [
      "artistID  1        2      3      4        5         6         7         8      \\\n",
      "artistID                                                                        \n",
      "1           1.0  0.00000    0.0    0.0  0.00000  0.000000  0.008784  0.032075   \n",
      "2           0.0  1.00000    0.0    0.0  0.20774  0.000000  0.010696  0.000000   \n",
      "3           0.0  0.00000    1.0    0.0  0.00000  0.205607  0.000000  0.000000   \n",
      "4           0.0  0.00000    0.0    1.0  0.00000  0.000000  0.019742  0.049547   \n",
      "5           0.0  0.20774    0.0    0.0  1.00000  0.000000  0.042728  0.000000   \n",
      "\n",
      "artistID     9         10     ...  18736  18737  18738  18739  18740  18741  \\\n",
      "artistID                      ...                                             \n",
      "1         0.000000  0.000000  ...    0.0    0.0    0.0    0.0    0.0    0.0   \n",
      "2         0.102094  0.387653  ...    0.0    0.0    0.0    0.0    0.0    0.0   \n",
      "3         0.000000  0.000000  ...    0.0    0.0    0.0    0.0    0.0    0.0   \n",
      "4         0.000000  0.000000  ...    0.0    0.0    0.0    0.0    0.0    0.0   \n",
      "5         0.190713  0.000000  ...    0.0    0.0    0.0    0.0    0.0    0.0   \n",
      "\n",
      "artistID  18742  18743  18744  18745  \n",
      "artistID                              \n",
      "1           0.0    0.0    0.0    0.0  \n",
      "2           0.0    0.0    0.0    0.0  \n",
      "3           0.0    0.0    0.0    0.0  \n",
      "4           0.0    0.0    0.0    0.0  \n",
      "5           0.0    0.0    0.0    0.0  \n",
      "\n",
      "[5 rows x 17632 columns]\n"
     ]
    }
   ],
   "source": [
    "# Compute the cosine similarity between artists (transpose the matrix to compare artists)\n",
    "artist_similarity = cosine_similarity(user_artist_matrix.T)  # Transpose to compare artists (columns)\n",
    "\n",
    "# Convert the similarity matrix into a DataFrame for easy inspection\n",
    "artist_similarity_df = pd.DataFrame(artist_similarity, index=user_artist_matrix.columns, columns=user_artist_matrix.columns)\n",
    "\n",
    "# Display a portion of the artist similarity matrix\n",
    "print(artist_similarity_df.head())"
   ]
  },
  {
   "cell_type": "markdown",
   "metadata": {},
   "source": [
    "We create a function which gives item-based recommendations. This function uses the user-artist matrix and the similarity matrix to give the top-$N$ recommendations for the given user. It then maps the corresponding ID recommendations of artists to the artist names using the previously defined dictionary.\n",
    "\n",
    "The implementation is shown for user 2."
   ]
  },
  {
   "cell_type": "code",
   "execution_count": 13,
   "metadata": {},
   "outputs": [],
   "source": [
    "# Function to get item-based recommendations\n",
    "def get_item_based_recommendations(user_id, user_artist_matrix, artist_similarity_df, artist_id_to_name, top_n=10):\n",
    "    # Get the artists the user has interacted with (non-zero values)\n",
    "    interacted_artists = user_artist_matrix.loc[user_id][user_artist_matrix.loc[user_id] > 0].index.tolist()\n",
    "    \n",
    "    recommendations = {}\n",
    "    for artist in interacted_artists:\n",
    "        # Get the most similar artists to the ones the user interacted with\n",
    "        similar_artists = artist_similarity_df[artist].sort_values(ascending=False).index[1:]  # Exclude the artist itself\n",
    "\n",
    "        for similar_artist in similar_artists:\n",
    "            # Add the similar artist to recommendations with a score (using the similarity as a weight)\n",
    "            if similar_artist not in recommendations:\n",
    "                recommendations[similar_artist] = artist_similarity_df[artist][similar_artist]\n",
    "            else:\n",
    "                recommendations[similar_artist] += artist_similarity_df[artist][similar_artist]\n",
    "\n",
    "    # Sort recommendations by score (highest first)\n",
    "    sorted_recommendations = sorted(recommendations.items(), key=lambda x: x[1], reverse=True)\n",
    "\n",
    "    # Convert artist IDs to names using artist_id_to_name\n",
    "    recommended_artists = [(artist_id, artist_id_to_name.get(artist_id, \"Unknown\"), score) for artist_id, score in sorted_recommendations[:top_n]]\n",
    "\n",
    "    return recommended_artists"
   ]
  },
  {
   "cell_type": "code",
   "execution_count": null,
   "metadata": {},
   "outputs": [
    {
     "name": "stdout",
     "output_type": "stream",
     "text": [
      "\n",
      "Top Item-Based Recommendations for User 2:\n",
      "Artist ID: 74, Artist: Basia, Similarity Score: 24.97\n",
      "Artist ID: 92, Artist: Vitamin Z, Similarity Score: 24.97\n",
      "Artist ID: 79, Artist: Fiction Factory, Similarity Score: 24.97\n",
      "Artist ID: 87, Artist: Deacon Blue, Similarity Score: 24.97\n",
      "Artist ID: 60, Artist: Matt Bianco, Similarity Score: 23.97\n",
      "Time elapsed: 6.9654 seconds\n"
     ]
    }
   ],
   "source": [
    "# start timing\n",
    "start_time = time.time()\n",
    "\n",
    "# Example: Get top 5 item-based recommendations for user with userID=2\n",
    "user_id = 2\n",
    "item_based_recommendations = get_item_based_recommendations(user_id, user_artist_matrix, artist_similarity_df, artist_id_to_name, top_n=5)\n",
    "\n",
    "# Display item-based recommendations\n",
    "print(\"\\nTop Item-Based Recommendations for User 2:\")\n",
    "for artist_id, artist_name, score in item_based_recommendations:\n",
    "    print(f\"Artist ID: {artist_id}, Artist: {artist_name}, Similarity Score: {score:.2f}\")\n",
    "\n",
    "# end timing\n",
    "end_time = time.time()\n",
    "\n",
    "# print the elapsed time\n",
    "print(f\"Time elapsed: {end_time - start_time:.4f} seconds\")"
   ]
  },
  {
   "cell_type": "markdown",
   "metadata": {},
   "source": [
    "We can see that the item-based method gives different recommendations to the user-based method. The similarity scores for the top 5 recommendations are higher for the item-based model. We can see that the item-based method is much faster than the user-based method for this datset. This is because the user-based function iterates over both similar users and artists, whereas as the item-based method only iterates over similar artists."
   ]
  },
  {
   "cell_type": "code",
   "execution_count": 15,
   "metadata": {},
   "outputs": [
    {
     "name": "stdout",
     "output_type": "stream",
     "text": [
      "\n",
      "Top Item-Based Recommendations for User 3:\n",
      "Artist ID: 134, Artist: Big Brotherz, Similarity Score: 41.77\n",
      "Artist ID: 131, Artist: Part Timer, Similarity Score: 41.77\n",
      "Artist ID: 130, Artist: Philippe Lamy, Similarity Score: 41.77\n",
      "Artist ID: 129, Artist: Aless, Similarity Score: 41.77\n",
      "Artist ID: 128, Artist: strom noir, Similarity Score: 41.77\n",
      "Time elapsed: 6.0982 seconds\n"
     ]
    }
   ],
   "source": [
    "# start timing\n",
    "start_time = time.time()\n",
    "\n",
    "# Example: Get top 5 item-based recommendations for user with userID=3\n",
    "user_id = 3\n",
    "item_based_recommendations = get_item_based_recommendations(user_id, user_artist_matrix, artist_similarity_df, artist_id_to_name, top_n=5)\n",
    "\n",
    "# Display item-based recommendations\n",
    "print(\"\\nTop Item-Based Recommendations for User 3:\")\n",
    "for artist_id, artist_name, score in item_based_recommendations:\n",
    "    print(f\"Artist ID: {artist_id}, Artist: {artist_name}, Similarity Score: {score:.2f}\")\n",
    "\n",
    "# end timing\n",
    "end_time = time.time()\n",
    "\n",
    "# print the elapsed time\n",
    "print(f\"Time elapsed: {end_time - start_time:.4f} seconds\")"
   ]
  },
  {
   "cell_type": "markdown",
   "metadata": {},
   "source": [
    "Again, we can see that the item-based method gives different recommendations to the user-based method. The similarity scores for the top 5 recommendations are much higher for the item-based model for user 3."
   ]
  },
  {
   "cell_type": "markdown",
   "metadata": {},
   "source": [
    "---"
   ]
  },
  {
   "cell_type": "markdown",
   "metadata": {},
   "source": [
    "## 2.2 Model-based Methods"
   ]
  },
  {
   "cell_type": "markdown",
   "metadata": {},
   "source": [
    "### 2.2.1 Singular Value Decomposition\n",
    "We compute the SVD of the user-artist matrix using `scikit-learn` and use this to give recommendations. The SVD may help to identify patterns in the data and knowledge of these could improve our receommendations. We apply a SVD model to the user-artist matrix to get the SVD components (artist features), and then approximate the original user-artist matrix. This approximation matrix is what we use to make our recommendations."
   ]
  },
  {
   "cell_type": "code",
   "execution_count": 16,
   "metadata": {},
   "outputs": [],
   "source": [
    "def get_svd_recommendations(user_id, user_artist_matrix, artist_id_to_name, top_n=10, n_components=50):\n",
    "    # Apply SVD to the user-artist matrix\n",
    "    svd = TruncatedSVD(n_components=n_components, random_state=42)\n",
    "    svd_matrix = svd.fit_transform(user_artist_matrix)\n",
    "    svd_components = svd.components_\n",
    "\n",
    "    # Reconstruct the user-artist interaction matrix\n",
    "    reconstructed_matrix = np.dot(svd_matrix, svd_components)\n",
    "    \n",
    "    recommendations = {}\n",
    "        \n",
    "    # Get the user's interaction vector from the reconstructed matrix\n",
    "    reconstructed_user_vector = reconstructed_matrix[user_id - 2]  # User IDs start at 2, so subtract 2\n",
    "    \n",
    "    # Iterate through all artists to recommend\n",
    "    for i, score in enumerate(reconstructed_user_vector):\n",
    "        # Check if the artist has been interacted with (score > 0) and if the artist ID is valid\n",
    "        if user_artist_matrix.iloc[user_id - 2, i] == 0:  # Ensure we only recommend non-interacted artists\n",
    "            artist_id = i  # The index of the artist in the matrix\n",
    "            if artist_id not in recommendations:\n",
    "                recommendations[artist_id] = score\n",
    "            else:\n",
    "                recommendations[artist_id] += score\n",
    "    \n",
    "    # Sort recommendations by score (highest first)\n",
    "    sorted_recommendations = sorted(recommendations.items(), key=lambda x: x[1], reverse=True)\n",
    "    \n",
    "    # Convert artist IDs to names using the artist_id_to_name mapping\n",
    "    recommended_artists = [(artist_id, artist_id_to_name.get(artist_id, \"Unknown\"), score)\n",
    "                           for artist_id, score in sorted_recommendations[:top_n]]\n",
    "    \n",
    "    return recommended_artists"
   ]
  },
  {
   "cell_type": "code",
   "execution_count": 17,
   "metadata": {},
   "outputs": [
    {
     "name": "stdout",
     "output_type": "stream",
     "text": [
      "\n",
      "Top SVD-Based Recommendations for User 2:\n",
      "Artist ID: 3464, Artist: Counting Crows, Similarity Score: 2346.16\n",
      "Artist ID: 1089, Artist: Suede, Similarity Score: 1826.24\n",
      "Artist ID: 259, Artist: 9th Wonder, Similarity Score: 1581.01\n",
      "Artist ID: 153, Artist: De/Vision, Similarity Score: 1536.43\n",
      "Artist ID: 992, Artist: Chris Rea, Similarity Score: 1110.52\n",
      "Time elapsed: 7.0510 seconds\n"
     ]
    }
   ],
   "source": [
    "# start timing\n",
    "start_time = time.time()\n",
    "\n",
    "# Example: Get top 5 SVD-based recommendations for user with userID=2\n",
    "user_id = 2\n",
    "svd_recommendations = get_svd_recommendations(user_id, user_artist_matrix, artist_id_to_name, top_n=5)\n",
    "\n",
    "# Display SVD-based recommendations\n",
    "print(\"\\nTop SVD-Based Recommendations for User 2:\")\n",
    "for artist_id, artist_name, score in svd_recommendations:\n",
    "    print(f\"Artist ID: {artist_id}, Artist: {artist_name}, Similarity Score: {score:.2f}\")\n",
    "\n",
    "# end timing\n",
    "end_time = time.time()\n",
    "\n",
    "# print the elapsed time\n",
    "print(f\"Time elapsed: {end_time - start_time:.4f} seconds\")"
   ]
  },
  {
   "cell_type": "code",
   "execution_count": 18,
   "metadata": {},
   "outputs": [
    {
     "name": "stdout",
     "output_type": "stream",
     "text": [
      "\n",
      "Top SVD-Based Recommendations for User 3:\n",
      "Artist ID: 184, Artist: James Blunt, Similarity Score: 6.19\n",
      "Artist ID: 148, Artist: The Boats, Similarity Score: 4.82\n",
      "Artist ID: 1089, Artist: Suede, Similarity Score: 3.29\n",
      "Artist ID: 151, Artist: Deep Forest, Similarity Score: 2.92\n",
      "Artist ID: 298, Artist: Lily Allen, Similarity Score: 2.87\n",
      "Time elapsed: 2.6960 seconds\n"
     ]
    }
   ],
   "source": [
    "# start timing\n",
    "start_time = time.time()\n",
    "\n",
    "# Example: Get top 5 SVD-based recommendations for user with userID=3\n",
    "user_id = 3\n",
    "svd_recommendations = get_svd_recommendations(user_id, user_artist_matrix, artist_id_to_name, top_n=5)\n",
    "\n",
    "# Display SVD-based recommendations\n",
    "print(\"\\nTop SVD-Based Recommendations for User 3:\")\n",
    "for artist_id, artist_name, score in svd_recommendations:\n",
    "    print(f\"Artist ID: {artist_id}, Artist: {artist_name}, Similarity Score: {score:.2f}\")\n",
    "\n",
    "# end timing\n",
    "end_time = time.time()\n",
    "\n",
    "# print the elapsed time\n",
    "print(f\"Time elapsed: {end_time - start_time:.4f} seconds\")"
   ]
  },
  {
   "cell_type": "markdown",
   "metadata": {},
   "source": [
    "The recommendations for user 2 had significantly higher similarity scores compared to the user-based and item-based methods from before. However, for user 3, the SVD gave higher similarities than the user-based method but lower than the item-based method. This suggests that the performance of the method is highly dependenet on the available data and that this must be considered when choosing which technique we use. So far, the SVD method is the fastest at giving recommendations, since the SVD reduces the dimensionality of the user-artist matrix by keeping only the most important features, making computations more efficient."
   ]
  },
  {
   "cell_type": "markdown",
   "metadata": {},
   "source": [
    "### 2.2.2 ALS Using `implicit`\n",
    "A library developed for efficient recommendation systems using Python is `implicit`. We can use this with a sparse matrix of user or item weights to give recommendations. We initialise using implicit.als.AlternatingLeastSquares() and then use .fit() and .recommend() to fit our model and give recommendations.\n",
    "\n",
    "We now implement the very popular ALS method using the `implicit` library for efficiency. We use the csr_matrix() function from `scipy` to convert the user-artist matrix to a sparse format that is suitbale fort ALS."
   ]
  },
  {
   "cell_type": "code",
   "execution_count": 19,
   "metadata": {},
   "outputs": [],
   "source": [
    "def get_als_recommendations(user_id, user_artist_matrix, artist_id_to_name, top_n=5, factors=50, regularization=0.1, iterations=20):\n",
    "    # Convert the user-artist matrix to sparse format (csr_matrix)\n",
    "    sparse_matrix = csr_matrix(user_artist_matrix.values)\n",
    "    \n",
    "    # Initialize and train the ALS model\n",
    "    model = implicit.als.AlternatingLeastSquares(factors=factors, regularization=regularization, iterations=iterations)\n",
    "    model.fit(sparse_matrix)\n",
    "\n",
    "    # Get the user's interaction vector (row from sparse matrix)\n",
    "    user_vector = sparse_matrix[user_id]\n",
    "\n",
    "    # Get top N artist recommendations (returns artist IDs and scores)\n",
    "    recommendations = model.recommend(user_id, user_vector, N=top_n)\n",
    "\n",
    "    # Convert artist IDs to artist names using the provided dictionary\n",
    "    recommended_artists = [(artist_id_to_name[artist_id], score) for artist_id, score in zip(recommendations[0], recommendations[1])]\n",
    "\n",
    "    return recommended_artists"
   ]
  },
  {
   "cell_type": "code",
   "execution_count": 20,
   "metadata": {},
   "outputs": [
    {
     "name": "stderr",
     "output_type": "stream",
     "text": [
      "c:\\Users\\milse\\AppData\\Local\\Programs\\Python\\Python311\\Lib\\site-packages\\implicit\\cpu\\als.py:95: RuntimeWarning: OpenBLAS is configured to use 8 threads. It is highly recommended to disable its internal threadpool by setting the environment variable 'OPENBLAS_NUM_THREADS=1' or by calling 'threadpoolctl.threadpool_limits(1, \"blas\")'. Having OpenBLAS use a threadpool can lead to severe performance issues here.\n",
      "  check_blas_config()\n"
     ]
    },
    {
     "data": {
      "application/vnd.jupyter.widget-view+json": {
       "model_id": "a4cc45366b424419afa3a0cc01eab161",
       "version_major": 2,
       "version_minor": 0
      },
      "text/plain": [
       "  0%|          | 0/20 [00:00<?, ?it/s]"
      ]
     },
     "metadata": {},
     "output_type": "display_data"
    },
    {
     "name": "stdout",
     "output_type": "stream",
     "text": [
      "\n",
      "Top ALS-Based Recommendations for User 2:\n",
      "Artist: Billy Ray Cyrus, Predicted Listening Count: 1.28\n",
      "Artist: Gothminister, Predicted Listening Count: 1.12\n",
      "Artist: Jeff Buckley, Predicted Listening Count: 1.10\n",
      "Artist: Marc Almond, Predicted Listening Count: 1.10\n",
      "Artist: Deftones, Predicted Listening Count: 1.09\n",
      "Time elapsed: 2.4704 seconds\n"
     ]
    }
   ],
   "source": [
    "# start timing\n",
    "start_time = time.time()\n",
    "\n",
    "# Example: Get top 5 ALS-based recommendations for user with userID=2\n",
    "user_id = 2\n",
    "als_recommendations = get_als_recommendations(user_id, user_artist_matrix, artist_id_to_name, top_n=5)\n",
    "\n",
    "# Display ALS-based recommendations\n",
    "print(f\"\\nTop ALS-Based Recommendations for User {user_id}:\")\n",
    "for artist_name, score in als_recommendations:\n",
    "    print(f\"Artist: {artist_name}, Predicted Listening Count: {score:.2f}\")\n",
    "\n",
    "# end timing\n",
    "end_time = time.time()\n",
    "\n",
    "# print the elapsed time\n",
    "print(f\"Time elapsed: {end_time - start_time:.4f} seconds\")"
   ]
  },
  {
   "cell_type": "code",
   "execution_count": 21,
   "metadata": {},
   "outputs": [
    {
     "data": {
      "application/vnd.jupyter.widget-view+json": {
       "model_id": "d6add3b2a61c4e63b46ac9d455f94f87",
       "version_major": 2,
       "version_minor": 0
      },
      "text/plain": [
       "  0%|          | 0/20 [00:00<?, ?it/s]"
      ]
     },
     "metadata": {},
     "output_type": "display_data"
    },
    {
     "name": "stdout",
     "output_type": "stream",
     "text": [
      "\n",
      "Top ALS-Based Recommendations for User 3:\n",
      "Artist: Camouflage, Predicted Listening Count: 1.28\n",
      "Artist: Parliament, Predicted Listening Count: 1.21\n",
      "Artist: Renato Carosone, Predicted Listening Count: 1.06\n",
      "Artist: Michael Jackson, Predicted Listening Count: 1.05\n",
      "Artist: The Montesas, Predicted Listening Count: 1.04\n",
      "Time elapsed: 2.3793 seconds\n"
     ]
    }
   ],
   "source": [
    "# start timing\n",
    "start_time = time.time()\n",
    "\n",
    "# Example: Get top 5 ALS-based recommendations for user with userID=3\n",
    "user_id = 3\n",
    "als_recommendations = get_als_recommendations(user_id, user_artist_matrix, artist_id_to_name, top_n=5)\n",
    "\n",
    "# Display ALS-based recommendations\n",
    "print(f\"\\nTop ALS-Based Recommendations for User {user_id}:\")\n",
    "for artist_name, score in als_recommendations:\n",
    "    print(f\"Artist: {artist_name}, Predicted Listening Count: {score:.2f}\")\n",
    "\n",
    "# end timing\n",
    "end_time = time.time()\n",
    "\n",
    "# print the elapsed time\n",
    "print(f\"Time elapsed: {end_time - start_time:.4f} seconds\")"
   ]
  },
  {
   "cell_type": "markdown",
   "metadata": {},
   "source": [
    "We can see that this method returns predicted listening counts, unlike our other methods. All of the predicted listening counts for the top 5 recommendations are similar and are in the range 1.22-1.25. The artists are quite different in terms of genre. This method takes a similar amount of time as the SVD method for this dataset. This suggests that ALS is amn efficient method for giving recommendations."
   ]
  },
  {
   "cell_type": "markdown",
   "metadata": {},
   "source": [
    "# 3: Collaborative Filtering with PySpark\n",
    "Apache Spark is an engine used to process data at a large scale efficiently. It has APIs in Python and R. PySpark is the Python API for Apache Spark. PySpark has features which include Spark SQL, dataframes and machine learning.\n",
    "\n",
    "Using PySpark dataframes allows us to efficiently analyse and tranform data by using Python and Spark SQL together. Spark SQL is the Apache Spark module for using structured data, like dataframes."
   ]
  },
  {
   "cell_type": "markdown",
   "metadata": {},
   "source": [
    "## 3.1 ALS Collaborative Filtering with PySpark\n",
    "We can use the `pyspark.ml` library to implement ALS. We import the ALS model from `pyspark.ml.recommendation` to create our model, then use .fit() and .recommendForAllUsers() and .recommendForAllItems() to make recommendations.\n",
    "\n",
    "We now implement ALS using PySpark methods to improve the efficiency of our recommender system, since it is highly scalable if we were to use our recommender system for very large datasets. We will try user-based and item-based implementations."
   ]
  },
  {
   "cell_type": "code",
   "execution_count": 22,
   "metadata": {},
   "outputs": [],
   "source": [
    "from pyspark.sql import SparkSession\n",
    "from pyspark.sql import functions as F\n",
    "from pyspark.ml.recommendation import ALS\n",
    "\n",
    "# Start Spark session\n",
    "spark = SparkSession.builder.appName(\"CollaborativeFilteringALS\").getOrCreate()\n",
    "\n",
    "# Convert cleaned pandas DataFrames to PySpark DataFrames\n",
    "artists_spark_df = spark.createDataFrame(artists_cleaned)\n",
    "user_artists_spark_df = spark.createDataFrame(user_artists_cleaned)"
   ]
  },
  {
   "cell_type": "markdown",
   "metadata": {},
   "source": [
    "### 3.1.1 User-based PySpark ALS"
   ]
  },
  {
   "cell_type": "code",
   "execution_count": 23,
   "metadata": {},
   "outputs": [],
   "source": [
    "# start timing\n",
    "start_time = time.time()\n",
    "\n",
    "# ALS model setup for user-based collaborative filtering\n",
    "# listening counts are implicit feedback, we are not starting from a cold-start\n",
    "als = ALS(userCol=\"userID\", itemCol=\"artistID\", ratingCol=\"weight\", coldStartStrategy=\"drop\", implicitPrefs=True)\n",
    "\n",
    "# Fit the ALS model\n",
    "model = als.fit(user_artists_spark_df)\n",
    "\n",
    "# Generate recommendations\n",
    "user_recommendations = model.recommendForAllUsers(5)"
   ]
  },
  {
   "cell_type": "code",
   "execution_count": 24,
   "metadata": {},
   "outputs": [
    {
     "name": "stdout",
     "output_type": "stream",
     "text": [
      "+------+--------------------------------------------------------------------------------------------------------------------------------+\n",
      "|userID|recommendations                                                                                                                 |\n",
      "+------+--------------------------------------------------------------------------------------------------------------------------------+\n",
      "|3     |[{Danny Elfman, 1.26}, {Dolly Parton, 1.16}, {Michael Giacchino, 1.15}, {嵐, 1.08}, {Hande Yener, 1.07}]                        |\n",
      "|5     |[{God Is an Astronaut, 1.11}, {She Wants Revenge, 1.11}, {Portishead, 1.1}, {Cat Power, 1.1}, {Ladytron, 1.1}]                  |\n",
      "|6     |[{Eminem, 0.53}, {Jay-Z, 0.52}, {Drake, 0.51}, {T.I., 0.51}, {Kanye West, 0.51}]                                                |\n",
      "|12    |[{Eminem, 1.46}, {Jay-Z, 1.27}, {Scorpions, 1.21}, {2Pac, 1.2}, {Lil' Wayne, 1.17}]                                             |\n",
      "|13    |[{Lady Gaga, 0.92}, {Coldplay, 0.92}, {Amy Winehouse, 0.91}, {Muse, 0.91}, {Green Day, 0.91}]                                   |\n",
      "|15    |[{Telefon Tel Aviv, 1.37}, {Sneaker Pimps, 1.24}, {Leonard Cohen, 1.24}, {Stars of the Lid, 1.22}, {Thievery Corporation, 1.17}]|\n",
      "|16    |[{Melanie C, 1.54}, {Tina Turner, 1.53}, {O.S.T.R., 1.48}, {Gabriella Cilmi, 1.45}, {Westlife, 1.45}]                           |\n",
      "|20    |[{Morphine, 1.35}, {Archive, 1.34}, {Electric Light Orchestra, 1.31}, {dredg, 1.27}, {Dave Matthews Band, 1.25}]                |\n",
      "|22    |[{Die Ärzte, 1.32}, {happysad, 1.27}, {Anti-Flag, 1.27}, {Otep, 1.22}, {Trivium, 1.18}]                                         |\n",
      "|26    |[{Thousand Foot Krutch, 1.26}, {O.S.T.R., 1.21}, {Creed, 1.19}, {Volbeat, 1.17}, {Sade, 1.17}]                                  |\n",
      "|27    |[{Daft Punk, 1.15}, {Coldplay, 1.14}, {Muse, 1.14}, {Björk, 1.14}, {Keane, 1.14}]                                               |\n",
      "|28    |[{Ultravox, 0.36}, {Alphaville, 0.35}, {Soft Cell, 0.35}, {Japan, 0.35}, {Talk Talk, 0.35}]                                     |\n",
      "|31    |[{Eminem, 1.28}, {Martin L. Gore, 1.15}, {Dave Gahan, 1.13}, {Lil' Wayne, 1.13}, {Recoil, 1.11}]                                |\n",
      "|34    |[{Ryan Adams, 1.3}, {Hole, 1.26}, {The Dandy Warhols, 1.26}, {The Kills, 1.25}, {The Dead Weather, 1.24}]                       |\n",
      "|40    |[{Guano Apes, 1.32}, {Static-X, 1.3}, {L'Âme Immortelle, 1.26}, {Dope Stars Inc., 1.22}, {Drowning Pool, 1.21}]                 |\n",
      "|41    |[{Manowar, 1.27}, {Sepultura, 1.24}, {Bloodbath, 1.2}, {Immortal, 1.16}, {Johann Sebastian Bach, 1.15}]                         |\n",
      "|43    |[{Eminem, 1.11}, {Roxette, 1.08}, {Zero 7, 1.07}, {The Cranberries, 1.06}, {The Cardigans, 1.06}]                               |\n",
      "|44    |[{Bob Dylan, 1.06}, {The Police, 1.04}, {Faith No More, 1.04}, {The Jimi Hendrix Experience, 1.04}, {Jimi Hendrix, 1.04}]       |\n",
      "|47    |[{Ciara, 1.07}, {T.I., 1.06}, {Brandy, 1.06}, {Hannah Montana, 1.05}, {Eminem, 1.05}]                                           |\n",
      "|48    |[{Eminem, 1.21}, {OutKast, 1.15}, {50 Cent, 1.13}, {Jay-Z, 1.12}, {2Pac, 1.08}]                                                 |\n",
      "+------+--------------------------------------------------------------------------------------------------------------------------------+\n",
      "only showing top 20 rows\n",
      "\n",
      "Time elapsed: 37.3612 seconds\n"
     ]
    }
   ],
   "source": [
    "# Create a dictionary to map artistID to artistName\n",
    "artist_id_to_name = {row['id']: row['name'] for row in artists_spark_df.collect()}\n",
    "\n",
    "# Function to map artistID to artistName and round scores to 2 decimal places\n",
    "def map_recommendations(user_recommendations):\n",
    "    def map_row(row):\n",
    "        recommendations_with_names = [\n",
    "            (artist_id_to_name.get(rec[0], \"Unknown\"), round(rec[1], 2)) for rec in row['recommendations']\n",
    "        ]\n",
    "        return (row['userID'], recommendations_with_names)\n",
    "\n",
    "    mapped_recommendations = user_recommendations.rdd.map(map_row).toDF([\"userID\", \"recommendations\"])\n",
    "    return mapped_recommendations\n",
    "\n",
    "# Apply the artistID to name mapping function\n",
    "user_recommendations_with_names = map_recommendations(user_recommendations)\n",
    "\n",
    "# Show the final recommendations with artist names and rounded scores\n",
    "user_recommendations_with_names.show(truncate=False)\n",
    "\n",
    "# end timing\n",
    "end_time = time.time()\n",
    "\n",
    "# print the elapsed time\n",
    "print(f\"Time elapsed: {end_time - start_time:.4f} seconds\")"
   ]
  },
  {
   "cell_type": "markdown",
   "metadata": {},
   "source": [
    "We can see that the output is recommendations for all users and this was computed very quickly, so the use of PySpark is effective. Note that the given time is much longer than the previous methods, but this method has givemn recommendations for all users, not just one user at a time. This clearly shows the efficiency and scalability of PySpark ALS for recommender systems.\n",
    "\n",
    "Also, the output gives recommendations with a 'score'. This is the relative confidence that a user will like a given artist. Clearly, some users, like user 16, have higher score but some users, like user 28, have much lower scores. This would indicate that the recommendations for user 16 relative to user 28 are much better. This is likely dependent on the availability of data for the different users.\n",
    "\n",
    "We will analyse the distribution of the scores."
   ]
  },
  {
   "cell_type": "code",
   "execution_count": 25,
   "metadata": {},
   "outputs": [
    {
     "name": "stdout",
     "output_type": "stream",
     "text": [
      "+-------+------------------+\n",
      "|summary|             score|\n",
      "+-------+------------------+\n",
      "|  count|              9460|\n",
      "|   mean|1.1207548875480557|\n",
      "| stddev|0.2733402298878301|\n",
      "|    min|        4.2475E-40|\n",
      "|    25%|         1.0323408|\n",
      "|    50%|         1.1315149|\n",
      "|    75%|         1.2711515|\n",
      "|    max|         2.0517335|\n",
      "+-------+------------------+\n",
      "\n"
     ]
    }
   ],
   "source": [
    "# Explode the recommendations column into individual rows\n",
    "exploded_user_recommendations = user_recommendations.withColumn(\"recommendation\", F.explode(\"recommendations\"))\n",
    "\n",
    "# Extract artistID and rating\n",
    "exploded_user_recommendations = exploded_user_recommendations.select(\n",
    "    F.col(\"userID\"),\n",
    "    F.col(\"recommendation.artistID\").alias(\"artistID\"),  # Extract artistID\n",
    "    F.col(\"recommendation.rating\").alias(\"score\")        # Extract rating as score\n",
    ")\n",
    "\n",
    "# Generate summary statistics for the scores\n",
    "summary_stats = exploded_user_recommendations.select(\"score\").summary()\n",
    "\n",
    "# Display the summary statistics\n",
    "summary_stats.show()"
   ]
  },
  {
   "cell_type": "markdown",
   "metadata": {},
   "source": [
    "We can see that the scores range from around 0 to 2, with most of the recommendations being between 1.03 and 1.25. We then will say that the best recommendations are given by scores above 1.25."
   ]
  },
  {
   "cell_type": "markdown",
   "metadata": {},
   "source": [
    "### 3.1.2 Item-based PySpark ALS"
   ]
  },
  {
   "cell_type": "code",
   "execution_count": 26,
   "metadata": {},
   "outputs": [],
   "source": [
    "# start timing\n",
    "start_time = time.time()\n",
    "\n",
    "# ALS model setup for item-based collaborative filtering\n",
    "# Swap userCol and itemCol for item-based filtering\n",
    "# listening counts are implicit feedback, we are not starting from a cold-start\n",
    "als = ALS(userCol=\"artistID\", itemCol=\"userID\", ratingCol=\"weight\", coldStartStrategy=\"drop\", implicitPrefs=True)\n",
    "\n",
    "# Fit the ALS model\n",
    "model = als.fit(user_artists_spark_df)\n",
    "\n",
    "# Generate item-based recommendations for each artist (item)\n",
    "item_recommendations = model.recommendForAllItems(5)"
   ]
  },
  {
   "cell_type": "code",
   "execution_count": 27,
   "metadata": {},
   "outputs": [
    {
     "name": "stdout",
     "output_type": "stream",
     "text": [
      "+------+----------------------------------------------------------------------------------------------------------------------------+\n",
      "|userID|recommendations                                                                                                             |\n",
      "+------+----------------------------------------------------------------------------------------------------------------------------+\n",
      "|3     |[{Superchic[k], 1.21}, {Carter Burwell, 1.17}, {Jonathan Larson, 1.14}, {Tracy Chapman, 1.13}, {Jónsi, 1.06}]               |\n",
      "|5     |[{John Frusciante, 1.16}, {Beirut, 1.09}, {Yann Tiersen, 1.08}, {Sigur Rós, 1.07}, {Radiohead, 1.06}]                       |\n",
      "|6     |[{Mary J. Blige, 0.5}, {Eminem, 0.5}, {Whitney Houston, 0.49}, {Ciara, 0.48}, {Brandy, 0.48}]                               |\n",
      "|12    |[{Epica, 1.41}, {Theatre of Tragedy, 1.27}, {In This Moment, 1.22}, {Alesana, 1.21}, {Serj Tankian, 1.19}]                  |\n",
      "|13    |[{Lady Gaga, 0.92}, {Avril Lavigne, 0.91}, {Green Day, 0.91}, {Lily Allen, 0.91}, {Eminem, 0.91}]                           |\n",
      "|15    |[{John Frusciante, 1.29}, {Brian Eno, 1.26}, {Ólafur Arnalds, 1.24}, {Zero 7, 1.21}, {Nina Simone, 1.21}]                   |\n",
      "|16    |[{Thalía, 1.46}, {Vanessa Carlton, 1.43}, {Ricky Martin, 1.32}, {iamamiwhoami, 1.32}, {Ricardo Arjona, 1.32}]               |\n",
      "|20    |[{Zемфира, 1.41}, {deadmau5, 1.25}, {Paul Kalkbrenner, 1.23}, {Akira Yamaoka, 1.19}, {Animal ДжаZ, 1.16}]                   |\n",
      "|22    |[{Murderdolls, 1.19}, {DevilDriver, 1.18}, {HorrorPops, 1.17}, {Hatebreed, 1.16}, {Cannibal Corpse, 1.16}]                  |\n",
      "|26    |[{happysad, 1.2}, {Therion, 1.19}, {Anathema, 1.18}, {Apocalyptica, 1.18}, {Korpiklaani, 1.18}]                             |\n",
      "|27    |[{Muse, 1.2}, {Daft Punk, 1.2}, {Queen, 1.19}, {U2, 1.18}, {The Beatles, 1.18}]                                             |\n",
      "|28    |[{Soft Cell, 0.37}, {Orchestral Manoeuvres in the Dark, 0.35}, {The Human League, 0.35}, {Nik Kershaw, 0.35}, {Yazoo, 0.35}]|\n",
      "|31    |[{Hurts, 1.1}, {Antonio Vivaldi, 1.1}, {Front Line Assembly, 1.08}, {UNKLE, 1.08}, {Grégory Lemarchal, 1.08}]               |\n",
      "|34    |[{The Verve, 1.44}, {Richard Ashcroft, 1.44}, {Stereophonics, 1.4}, {Eels, 1.3}, {Philip Glass, 1.28}]                      |\n",
      "|40    |[{Grégory Lemarchal, 1.26}, {KMFDM, 1.23}, {Diorama, 1.22}, {Nik Kershaw, 1.18}, {And One, 1.17}]                           |\n",
      "|41    |[{Coma, 1.25}, {King Diamond, 1.19}, {Municipal Waste, 1.15}, {Buckcherry, 1.13}, {Black Label Society, 1.11}]              |\n",
      "|43    |[{Gorillaz, 1.1}, {Coldplay, 1.07}, {Calvin Harris, 1.07}, {Green Day, 1.05}, {Hurts, 1.05}]                                |\n",
      "|44    |[{Eels, 1.1}, {Dave Matthews Band, 1.08}, {The Beatles, 1.04}, {Faith No More, 1.04}, {The Clash, 1.04}]                    |\n",
      "|47    |[{Taylor Swift, 1.04}, {Adam Lambert, 1.04}, {Demi Lovato, 1.03}, {The Pretty Reckless, 1.03}, {Avril Lavigne, 1.03}]       |\n",
      "|48    |[{Cyndi Lauper, 1.11}, {Amy Macdonald, 1.09}, {Ace of Base, 1.09}, {Roxette, 1.08}, {Enrique Iglesias, 1.05}]               |\n",
      "+------+----------------------------------------------------------------------------------------------------------------------------+\n",
      "only showing top 20 rows\n",
      "\n",
      "Time elapsed: 21.0142 seconds\n"
     ]
    }
   ],
   "source": [
    "# Apply the artistID to name mapping function\n",
    "item_recommendations_with_names = map_recommendations(item_recommendations)\n",
    "\n",
    "# Show the final recommendations with artist names and rounded scores\n",
    "item_recommendations_with_names.show(truncate=False)\n",
    "\n",
    "# end timing\n",
    "end_time = time.time()\n",
    "\n",
    "# print the elapsed time\n",
    "print(f\"Time elapsed: {end_time - start_time:.4f} seconds\")"
   ]
  },
  {
   "cell_type": "markdown",
   "metadata": {},
   "source": [
    "Again, the item-based implementation seems to be more efficient than the user-based due to the different iterations needed by each method."
   ]
  },
  {
   "cell_type": "code",
   "execution_count": 28,
   "metadata": {},
   "outputs": [
    {
     "name": "stdout",
     "output_type": "stream",
     "text": [
      "+-------+------------------+\n",
      "|summary|             score|\n",
      "+-------+------------------+\n",
      "|  count|              9460|\n",
      "|   mean|1.1090791217136604|\n",
      "| stddev| 0.263306523427101|\n",
      "|    min|     1.0707016E-38|\n",
      "|    25%|         1.0336491|\n",
      "|    50%|         1.1219879|\n",
      "|    75%|         1.2467672|\n",
      "|    max|          2.249456|\n",
      "+-------+------------------+\n",
      "\n"
     ]
    }
   ],
   "source": [
    "# Explode the recommendations column into individual rows\n",
    "exploded_item_recommendations = item_recommendations.withColumn(\"recommendation\", F.explode(\"recommendations\"))\n",
    "\n",
    "# Extract artistID and rating from the struct fields\n",
    "exploded_item_recommendations = exploded_item_recommendations.select(\n",
    "    F.col(\"userID\"),\n",
    "    F.col(\"recommendation.artistID\").alias(\"artistID\"),  # Extract artistID\n",
    "    F.col(\"recommendation.rating\").alias(\"score\")        # Extract rating as score\n",
    ")\n",
    "\n",
    "# Generate summary statistics for the scores\n",
    "summary_stats = exploded_item_recommendations.select(\"score\").summary()\n",
    "\n",
    "# Display the summary statistics\n",
    "summary_stats.show()"
   ]
  },
  {
   "cell_type": "markdown",
   "metadata": {},
   "source": [
    "The scores for the item-based implementation have a similar distribution to the user-based implementation."
   ]
  },
  {
   "cell_type": "markdown",
   "metadata": {},
   "source": [
    "## 3.2 Evaluating ALS Collaborative Filtering in PySpark\n",
    "Now that we have implemented memory-based and model-based methods with both Python and PySpark, we can clearly see that the PySpark ALS method is by far the most efficient and can give recommendations for all users quickly. From the collaborative filtering methods we have seen, this is the most suitable for our recommender system in practice, since scalability and efficiency is very important.\n",
    "\n",
    "We will now split the data into training and test sets to evaluaet the performance of this model.\n"
   ]
  },
  {
   "cell_type": "code",
   "execution_count": null,
   "metadata": {},
   "outputs": [
    {
     "name": "stdout",
     "output_type": "stream",
     "text": [
      "Root Mean Squared Error (RMSE): 4492.4848\n",
      "+------+------------------------------------------------------------------------------------------------------------------------------+\n",
      "|userID|recommendations                                                                                                               |\n",
      "+------+------------------------------------------------------------------------------------------------------------------------------+\n",
      "|3     |[{Hande Yener, 1.14}, {Ani DiFranco, 1.05}, {ムック, 1.0}, {Pleq, 1.0}, {Klaus Badelt, 0.98}]                                 |\n",
      "|5     |[{Beck, 1.09}, {Kings of Convenience, 1.08}, {Beirut, 1.06}, {The Smiths, 1.05}, {The White Stripes, 1.05}]                   |\n",
      "|6     |[{Brandy, 0.49}, {Danity Kane, 0.44}, {50 Cent, 0.44}, {B.o.B, 0.43}, {Joss Stone, 0.43}]                                     |\n",
      "|12    |[{Eminem, 1.57}, {Lenny Kravitz, 1.31}, {No Doubt, 1.24}, {Scooter, 1.24}, {Guano Apes, 1.2}]                                 |\n",
      "|13    |[{Eminem, 0.96}, {Lady Gaga, 0.92}, {Coldplay, 0.91}, {Kanye West, 0.91}, {Avril Lavigne, 0.91}]                              |\n",
      "|15    |[{Gnarls Barkley, 1.25}, {Stars of the Lid, 1.18}, {Yann Tiersen, 1.17}, {植松伸夫, 1.16}, {Boards of Canada, 1.14}]          |\n",
      "|16    |[{Aura Dione, 1.26}, {Basshunter, 1.19}, {Tiësto, 1.17}, {Scooter, 1.17}, {Ricky Martin, 1.16}]                               |\n",
      "|20    |[{Venetian Snares, 1.29}, {Beatsteaks, 1.23}, {Sick Puppies, 1.15}, {65daysofstatic, 1.14}, {The Asteroids Galaxy Tour, 1.13}]|\n",
      "|22    |[{Trivium, 1.21}, {Saosin, 1.2}, {Coma, 1.18}, {Finch, 1.17}, {Killwhitneydead, 1.17}]                                        |\n",
      "|26    |[{Converge, 1.22}, {Billie Holiday, 1.21}, {Frédéric Chopin, 1.17}, {Jamie Cullum, 1.17}, {Sepultura, 1.17}]                  |\n",
      "|27    |[{Eminem, 1.18}, {The Cranberries, 1.1}, {The Beatles, 1.09}, {System of a Down, 1.08}, {Muse, 1.07}]                         |\n",
      "|28    |[{Vangelis, 0.32}, {Orchestral Manoeuvres in the Dark, 0.31}, {Sting, 0.31}, {Camouflage, 0.31}, {Erasure, 0.31}]             |\n",
      "|31    |[{Eminem, 1.25}, {Blondie, 1.11}, {a-ha, 1.11}, {Soft Cell, 1.11}, {Erasure, 1.09}]                                           |\n",
      "|34    |[{Gnarls Barkley, 1.36}, {Ladytron, 1.32}, {Fleet Foxes, 1.29}, {Johnny Cash, 1.27}, {Manu Chao, 1.25}]                       |\n",
      "|40    |[{Guano Apes, 1.37}, {Drowning Pool, 1.35}, {L'Âme Immortelle, 1.3}, {Ill Niño, 1.21}, {DJ Krush, 1.16}]                      |\n",
      "|41    |[{Bruce Dickinson, 1.16}, {Sepultura, 1.15}, {Manowar, 1.14}, {Dio, 1.13}, {Judas Priest, 1.13}]                              |\n",
      "|43    |[{O.S.T.R., 1.18}, {Tori Amos, 1.13}, {Kanye West, 1.11}, {Sade, 1.1}, {Björk, 1.1}]                                          |\n",
      "|44    |[{Korn, 1.06}, {Faith No More, 1.06}, {Porcupine Tree, 1.06}, {Bob Dylan, 1.05}, {Danny Elfman, 1.04}]                        |\n",
      "|47    |[{Kelly Clarkson, 1.03}, {Glee Cast, 1.03}, {Lady Gaga, 1.03}, {Backstreet Boys, 1.03}, {Britney Spears, 1.03}]               |\n",
      "|48    |[{Eminem, 1.22}, {Roxette, 1.03}, {Cyndi Lauper, 1.02}, {Jay-Z, 1.02}, {Avril Lavigne, 1.01}]                                 |\n",
      "+------+------------------------------------------------------------------------------------------------------------------------------+\n",
      "only showing top 20 rows\n",
      "\n",
      "Time elapsed: 43.4763 seconds\n"
     ]
    }
   ],
   "source": [
    "# Start timing\n",
    "start_time = time.time()\n",
    "\n",
    "# ALS model setup for user-based collaborative filtering\n",
    "als = ALS(userCol=\"userID\", itemCol=\"artistID\", ratingCol=\"weight\", coldStartStrategy=\"drop\", implicitPrefs=True, regParam=1.0)\n",
    "\n",
    "# Split data into training and test sets (80% training, 20% testing)\n",
    "train_data, test_data = user_artists_spark_df.randomSplit([0.8, 0.2], seed=27)\n",
    "\n",
    "# Fit the ALS model\n",
    "model = als.fit(train_data)\n",
    "\n",
    "# Make predictions on the test set\n",
    "predictions = model.transform(test_data)\n",
    "\n",
    "# Calculate RMSE (Root Mean Squared Error)\n",
    "rmse = predictions.withColumn(\"squared_error\", (F.col(\"prediction\") - F.col(\"weight\"))**2)\n",
    "rmse_value = rmse.select(F.sqrt(F.avg(\"squared_error\"))).first()[0]\n",
    "\n",
    "# Print evaluation metrics\n",
    "print(f\"Root Mean Squared Error (RMSE): {rmse_value:.4f}\")\n",
    "\n",
    "# Generate recommendations\n",
    "user_recommendations = model.recommendForAllUsers(5)\n",
    "\n",
    "# Create a dictionary to map artistID to artistName\n",
    "artist_id_to_name = {row['id']: row['name'] for row in artists_spark_df.collect()}\n",
    "\n",
    "# Function to map artistID to artistName and round scores to 2 decimal places\n",
    "def map_recommendations(user_recommendations):\n",
    "    def map_row(row):\n",
    "        recommendations_with_names = [\n",
    "            (artist_id_to_name.get(rec[0], \"Unknown\"), round(rec[1], 2)) for rec in row['recommendations']\n",
    "        ]\n",
    "        return (row['userID'], recommendations_with_names)\n",
    "\n",
    "    mapped_recommendations = user_recommendations.rdd.map(map_row).toDF([\"userID\", \"recommendations\"])\n",
    "    return mapped_recommendations\n",
    "\n",
    "# Apply the artistID to name mapping function\n",
    "user_recommendations_with_names = map_recommendations(user_recommendations)\n",
    "\n",
    "# Show the final recommendations with artist names and rounded scores\n",
    "user_recommendations_with_names.show(truncate=False)\n",
    "\n",
    "# End timing\n",
    "end_time = time.time()\n",
    "\n",
    "# Print the elapsed time\n",
    "print(f\"Time elapsed: {end_time - start_time:.4f} seconds\")"
   ]
  },
  {
   "cell_type": "markdown",
   "metadata": {},
   "source": [
    "The RMSE is very high, suggesting that the recommendations are not very meaningful. This is likely due to the sparsity of the dataset.\n",
    "\n",
    "We will see if using regularisation parameter `regParam` may reduce the RMSE."
   ]
  },
  {
   "cell_type": "code",
   "execution_count": 30,
   "metadata": {},
   "outputs": [
    {
     "name": "stdout",
     "output_type": "stream",
     "text": [
      "RMSE with regParam=0.5: 4492.4849\n",
      "RMSE with regParam=1.0: 4492.4848\n"
     ]
    }
   ],
   "source": [
    "# Experiment 1: With regParam=0.5\n",
    "als_0_5 = ALS(userCol=\"userID\", itemCol=\"artistID\", ratingCol=\"weight\", coldStartStrategy=\"drop\", implicitPrefs=True, regParam=0.5)\n",
    "model_0_5 = als_0_5.fit(train_data)\n",
    "predictions_0_5 = model_0_5.transform(test_data)\n",
    "\n",
    "# Calculate RMSE for Experiment 1\n",
    "squared_error_0_5 = predictions_0_5.withColumn(\"squared_error\", (F.col(\"prediction\") - F.col(\"weight\")) ** 2)\n",
    "rmse_0_5_value = squared_error_0_5.select(F.sqrt(F.avg(\"squared_error\"))).first()[0]\n",
    "print(f\"RMSE with regParam=0.5: {rmse_0_5_value:.4f}\")\n",
    "\n",
    "# Experiment 2: With regParam=1.0\n",
    "als_1_0 = ALS(userCol=\"userID\", itemCol=\"artistID\", ratingCol=\"weight\", coldStartStrategy=\"drop\", implicitPrefs=True, regParam=1.0)\n",
    "model_1_0 = als_1_0.fit(train_data)\n",
    "predictions_1_0 = model_1_0.transform(test_data)\n",
    "\n",
    "# Calculate RMSE for Experiment 2\n",
    "squared_error_1_0 = predictions_1_0.withColumn(\"squared_error\", (F.col(\"prediction\") - F.col(\"weight\")) ** 2)\n",
    "rmse_1_0_value = squared_error_1_0.select(F.sqrt(F.avg(\"squared_error\"))).first()[0]\n",
    "print(f\"RMSE with regParam=1.0: {rmse_1_0_value:.4f}\")"
   ]
  },
  {
   "cell_type": "markdown",
   "metadata": {},
   "source": [
    "The regularisation does not seem to have had a significant effect on the RMSE. The RMSE is very high, hence, the model does not seem to give meaningful recommendations."
   ]
  },
  {
   "cell_type": "markdown",
   "metadata": {},
   "source": [
    "## 4: Conclusion\n",
    "We have investigated collaborative filtering through memory-based and model-based methods. First, we implemented simple user-based and item-based methods which were slow, but successfully gave recommendations. The item-based methods seem to run quicker than the user-based methods due to the structure of the data. We then implemented model-based methods - SVD and ALS - which were much more efficient than the previous memory-based methods, and allowed quick recommendations to be given.\n",
    "\n",
    "All of these methods gave recommendations which ranged in quality and performance depending on the availability of data. Next, we used PySpark to implement ALS and this increased the computational efficiency significantly, allowing us to quickly give recommendations for all of the users. This feature would allow us to scale our recommendation methods to large datasets and would be vital in developing our music recommendation system, which could theoretically have millions of users.\n",
    "\n",
    "Finally, as the most efficient method, we evaluated the performance of the PySpark ALS method use RMSE and found this to be very high, leading us to conclude that there is significant room for improvement in our recommendations. However, although our recommender system may not be as good as we would have liked, we have implemented a number of different collaborative filtering methods and seen the benefits of the scalability and efficiency of PySpark."
   ]
  },
  {
   "cell_type": "markdown",
   "metadata": {},
   "source": [
    "---"
   ]
  },
  {
   "cell_type": "markdown",
   "metadata": {},
   "source": [
    "## **References**\n",
    "[1] F.O. Isinkaye, Y.O. Folajimi, B.A. Ojokoh,\n",
    "Recommendation systems: Principles, methods and evaluation,\n",
    "Egyptian Informatics Journal,\n",
    "Volume 16, Issue 3,\n",
    "2015,\n",
    "Pages 261-273.\n",
    "(https://www.sciencedirect.com/science/article/pii/S1110866515000341)\n",
    "\n",
    "[2] Implicit Documentation: https://benfred.github.io/implicit/\n",
    "\n",
    "[3] PySpark Collaborative Filtering Documentation: https://spark.apache.org/docs/latest/ml-collaborative-filtering.html\n",
    "\n",
    "[4] scikit-learn Documentation: https://scikit-learn.org/stable/modules/generated/sklearn.decomposition.TruncatedSVD.html\n",
    "\n",
    "[5] csr_matrix Documentation: https://docs.scipy.org/doc/scipy/reference/generated/scipy.sparse.csr_matrix.html\n",
    " \n",
    "[6] PySpark ALS Documentation: https://spark.apache.org/docs/latest/api/python/reference/api/pyspark.ml.recommendation.ALS.html"
   ]
  }
 ],
 "metadata": {
  "kernelspec": {
   "display_name": "Python 3",
   "language": "python",
   "name": "python3"
  },
  "language_info": {
   "codemirror_mode": {
    "name": "ipython",
    "version": 3
   },
   "file_extension": ".py",
   "mimetype": "text/x-python",
   "name": "python",
   "nbconvert_exporter": "python",
   "pygments_lexer": "ipython3",
   "version": "3.11.4"
  }
 },
 "nbformat": 4,
 "nbformat_minor": 2
}
