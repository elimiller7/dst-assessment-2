{
 "cells": [
  {
   "cell_type": "markdown",
   "metadata": {},
   "source": [
    "# Content-Based Filtering with PySpark\n"
   ]
  },
  {
   "cell_type": "markdown",
   "metadata": {},
   "source": [
    "## 0: Introducing The Model\n",
    "\n",
    "In this section, we explore content-based filtering using the built in PySpark. We use a dataset which includes information about music artists, their associated tags, and how users interacted with them. We aim to generate artist recommendations for users based on the tags associated with artists they have interacted with. This involves loading the data, creating profiles for the artists, vectorising the tags, calculating cosine similarities and finally generating recommendations based on those similarities.\n",
    "\n",
    " Our process for calculating the cosine similarities will involve using the following formula: \n",
    "\n",
    "$$\n",
    "\n",
    "\\text{Cosine Similarity} = \\cos(\\theta) = \\frac{\\mathbf{A} \\cdot \\mathbf{B}}{\\|\\mathbf{A}\\| \\|\\mathbf{B}\\|} = \\frac{\\sum_{i=1}^{n} A_i B_i}{\\sqrt{\\sum_{i=1}^{n} A_i^2} \\sqrt{\\sum_{i=1}^{n} B_i^2}}.\n",
    "\n",
    "$$\n",
    "\n",
    "This is where:\n",
    "\n",
    "- A and B represent the feature vectors, each artist profile vectorised.\n",
    "\n",
    "\n",
    "We have chosen to use PySpark due to seeing PySpark being the most efficient in a content recommender systems, specifically for a large dataset, along with having literature to back up its speed."
   ]
  },
  {
   "cell_type": "markdown",
   "metadata": {},
   "source": [
    "## 1: Importing Modules, Requirements, Creating our PySpark Session and Loading Data Data\n",
    "\n",
    "We have our model requirements listed below."
   ]
  },
  {
   "cell_type": "code",
   "execution_count": 1,
   "metadata": {},
   "outputs": [
    {
     "name": "stdout",
     "output_type": "stream",
     "text": [
      "Requirement already satisfied: pipreqsnb in /Users/harrywilson/anaconda3/lib/python3.11/site-packages (0.2.4)\n",
      "Requirement already satisfied: pipreqs in /Users/harrywilson/anaconda3/lib/python3.11/site-packages (from pipreqsnb) (0.5.0)\n",
      "Requirement already satisfied: docopt==0.6.2 in /Users/harrywilson/anaconda3/lib/python3.11/site-packages (from pipreqs->pipreqsnb) (0.6.2)\n",
      "Requirement already satisfied: ipython==8.12.3 in /Users/harrywilson/anaconda3/lib/python3.11/site-packages (from pipreqs->pipreqsnb) (8.12.3)\n",
      "Requirement already satisfied: nbconvert<8.0.0,>=7.11.0 in /Users/harrywilson/anaconda3/lib/python3.11/site-packages (from pipreqs->pipreqsnb) (7.16.4)\n",
      "Requirement already satisfied: yarg==0.1.9 in /Users/harrywilson/anaconda3/lib/python3.11/site-packages (from pipreqs->pipreqsnb) (0.1.9)\n",
      "Requirement already satisfied: backcall in /Users/harrywilson/anaconda3/lib/python3.11/site-packages (from ipython==8.12.3->pipreqs->pipreqsnb) (0.2.0)\n",
      "Requirement already satisfied: decorator in /Users/harrywilson/anaconda3/lib/python3.11/site-packages (from ipython==8.12.3->pipreqs->pipreqsnb) (5.1.1)\n",
      "Requirement already satisfied: jedi>=0.16 in /Users/harrywilson/anaconda3/lib/python3.11/site-packages (from ipython==8.12.3->pipreqs->pipreqsnb) (0.18.1)\n",
      "Requirement already satisfied: matplotlib-inline in /Users/harrywilson/anaconda3/lib/python3.11/site-packages (from ipython==8.12.3->pipreqs->pipreqsnb) (0.1.6)\n",
      "Requirement already satisfied: pickleshare in /Users/harrywilson/anaconda3/lib/python3.11/site-packages (from ipython==8.12.3->pipreqs->pipreqsnb) (0.7.5)\n",
      "Requirement already satisfied: prompt-toolkit!=3.0.37,<3.1.0,>=3.0.30 in /Users/harrywilson/anaconda3/lib/python3.11/site-packages (from ipython==8.12.3->pipreqs->pipreqsnb) (3.0.36)\n",
      "Requirement already satisfied: pygments>=2.4.0 in /Users/harrywilson/anaconda3/lib/python3.11/site-packages (from ipython==8.12.3->pipreqs->pipreqsnb) (2.15.1)\n",
      "Requirement already satisfied: stack-data in /Users/harrywilson/anaconda3/lib/python3.11/site-packages (from ipython==8.12.3->pipreqs->pipreqsnb) (0.2.0)\n",
      "Requirement already satisfied: traitlets>=5 in /Users/harrywilson/anaconda3/lib/python3.11/site-packages (from ipython==8.12.3->pipreqs->pipreqsnb) (5.7.1)\n",
      "Requirement already satisfied: pexpect>4.3 in /Users/harrywilson/anaconda3/lib/python3.11/site-packages (from ipython==8.12.3->pipreqs->pipreqsnb) (4.8.0)\n",
      "Requirement already satisfied: appnope in /Users/harrywilson/anaconda3/lib/python3.11/site-packages (from ipython==8.12.3->pipreqs->pipreqsnb) (0.1.2)\n",
      "Requirement already satisfied: requests in /Users/harrywilson/anaconda3/lib/python3.11/site-packages (from yarg==0.1.9->pipreqs->pipreqsnb) (2.31.0)\n",
      "Requirement already satisfied: beautifulsoup4 in /Users/harrywilson/anaconda3/lib/python3.11/site-packages (from nbconvert<8.0.0,>=7.11.0->pipreqs->pipreqsnb) (4.12.2)\n",
      "Requirement already satisfied: bleach!=5.0.0 in /Users/harrywilson/anaconda3/lib/python3.11/site-packages (from nbconvert<8.0.0,>=7.11.0->pipreqs->pipreqsnb) (4.1.0)\n",
      "Requirement already satisfied: defusedxml in /Users/harrywilson/anaconda3/lib/python3.11/site-packages (from nbconvert<8.0.0,>=7.11.0->pipreqs->pipreqsnb) (0.7.1)\n",
      "Requirement already satisfied: jinja2>=3.0 in /Users/harrywilson/anaconda3/lib/python3.11/site-packages (from nbconvert<8.0.0,>=7.11.0->pipreqs->pipreqsnb) (3.1.2)\n",
      "Requirement already satisfied: jupyter-core>=4.7 in /Users/harrywilson/anaconda3/lib/python3.11/site-packages (from nbconvert<8.0.0,>=7.11.0->pipreqs->pipreqsnb) (5.3.0)\n",
      "Requirement already satisfied: jupyterlab-pygments in /Users/harrywilson/anaconda3/lib/python3.11/site-packages (from nbconvert<8.0.0,>=7.11.0->pipreqs->pipreqsnb) (0.1.2)\n",
      "Requirement already satisfied: markupsafe>=2.0 in /Users/harrywilson/anaconda3/lib/python3.11/site-packages (from nbconvert<8.0.0,>=7.11.0->pipreqs->pipreqsnb) (2.1.1)\n",
      "Requirement already satisfied: mistune<4,>=2.0.3 in /Users/harrywilson/anaconda3/lib/python3.11/site-packages (from nbconvert<8.0.0,>=7.11.0->pipreqs->pipreqsnb) (3.0.2)\n",
      "Requirement already satisfied: nbclient>=0.5.0 in /Users/harrywilson/anaconda3/lib/python3.11/site-packages (from nbconvert<8.0.0,>=7.11.0->pipreqs->pipreqsnb) (0.5.13)\n",
      "Requirement already satisfied: nbformat>=5.7 in /Users/harrywilson/anaconda3/lib/python3.11/site-packages (from nbconvert<8.0.0,>=7.11.0->pipreqs->pipreqsnb) (5.9.2)\n",
      "Requirement already satisfied: packaging in /Users/harrywilson/anaconda3/lib/python3.11/site-packages (from nbconvert<8.0.0,>=7.11.0->pipreqs->pipreqsnb) (23.1)\n",
      "Requirement already satisfied: pandocfilters>=1.4.1 in /Users/harrywilson/anaconda3/lib/python3.11/site-packages (from nbconvert<8.0.0,>=7.11.0->pipreqs->pipreqsnb) (1.5.0)\n",
      "Requirement already satisfied: tinycss2 in /Users/harrywilson/anaconda3/lib/python3.11/site-packages (from nbconvert<8.0.0,>=7.11.0->pipreqs->pipreqsnb) (1.2.1)\n",
      "Requirement already satisfied: six>=1.9.0 in /Users/harrywilson/anaconda3/lib/python3.11/site-packages (from bleach!=5.0.0->nbconvert<8.0.0,>=7.11.0->pipreqs->pipreqsnb) (1.16.0)\n",
      "Requirement already satisfied: webencodings in /Users/harrywilson/anaconda3/lib/python3.11/site-packages (from bleach!=5.0.0->nbconvert<8.0.0,>=7.11.0->pipreqs->pipreqsnb) (0.5.1)\n",
      "Requirement already satisfied: parso<0.9.0,>=0.8.0 in /Users/harrywilson/anaconda3/lib/python3.11/site-packages (from jedi>=0.16->ipython==8.12.3->pipreqs->pipreqsnb) (0.8.3)\n",
      "Requirement already satisfied: platformdirs>=2.5 in /Users/harrywilson/anaconda3/lib/python3.11/site-packages (from jupyter-core>=4.7->nbconvert<8.0.0,>=7.11.0->pipreqs->pipreqsnb) (3.10.0)\n",
      "Requirement already satisfied: jupyter-client>=6.1.5 in /Users/harrywilson/anaconda3/lib/python3.11/site-packages (from nbclient>=0.5.0->nbconvert<8.0.0,>=7.11.0->pipreqs->pipreqsnb) (7.4.9)\n",
      "Requirement already satisfied: nest-asyncio in /Users/harrywilson/anaconda3/lib/python3.11/site-packages (from nbclient>=0.5.0->nbconvert<8.0.0,>=7.11.0->pipreqs->pipreqsnb) (1.5.6)\n",
      "Requirement already satisfied: fastjsonschema in /Users/harrywilson/anaconda3/lib/python3.11/site-packages (from nbformat>=5.7->nbconvert<8.0.0,>=7.11.0->pipreqs->pipreqsnb) (2.16.2)\n",
      "Requirement already satisfied: jsonschema>=2.6 in /Users/harrywilson/anaconda3/lib/python3.11/site-packages (from nbformat>=5.7->nbconvert<8.0.0,>=7.11.0->pipreqs->pipreqsnb) (4.17.3)\n",
      "Requirement already satisfied: ptyprocess>=0.5 in /Users/harrywilson/anaconda3/lib/python3.11/site-packages (from pexpect>4.3->ipython==8.12.3->pipreqs->pipreqsnb) (0.7.0)\n",
      "Requirement already satisfied: wcwidth in /Users/harrywilson/anaconda3/lib/python3.11/site-packages (from prompt-toolkit!=3.0.37,<3.1.0,>=3.0.30->ipython==8.12.3->pipreqs->pipreqsnb) (0.2.5)\n",
      "Requirement already satisfied: soupsieve>1.2 in /Users/harrywilson/anaconda3/lib/python3.11/site-packages (from beautifulsoup4->nbconvert<8.0.0,>=7.11.0->pipreqs->pipreqsnb) (2.4)\n",
      "Requirement already satisfied: charset-normalizer<4,>=2 in /Users/harrywilson/anaconda3/lib/python3.11/site-packages (from requests->yarg==0.1.9->pipreqs->pipreqsnb) (2.0.4)\n",
      "Requirement already satisfied: idna<4,>=2.5 in /Users/harrywilson/anaconda3/lib/python3.11/site-packages (from requests->yarg==0.1.9->pipreqs->pipreqsnb) (3.4)\n",
      "Requirement already satisfied: urllib3<3,>=1.21.1 in /Users/harrywilson/anaconda3/lib/python3.11/site-packages (from requests->yarg==0.1.9->pipreqs->pipreqsnb) (1.26.16)\n",
      "Requirement already satisfied: certifi>=2017.4.17 in /Users/harrywilson/anaconda3/lib/python3.11/site-packages (from requests->yarg==0.1.9->pipreqs->pipreqsnb) (2023.11.17)\n",
      "Requirement already satisfied: executing in /Users/harrywilson/anaconda3/lib/python3.11/site-packages (from stack-data->ipython==8.12.3->pipreqs->pipreqsnb) (0.8.3)\n",
      "Requirement already satisfied: asttokens in /Users/harrywilson/anaconda3/lib/python3.11/site-packages (from stack-data->ipython==8.12.3->pipreqs->pipreqsnb) (2.0.5)\n",
      "Requirement already satisfied: pure-eval in /Users/harrywilson/anaconda3/lib/python3.11/site-packages (from stack-data->ipython==8.12.3->pipreqs->pipreqsnb) (0.2.2)\n",
      "Requirement already satisfied: attrs>=17.4.0 in /Users/harrywilson/anaconda3/lib/python3.11/site-packages (from jsonschema>=2.6->nbformat>=5.7->nbconvert<8.0.0,>=7.11.0->pipreqs->pipreqsnb) (22.1.0)\n",
      "Requirement already satisfied: pyrsistent!=0.17.0,!=0.17.1,!=0.17.2,>=0.14.0 in /Users/harrywilson/anaconda3/lib/python3.11/site-packages (from jsonschema>=2.6->nbformat>=5.7->nbconvert<8.0.0,>=7.11.0->pipreqs->pipreqsnb) (0.18.0)\n",
      "Requirement already satisfied: entrypoints in /Users/harrywilson/anaconda3/lib/python3.11/site-packages (from jupyter-client>=6.1.5->nbclient>=0.5.0->nbconvert<8.0.0,>=7.11.0->pipreqs->pipreqsnb) (0.4)\n",
      "Requirement already satisfied: python-dateutil>=2.8.2 in /Users/harrywilson/anaconda3/lib/python3.11/site-packages (from jupyter-client>=6.1.5->nbclient>=0.5.0->nbconvert<8.0.0,>=7.11.0->pipreqs->pipreqsnb) (2.8.2)\n",
      "Requirement already satisfied: pyzmq>=23.0 in /Users/harrywilson/anaconda3/lib/python3.11/site-packages (from jupyter-client>=6.1.5->nbclient>=0.5.0->nbconvert<8.0.0,>=7.11.0->pipreqs->pipreqsnb) (23.2.0)\n",
      "Requirement already satisfied: tornado>=6.2 in /Users/harrywilson/anaconda3/lib/python3.11/site-packages (from jupyter-client>=6.1.5->nbclient>=0.5.0->nbconvert<8.0.0,>=7.11.0->pipreqs->pipreqsnb) (6.3.2)\n",
      "Traceback (most recent call last):\n",
      "  File \"/Users/harrywilson/anaconda3/bin/pipreqsnb\", line 8, in <module>\n",
      "    sys.exit(main())\n",
      "             ^^^^^^\n",
      "  File \"/Users/harrywilson/anaconda3/lib/python3.11/site-packages/pipreqsnb/pipreqsnb.py\", line 98, in main\n",
      "    is_file, is_nb = path_is_file(input_path)\n",
      "                     ^^^^^^^^^^^^^^^^^^^^^^^^\n",
      "  File \"/Users/harrywilson/anaconda3/lib/python3.11/site-packages/pipreqsnb/pipreqsnb.py\", line 80, in path_is_file\n",
      "    raise Exception('{} if an invalid path'.format(path))\n",
      "Exception: report/05-Graph-Neural-Network.ipynb if an invalid path\n",
      "Traceback (most recent call last):\n",
      "  File \"/Users/harrywilson/anaconda3/bin/pipreqsnb\", line 8, in <module>\n",
      "    sys.exit(main())\n",
      "             ^^^^^^\n",
      "  File \"/Users/harrywilson/anaconda3/lib/python3.11/site-packages/pipreqsnb/pipreqsnb.py\", line 98, in main\n",
      "    is_file, is_nb = path_is_file(input_path)\n",
      "                     ^^^^^^^^^^^^^^^^^^^^^^^^\n",
      "  File \"/Users/harrywilson/anaconda3/lib/python3.11/site-packages/pipreqsnb/pipreqsnb.py\", line 80, in path_is_file\n",
      "    raise Exception('{} if an invalid path'.format(path))\n",
      "Exception: scripts/LightGCN if an invalid path\n"
     ]
    }
   ],
   "source": [
    "# Run this cell to automatically generate requirements\n",
    "\n",
    "!pip install pipreqsnb\n",
    "\n",
    "!pipreqsnb --savepath report/requirements/04-requirements.txt --encoding utf-8 report/05-Graph-Neural-Network.ipynb\n",
    "!pipreqsnb --savepath report/requirements/LightGCN-requirements.txt --encoding utf-8 scripts/LightGCN"
   ]
  },
  {
   "cell_type": "code",
   "execution_count": 2,
   "metadata": {},
   "outputs": [
    {
     "name": "stdout",
     "output_type": "stream",
     "text": [
      "REQUIREMENTS for 04-Content-Based-Filtering.ipynb:\n",
      "\n"
     ]
    },
    {
     "ename": "FileNotFoundError",
     "evalue": "[Errno 2] No such file or directory: '../report/requirements/04-requirements.txt'",
     "output_type": "error",
     "traceback": [
      "\u001b[0;31m---------------------------------------------------------------------------\u001b[0m",
      "\u001b[0;31mFileNotFoundError\u001b[0m                         Traceback (most recent call last)",
      "Cell \u001b[0;32mIn[2], line 4\u001b[0m\n\u001b[1;32m      1\u001b[0m \u001b[38;5;28;01mimport\u001b[39;00m \u001b[38;5;21;01mos\u001b[39;00m\n\u001b[1;32m      3\u001b[0m \u001b[38;5;28mprint\u001b[39m(\u001b[38;5;124m\"\u001b[39m\u001b[38;5;124mREQUIREMENTS for 04-Content-Based-Filtering.ipynb:\u001b[39m\u001b[38;5;130;01m\\n\u001b[39;00m\u001b[38;5;124m\"\u001b[39m)\n\u001b[0;32m----> 4\u001b[0m \u001b[38;5;28;01mwith\u001b[39;00m \u001b[38;5;28mopen\u001b[39m(os\u001b[38;5;241m.\u001b[39mpath\u001b[38;5;241m.\u001b[39mjoin(\u001b[38;5;124m'\u001b[39m\u001b[38;5;124m..\u001b[39m\u001b[38;5;124m'\u001b[39m,\u001b[38;5;124m'\u001b[39m\u001b[38;5;124mreport\u001b[39m\u001b[38;5;124m'\u001b[39m,\u001b[38;5;124m'\u001b[39m\u001b[38;5;124mrequirements\u001b[39m\u001b[38;5;124m'\u001b[39m,\u001b[38;5;124m'\u001b[39m\u001b[38;5;124m04-requirements.txt\u001b[39m\u001b[38;5;124m'\u001b[39m)) \u001b[38;5;28;01mas\u001b[39;00m f:\n\u001b[1;32m      5\u001b[0m     \u001b[38;5;28mprint\u001b[39m(f\u001b[38;5;241m.\u001b[39mread())\n",
      "File \u001b[0;32m~/anaconda3/lib/python3.11/site-packages/IPython/core/interactiveshell.py:284\u001b[0m, in \u001b[0;36m_modified_open\u001b[0;34m(file, *args, **kwargs)\u001b[0m\n\u001b[1;32m    277\u001b[0m \u001b[38;5;28;01mif\u001b[39;00m file \u001b[38;5;129;01min\u001b[39;00m {\u001b[38;5;241m0\u001b[39m, \u001b[38;5;241m1\u001b[39m, \u001b[38;5;241m2\u001b[39m}:\n\u001b[1;32m    278\u001b[0m     \u001b[38;5;28;01mraise\u001b[39;00m \u001b[38;5;167;01mValueError\u001b[39;00m(\n\u001b[1;32m    279\u001b[0m         \u001b[38;5;124mf\u001b[39m\u001b[38;5;124m\"\u001b[39m\u001b[38;5;124mIPython won\u001b[39m\u001b[38;5;124m'\u001b[39m\u001b[38;5;124mt let you open fd=\u001b[39m\u001b[38;5;132;01m{\u001b[39;00mfile\u001b[38;5;132;01m}\u001b[39;00m\u001b[38;5;124m by default \u001b[39m\u001b[38;5;124m\"\u001b[39m\n\u001b[1;32m    280\u001b[0m         \u001b[38;5;124m\"\u001b[39m\u001b[38;5;124mas it is likely to crash IPython. If you know what you are doing, \u001b[39m\u001b[38;5;124m\"\u001b[39m\n\u001b[1;32m    281\u001b[0m         \u001b[38;5;124m\"\u001b[39m\u001b[38;5;124myou can use builtins\u001b[39m\u001b[38;5;124m'\u001b[39m\u001b[38;5;124m open.\u001b[39m\u001b[38;5;124m\"\u001b[39m\n\u001b[1;32m    282\u001b[0m     )\n\u001b[0;32m--> 284\u001b[0m \u001b[38;5;28;01mreturn\u001b[39;00m io_open(file, \u001b[38;5;241m*\u001b[39margs, \u001b[38;5;241m*\u001b[39m\u001b[38;5;241m*\u001b[39mkwargs)\n",
      "\u001b[0;31mFileNotFoundError\u001b[0m: [Errno 2] No such file or directory: '../report/requirements/04-requirements.txt'"
     ]
    }
   ],
   "source": [
    "import os\n",
    "\n",
    "print(\"REQUIREMENTS for 04-Content-Based-Filtering.ipynb:\\n\")\n",
    "with open(os.path.join('..','report','requirements','04-requirements.txt')) as f:\n",
    "    print(f.read())"
   ]
  },
  {
   "cell_type": "code",
   "execution_count": null,
   "metadata": {},
   "outputs": [
    {
     "name": "stdout",
     "output_type": "stream",
     "text": [
      "\u001b[31mERROR: Could not open requirements file: [Errno 2] No such file or directory: 'report/requirements/04-requirements.txt'\u001b[0m\u001b[31m\n",
      "\u001b[0m"
     ]
    }
   ],
   "source": [
    "# Run this cell to automatically install requirements from saved .txt files\n",
    "\n",
    "!pip install -r report/requirements/04-requirements.txt"
   ]
  },
  {
   "cell_type": "code",
   "execution_count": 1,
   "metadata": {},
   "outputs": [],
   "source": [
    "# Importing Required Libraries\n",
    "\n",
    "from pyspark.sql import SparkSession\n",
    "from pyspark.sql import functions as F\n",
    "from pyspark.ml.feature import CountVectorizer, IDF\n",
    "from pyspark.ml.linalg import Vectors\n",
    "from pyspark.ml.feature import MinMaxScaler\n",
    "from pyspark.ml.stat import Correlation\n",
    "from pyspark.mllib.linalg.distributed import RowMatrix\n",
    "import random"
   ]
  },
  {
   "cell_type": "markdown",
   "metadata": {},
   "source": [
    "Here, we must intialise our spark session. This is fundamental for using any of spark's great features."
   ]
  },
  {
   "cell_type": "code",
   "execution_count": 2,
   "metadata": {},
   "outputs": [
    {
     "name": "stderr",
     "output_type": "stream",
     "text": [
      "Setting default log level to \"WARN\".\n",
      "To adjust logging level use sc.setLogLevel(newLevel). For SparkR, use setLogLevel(newLevel).\n",
      "24/11/26 13:12:56 WARN NativeCodeLoader: Unable to load native-hadoop library for your platform... using builtin-java classes where applicable\n"
     ]
    }
   ],
   "source": [
    "# Initialising our Spark Session\n",
    "\n",
    "spark = SparkSession.builder \\\n",
    "    .appName(\"Content-Based Filtering\") \\\n",
    "    .getOrCreate()"
   ]
  },
  {
   "cell_type": "code",
   "execution_count": 3,
   "metadata": {},
   "outputs": [
    {
     "name": "stderr",
     "output_type": "stream",
     "text": [
      "                                                                                \r"
     ]
    },
    {
     "name": "stdout",
     "output_type": "stream",
     "text": [
      "User-Artists Dataset:\n",
      "+------+--------+------+\n",
      "|userID|artistID|weight|\n",
      "+------+--------+------+\n",
      "|     2|      51| 13883|\n",
      "|     2|      52| 11690|\n",
      "|     2|      53| 11351|\n",
      "|     2|      54| 10300|\n",
      "|     2|      55|  8983|\n",
      "+------+--------+------+\n",
      "only showing top 5 rows\n",
      "\n",
      "Artists Dataset:\n",
      "+---+-----------------+--------------------+--------------------+\n",
      "| id|             name|                 url|          pictureURL|\n",
      "+---+-----------------+--------------------+--------------------+\n",
      "|  1|     MALICE MIZER|http://www.last.f...|http://userserve-...|\n",
      "|  2|  Diary of Dreams|http://www.last.f...|http://userserve-...|\n",
      "|  3|Carpathian Forest|http://www.last.f...|http://userserve-...|\n",
      "|  4|     Moi dix Mois|http://www.last.f...|http://userserve-...|\n",
      "|  5|      Bella Morte|http://www.last.f...|http://userserve-...|\n",
      "+---+-----------------+--------------------+--------------------+\n",
      "only showing top 5 rows\n",
      "\n",
      "Tags Dataset:\n",
      "+-----+-----------------+\n",
      "|tagID|         tagValue|\n",
      "+-----+-----------------+\n",
      "|    1|            metal|\n",
      "|    2|alternative metal|\n",
      "|    3|        goth rock|\n",
      "|    4|      black metal|\n",
      "|    5|      death metal|\n",
      "+-----+-----------------+\n",
      "only showing top 5 rows\n",
      "\n",
      "User-Tagged Artists Dataset:\n",
      "+------+--------+-----+---+-----+----+\n",
      "|userID|artistID|tagID|day|month|year|\n",
      "+------+--------+-----+---+-----+----+\n",
      "|     2|      52|   13|  1|    4|2009|\n",
      "|     2|      52|   15|  1|    4|2009|\n",
      "|     2|      52|   18|  1|    4|2009|\n",
      "|     2|      52|   21|  1|    4|2009|\n",
      "|     2|      52|   41|  1|    4|2009|\n",
      "+------+--------+-----+---+-----+----+\n",
      "only showing top 5 rows\n",
      "\n"
     ]
    }
   ],
   "source": [
    "base_directory = \"/Users/harrywilson/Desktop/DataScienceToolbox/Assessment2Data\"\n",
    "\n",
    "\n",
    "# FOR THE READER\n",
    "# base_directory = \"your_path\"\n",
    "\n",
    "# Function to load a .dat file as a DataFrame\n",
    "def load_data(filename):\n",
    "    file_path = f\"{base_directory}/{filename}\"\n",
    "    return spark.read.csv(file_path, sep=\"\\t\", header=True, inferSchema=True)\n",
    "\n",
    "# Load datasets\n",
    "user_artists_df = load_data(\"user_artists.dat\")\n",
    "artists_df = load_data(\"artists.dat\")\n",
    "tags_df = load_data(\"tags.dat\")\n",
    "user_taggedartists_df = load_data(\"user_taggedartists.dat\")\n",
    "\n",
    "# Display a few rows from the datasets to ensure everything is working\n",
    "print(\"User-Artists Dataset:\")\n",
    "user_artists_df.show(5)\n",
    "\n",
    "print(\"Artists Dataset:\")\n",
    "artists_df.show(5)\n",
    "\n",
    "print(\"Tags Dataset:\")\n",
    "tags_df.show(5)\n",
    "\n",
    "print(\"User-Tagged Artists Dataset:\")\n",
    "user_taggedartists_df.show(5)\n"
   ]
  },
  {
   "cell_type": "markdown",
   "metadata": {},
   "source": [
    "## 2: Preparing Our Data\n",
    "\n",
    "### 2.1: Creating Artist Profiles\n",
    "\n",
    "Firstly, we need to create artist profiles for our artists. This involves adding the arists, along with their tags into a common dataframe. "
   ]
  },
  {
   "cell_type": "code",
   "execution_count": 4,
   "metadata": {},
   "outputs": [
    {
     "name": "stderr",
     "output_type": "stream",
     "text": [
      "[Stage 14:>                                                         (0 + 1) / 1]\r"
     ]
    },
    {
     "name": "stdout",
     "output_type": "stream",
     "text": [
      "+--------+---------------------+------------------------------------------------------------------------------------------------------------------------------------------------------------------------------------------------------------------------------------------------------------------------------------------------------------------------------------------------------------------------------------------------------------------------------------------------------------------------------------------------------------------------------------------------------------------------------------------------------------------------------------------------------------------------------------------------------------------------------------------------+\n",
      "|artistID|artist_name          |tags                                                                                                                                                                                                                                                                                                                                                                                                                                                                                                                                                                                                                                                                                                                                            |\n",
      "+--------+---------------------+------------------------------------------------------------------------------------------------------------------------------------------------------------------------------------------------------------------------------------------------------------------------------------------------------------------------------------------------------------------------------------------------------------------------------------------------------------------------------------------------------------------------------------------------------------------------------------------------------------------------------------------------------------------------------------------------------------------------------------------------+\n",
      "|4       |Moi dix Mois         |[j-rock, visual kei, metal, gothic japanese, bazarov, metal, rock, j-rock, visual kei, gothic, japanese, gothic metal, j-rock, gothic, japanese, j-rock, visual kei, gothic, japanese, j-rock, japanese, j-rock]                                                                                                                                                                                                                                                                                                                                                                                                                                                                                                                                |\n",
      "|15      |Dimmu Borgir         |[symphonic black metal, halloween, black metal, black metal, symphonic black metal, black metal, death metal, symphonic black metal, melodic heavy metal, metal, black metal, death metal, awesome, dark metal, symphonic black metal, norwegian black metal, atmospheric black metal, melodic black metal, extreme metal, symphonic, nordic metal, true norwegian black metal, norwegian metal, black metal, symphonic metal, symphonic black metal, symphonic black metal, black metal, black metal, black metal, prejebeno, close your eyes and imagine, black metal, symphonic black metal, melodic black metal, black metal cabeza, black metal, black metal, symphonic black metal, melodic black metal, black metal, melodic black metal]|\n",
      "|16      |London After Midnight|[industrial, gothic, gothic rock, gothic, industrial, electronic, goth, heavy, weird, sexy songs, dark wave, gothic, industrial, gothic rock, goth, gothic, gothic rock, darkwave, industrial, gothic, darkwave, gothic, gothic rock, covers]                                                                                                                                                                                                                                                                                                                                                                                                                                                                                                   |\n",
      "|18      |The Crüxshadows      |[electronic, industrial, gothic, synthpop, industrial, electronic, industrial, ebm, darkwave, ultimate favorite, industrial, gothic, electro pop, darkwave, goth, ebm, covers, goth, dark wave, darkwave, gothic, darkwave, electronic, gothic, darkwave, gothic, electronica, gothic rock, darkwave, gothic, darkwave, covers]                                                                                                                                                                                                                                                                                                                                                                                                                 |\n",
      "|20      |Limbonic Art         |[black metal, symphonic metal, black metal, symphonic black metal, norwegian black metal, metal, black metal]                                                                                                                                                                                                                                                                                                                                                                                                                                                                                                                                                                                                                                   |\n",
      "+--------+---------------------+------------------------------------------------------------------------------------------------------------------------------------------------------------------------------------------------------------------------------------------------------------------------------------------------------------------------------------------------------------------------------------------------------------------------------------------------------------------------------------------------------------------------------------------------------------------------------------------------------------------------------------------------------------------------------------------------------------------------------------------------+\n",
      "only showing top 5 rows\n",
      "\n"
     ]
    },
    {
     "name": "stderr",
     "output_type": "stream",
     "text": [
      "                                                                                \r"
     ]
    }
   ],
   "source": [
    "# Join user_taggedartists with tags for tag information\n",
    "artist_tags_df = user_taggedartists_df.join(tags_df, on=\"tagID\", how=\"inner\")\n",
    "\n",
    "# Join artist tags with artists to get artist details and tag names\n",
    "artist_tags_info_df = artist_tags_df.join(\n",
    "    artists_df, artist_tags_df.artistID == artists_df.id\n",
    ").select(\n",
    "    artist_tags_df[\"artistID\"],\n",
    "    artists_df[\"name\"].alias(\"artist_name\"),\n",
    "    artist_tags_df[\"tagValue\"].alias(\"tag\")\n",
    ")\n",
    "\n",
    "\n",
    "artist_profiles_df = artist_tags_info_df.groupBy(\"artistID\", \"artist_name\") \\\n",
    "    .agg(F.collect_list(\"tag\").alias(\"tags\"))\n",
    "\n",
    "# Display artist profiles\n",
    "artist_profiles_df.show(5, truncate=False)"
   ]
  },
  {
   "cell_type": "markdown",
   "metadata": {},
   "source": [
    "### 2.2: Numerically Interpreting our Data\n",
    "\n",
    "To apply our cosine similarity calculation we need numerical interpretations for our tags. This is because to perform our calculation, we would not be able to put any letters into our formula. To do this we use 'CountVectorizer', which creates a vector of word counts for each artist's tags."
   ]
  },
  {
   "cell_type": "code",
   "execution_count": 5,
   "metadata": {},
   "outputs": [
    {
     "name": "stderr",
     "output_type": "stream",
     "text": [
      "[Stage 28:>                                                         (0 + 1) / 1]\r"
     ]
    },
    {
     "name": "stdout",
     "output_type": "stream",
     "text": [
      "+--------+---------------------+------------------------------------------------------------------------------------------------------------------------------------------------------------------------------------------------------------------------------------------------------------------------------------------------------------------------------------------------------------------------------------------------------------------------------------------------------------------------------------------------------------------------------------------------------------------------------------------------------------------------------------------------------------------------------------------------------------------------------------------------+---------------------------------------------------------------------------------------------------------------------------------------------------------------------------------+\n",
      "|artistID|artist_name          |tag_text                                                                                                                                                                                                                                                                                                                                                                                                                                                                                                                                                                                                                                                                                                                                        |raw_features                                                                                                                                                                     |\n",
      "+--------+---------------------+------------------------------------------------------------------------------------------------------------------------------------------------------------------------------------------------------------------------------------------------------------------------------------------------------------------------------------------------------------------------------------------------------------------------------------------------------------------------------------------------------------------------------------------------------------------------------------------------------------------------------------------------------------------------------------------------------------------------------------------------+---------------------------------------------------------------------------------------------------------------------------------------------------------------------------------+\n",
      "|4       |Moi dix Mois         |[j-rock, visual kei, metal, gothic japanese, bazarov, metal, rock, j-rock, visual kei, gothic, japanese, gothic metal, j-rock, gothic, japanese, j-rock, visual kei, gothic, japanese, j-rock, japanese, j-rock]                                                                                                                                                                                                                                                                                                                                                                                                                                                                                                                                |(9718,[0,14,82,98,106,157,227,894,7147],[1.0,2.0,3.0,4.0,1.0,6.0,3.0,1.0,1.0])                                                                                                   |\n",
      "|15      |Dimmu Borgir         |[symphonic black metal, halloween, black metal, black metal, symphonic black metal, black metal, death metal, symphonic black metal, melodic heavy metal, metal, black metal, death metal, awesome, dark metal, symphonic black metal, norwegian black metal, atmospheric black metal, melodic black metal, extreme metal, symphonic, nordic metal, true norwegian black metal, norwegian metal, black metal, symphonic metal, symphonic black metal, symphonic black metal, black metal, black metal, black metal, prejebeno, close your eyes and imagine, black metal, symphonic black metal, melodic black metal, black metal cabeza, black metal, black metal, symphonic black metal, melodic black metal, black metal, melodic black metal]|(9718,[14,56,62,105,119,223,337,728,753,855,884,1334,1532,1638,1956,2219,2486,2510,2908,3083],[1.0,1.0,2.0,12.0,1.0,1.0,1.0,1.0,8.0,1.0,4.0,1.0,1.0,1.0,1.0,1.0,1.0,1.0,1.0,1.0])|\n",
      "|16      |London After Midnight|[industrial, gothic, gothic rock, gothic, industrial, electronic, goth, heavy, weird, sexy songs, dark wave, gothic, industrial, gothic rock, goth, gothic, gothic rock, darkwave, industrial, gothic, darkwave, gothic, gothic rock, covers]                                                                                                                                                                                                                                                                                                                                                                                                                                                                                                   |(9718,[3,36,82,116,121,155,236,524,581,1326,1576],[1.0,4.0,6.0,1.0,2.0,4.0,2.0,1.0,1.0,1.0,1.0])                                                                                 |\n",
      "|18      |The Crüxshadows      |[electronic, industrial, gothic, synthpop, industrial, electronic, industrial, ebm, darkwave, ultimate favorite, industrial, gothic, electro pop, darkwave, goth, ebm, covers, goth, dark wave, darkwave, gothic, darkwave, electronic, gothic, darkwave, gothic, electronica, gothic rock, darkwave, gothic, darkwave, covers]                                                                                                                                                                                                                                                                                                                                                                                                                 |(9718,[3,24,36,39,69,82,116,121,155,235,236,252,1576],[3.0,1.0,4.0,1.0,2.0,6.0,2.0,7.0,1.0,1.0,2.0,1.0,1.0])                                                                     |\n",
      "|20      |Limbonic Art         |[black metal, symphonic metal, black metal, symphonic black metal, norwegian black metal, metal, black metal]                                                                                                                                                                                                                                                                                                                                                                                                                                                                                                                                                                                                                                   |(9718,[14,105,119,753,855],[1.0,3.0,1.0,1.0,1.0])                                                                                                                                |\n",
      "+--------+---------------------+------------------------------------------------------------------------------------------------------------------------------------------------------------------------------------------------------------------------------------------------------------------------------------------------------------------------------------------------------------------------------------------------------------------------------------------------------------------------------------------------------------------------------------------------------------------------------------------------------------------------------------------------------------------------------------------------------------------------------------------------+---------------------------------------------------------------------------------------------------------------------------------------------------------------------------------+\n",
      "only showing top 5 rows\n",
      "\n"
     ]
    },
    {
     "name": "stderr",
     "output_type": "stream",
     "text": [
      "                                                                                \r"
     ]
    }
   ],
   "source": [
    "# Ensure tag_text is an array of strings\n",
    "tags_df = artist_profiles_df.select(\n",
    "    F.col(\"artistID\"),\n",
    "    F.col(\"artist_name\"),\n",
    "    F.col(\"tags\").alias(\"tag_text\")\n",
    ")\n",
    "\n",
    "# Vectorise tags\n",
    "vectoriser = CountVectorizer(inputCol=\"tag_text\", outputCol=\"raw_features\")\n",
    "vectorised_model = vectoriser.fit(tags_df)\n",
    "vectorised_df = vectorised_model.transform(tags_df)\n",
    "\n",
    "# Display vectorized features\n",
    "vectorised_df.show(5, truncate=False)\n"
   ]
  },
  {
   "cell_type": "markdown",
   "metadata": {},
   "source": [
    "#### Explaining Our Data\n",
    "\n",
    "For the 'raw_features' column, we have the format (total_features, [indices], [values]). This is where:"
   ]
  },
  {
   "cell_type": "markdown",
   "metadata": {},
   "source": [
    "'total_features' represents the total number of unique tags in the dataset"
   ]
  },
  {
   "cell_type": "markdown",
   "metadata": {},
   "source": [
    "'indices' represents the indices of non-zero features (tags present for the artist in our case)"
   ]
  },
  {
   "cell_type": "markdown",
   "metadata": {},
   "source": [
    "'values' represents the corresponding count of each tag."
   ]
  },
  {
   "cell_type": "markdown",
   "metadata": {},
   "source": [
    "### 2.3 Term Frequency - Inverse Document Frequency Calculation\n",
    "\n",
    "In this sub-section we compute the TF-IDF for our tags associated with each artist. This is used to evaluate how important a tag is to an artist, in our case specifically. \n",
    "\n",
    "We combine two metrics, the term frequency and the inverse document frequency, which are worked out as such:\n",
    "\n",
    "Term Frequency: $$ \\text{TF}(t, d) = \\frac{\\text{Frequency of term } t \\text{ in document } d}{\\text{Total terms in document } d} $$\n",
    "\n",
    "Inverse Document Frequency: $$ \\text{IDF}(t) = \\log\\left(\\frac{N}{1 + \\text{DF}(t)}\\right) $$\n",
    "\n",
    "This is where:\n",
    "\n",
    "- t is our term (or tag)\n",
    "- d is our document (or artist)\n",
    "- N is the total numbe of artists\n",
    "\n",
    "Note also: The \"+1\" is to avoid division by zero\n",
    "\n",
    "We would then multiply the values, however in our case we will use a built in function. This calculation emphasises terms that are frequent in a specific artist, however rare across all artists. This then helps to identify more unique tags.\n",
    "\n"
   ]
  },
  {
   "cell_type": "code",
   "execution_count": 6,
   "metadata": {},
   "outputs": [
    {
     "name": "stderr",
     "output_type": "stream",
     "text": [
      "[Stage 38:>                                                         (0 + 1) / 1]\r"
     ]
    },
    {
     "name": "stdout",
     "output_type": "stream",
     "text": [
      "+--------+---------------------+------------------------------------------------------------------------------------------------------------------------------------------------------------------------------------------------------------------------------------------------------------------------------------------------------------------------------------------------------------------------------------------------------------------------------------------------------------------------------------------------------------------------------------------------------------------------------------------------------------------------------------------------------------------------------------------------------------------------------------------------+---------------------------------------------------------------------------------------------------------------------------------------------------------------------------------+--------------------------------------------------------------------------------------------------------------------------------------------------------------------------------------------------------------------------------------------------------------------------------------------------------------------------------------------------------------------------------------------------------------------------------------------------------------------------+\n",
      "|artistID|artist_name          |tag_text                                                                                                                                                                                                                                                                                                                                                                                                                                                                                                                                                                                                                                                                                                                                        |raw_features                                                                                                                                                                     |features                                                                                                                                                                                                                                                                                                                                                                                                                                                                  |\n",
      "+--------+---------------------+------------------------------------------------------------------------------------------------------------------------------------------------------------------------------------------------------------------------------------------------------------------------------------------------------------------------------------------------------------------------------------------------------------------------------------------------------------------------------------------------------------------------------------------------------------------------------------------------------------------------------------------------------------------------------------------------------------------------------------------------+---------------------------------------------------------------------------------------------------------------------------------------------------------------------------------+--------------------------------------------------------------------------------------------------------------------------------------------------------------------------------------------------------------------------------------------------------------------------------------------------------------------------------------------------------------------------------------------------------------------------------------------------------------------------+\n",
      "|4       |Moi dix Mois         |[j-rock, visual kei, metal, gothic japanese, bazarov, metal, rock, j-rock, visual kei, gothic, japanese, gothic metal, j-rock, gothic, japanese, j-rock, visual kei, gothic, japanese, j-rock, japanese, j-rock]                                                                                                                                                                                                                                                                                                                                                                                                                                                                                                                                |(9718,[0,14,82,98,106,157,227,894,7147],[1.0,2.0,3.0,4.0,1.0,6.0,3.0,1.0,1.0])                                                                                                   |(9718,[0,14,82,98,106,157,227,894,7147],[1.6855257565429276,5.887724508249416,12.454479841366838,16.648078773770404,4.74980635834472,30.59820969178844,15.642335899427453,6.408034434948252,8.710619527942297])                                                                                                                                                                                                                                                           |\n",
      "|15      |Dimmu Borgir         |[symphonic black metal, halloween, black metal, black metal, symphonic black metal, black metal, death metal, symphonic black metal, melodic heavy metal, metal, black metal, death metal, awesome, dark metal, symphonic black metal, norwegian black metal, atmospheric black metal, melodic black metal, extreme metal, symphonic, nordic metal, true norwegian black metal, norwegian metal, black metal, symphonic metal, symphonic black metal, symphonic black metal, black metal, black metal, black metal, prejebeno, close your eyes and imagine, black metal, symphonic black metal, melodic black metal, black metal cabeza, black metal, black metal, symphonic black metal, melodic black metal, black metal, melodic black metal]|(9718,[14,56,62,105,119,223,337,728,753,855,884,1334,1532,1638,1956,2219,2486,2510,2908,3083],[1.0,1.0,2.0,12.0,1.0,1.0,1.0,1.0,8.0,1.0,4.0,1.0,1.0,1.0,1.0,1.0,1.0,1.0,1.0,1.0])|(9718,[14,56,62,105,119,223,337,728,753,855,884,1334,1532,1638,1956,2219,2486,2510,2908,3083],[2.943862254124708,3.2856695104608953,8.047738709923568,54.71495546452382,4.915130338770103,4.881978131453203,5.343323697955824,6.4593277293358025,54.11767503109588,6.695716507400033,26.782866029600132,6.918860058714243,7.101181615508198,7.206542131166024,7.45785655944693,7.612007239274188,7.794328796068143,7.794328796068143,8.017472347382352,8.017472347382352])|\n",
      "|16      |London After Midnight|[industrial, gothic, gothic rock, gothic, industrial, electronic, goth, heavy, weird, sexy songs, dark wave, gothic, industrial, gothic rock, goth, gothic, gothic rock, darkwave, industrial, gothic, darkwave, gothic, gothic rock, covers]                                                                                                                                                                                                                                                                                                                                                                                                                                                                                                   |(9718,[3,36,82,116,121,155,236,524,581,1326,1576],[1.0,4.0,6.0,1.0,2.0,4.0,2.0,1.0,1.0,1.0,1.0])                                                                                 |(9718,[3,36,82,116,121,155,236,524,581,1326,1576],[1.962446318784626,14.115343910600851,24.908959682733677,3.9832317092299574,9.406572685419654,19.61582815268791,10.686647395911647,5.84841864701283,5.84841864701283,6.918860058714243,7.101181615508198])                                                                                                                                                                                                              |\n",
      "|18      |The Crüxshadows      |[electronic, industrial, gothic, synthpop, industrial, electronic, industrial, ebm, darkwave, ultimate favorite, industrial, gothic, electro pop, darkwave, goth, ebm, covers, goth, dark wave, darkwave, gothic, darkwave, electronic, gothic, darkwave, gothic, electronica, gothic rock, darkwave, gothic, darkwave, covers]                                                                                                                                                                                                                                                                                                                                                                                                                 |(9718,[3,24,36,39,69,82,116,121,155,235,236,252,1576],[3.0,1.0,4.0,1.0,2.0,6.0,2.0,7.0,1.0,1.0,2.0,1.0,1.0])                                                                     |(9718,[3,24,36,39,69,82,116,121,155,235,236,252,1576],[5.887338956353878,2.7984687875540413,14.115343910600851,3.512122496676472,8.334649491344587,24.908959682733677,7.966463418459915,32.923004398968786,4.903957038171978,4.871167215348987,10.686647395911647,5.141086831460928,7.101181615508198])                                                                                                                                                                   |\n",
      "|20      |Limbonic Art         |[black metal, symphonic metal, black metal, symphonic black metal, norwegian black metal, metal, black metal]                                                                                                                                                                                                                                                                                                                                                                                                                                                                                                                                                                                                                                   |(9718,[14,105,119,753,855],[1.0,3.0,1.0,1.0,1.0])                                                                                                                                |(9718,[14,105,119,753,855],[2.943862254124708,13.678738866130955,4.915130338770103,6.764709378886985,6.695716507400033])                                                                                                                                                                                                                                                                                                                                                  |\n",
      "+--------+---------------------+------------------------------------------------------------------------------------------------------------------------------------------------------------------------------------------------------------------------------------------------------------------------------------------------------------------------------------------------------------------------------------------------------------------------------------------------------------------------------------------------------------------------------------------------------------------------------------------------------------------------------------------------------------------------------------------------------------------------------------------------+---------------------------------------------------------------------------------------------------------------------------------------------------------------------------------+--------------------------------------------------------------------------------------------------------------------------------------------------------------------------------------------------------------------------------------------------------------------------------------------------------------------------------------------------------------------------------------------------------------------------------------------------------------------------+\n",
      "only showing top 5 rows\n",
      "\n"
     ]
    },
    {
     "name": "stderr",
     "output_type": "stream",
     "text": [
      "                                                                                \r"
     ]
    }
   ],
   "source": [
    "# Compute TF-IDF\n",
    "idf = IDF(inputCol=\"raw_features\", outputCol=\"features\")\n",
    "idf_model = idf.fit(vectorised_df)\n",
    "tfidf_df = idf_model.transform(vectorised_df)\n",
    "\n",
    "# Display TF-IDF features\n",
    "tfidf_df.show(5, truncate=False)"
   ]
  },
  {
   "cell_type": "markdown",
   "metadata": {},
   "source": [
    "### 2.4: Normalising the Feature Vectors\n",
    "\n",
    "Here, we ensure all the feature vectors are on the same scale. This is because some TF-IDF scores will have entirely different ranges. However, by normalising, we are ensuring calculations on a larger scale will not dominate calculations, as they are not inherently more significant. We use 'MinMaxScaler' to normalise these tag vectors. This function is doing the following calculation: \n",
    "\n",
    "$$\n",
    "x' = \\frac{x - x_{\\text{min}}}{x_{\\text{max}} - x_{\\text{min}}}\n",
    "$$\n",
    "\n",
    "Where:\n",
    "\n",
    "- x is the original value of our feature\n",
    "- x_min is the minimum value of our feature\n",
    "- x_max is the maximum value of our feature\n",
    "- x' is the normalised value of our feature\n",
    "\n",
    "This ensures each feature lies in the [0,1] range, which we can see from our output.\n",
    "\n"
   ]
  },
  {
   "cell_type": "code",
   "execution_count": 7,
   "metadata": {},
   "outputs": [
    {
     "name": "stderr",
     "output_type": "stream",
     "text": [
      "[Stage 51:>                                                         (0 + 1) / 1]\r"
     ]
    },
    {
     "name": "stdout",
     "output_type": "stream",
     "text": [
      "+--------+---------------------+------------------------------------------------------------------------------------------------------------------------------------------------------------------------------------------------------------------------------------------------------------------------------------------------------------------------------------------------------------------------------------------------------------------------------------------------------------------------------------------------------------------------------------------------------------------------------------------------------------------------------------------------------------------------------------------------------------------------------------------------+---------------------------------------------------------------------------------------------------------------------------------------------------------------------------------+--------------------------------------------------------------------------------------------------------------------------------------------------------------------------------------------------------------------------------------------------------------------------------------------------------------------------------------------------------------------------------------------------------------------------------------------------------------------------+-------------------------------------------------------------------------------------------------------------------------------------------------------------------------------------------------------------------------------------------------------------------------------+\n",
      "|artistID|artist_name          |tag_text                                                                                                                                                                                                                                                                                                                                                                                                                                                                                                                                                                                                                                                                                                                                        |raw_features                                                                                                                                                                     |features                                                                                                                                                                                                                                                                                                                                                                                                                                                                  |scaled_features                                                                                                                                                                                                                                                                |\n",
      "+--------+---------------------+------------------------------------------------------------------------------------------------------------------------------------------------------------------------------------------------------------------------------------------------------------------------------------------------------------------------------------------------------------------------------------------------------------------------------------------------------------------------------------------------------------------------------------------------------------------------------------------------------------------------------------------------------------------------------------------------------------------------------------------------+---------------------------------------------------------------------------------------------------------------------------------------------------------------------------------+--------------------------------------------------------------------------------------------------------------------------------------------------------------------------------------------------------------------------------------------------------------------------------------------------------------------------------------------------------------------------------------------------------------------------------------------------------------------------+-------------------------------------------------------------------------------------------------------------------------------------------------------------------------------------------------------------------------------------------------------------------------------+\n",
      "|4       |Moi dix Mois         |[j-rock, visual kei, metal, gothic japanese, bazarov, metal, rock, j-rock, visual kei, gothic, japanese, gothic metal, j-rock, gothic, japanese, j-rock, visual kei, gothic, japanese, j-rock, japanese, j-rock]                                                                                                                                                                                                                                                                                                                                                                                                                                                                                                                                |(9718,[0,14,82,98,106,157,227,894,7147],[1.0,2.0,3.0,4.0,1.0,6.0,3.0,1.0,1.0])                                                                                                   |(9718,[0,14,82,98,106,157,227,894,7147],[1.6855257565429276,5.887724508249416,12.454479841366838,16.648078773770404,4.74980635834472,30.59820969178844,15.642335899427453,6.408034434948252,8.710619527942297])                                                                                                                                                                                                                                                           |(9718,[0,14,82,98,106,157,227,894,7147],[0.014925373134328358,0.041666666666666664,0.1875,0.5,0.049999999999999996,0.75,0.75,1.0,1.0])                                                                                                                                         |\n",
      "|15      |Dimmu Borgir         |[symphonic black metal, halloween, black metal, black metal, symphonic black metal, black metal, death metal, symphonic black metal, melodic heavy metal, metal, black metal, death metal, awesome, dark metal, symphonic black metal, norwegian black metal, atmospheric black metal, melodic black metal, extreme metal, symphonic, nordic metal, true norwegian black metal, norwegian metal, black metal, symphonic metal, symphonic black metal, symphonic black metal, black metal, black metal, black metal, prejebeno, close your eyes and imagine, black metal, symphonic black metal, melodic black metal, black metal cabeza, black metal, black metal, symphonic black metal, melodic black metal, black metal, melodic black metal]|(9718,[14,56,62,105,119,223,337,728,753,855,884,1334,1532,1638,1956,2219,2486,2510,2908,3083],[1.0,1.0,2.0,12.0,1.0,1.0,1.0,1.0,8.0,1.0,4.0,1.0,1.0,1.0,1.0,1.0,1.0,1.0,1.0,1.0])|(9718,[14,56,62,105,119,223,337,728,753,855,884,1334,1532,1638,1956,2219,2486,2510,2908,3083],[2.943862254124708,3.2856695104608953,8.047738709923568,54.71495546452382,4.915130338770103,4.881978131453203,5.343323697955824,6.4593277293358025,54.11767503109588,6.695716507400033,26.782866029600132,6.918860058714243,7.101181615508198,7.206542131166024,7.45785655944693,7.612007239274188,7.794328796068143,7.794328796068143,8.017472347382352,8.017472347382352])|(9718,[14,56,62,105,119,223,337,728,753,855,884,1334,1532,1638,1956,2219,2486,2510,2908,3083],[0.020833333333333332,0.1,0.08695652173913043,0.9230769230769231,0.04,0.5,1.0,0.33333333333333337,1.0,0.25,1.0,1.0,0.9999999999999999,1.0,1.0,1.0,1.0,1.0,1.0,1.0])              |\n",
      "|16      |London After Midnight|[industrial, gothic, gothic rock, gothic, industrial, electronic, goth, heavy, weird, sexy songs, dark wave, gothic, industrial, gothic rock, goth, gothic, gothic rock, darkwave, industrial, gothic, darkwave, gothic, gothic rock, covers]                                                                                                                                                                                                                                                                                                                                                                                                                                                                                                   |(9718,[3,36,82,116,121,155,236,524,581,1326,1576],[1.0,4.0,6.0,1.0,2.0,4.0,2.0,1.0,1.0,1.0,1.0])                                                                                 |(9718,[3,36,82,116,121,155,236,524,581,1326,1576],[1.962446318784626,14.115343910600851,24.908959682733677,3.9832317092299574,9.406572685419654,19.61582815268791,10.686647395911647,5.84841864701283,5.84841864701283,6.918860058714243,7.101181615508198])                                                                                                                                                                                                              |(9718,[3,36,82,116,121,155,236,524,581,1326,1576],[0.014705882352941176,0.10810810810810811,0.375,0.33333333333333337,0.18181818181818182,0.26666666666666666,0.2857142857142857,0.5,1.0,1.0,0.9999999999999999])                                                              |\n",
      "|18      |The Crüxshadows      |[electronic, industrial, gothic, synthpop, industrial, electronic, industrial, ebm, darkwave, ultimate favorite, industrial, gothic, electro pop, darkwave, goth, ebm, covers, goth, dark wave, darkwave, gothic, darkwave, electronic, gothic, darkwave, gothic, electronica, gothic rock, darkwave, gothic, darkwave, covers]                                                                                                                                                                                                                                                                                                                                                                                                                 |(9718,[3,24,36,39,69,82,116,121,155,235,236,252,1576],[3.0,1.0,4.0,1.0,2.0,6.0,2.0,7.0,1.0,1.0,2.0,1.0,1.0])                                                                     |(9718,[3,24,36,39,69,82,116,121,155,235,236,252,1576],[5.887338956353878,2.7984687875540413,14.115343910600851,3.512122496676472,8.334649491344587,24.908959682733677,7.966463418459915,32.923004398968786,4.903957038171978,4.871167215348987,10.686647395911647,5.141086831460928,7.101181615508198])                                                                                                                                                                   |(9718,[3,24,36,39,69,82,116,121,155,235,236,252,1576],[0.044117647058823525,0.0625,0.10810810810810811,0.023255813953488372,0.15384615384615383,0.375,0.6666666666666667,0.6363636363636362,0.06666666666666667,1.0,0.2857142857142857,0.24999999999999997,0.9999999999999999])|\n",
      "|20      |Limbonic Art         |[black metal, symphonic metal, black metal, symphonic black metal, norwegian black metal, metal, black metal]                                                                                                                                                                                                                                                                                                                                                                                                                                                                                                                                                                                                                                   |(9718,[14,105,119,753,855],[1.0,3.0,1.0,1.0,1.0])                                                                                                                                |(9718,[14,105,119,753,855],[2.943862254124708,13.678738866130955,4.915130338770103,6.764709378886985,6.695716507400033])                                                                                                                                                                                                                                                                                                                                                  |(9718,[14,105,119,753,855],[0.020833333333333332,0.23076923076923078,0.04,0.125,0.25])                                                                                                                                                                                         |\n",
      "+--------+---------------------+------------------------------------------------------------------------------------------------------------------------------------------------------------------------------------------------------------------------------------------------------------------------------------------------------------------------------------------------------------------------------------------------------------------------------------------------------------------------------------------------------------------------------------------------------------------------------------------------------------------------------------------------------------------------------------------------------------------------------------------------+---------------------------------------------------------------------------------------------------------------------------------------------------------------------------------+--------------------------------------------------------------------------------------------------------------------------------------------------------------------------------------------------------------------------------------------------------------------------------------------------------------------------------------------------------------------------------------------------------------------------------------------------------------------------+-------------------------------------------------------------------------------------------------------------------------------------------------------------------------------------------------------------------------------------------------------------------------------+\n",
      "only showing top 5 rows\n",
      "\n"
     ]
    },
    {
     "name": "stderr",
     "output_type": "stream",
     "text": [
      "                                                                                \r"
     ]
    }
   ],
   "source": [
    "# Normalise the feature vectors\n",
    "scaler = MinMaxScaler(inputCol=\"features\", outputCol=\"scaled_features\")\n",
    "scaler_model = scaler.fit(tfidf_df)\n",
    "scaled_tfidf_df = scaler_model.transform(tfidf_df)\n",
    "\n",
    "# Display scaled features\n",
    "scaled_tfidf_df.show(5, truncate=False)"
   ]
  },
  {
   "cell_type": "markdown",
   "metadata": {},
   "source": [
    "## 3: Computing Similarities\n",
    "\n",
    "### 3.1: Cosine Simalarities\n",
    "Now we compute cosine similarity between artists. We do this using the built in functions 'RowMatrix' and 'columnSimilarities'."
   ]
  },
  {
   "cell_type": "code",
   "execution_count": 8,
   "metadata": {},
   "outputs": [
    {
     "name": "stderr",
     "output_type": "stream",
     "text": [
      "24/11/26 13:14:34 WARN Executor: Managed memory leak detected; size = 36737740 bytes, task 0.0 in stage 63.0 (TID 56)\n",
      "[Stage 66:>                                                         (0 + 1) / 1]\r"
     ]
    },
    {
     "name": "stdout",
     "output_type": "stream",
     "text": [
      "+----------+----------+--------------------+\n",
      "|artistID_1|artistID_2|cosine_similarity   |\n",
      "+----------+----------+--------------------+\n",
      "|261       |1529      |0.07548513560963972 |\n",
      "|379       |1752      |0.049629166698546515|\n",
      "|1644      |7078      |0.35355339059327373 |\n",
      "|1792      |2863      |0.5298129428260175  |\n",
      "|20        |8414      |0.0386493975840497  |\n",
      "+----------+----------+--------------------+\n",
      "only showing top 5 rows\n",
      "\n"
     ]
    },
    {
     "name": "stderr",
     "output_type": "stream",
     "text": [
      "24/11/26 13:14:35 WARN Executor: Managed memory leak detected; size = 36737740 bytes, task 0.0 in stage 66.0 (TID 57)\n",
      "                                                                                \r"
     ]
    }
   ],
   "source": [
    "# Convert the scaled features column to RDD of dense vectors\n",
    "row_matrix_rdd = scaled_tfidf_df.select(\"scaled_features\").rdd.map(lambda row: row.scaled_features.toArray())\n",
    "\n",
    "# Create a RowMatrix from the RDD\n",
    "row_matrix = RowMatrix(row_matrix_rdd)\n",
    "\n",
    "# Compute pairwise cosine similarities\n",
    "similarities = row_matrix.columnSimilarities()\n",
    "\n",
    "# Convert the similarities result back to a DataFrame for better readability\n",
    "similarities_df = similarities.entries.toDF([\"artistID_1\", \"artistID_2\", \"cosine_similarity\"])\n",
    "\n",
    "# Show 5 results\n",
    "similarities_df.show(5, truncate=False)"
   ]
  },
  {
   "cell_type": "markdown",
   "metadata": {},
   "source": [
    "### 3.2: Combining Tag Overlap\n",
    "\n",
    "After investigating our datasets, we found that many artists were being recommended to users, despite not sharing any tags with artists they listen to. This is due to us having to numerically vectorise our tags, and common patterns in these vectors may lead to these mistakes. \n",
    "\n",
    "Therefore, to combat this we will also include tag overlap between artist pairs into our similarity calculations along with our cosine similarity, which we have already worked out.\n",
    "\n",
    "The tag overlap counts shared tags between artist artist pairs. We will then create a hybrid similarity metric which accounts for both relationships."
   ]
  },
  {
   "cell_type": "code",
   "execution_count": 9,
   "metadata": {},
   "outputs": [],
   "source": [
    "# Aggregate artist tags into sets\n",
    "artist_tags_df = artist_tags_info_df.groupBy(\"artistID\") \\\n",
    "    .agg(F.collect_set(\"tag\").alias(\"tags\"))\n",
    "\n",
    "# Self-join to compute tag overlap between artist pairs\n",
    "tag_overlap_df = artist_tags_df.alias(\"a1\").join(\n",
    "    artist_tags_df.alias(\"a2\"),\n",
    "    F.col(\"a1.artistID\") < F.col(\"a2.artistID\")  # Ensure unique pairs\n",
    ").select(\n",
    "    F.col(\"a1.artistID\").alias(\"artistID_1\"),\n",
    "    F.col(\"a2.artistID\").alias(\"artistID_2\"),\n",
    "    F.size(F.array_intersect(F.col(\"a1.tags\"), F.col(\"a2.tags\"))).alias(\"tag_overlap_count\")\n",
    ")"
   ]
  },
  {
   "cell_type": "markdown",
   "metadata": {},
   "source": [
    "Here, we combine our cosine similarities, with our tag overlap to make our hybrid similarity."
   ]
  },
  {
   "cell_type": "code",
   "execution_count": 10,
   "metadata": {},
   "outputs": [],
   "source": [
    "# Join cosine similarity with tag overlap\n",
    "hybrid_similarity_df = similarities_df.join(\n",
    "    tag_overlap_df, [\"artistID_1\", \"artistID_2\"]\n",
    ").withColumn(\n",
    "    \"hybrid_similarity\",\n",
    "    F.col(\"cosine_similarity\") * (1 + F.col(\"tag_overlap_count\"))  # Adjusting with tag count\n",
    ")\n"
   ]
  },
  {
   "cell_type": "markdown",
   "metadata": {},
   "source": [
    "Here we want to normalise our similarity, as we again want to make sure our similarity remains comparable. "
   ]
  },
  {
   "cell_type": "code",
   "execution_count": 11,
   "metadata": {},
   "outputs": [
    {
     "name": "stderr",
     "output_type": "stream",
     "text": [
      "                                                                                \r"
     ]
    }
   ],
   "source": [
    "# Normalise the hybrid similarity scores\n",
    "max_similarity = hybrid_similarity_df.agg(F.max(\"hybrid_similarity\")).collect()[0][0]\n",
    "normalised_similarity_df = hybrid_similarity_df.withColumn(\n",
    "    \"normalised_hybrid_similarity\",\n",
    "    F.col(\"hybrid_similarity\") / max_similarity\n",
    ")\n"
   ]
  },
  {
   "cell_type": "markdown",
   "metadata": {},
   "source": [
    "## 4: Our Recommender  Models\n",
    "\n",
    "### 4.1: Recommending Artists to a User\n",
    "\n",
    "In this subsection, we complete the process of generating artist recommendations to a specific user, based on their listening history. We aim to recommend artists the user may enjoy, excluding anybody they have interacted with. We use our hybrid similarity that we calculated above. "
   ]
  },
  {
   "cell_type": "code",
   "execution_count": 12,
   "metadata": {},
   "outputs": [
    {
     "name": "stderr",
     "output_type": "stream",
     "text": [
      "                                                                                \r"
     ]
    },
    {
     "name": "stdout",
     "output_type": "stream",
     "text": [
      "+------+----------+-------------------+----------------------------+\n",
      "|userID|artistID_2|artist_name        |normalised_hybrid_similarity|\n",
      "+------+----------+-------------------+----------------------------+\n",
      "|5     |546       |The Ting Tings     |0.35323035418430376         |\n",
      "|5     |523       |Lindsay Lohan      |0.3441227408202204          |\n",
      "|5     |72        |Depeche Mode       |0.317667529596587           |\n",
      "|5     |63        |Enigma             |0.31420141662077566         |\n",
      "|5     |504       |HIM                |0.2866998642021329          |\n",
      "|5     |704       |The Pretty Reckless|0.2844757992986386          |\n",
      "|5     |716       |Kaiser Chiefs      |0.2701736252851966          |\n",
      "|5     |84        |Cut Copy           |0.2610187508090726          |\n",
      "|5     |193       |Tears for Fears    |0.24234016869726982         |\n",
      "|5     |1239      |Weezer             |0.23629649201188965         |\n",
      "+------+----------+-------------------+----------------------------+\n",
      "only showing top 10 rows\n",
      "\n"
     ]
    }
   ],
   "source": [
    "# Input a user ID\n",
    "input_user_id = 5\n",
    "\n",
    "# Get artists the user has already interacted with\n",
    "interacted_artists = user_artists_df.filter(F.col(\"userID\") == input_user_id).select(\"artistID\")\n",
    "\n",
    "# Collect artistIDs as a list for filtering\n",
    "interacted_artist_ids = [row[\"artistID\"] for row in interacted_artists.collect()]\n",
    "\n",
    "# Generate recommendations for the user using normalised similarity\n",
    "user_recommendations_filtered = (\n",
    "    user_artists_df.filter(F.col(\"userID\") == input_user_id)\n",
    "    .join(normalised_similarity_df, user_artists_df.artistID == normalised_similarity_df.artistID_1)\n",
    "    .filter(~F.col(\"artistID_2\").isin(interacted_artist_ids))  # Exclude already interacted artists\n",
    "    .orderBy(F.col(\"normalised_hybrid_similarity\").desc())  # Order by normalised similarity\n",
    ")\n",
    "\n",
    "# Add artist names to the recommendations\n",
    "user_recommendations_with_names = (\n",
    "    user_recommendations_filtered\n",
    "    .join(artists_df, user_recommendations_filtered.artistID_2 == artists_df.id, how=\"inner\")\n",
    "    .select(\n",
    "        \"userID\",\n",
    "        \"artistID_2\",\n",
    "        F.col(\"name\").alias(\"artist_name\"),\n",
    "        \"normalised_hybrid_similarity\"\n",
    "    )\n",
    "    .orderBy(F.col(\"normalised_hybrid_similarity\").desc())  # Confirm descending order for display\n",
    ")\n",
    "\n",
    "# Display the recommendations with artist names\n",
    "user_recommendations_with_names.show(10, truncate=False)\n"
   ]
  },
  {
   "cell_type": "markdown",
   "metadata": {},
   "source": [
    "### 4.2: Finding Similar Artists\n",
    "\n",
    "In this model, we will input an artist, and assuming they are in our dataset, we will try and find the most similar artists available, based on their tags."
   ]
  },
  {
   "cell_type": "code",
   "execution_count": 13,
   "metadata": {},
   "outputs": [
    {
     "name": "stderr",
     "output_type": "stream",
     "text": [
      "                                                                                \r"
     ]
    },
    {
     "name": "stdout",
     "output_type": "stream",
     "text": [
      "Artists similar to 'Kanye West':\n"
     ]
    },
    {
     "name": "stderr",
     "output_type": "stream",
     "text": [
      "                                                                                \r"
     ]
    },
    {
     "name": "stdout",
     "output_type": "stream",
     "text": [
      "+-----------------+-------------------+--------------------+\n",
      "|similar_artist_id|similar_artist_name|similarity          |\n",
      "+-----------------+-------------------+--------------------+\n",
      "|89               |Lady Gaga          |0.14288972265061317 |\n",
      "|289              |Britney Spears     |0.11401473531925992 |\n",
      "|377              |Linkin Park        |0.07405474289417847 |\n",
      "|265              |Céline Dion        |0.049226760081588175|\n",
      "|475              |Eminem             |0.04588529551812003 |\n",
      "|279              |Brandy             |0.04501347750183131 |\n",
      "|355              |Jason Mraz         |0.04455178860487453 |\n",
      "|327              |Chris Brown        |0.04371509259061781 |\n",
      "|209              |My Chemical Romance|0.04146190612350378 |\n",
      "|59               |New Order          |0.03996776448679086 |\n",
      "+-----------------+-------------------+--------------------+\n",
      "\n",
      "Shared tags with 'Kanye West':\n"
     ]
    },
    {
     "name": "stderr",
     "output_type": "stream",
     "text": [
      "[Stage 179:============================================>           (8 + 2) / 10]\r"
     ]
    },
    {
     "name": "stdout",
     "output_type": "stream",
     "text": [
      "+-------------------+-----------------------------------------------------------------------------------------------------------------------------------------------------------------------------------------------------------------------------------------------------------------------------------------------------------------------+--------------------+\n",
      "|similar_artist_name|shared_tags                                                                                                                                                                                                                                                                                                            |similarity          |\n",
      "+-------------------+-----------------------------------------------------------------------------------------------------------------------------------------------------------------------------------------------------------------------------------------------------------------------------------------------------------------------+--------------------+\n",
      "|Lady Gaga          |[singer-songwriter, 00s, alternative, weekly top artists, sexy, rnb, love, favorite songs, american, dance, amazing, 2009, favorite song, sad, female, weekly top tracks, electronic, favorite, favorites, 2008, raven girls top 20, catchy, club, love at first listen, english, awesome, usa]                        |0.14288972265061317 |\n",
      "|Britney Spears     |[singer-songwriter, nostalgia, 00s, alternative, weekly top artists, sexy, rnb, love, american, dance, amazing, 2009, favorite song, sad, top 40, female, weekly top tracks, classic, electronic, favorite, favorites, 2008, raven girls top 20, catchy, 2007, love at first listen, english, awesome, best, usa, cool]|0.11401473531925992 |\n",
      "|Linkin Park        |[crazy, 00s, alternative, sexy, love, american, 2009, sad, top 40, electronic, favorite, hip-hop, favorites, male vocalists, rap, 2007, alternative rock, love at first listen, awesome, usa]                                                                                                                          |0.07405474289417847 |\n",
      "|Céline Dion        |[singer-songwriter, 00s, alternative, weekly top artists, love, american, dance, amazing, sad, female, weekly top tracks, classic, favorite, favorites, english]                                                                                                                                                       |0.049226760081588175|\n",
      "|Eminem             |[singer-songwriter, crazy, 00s, alternative, hilarious, sexy, rnb, love, american, amazing, sad, phat, top 40, female, classic, favorite, neat, hip-hop, favorites, male vocalists, rap, catchy, dope cut, hip hop, duet, male, the good stuff, love at first listen, english, awesome, humor, usa, funny, cool]       |0.04588529551812003 |\n",
      "|Brandy             |[singer-songwriter, 00s, sexy, rnb, favorite songs, american, dance, top 40, electronic, hip-hop, 2008, usa]                                                                                                                                                                                                           |0.04501347750183131 |\n",
      "|Jason Mraz         |[singer-songwriter, alternative, sexy, love, dance, classic, raven girls top 20, male vocalists, catchy, alternative rock, love at first listen, awesome]                                                                                                                                                              |0.04455178860487453 |\n",
      "|Chris Brown        |[rnb, love, dance, amazing, electronic, hip-hop, favorites, male vocalists, rap, catchy, hip hop, duet, club, love at first listen, awesome]                                                                                                                                                                           |0.04371509259061781 |\n",
      "|My Chemical Romance|[00s, alternative, love, favorite songs, american, male vocalists, alternative rock, awesome, usa]                                                                                                                                                                                                                     |0.04146190612350378 |\n",
      "|New Order          |[singer-songwriter, 00s, alternative, favorite songs, dance, electronic, favorites, male vocalists, alternative rock, english]                                                                                                                                                                                         |0.03996776448679086 |\n",
      "+-------------------+-----------------------------------------------------------------------------------------------------------------------------------------------------------------------------------------------------------------------------------------------------------------------------------------------------------------------+--------------------+\n",
      "\n"
     ]
    },
    {
     "name": "stderr",
     "output_type": "stream",
     "text": [
      "                                                                                \r"
     ]
    }
   ],
   "source": [
    "# Input: Artist Name\n",
    "input_artist_name = \"Kanye West\"  # Change this to any artist name for testing\n",
    "\n",
    "# Check if the artist exists in the dataset\n",
    "artist_exists = artists_df.filter(F.col(\"name\") == input_artist_name).count()\n",
    "\n",
    "if artist_exists == 0:\n",
    "    print(f\"The artist '{input_artist_name}' is not in the list.\")\n",
    "else:\n",
    "    # Get the artist ID for the input artist\n",
    "    input_artist_id = artists_df.filter(F.col(\"name\") == input_artist_name).select(\"id\").first()[\"id\"]\n",
    "\n",
    "    # Find similar artists using the normalised similarity matrix\n",
    "    similar_artists = normalised_similarity_df.filter(\n",
    "        (F.col(\"artistID_1\") == input_artist_id) | (F.col(\"artistID_2\") == input_artist_id)\n",
    "    ).withColumn(\n",
    "        \"similar_artist_id\",\n",
    "        F.when(F.col(\"artistID_1\") == input_artist_id, F.col(\"artistID_2\")).otherwise(F.col(\"artistID_1\"))\n",
    "    ).join(\n",
    "        artists_df, F.col(\"similar_artist_id\") == artists_df.id\n",
    "    ).select(\n",
    "        F.col(\"similar_artist_id\"),\n",
    "        F.col(\"name\").alias(\"similar_artist_name\"),\n",
    "        F.col(\"normalised_hybrid_similarity\").alias(\"similarity\")\n",
    "    ).orderBy(F.col(\"similarity\").desc())\n",
    "\n",
    "    # Limit to the top similar artists\n",
    "    top_similar_artists = similar_artists.limit(10)\n",
    "\n",
    "    # Get tags for the input artist\n",
    "    input_artist_tags = artist_tags_info_df.filter(\n",
    "        F.col(\"artistID\") == input_artist_id\n",
    "    ).select(\"tag\").distinct()\n",
    "\n",
    "    # Get tags for the top similar artists\n",
    "    similar_artist_tags = artist_tags_info_df.filter(\n",
    "        F.col(\"artistID\").isin([row[\"similar_artist_id\"] for row in top_similar_artists.collect()])\n",
    "    ).select(\"artistID\", \"tag\").distinct()\n",
    "\n",
    "    # Find shared tags between the input artist and top similar artists\n",
    "    shared_tags = top_similar_artists.join(\n",
    "        similar_artist_tags.join(\n",
    "            input_artist_tags, [\"tag\"], \"inner\"\n",
    "        ).groupBy(\"artistID\").agg(\n",
    "            F.collect_list(\"tag\").alias(\"shared_tags\")\n",
    "        ),\n",
    "        top_similar_artists.similar_artist_id == similar_artist_tags.artistID,\n",
    "        how=\"left\"\n",
    "    ).select(\n",
    "        F.col(\"similar_artist_name\"),\n",
    "        F.coalesce(F.col(\"shared_tags\"), F.array()).alias(\"shared_tags\"),\n",
    "        F.col(\"similarity\")\n",
    "    ).orderBy(F.col(\"similarity\").desc())  # Ensure order matches top_similar_artists\n",
    "\n",
    "    # Display Results\n",
    "    print(f\"Artists similar to '{input_artist_name}':\")\n",
    "    top_similar_artists.show(10, truncate=False)\n",
    "\n",
    "    print(f\"Shared tags with '{input_artist_name}':\")\n",
    "    shared_tags.show(10, truncate=False)\n"
   ]
  },
  {
   "cell_type": "markdown",
   "metadata": {},
   "source": [
    "## 4: Testing the Performance of Our Models\n",
    "\n",
    "### 4.1: Analysing Performance of Our User Recommendation Model\n",
    "\n",
    "In this section, we will evalutate the performance of the user recommendation model using Root Mean Squared Error (RMSE). This measures how well the predicted artist similarity scores align with actual user weights in our test dataset. \n",
    "\n",
    "I would like to note, we kept the same performance metric as our Collaborative Based Filtering model to ensure comparability.\n"
   ]
  },
  {
   "cell_type": "code",
   "execution_count": 14,
   "metadata": {},
   "outputs": [
    {
     "name": "stderr",
     "output_type": "stream",
     "text": [
      "[Stage 201:============================================>           (8 + 2) / 10]\r"
     ]
    },
    {
     "name": "stdout",
     "output_type": "stream",
     "text": [
      "Root Mean Squared Error (RMSE) for user-based predictions: 3495.1663\n"
     ]
    },
    {
     "name": "stderr",
     "output_type": "stream",
     "text": [
      "                                                                                \r"
     ]
    }
   ],
   "source": [
    "from pyspark.sql import functions as F\n",
    "\n",
    "# Split the dataset into training and test sets\n",
    "train_data, test_data = user_artists_df.randomSplit([0.8, 0.2], seed=27)\n",
    "\n",
    "# Generate recommendations for the test set users\n",
    "test_user_ids = [row[\"userID\"] for row in test_data.select(\"userID\").distinct().collect()]\n",
    "\n",
    "recommendations = (\n",
    "    user_artists_df.filter(F.col(\"userID\").isin(test_user_ids))\n",
    "    .join(normalised_similarity_df, user_artists_df.artistID == normalised_similarity_df.artistID_1)\n",
    "    .select(\"userID\", \"artistID_2\", \"normalised_hybrid_similarity\")\n",
    ")\n",
    "\n",
    "# Merge recommendations with actual ratings from the test data\n",
    "predictions_and_ratings = (\n",
    "    recommendations.join(test_data, (recommendations.userID == test_data.userID) & \n",
    "                         (recommendations.artistID_2 == test_data.artistID), \"inner\")\n",
    "    .select(F.col(\"normalised_hybrid_similarity\").alias(\"prediction\"), F.col(\"weight\").alias(\"actual\"))\n",
    ")\n",
    "\n",
    "# Calculate RMSE\n",
    "rmse_df = predictions_and_ratings.withColumn(\"squared_error\", (F.col(\"prediction\") - F.col(\"actual\")) ** 2)\n",
    "rmse_value = rmse_df.select(F.sqrt(F.avg(\"squared_error\"))).first()[0]\n",
    "\n",
    "print(f\"Root Mean Squared Error (RMSE) for user-based predictions: {rmse_value:.4f}\")\n"
   ]
  },
  {
   "cell_type": "markdown",
   "metadata": {},
   "source": [
    "While our RMSE remains relatively high, at around 3500, we can see this performs better than our collaborative based filtering model which is also based on artist recommendations to users, which gave us an RMSE of around 4500. WHile better, this indicates there is much room for improvement.\n",
    "\n",
    "I would also like to note, the collaborative bassed filtering model performed more efficiently, so for a larger dataset, this would have to be a consideration when picking a model."
   ]
  },
  {
   "cell_type": "markdown",
   "metadata": {},
   "source": [
    "### 4.2: Analysing the Peformance of Our Artist Similarity Model\n",
    "\n",
    "Here we evaluate how well our artist similarity model performs in finding artists similar to a given artist input, based on actual user interaction data. This involves comparing the model's predictions to data derived from user behaviour.\n",
    "\n",
    "We achieve this user behaviour data by identifying co-interacted artists. We achieve this by:\n",
    "\n",
    "- Identifying users interacted with the input artist\n",
    "- Identifying other artists these users have interacted with \n",
    "- Agreggating play counts to calculate an average co-interaction score for each similar artist. This co-interaction score is 'avg_weight'\n",
    "\n",
    "We then calculate the RMSE using actual co-interaction scores, and our predicted scores.\n",
    "\n"
   ]
  },
  {
   "cell_type": "code",
   "execution_count": 15,
   "metadata": {},
   "outputs": [
    {
     "name": "stderr",
     "output_type": "stream",
     "text": [
      "[Stage 233:============================================>           (8 + 2) / 10]\r"
     ]
    },
    {
     "name": "stdout",
     "output_type": "stream",
     "text": [
      "Root Mean Squared Error (RMSE) for similar artists to 'Kanye West': 1321.4567\n"
     ]
    },
    {
     "name": "stderr",
     "output_type": "stream",
     "text": [
      "                                                                                \r"
     ]
    }
   ],
   "source": [
    "# Input: Artist Name\n",
    "input_artist_name = \"Kanye West\"  # Replace with the desired artist name\n",
    "\n",
    "# Check if the artist exists in the dataset\n",
    "artist_exists = artists_df.filter(F.col(\"name\") == input_artist_name).count()\n",
    "\n",
    "if artist_exists == 0:\n",
    "    print(f\"The artist '{input_artist_name}' is not in the dataset.\")\n",
    "else:\n",
    "    # Get the artist ID for the input artist\n",
    "    input_artist_id = artists_df.filter(F.col(\"name\") == input_artist_name).select(\"id\").first()[\"id\"]\n",
    "\n",
    "    # Get similar artists from the model\n",
    "    predicted_similar_artists = normalised_similarity_df.filter(\n",
    "        (F.col(\"artistID_1\") == input_artist_id) | (F.col(\"artistID_2\") == input_artist_id)\n",
    "    ).withColumn(\n",
    "        \"similar_artist_id\",\n",
    "        F.when(F.col(\"artistID_1\") == input_artist_id, F.col(\"artistID_2\")).otherwise(F.col(\"artistID_1\"))\n",
    "    ).select(\"similar_artist_id\", \"normalised_hybrid_similarity\")\n",
    "\n",
    "    # Get actual co-interaction scores based on user behavior\n",
    "actual_similarities = (\n",
    "    user_artists_df.filter(F.col(\"artistID\") == input_artist_id)\n",
    "    .select(F.col(\"userID\").alias(\"interacted_userID\"))  # Alias userID for clarity\n",
    "    .join(\n",
    "        user_artists_df.alias(\"other\"),  # Alias for the second instance of the dataset\n",
    "        F.col(\"interacted_userID\") == F.col(\"other.userID\")\n",
    "    )\n",
    "    .groupBy(F.col(\"other.artistID\").alias(\"similar_artist_id\"))  # Alias artistID for clarity\n",
    "    .agg(F.avg(\"other.weight\").alias(\"avg_weight\"))\n",
    "    .filter(F.col(\"similar_artist_id\") != input_artist_id)  # Exclude the input artist\n",
    ")\n",
    "\n",
    "# Combine predictions with actuals\n",
    "comparison = predicted_similar_artists.join(\n",
    "    actual_similarities, predicted_similar_artists.similar_artist_id == actual_similarities.similar_artist_id, \"inner\"\n",
    ").select(\n",
    "    F.col(\"normalised_hybrid_similarity\").alias(\"prediction\"),\n",
    "    F.col(\"avg_weight\").alias(\"actual\")\n",
    ")\n",
    "\n",
    "# Calculate RMSE\n",
    "rmse_artist_df = comparison.withColumn(\"squared_error\", (F.col(\"prediction\") - F.col(\"actual\")) ** 2)\n",
    "rmse_artist_value = rmse_artist_df.select(F.sqrt(F.avg(\"squared_error\"))).first()[0]\n",
    "\n",
    "print(f\"Root Mean Squared Error (RMSE) for similar artists to '{input_artist_name}': {rmse_artist_value:.4f}\")\n",
    "\n"
   ]
  },
  {
   "cell_type": "markdown",
   "metadata": {},
   "source": [
    "Here, with an input of Kanye West, we see a RMSE of ~1300. This is a much better RMSE than our previous model, implying our user recommendation is performing much better. However, we are cherry picking our input artist here, so I would like to see how the model would perform with an input of a random selection of artists. However, we cannot do many as this is proving to be computationally expensive, another problem for a larger dataset.\n",
    "\n",
    "I would like to note, we have only included artists with more than 12 tags, this is because due to the sparsity of the tags in some artists, they have no similar artists for this specific content based filtering.\n",
    "\n"
   ]
  },
  {
   "cell_type": "code",
   "execution_count": 31,
   "metadata": {},
   "outputs": [
    {
     "name": "stderr",
     "output_type": "stream",
     "text": [
      "Exception in thread \"serve-DataFrame\" java.net.SocketTimeoutException: Accept timed out\n",
      "\tat java.base/java.net.PlainSocketImpl.socketAccept(Native Method)\n",
      "\tat java.base/java.net.AbstractPlainSocketImpl.accept(AbstractPlainSocketImpl.java:474)\n",
      "\tat java.base/java.net.ServerSocket.implAccept(ServerSocket.java:565)\n",
      "\tat java.base/java.net.ServerSocket.accept(ServerSocket.java:533)\n",
      "\tat org.apache.spark.security.SocketAuthServer$$anon$1.run(SocketAuthServer.scala:65)\n",
      "                                                                                \r"
     ]
    },
    {
     "name": "stdout",
     "output_type": "stream",
     "text": [
      "Root Mean Squared Error (RMSE) for similar artists to 'Maroon 5': 1000.5391\n"
     ]
    },
    {
     "name": "stderr",
     "output_type": "stream",
     "text": [
      "                                                                                \r"
     ]
    },
    {
     "name": "stdout",
     "output_type": "stream",
     "text": [
      "Root Mean Squared Error (RMSE) for similar artists to 'Limp Bizkit': 1195.4482\n"
     ]
    },
    {
     "name": "stderr",
     "output_type": "stream",
     "text": [
      "[Stage 1117:============================================>          (8 + 2) / 10]\r"
     ]
    },
    {
     "name": "stdout",
     "output_type": "stream",
     "text": [
      "Root Mean Squared Error (RMSE) for similar artists to 'Gorgoroth': 410.7118\n",
      "\n",
      "Average RMSE for the 3 random artists (with more than 12 tags): 868.8997\n"
     ]
    },
    {
     "name": "stderr",
     "output_type": "stream",
     "text": [
      "                                                                                \r"
     ]
    }
   ],
   "source": [
    "random.seed(55)\n",
    "\n",
    "# Filter artists who have more than 12 tags\n",
    "artists_with_tags_count = artist_tags_info_df.groupBy(\"artistID\").count()\n",
    "artists_with_more_than_12_tags = artists_with_tags_count.filter(F.col(\"count\") > 12)\n",
    "\n",
    "# Select 3 random artists with more than 10 tags\n",
    "random_artists = artists_df.join(artists_with_more_than_12_tags, artists_df.id == artists_with_more_than_12_tags.artistID) \\\n",
    "                           .select(\"id\", \"name\") \\\n",
    "                           .orderBy(F.rand(seed=55)) \\\n",
    "                           .limit(3)\n",
    "\n",
    "# Initialize a list to store RMSE values for each artist\n",
    "rmse_values = []\n",
    "\n",
    "# Loop over each artist and compute RMSE\n",
    "for row in random_artists.collect():\n",
    "    input_artist_name = row[\"name\"]\n",
    "    input_artist_id = row[\"id\"]\n",
    "\n",
    "    # Check if the artist exists in the dataset\n",
    "    artist_exists = artists_df.filter(F.col(\"name\") == input_artist_name).count()\n",
    "\n",
    "    if artist_exists == 0:\n",
    "        print(f\"The artist '{input_artist_name}' is not in the dataset.\")\n",
    "    else:\n",
    "        # Get similar artists from the model (predicted similarities)\n",
    "        predicted_similar_artists = normalised_similarity_df.filter(\n",
    "            (F.col(\"artistID_1\") == input_artist_id) | (F.col(\"artistID_2\") == input_artist_id)\n",
    "        ).withColumn(\n",
    "            \"similar_artist_id\",\n",
    "            F.when(F.col(\"artistID_1\") == input_artist_id, F.col(\"artistID_2\")).otherwise(F.col(\"artistID_1\"))\n",
    "        ).select(\"similar_artist_id\", \"normalised_hybrid_similarity\")\n",
    "\n",
    "        # Get actual co-interaction scores (based on user behavior)\n",
    "        actual_similarities = (\n",
    "            user_artists_df.filter(F.col(\"artistID\") == input_artist_id)\n",
    "            .select(F.col(\"userID\").alias(\"interacted_userID\"))\n",
    "            .join(\n",
    "                user_artists_df.alias(\"other\"),\n",
    "                F.col(\"interacted_userID\") == F.col(\"other.userID\")\n",
    "            )\n",
    "            .groupBy(F.col(\"other.artistID\").alias(\"similar_artist_id\"))\n",
    "            .agg(F.avg(\"other.weight\").alias(\"avg_weight\"))\n",
    "            .filter(F.col(\"similar_artist_id\") != input_artist_id)  # Exclude the input artist\n",
    "        )\n",
    "\n",
    "        # Combine predicted similarities with actual similarities\n",
    "        comparison = predicted_similar_artists.join(\n",
    "            actual_similarities,\n",
    "            predicted_similar_artists.similar_artist_id == actual_similarities.similar_artist_id,\n",
    "            \"inner\"\n",
    "        ).select(\n",
    "            F.col(\"normalised_hybrid_similarity\").alias(\"prediction\"),\n",
    "            F.col(\"avg_weight\").alias(\"actual\")\n",
    "        )\n",
    "\n",
    "        # Check if the comparison DataFrame is empty\n",
    "        if comparison.count() == 0:\n",
    "            print(f\"No similar artists found for '{input_artist_name}'. Skipping RMSE calculation.\")\n",
    "            rmse_values.append(None)  # Append None or a placeholder if no comparison is available\n",
    "        else:\n",
    "            # Calculate RMSE for this artist\n",
    "            rmse_artist_df = comparison.withColumn(\"squared_error\", (F.col(\"prediction\") - F.col(\"actual\")) ** 2)\n",
    "            rmse_artist_value = rmse_artist_df.select(F.sqrt(F.avg(\"squared_error\"))).first()[0]\n",
    "\n",
    "            # Handle case if RMSE is None\n",
    "            if rmse_artist_value is not None:\n",
    "                print(f\"Root Mean Squared Error (RMSE) for similar artists to '{input_artist_name}': {rmse_artist_value:.4f}\")\n",
    "            else:\n",
    "                print(f\"RMSE could not be calculated for '{input_artist_name}' due to insufficient data.\")\n",
    "            \n",
    "            # Append RMSE value for this artist to the list\n",
    "            rmse_values.append(rmse_artist_value)\n",
    "\n",
    "# Calculate the average RMSE, excluding None values\n",
    "rmse_values_filtered = [x for x in rmse_values if x is not None]\n",
    "average_rmse = sum(rmse_values_filtered) / len(rmse_values_filtered) if rmse_values_filtered else 0\n",
    "print(f\"\\nAverage RMSE for the 3 random artists (with more than 12 tags): {average_rmse:.4f}\")\n"
   ]
  },
  {
   "cell_type": "markdown",
   "metadata": {},
   "source": [
    "We have produce a much better RMSE, relatively, here. This indicates our model is working well. However, this is massively limited, as after lots of testing, only allowing artists with more than 12 tags was when we started to make sure every artist had a similar recommendation.\n",
    "\n",
    "This model is limited with this data set. It would require a larger amount of data per artist for this content based recommender system to be more effective."
   ]
  },
  {
   "cell_type": "markdown",
   "metadata": {},
   "source": [
    "## 5: Conclusion\n",
    "\n"
   ]
  }
 ],
 "metadata": {
  "kernelspec": {
   "display_name": "base",
   "language": "python",
   "name": "python3"
  },
  "language_info": {
   "codemirror_mode": {
    "name": "ipython",
    "version": 3
   },
   "file_extension": ".py",
   "mimetype": "text/x-python",
   "name": "python",
   "nbconvert_exporter": "python",
   "pygments_lexer": "ipython3",
   "version": "3.11.5"
  }
 },
 "nbformat": 4,
 "nbformat_minor": 2
}
