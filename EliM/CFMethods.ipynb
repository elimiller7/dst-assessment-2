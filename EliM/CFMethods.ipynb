{
 "cells": [
  {
   "cell_type": "markdown",
   "metadata": {},
   "source": [
    "## Loading Data & Importing Libraries"
   ]
  },
  {
   "cell_type": "code",
   "execution_count": 32,
   "metadata": {},
   "outputs": [],
   "source": [
    "# Load libraries\n",
    "import pandas as pd\n",
    "import matplotlib.pyplot as plt\n",
    "import seaborn as sns\n",
    "import numpy as np\n",
    "import os\n",
    "from sklearn.metrics.pairwise import cosine_similarity\n",
    "from sklearn.decomposition import TruncatedSVD\n",
    "from scipy.sparse import csr_matrix\n",
    "import implicit"
   ]
  },
  {
   "cell_type": "code",
   "execution_count": 33,
   "metadata": {},
   "outputs": [],
   "source": [
    "# import datasets\n",
    "artists = pd.read_csv(os.path.join('..','data','artists.dat'), delimiter='\\t')\n",
    "tags = pd.read_csv(os.path.join('..','data','tags.dat'), delimiter='\\t',encoding='ISO-8859-1')\n",
    "user_artists = pd.read_csv(os.path.join('..','data','user_artists.dat'), delimiter='\\t')\n",
    "user_friends = pd.read_csv(os.path.join('..','data','user_friends.dat'), delimiter='\\t')\n",
    "user_taggedartists_timestamps = pd.read_csv(os.path.join('..','data','user_taggedartists-timestamps.dat'), delimiter='\\t')\n",
    "user_taggedartists = pd.read_csv(os.path.join('..','data','user_taggedartists.dat'), delimiter='\\t')"
   ]
  },
  {
   "cell_type": "markdown",
   "metadata": {},
   "source": [
    "## Data Cleaning"
   ]
  },
  {
   "cell_type": "code",
   "execution_count": 34,
   "metadata": {},
   "outputs": [],
   "source": [
    "# Drop irrelevant columns from the Artists dataset\n",
    "artists_cleaned = artists.drop(columns=['url', 'pictureURL']).drop_duplicates(keep='first') \n",
    "\n",
    "# Drop the irrelevant columns in the Tags dataset\n",
    "tags_cleaned = tags.drop_duplicates(keep='first') \n",
    "\n",
    "# For the User-Artists dataset, we can filter out rows with a weight of 0, as they show no meaningful interaction\n",
    "# user_artists_cleaned = user_artists[user_artists['weight'] > 0]\n",
    "user_artists_cleaned = user_artists.drop_duplicates(keep='first') \n",
    "\n",
    "# Drop duplicates from the User-Tagged Artists Timestamps dataset\n",
    "user_taggedartists_timestamps_cleaned = user_taggedartists_timestamps.drop_duplicates(keep='first') \n",
    "\n",
    "# Convert timestamps from ms to datetime format\n",
    "user_taggedartists_timestamps_cleaned['timestamp'] = pd.to_datetime(user_taggedartists_timestamps_cleaned['timestamp'], unit='ms')\n",
    "\n",
    "# Drop duplicates from the User-Friends dataset\n",
    "user_friends_cleaned = user_friends.drop_duplicates(keep='first') \n",
    "\n",
    "# # Output cleaned datasets for inspection\n",
    "# print(\"Cleaned Artists dataset:\", artists_cleaned.info(), artists_cleaned.head())\n",
    "# print(\"Cleaned Tags dataset:\", tags_cleaned.info(), tags_cleaned.head())\n",
    "# print(\"Cleaned User-Artists dataset:\", user_artists_cleaned.info(), user_artists_cleaned.head())\n",
    "# print(\"Cleaned User-Tagged Artists Timestamps dataset:\", user_taggedartists_timestamps_cleaned.info(), user_taggedartists_timestamps_cleaned.head())\n",
    "# print(\"Cleaned User-Friends dataset:\", user_friends_cleaned.info(), user_friends_cleaned.head())"
   ]
  },
  {
   "cell_type": "markdown",
   "metadata": {},
   "source": [
    "---"
   ]
  },
  {
   "cell_type": "markdown",
   "metadata": {},
   "source": [
    "# Collaborative Filtering"
   ]
  },
  {
   "cell_type": "markdown",
   "metadata": {},
   "source": [
    "## Theory\n",
    "\n",
    "............\n",
    "\n",
    "............\n",
    "\n",
    "............\n"
   ]
  },
  {
   "cell_type": "code",
   "execution_count": 35,
   "metadata": {},
   "outputs": [],
   "source": [
    "# Create a dictionary to map artistID to artistName\n",
    "artist_id_to_name = dict(zip(artists['id'], artists['name']))"
   ]
  },
  {
   "cell_type": "markdown",
   "metadata": {},
   "source": [
    "## Prepare Data for Model Implementation"
   ]
  },
  {
   "cell_type": "code",
   "execution_count": 36,
   "metadata": {},
   "outputs": [],
   "source": [
    "# Create a user-artist interaction matrix using the user_artists_cleaned dataset\n",
    "user_artist_matrix = user_artists_cleaned.pivot(index='userID', columns='artistID', values='weight')\n",
    "\n",
    "# Fill NaN values with 0s (assuming binary or implicit feedback, i.e., 1 for interaction, 0 for no interaction)\n",
    "user_artist_matrix = user_artist_matrix.fillna(0)\n",
    "\n",
    "# print(user_artist_matrix)"
   ]
  },
  {
   "cell_type": "markdown",
   "metadata": {},
   "source": [
    "## User-Based Implementation\n",
    "EXPLANATION"
   ]
  },
  {
   "cell_type": "code",
   "execution_count": 55,
   "metadata": {},
   "outputs": [
    {
     "name": "stdout",
     "output_type": "stream",
     "text": [
      "Top User-Based Recommendations for User 2:\n",
      "Artist ID: 289, Artist: Britney Spears, Similarity Score: 20.67\n",
      "Artist ID: 288, Artist: Rihanna, Similarity Score: 20.10\n",
      "Artist ID: 295, Artist: Beyoncé, Similarity Score: 16.92\n",
      "Artist ID: 292, Artist: Christina Aguilera, Similarity Score: 16.73\n",
      "Artist ID: 300, Artist: Katy Perry, Similarity Score: 15.50\n"
     ]
    }
   ],
   "source": [
    "# Function to get user-based recommendations with the desired output format\n",
    "def get_user_based_recommendations(user_id, user_similarity_df, user_artist_matrix, artist_id_to_name, top_n=10):\n",
    "    # Check if the user_id exists in user_similarity_df\n",
    "    if user_id not in user_similarity_df.columns:\n",
    "        raise ValueError(f\"user_id {user_id} not found in the user_similarity_df columns\")\n",
    "    \n",
    "    # Get the most similar users (excluding the user itself)\n",
    "    similar_users = user_similarity_df[user_id].sort_values(ascending=False).index[1:]\n",
    "\n",
    "    recommendations = {}\n",
    "    for similar_user in similar_users:\n",
    "        # Get the artists this similar user has interacted with (non-zero values)\n",
    "        interacted_artists = user_artist_matrix.loc[similar_user][user_artist_matrix.loc[similar_user] > 0].index.tolist()\n",
    "\n",
    "        for artist in interacted_artists:\n",
    "            # Only consider artists the target user has not interacted with\n",
    "            if artist not in user_artist_matrix.loc[user_id][user_artist_matrix.loc[user_id] > 0].index.tolist():\n",
    "                # Add the artist to recommendations with a score (using the scaled similarity as a weight)\n",
    "                if artist not in recommendations:\n",
    "                    recommendations[artist] = user_similarity_df[user_id][similar_user]\n",
    "                else:\n",
    "                    # Add the weight of similarity to the current score\n",
    "                    recommendations[artist] += user_similarity_df[user_id][similar_user]\n",
    "\n",
    "    # Sort recommendations by score (highest first)\n",
    "    sorted_recommendations = sorted(recommendations.items(), key=lambda x: x[1], reverse=True)\n",
    "\n",
    "    # Convert artist IDs to names and prepare the final list with IDs, names, and scores\n",
    "    recommended_artists = [(artist, artist_id_to_name.get(artist, \"Unknown\"), score) for artist, score in sorted_recommendations[:top_n]]\n",
    "\n",
    "    return recommended_artists\n",
    "\n",
    "# Example: Get top 5 user-based recommendations for user with userID=2\n",
    "user_id = 2\n",
    "user_based_recommendations = get_user_based_recommendations(user_id, user_similarity_df, user_artist_matrix, artist_id_to_name, top_n=5)\n",
    "\n",
    "# Display user-based recommendations in the required format\n",
    "print(\"Top User-Based Recommendations for User 2:\")\n",
    "for artist_id, artist_name, score in user_based_recommendations:\n",
    "    print(f\"Artist ID: {artist_id}, Artist: {artist_name}, Similarity Score: {score:.2f}\")"
   ]
  },
  {
   "cell_type": "code",
   "execution_count": 56,
   "metadata": {},
   "outputs": [
    {
     "name": "stdout",
     "output_type": "stream",
     "text": [
      "Top User-Based Recommendations for User 3:\n",
      "Artist ID: 757, Artist: Crystal Castles, Similarity Score: 0.25\n",
      "Artist ID: 603, Artist: Aphex Twin, Similarity Score: 0.25\n",
      "Artist ID: 1222, Artist: Venetian Snares, Similarity Score: 0.23\n",
      "Artist ID: 2174, Artist: edIT, Similarity Score: 0.23\n",
      "Artist ID: 154, Artist: Radiohead, Similarity Score: 0.21\n"
     ]
    }
   ],
   "source": [
    "# Example: Get top 5 user-based recommendations for user with userID=3\n",
    "user_id = 3\n",
    "user_based_recommendations = get_user_based_recommendations(user_id, user_similarity_df, user_artist_matrix, artist_id_to_name, top_n=5)\n",
    "\n",
    "# Display user-based recommendations in the required format\n",
    "print(\"Top User-Based Recommendations for User 3:\")\n",
    "for artist_id, artist_name, score in user_based_recommendations:\n",
    "    print(f\"Artist ID: {artist_id}, Artist: {artist_name}, Similarity Score: {score:.2f}\")"
   ]
  },
  {
   "cell_type": "markdown",
   "metadata": {},
   "source": [
    "## Item-based Implementation\n",
    "EXPLANATION"
   ]
  },
  {
   "cell_type": "code",
   "execution_count": 41,
   "metadata": {},
   "outputs": [],
   "source": [
    "# Compute the cosine similarity between artists (transpose the matrix to compare artists)\n",
    "artist_similarity = cosine_similarity(user_artist_matrix.T)  # Transpose to compare artists (columns)\n",
    "\n",
    "# Convert the similarity matrix into a DataFrame for easy inspection\n",
    "artist_similarity_df = pd.DataFrame(artist_similarity, index=user_artist_matrix.columns, columns=user_artist_matrix.columns)\n",
    "\n",
    "# Display a portion of the artist similarity matrix\n",
    "# print(artist_similarity_df.head())"
   ]
  },
  {
   "cell_type": "code",
   "execution_count": 42,
   "metadata": {},
   "outputs": [],
   "source": [
    "def get_item_based_recommendations(user_id, user_artist_matrix, artist_similarity_df, artist_id_to_name, top_n=10):\n",
    "    # Get the artists the user has interacted with (non-zero values)\n",
    "    interacted_artists = user_artist_matrix.loc[user_id][user_artist_matrix.loc[user_id] > 0].index.tolist()\n",
    "    \n",
    "    recommendations = {}\n",
    "    for artist in interacted_artists:\n",
    "        # Get the most similar artists to the ones the user interacted with\n",
    "        similar_artists = artist_similarity_df[artist].sort_values(ascending=False).index[1:]  # Exclude the artist itself\n",
    "\n",
    "        for similar_artist in similar_artists:\n",
    "            # Add the similar artist to recommendations with a score (using the similarity as a weight)\n",
    "            if similar_artist not in recommendations:\n",
    "                recommendations[similar_artist] = artist_similarity_df[artist][similar_artist]\n",
    "            else:\n",
    "                recommendations[similar_artist] += artist_similarity_df[artist][similar_artist]\n",
    "\n",
    "    # Sort recommendations by score (highest first)\n",
    "    sorted_recommendations = sorted(recommendations.items(), key=lambda x: x[1], reverse=True)\n",
    "\n",
    "    # Convert artist IDs to names using artist_id_to_name\n",
    "    recommended_artists = [(artist_id, artist_id_to_name.get(artist_id, \"Unknown\"), score) \n",
    "                           for artist_id, score in sorted_recommendations[:top_n]]\n",
    "\n",
    "    return recommended_artists"
   ]
  },
  {
   "cell_type": "code",
   "execution_count": 43,
   "metadata": {},
   "outputs": [
    {
     "name": "stdout",
     "output_type": "stream",
     "text": [
      "\n",
      "Top Item-Based Recommendations for User 2:\n",
      "Artist ID: 74, Artist: Basia, Similarity Score: 24.97\n",
      "Artist ID: 92, Artist: Vitamin Z, Similarity Score: 24.97\n",
      "Artist ID: 79, Artist: Fiction Factory, Similarity Score: 24.97\n",
      "Artist ID: 87, Artist: Deacon Blue, Similarity Score: 24.97\n",
      "Artist ID: 60, Artist: Matt Bianco, Similarity Score: 23.97\n"
     ]
    }
   ],
   "source": [
    "# Example: Get top 5 item-based recommendations for user with userID=2\n",
    "user_id = 2\n",
    "item_based_recommendations = get_item_based_recommendations(user_id, user_artist_matrix, artist_similarity_df, artist_id_to_name, top_n=5)\n",
    "\n",
    "# Display item-based recommendations\n",
    "print(\"\\nTop Item-Based Recommendations for User 2:\")\n",
    "for artist_id, artist_name, score in item_based_recommendations:\n",
    "    print(f\"Artist ID: {artist_id}, Artist: {artist_name}, Similarity Score: {score:.2f}\")\n"
   ]
  },
  {
   "cell_type": "code",
   "execution_count": 44,
   "metadata": {},
   "outputs": [
    {
     "name": "stdout",
     "output_type": "stream",
     "text": [
      "\n",
      "Top Item-Based Recommendations for User 3:\n",
      "Artist ID: 134, Artist: Big Brotherz, Similarity Score: 41.77\n",
      "Artist ID: 131, Artist: Part Timer, Similarity Score: 41.77\n",
      "Artist ID: 130, Artist: Philippe Lamy, Similarity Score: 41.77\n",
      "Artist ID: 129, Artist: Aless, Similarity Score: 41.77\n",
      "Artist ID: 128, Artist: strom noir, Similarity Score: 41.77\n"
     ]
    }
   ],
   "source": [
    "# Example: Get top 5 item-based recommendations for user with userID=3\n",
    "user_id = 3\n",
    "item_based_recommendations = get_item_based_recommendations(user_id, user_artist_matrix, artist_similarity_df, artist_id_to_name, top_n=5)\n",
    "\n",
    "# Display item-based recommendations\n",
    "print(\"\\nTop Item-Based Recommendations for User 3:\")\n",
    "for artist_id, artist_name, score in item_based_recommendations:\n",
    "    print(f\"Artist ID: {artist_id}, Artist: {artist_name}, Similarity Score: {score:.2f}\")"
   ]
  },
  {
   "cell_type": "markdown",
   "metadata": {},
   "source": [
    "---"
   ]
  },
  {
   "cell_type": "markdown",
   "metadata": {},
   "source": [
    "## Matrix Decomposition Methods"
   ]
  },
  {
   "cell_type": "markdown",
   "metadata": {},
   "source": [
    "### SVD"
   ]
  },
  {
   "cell_type": "code",
   "execution_count": 45,
   "metadata": {},
   "outputs": [],
   "source": [
    "def get_svd_recommendations(user_id, user_artist_matrix, artist_id_to_name, top_n=10, n_components=50):\n",
    "    # Apply SVD to the user-artist matrix\n",
    "    svd = TruncatedSVD(n_components=n_components, random_state=42)\n",
    "    svd_matrix = svd.fit_transform(user_artist_matrix)\n",
    "    svd_components = svd.components_\n",
    "\n",
    "    # Reconstruct the user-artist interaction matrix\n",
    "    reconstructed_matrix = np.dot(svd_matrix, svd_components)\n",
    "    \n",
    "    recommendations = {}\n",
    "    \n",
    "    # Ensure user_id is within the valid range (2 to 1892)\n",
    "    if user_id < 2 or user_id > user_artist_matrix.shape[0] + 1:\n",
    "        raise ValueError(f\"User ID {user_id} is out of bounds for the user_artist_matrix.\")\n",
    "    \n",
    "    # Get the user's interaction vector from the reconstructed matrix (adjust for zero-based index)\n",
    "    reconstructed_user_vector = reconstructed_matrix[user_id - 2]  # User IDs start at 2, so subtract 2\n",
    "    \n",
    "    # Iterate through all artists to recommend\n",
    "    for i, score in enumerate(reconstructed_user_vector):\n",
    "        # Check if the artist has been interacted with (score > 0) and if the artist ID is valid\n",
    "        if user_artist_matrix.iloc[user_id - 2, i] == 0:  # Ensure we only recommend non-interacted artists\n",
    "            artist_id = i  # The index of the artist in the matrix\n",
    "            if artist_id not in recommendations:\n",
    "                recommendations[artist_id] = score\n",
    "            else:\n",
    "                recommendations[artist_id] += score\n",
    "    \n",
    "    # Sort recommendations by score (highest first)\n",
    "    sorted_recommendations = sorted(recommendations.items(), key=lambda x: x[1], reverse=True)\n",
    "    \n",
    "    # Convert artist IDs to names using the artist_id_to_name mapping\n",
    "    recommended_artists = [(artist_id, artist_id_to_name.get(artist_id, \"Unknown\"), score)\n",
    "                           for artist_id, score in sorted_recommendations[:top_n]]\n",
    "    \n",
    "    return recommended_artists"
   ]
  },
  {
   "cell_type": "code",
   "execution_count": 46,
   "metadata": {},
   "outputs": [
    {
     "name": "stdout",
     "output_type": "stream",
     "text": [
      "\n",
      "Top SVD-Based Recommendations for User 2:\n",
      "Artist ID: 3464, Artist: Counting Crows, Similarity Score: 2346.16\n",
      "Artist ID: 1089, Artist: Suede, Similarity Score: 1826.24\n",
      "Artist ID: 259, Artist: 9th Wonder, Similarity Score: 1581.01\n",
      "Artist ID: 153, Artist: De/Vision, Similarity Score: 1536.43\n",
      "Artist ID: 992, Artist: Chris Rea, Similarity Score: 1110.52\n"
     ]
    }
   ],
   "source": [
    "# Example: Get top 5 SVD-based recommendations for user with userID=2\n",
    "user_id = 2\n",
    "svd_recommendations = get_svd_recommendations(user_id, user_artist_matrix, artist_id_to_name, top_n=5)\n",
    "\n",
    "# Display SVD-based recommendations\n",
    "print(\"\\nTop SVD-Based Recommendations for User 2:\")\n",
    "for artist_id, artist_name, score in svd_recommendations:\n",
    "    print(f\"Artist ID: {artist_id}, Artist: {artist_name}, Similarity Score: {score:.2f}\")"
   ]
  },
  {
   "cell_type": "code",
   "execution_count": 47,
   "metadata": {},
   "outputs": [
    {
     "name": "stdout",
     "output_type": "stream",
     "text": [
      "\n",
      "Top SVD-Based Recommendations for User 3:\n",
      "Artist ID: 184, Artist: James Blunt, Similarity Score: 6.19\n",
      "Artist ID: 148, Artist: The Boats, Similarity Score: 4.82\n",
      "Artist ID: 1089, Artist: Suede, Similarity Score: 3.29\n",
      "Artist ID: 151, Artist: Deep Forest, Similarity Score: 2.92\n",
      "Artist ID: 298, Artist: Lily Allen, Similarity Score: 2.87\n"
     ]
    }
   ],
   "source": [
    "# Example: Get top 5 SVD-based recommendations for user with userID=3\n",
    "user_id = 3\n",
    "svd_recommendations = get_svd_recommendations(user_id, user_artist_matrix, artist_id_to_name, top_n=5)\n",
    "\n",
    "# Display SVD-based recommendations\n",
    "print(\"\\nTop SVD-Based Recommendations for User 3:\")\n",
    "for artist_id, artist_name, score in svd_recommendations:\n",
    "    print(f\"Artist ID: {artist_id}, Artist: {artist_name}, Similarity Score: {score:.2f}\")"
   ]
  },
  {
   "cell_type": "markdown",
   "metadata": {},
   "source": [
    "#### ALS Using `implicit`"
   ]
  },
  {
   "cell_type": "code",
   "execution_count": 48,
   "metadata": {},
   "outputs": [],
   "source": [
    "def get_als_recommendations(user_id, user_artist_matrix, artist_id_to_name, top_n=5, factors=50, regularization=0.1, iterations=20):\n",
    "    # Convert the user-artist matrix to sparse format (csr_matrix)\n",
    "    sparse_matrix = csr_matrix(user_artist_matrix.values)\n",
    "    \n",
    "    # Initialize and train the ALS model\n",
    "    model = implicit.als.AlternatingLeastSquares(factors=factors, regularization=regularization, iterations=iterations)\n",
    "    model.fit(sparse_matrix)\n",
    "\n",
    "    # Get the user's interaction vector (row from sparse matrix)\n",
    "    user_vector = sparse_matrix[user_id]\n",
    "\n",
    "    # Get top N artist recommendations (returns artist IDs and scores)\n",
    "    recommendations = model.recommend(user_id, user_vector, N=top_n)\n",
    "\n",
    "    # Convert artist IDs to artist names using the provided dictionary\n",
    "    recommended_artists = [(artist_id_to_name[artist_id], score) for artist_id, score in zip(recommendations[0], recommendations[1])]\n",
    "\n",
    "    return recommended_artists"
   ]
  },
  {
   "cell_type": "code",
   "execution_count": 49,
   "metadata": {},
   "outputs": [
    {
     "data": {
      "application/vnd.jupyter.widget-view+json": {
       "model_id": "e186d31b98c2483680a3db0713d24c8b",
       "version_major": 2,
       "version_minor": 0
      },
      "text/plain": [
       "  0%|          | 0/20 [00:00<?, ?it/s]"
      ]
     },
     "metadata": {},
     "output_type": "display_data"
    },
    {
     "name": "stdout",
     "output_type": "stream",
     "text": [
      "\n",
      "Top ALS-Based Recommendations for User 2:\n",
      "Artist: Digital Summer, Predicted Listening Count: 1.43\n",
      "Artist: Deftones, Predicted Listening Count: 1.40\n",
      "Artist: The Beatles, Predicted Listening Count: 1.25\n",
      "Artist: Сплин, Predicted Listening Count: 1.18\n",
      "Artist: Gothminister, Predicted Listening Count: 1.13\n"
     ]
    }
   ],
   "source": [
    "# Example: Get top 5 ALS-based recommendations for user with userID=2\n",
    "user_id = 2\n",
    "als_recommendations = get_als_recommendations(user_id, user_artist_matrix, artist_id_to_name, top_n=5)\n",
    "\n",
    "# Display ALS-based recommendations\n",
    "print(f\"\\nTop ALS-Based Recommendations for User {user_id}:\")\n",
    "for artist_name, score in als_recommendations:\n",
    "    print(f\"Artist: {artist_name}, Predicted Listening Count: {score:.2f}\")"
   ]
  },
  {
   "cell_type": "code",
   "execution_count": 65,
   "metadata": {},
   "outputs": [
    {
     "data": {
      "application/vnd.jupyter.widget-view+json": {
       "model_id": "b0619e2a60204bad8f095fbdc898d307",
       "version_major": 2,
       "version_minor": 0
      },
      "text/plain": [
       "  0%|          | 0/20 [00:00<?, ?it/s]"
      ]
     },
     "metadata": {},
     "output_type": "display_data"
    },
    {
     "name": "stdout",
     "output_type": "stream",
     "text": [
      "\n",
      "Top ALS-Based Recommendations for User 8:\n",
      "Artist: Patrick Wolf, Predicted Listening Count: 1.52\n",
      "Artist: Black Label Society, Predicted Listening Count: 1.35\n",
      "Artist: Chiodos, Predicted Listening Count: 1.31\n",
      "Artist: Damien Rice, Predicted Listening Count: 1.27\n",
      "Artist: Talking Heads, Predicted Listening Count: 1.27\n"
     ]
    }
   ],
   "source": [
    "# Example: Get top 5 ALS-based recommendations for user with userID=3\n",
    "user_id = 8\n",
    "als_recommendations = get_als_recommendations(user_id, user_artist_matrix, artist_id_to_name, top_n=5)\n",
    "\n",
    "# Display ALS-based recommendations\n",
    "print(f\"\\nTop ALS-Based Recommendations for User {user_id}:\")\n",
    "for artist_name, score in als_recommendations:\n",
    "    print(f\"Artist: {artist_name}, Predicted Listening Count: {score:.2f}\")"
   ]
  },
  {
   "cell_type": "markdown",
   "metadata": {},
   "source": [
    "### Manual ALS - TOO SLOW WITHOUT IMPLICIT"
   ]
  },
  {
   "cell_type": "code",
   "execution_count": 51,
   "metadata": {},
   "outputs": [],
   "source": [
    "# def get_als_recommendations(user_id, user_artist_matrix, artist_id_to_name, top_n=5, factors=50, regularization=0.1, iterations=20):\n",
    "#     # Convert the user-artist matrix to a numpy array\n",
    "#     user_matrix = user_artist_matrix.values\n",
    "#     num_users, num_artists = user_matrix.shape\n",
    "    \n",
    "#     # Initialize random user and artist factors\n",
    "#     user_factors = np.random.rand(num_users, factors)\n",
    "#     artist_factors = np.random.rand(num_artists, factors)\n",
    "    \n",
    "#     # ALS optimization loop\n",
    "#     for _ in range(iterations):\n",
    "#         # Update user factors (fix artist factors)\n",
    "#         for user_idx in range(num_users):\n",
    "#             artist_factors_transpose = artist_factors.T\n",
    "#             user_factors[user_idx] = np.linalg.solve(\n",
    "#                 np.dot(artist_factors_transpose, artist_factors) + regularization * np.eye(factors),\n",
    "#                 np.dot(artist_factors_transpose, user_matrix[user_idx])\n",
    "#             )\n",
    "        \n",
    "#         # Update artist factors (fix user factors)\n",
    "#         for artist_idx in range(num_artists):\n",
    "#             user_factors_transpose = user_factors.T\n",
    "#             artist_factors[artist_idx] = np.linalg.solve(\n",
    "#                 np.dot(user_factors_transpose, user_factors) + regularization * np.eye(factors),\n",
    "#                 np.dot(user_factors_transpose, user_matrix[:, artist_idx])\n",
    "#             )\n",
    "    \n",
    "#     # Predict the ratings for all artists for the given user\n",
    "#     user_predictions = np.dot(user_factors[user_id - 1], artist_factors.T)  # Adjust for 0-based indexing\n",
    "\n",
    "#     # Get the non-interacted artists (i.e., artists with 0 listening counts)\n",
    "#     non_interacted_artists = np.where(user_artist_matrix.iloc[user_id - 1].values == 0)[0]  # Adjust for 0-based indexing\n",
    "    \n",
    "#     # Create a dictionary to hold recommendations and their scores\n",
    "#     recommendations = {}\n",
    "#     for artist_id in non_interacted_artists:\n",
    "#         score = user_predictions[artist_id]  # Corrected indexing here\n",
    "#         artist_name = artist_id_to_name.get(artist_id + 1, None)  # Adjusting for 1-based indexing in dictionary\n",
    "#         if artist_name:\n",
    "#             recommendations[artist_name] = score  # Only add valid artists to the recommendations\n",
    "    \n",
    "#     # Sort recommendations by predicted score\n",
    "#     sorted_recommendations = sorted(recommendations.items(), key=lambda x: x[1], reverse=True)\n",
    "    \n",
    "#     return sorted_recommendations[:top_n]  # Get top N ALS-based recommendations for the user\n",
    "\n",
    "# # Example usage:\n",
    "# user_id = 2  # Specify the user ID (1-based index)\n",
    "# top_n = 5    # Get top 5 recommendations\n",
    "# als_recommendations = get_als_recommendations(user_id, user_artist_matrix, artist_id_to_name, top_n=top_n)\n",
    "\n",
    "# # Display ALS-based recommendations\n",
    "# print(f\"Top {top_n} ALS-Based Recommendations for User {user_id}:\")\n",
    "# for artist, score in als_recommendations:\n",
    "#     print(f\"{artist}: Predicted Listening Count = {score:.2f}\")\n"
   ]
  },
  {
   "cell_type": "markdown",
   "metadata": {},
   "source": [
    "# PySpark\n",
    "## Theory\n",
    "EXPLANATION"
   ]
  },
  {
   "cell_type": "code",
   "execution_count": null,
   "metadata": {},
   "outputs": [],
   "source": []
  },
  {
   "cell_type": "markdown",
   "metadata": {},
   "source": [
    "## Conclusion"
   ]
  },
  {
   "cell_type": "markdown",
   "metadata": {},
   "source": [
    "---"
   ]
  },
  {
   "cell_type": "markdown",
   "metadata": {},
   "source": [
    "# ROUGH WORK"
   ]
  }
 ],
 "metadata": {
  "kernelspec": {
   "display_name": "Python 3",
   "language": "python",
   "name": "python3"
  },
  "language_info": {
   "codemirror_mode": {
    "name": "ipython",
    "version": 3
   },
   "file_extension": ".py",
   "mimetype": "text/x-python",
   "name": "python",
   "nbconvert_exporter": "python",
   "pygments_lexer": "ipython3",
   "version": "3.11.4"
  }
 },
 "nbformat": 4,
 "nbformat_minor": 2
}
