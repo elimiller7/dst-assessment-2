{
 "cells": [
  {
   "cell_type": "markdown",
   "metadata": {},
   "source": [
    "## Content-Based Filtering with PySpark\n",
    "\n",
    "In this section, we explore content-based filtering using the built in PySpark. We use a dataset which includes information about music artists, their associated tags, and how users interacted with them. We aim to generate artist recommendations for users based on the tags associated with artists they have interacted with. This involves loading the data, creating profiles for the artists, vectorising the tags, calculating similarities and finally generating recommendations based on those similarities."
   ]
  },
  {
   "cell_type": "markdown",
   "metadata": {},
   "source": [
    "# Chapter 0: Importing Required Libraries\n",
    "\n",
    "The key libraries used are from PySpark, which is ideal for handling large datasets efficiently."
   ]
  },
  {
   "cell_type": "code",
   "execution_count": 2,
   "metadata": {},
   "outputs": [],
   "source": [
    "from pyspark.sql import SparkSession\n",
    "from pyspark.sql import functions as F\n",
    "from pyspark.ml.feature import CountVectorizer, IDF\n",
    "from pyspark.ml.linalg import Vectors\n",
    "from pyspark.ml.feature import MinMaxScaler\n",
    "from pyspark.ml.stat import Correlation\n",
    "from pyspark.mllib.linalg.distributed import RowMatrix"
   ]
  },
  {
   "cell_type": "markdown",
   "metadata": {},
   "source": [
    "# Chapter 1: Loading Our Data\n",
    "\n",
    "First we initialise our Spark session. Initialising a Spark session is required for any operation in PySpark. This session allows us to leverage PySpark's machine learning capabalities. "
   ]
  },
  {
   "cell_type": "code",
   "execution_count": 3,
   "metadata": {},
   "outputs": [
    {
     "name": "stderr",
     "output_type": "stream",
     "text": [
      "24/11/25 12:24:03 WARN Utils: Your hostname, Harrys-MacBook-Air-5.local resolves to a loopback address: 127.0.0.1; using 172.28.149.235 instead (on interface en0)\n",
      "24/11/25 12:24:04 WARN Utils: Set SPARK_LOCAL_IP if you need to bind to another address\n",
      "Setting default log level to \"WARN\".\n",
      "To adjust logging level use sc.setLogLevel(newLevel). For SparkR, use setLogLevel(newLevel).\n",
      "24/11/25 12:24:05 WARN NativeCodeLoader: Unable to load native-hadoop library for your platform... using builtin-java classes where applicable\n"
     ]
    }
   ],
   "source": [
    "spark = SparkSession.builder \\\n",
    "    .appName(\"Content-Based Filtering\") \\\n",
    "    .getOrCreate()"
   ]
  },
  {
   "cell_type": "markdown",
   "metadata": {},
   "source": [
    "Then, we define the Base Directory for our dataset files. This allows us to load the data for further processing. "
   ]
  },
  {
   "cell_type": "code",
   "execution_count": 4,
   "metadata": {},
   "outputs": [],
   "source": [
    "base_directory = \"/Users/harrywilson/Desktop/DataScienceToolbox/Assessment2Data\""
   ]
  },
  {
   "cell_type": "markdown",
   "metadata": {},
   "source": [
    "Finally, we load our datasets. This includes information about artists, their tags and user interactions. In this step, we also read our data into Spark DataFrames."
   ]
  },
  {
   "cell_type": "code",
   "execution_count": 5,
   "metadata": {},
   "outputs": [
    {
     "name": "stderr",
     "output_type": "stream",
     "text": [
      "                                                                                \r"
     ]
    },
    {
     "name": "stdout",
     "output_type": "stream",
     "text": [
      "User-Artists Dataset:\n",
      "+------+--------+------+\n",
      "|userID|artistID|weight|\n",
      "+------+--------+------+\n",
      "|     2|      51| 13883|\n",
      "|     2|      52| 11690|\n",
      "|     2|      53| 11351|\n",
      "|     2|      54| 10300|\n",
      "|     2|      55|  8983|\n",
      "+------+--------+------+\n",
      "only showing top 5 rows\n",
      "\n",
      "Artists Dataset:\n",
      "+---+-----------------+--------------------+--------------------+\n",
      "| id|             name|                 url|          pictureURL|\n",
      "+---+-----------------+--------------------+--------------------+\n",
      "|  1|     MALICE MIZER|http://www.last.f...|http://userserve-...|\n",
      "|  2|  Diary of Dreams|http://www.last.f...|http://userserve-...|\n",
      "|  3|Carpathian Forest|http://www.last.f...|http://userserve-...|\n",
      "|  4|     Moi dix Mois|http://www.last.f...|http://userserve-...|\n",
      "|  5|      Bella Morte|http://www.last.f...|http://userserve-...|\n",
      "+---+-----------------+--------------------+--------------------+\n",
      "only showing top 5 rows\n",
      "\n",
      "Tags Dataset:\n",
      "+-----+-----------------+\n",
      "|tagID|         tagValue|\n",
      "+-----+-----------------+\n",
      "|    1|            metal|\n",
      "|    2|alternative metal|\n",
      "|    3|        goth rock|\n",
      "|    4|      black metal|\n",
      "|    5|      death metal|\n",
      "+-----+-----------------+\n",
      "only showing top 5 rows\n",
      "\n",
      "User-Tagged Artists Dataset:\n",
      "+------+--------+-----+---+-----+----+\n",
      "|userID|artistID|tagID|day|month|year|\n",
      "+------+--------+-----+---+-----+----+\n",
      "|     2|      52|   13|  1|    4|2009|\n",
      "|     2|      52|   15|  1|    4|2009|\n",
      "|     2|      52|   18|  1|    4|2009|\n",
      "|     2|      52|   21|  1|    4|2009|\n",
      "|     2|      52|   41|  1|    4|2009|\n",
      "+------+--------+-----+---+-----+----+\n",
      "only showing top 5 rows\n",
      "\n"
     ]
    }
   ],
   "source": [
    "# Function to load a .dat file as a DataFrame\n",
    "def load_data(filename):\n",
    "    file_path = f\"{base_directory}/{filename}\"\n",
    "    return spark.read.csv(file_path, sep=\"\\t\", header=True, inferSchema=True)\n",
    "\n",
    "# Load datasets\n",
    "user_artists_df = load_data(\"user_artists.dat\")\n",
    "artists_df = load_data(\"artists.dat\")\n",
    "tags_df = load_data(\"tags.dat\")\n",
    "user_taggedartists_df = load_data(\"user_taggedartists.dat\")\n",
    "\n",
    "# Display a few rows from the datasets to ensure everything is working\n",
    "print(\"User-Artists Dataset:\")\n",
    "user_artists_df.show(5)\n",
    "\n",
    "print(\"Artists Dataset:\")\n",
    "artists_df.show(5)\n",
    "\n",
    "print(\"Tags Dataset:\")\n",
    "tags_df.show(5)\n",
    "\n",
    "print(\"User-Tagged Artists Dataset:\")\n",
    "user_taggedartists_df.show(5)\n"
   ]
  },
  {
   "cell_type": "markdown",
   "metadata": {},
   "source": [
    "# Chapter 2: Creating Artist Profiles\n",
    "\n",
    "This first step involves creating profiles, based on the tags associated with each artist. We aggregate the tags to form this profile."
   ]
  },
  {
   "cell_type": "markdown",
   "metadata": {},
   "source": [
    "To apply similarity calculation, which is vital for content based filtering, we need to convert the tags into numerical interpretations. Therefore, we use CountVectorizer, this creates a vector of word counts for each artist's tags."
   ]
  },
  {
   "cell_type": "markdown",
   "metadata": {},
   "source": [
    "For the raw_features column, we have the format (total_features, [indices], [values]). Where:\n",
    "total_features: total number of unique tags in the dataset\n",
    "indices: Indices of non-zero features (tags present for the artist)\n",
    "values: Corresponding count of each tag (as we got rid of duplicates, these values are all 1)\n"
   ]
  },
  {
   "cell_type": "markdown",
   "metadata": {},
   "source": [
    "Next, we compute the Term Frequency - Inverse Document Frequency (TF-IDF). This assesses the importance of each tag within an artist's profile."
   ]
  },
  {
   "cell_type": "markdown",
   "metadata": {},
   "source": [
    "Now, we normalise the feature vectors. Here, we are ensuring all features are on the same scale. We use MinMaxScaler to normalise the tag vectors. This is vital for similarity calculation."
   ]
  },
  {
   "cell_type": "markdown",
   "metadata": {},
   "source": [
    "# Chapter : Similarities Between Artists\n",
    "\n",
    "We can compute cosine similarity between artists. This is done using RowMatrix and columnSimilarities."
   ]
  },
  {
   "cell_type": "code",
   "execution_count": 6,
   "metadata": {},
   "outputs": [
    {
     "name": "stderr",
     "output_type": "stream",
     "text": [
      "24/11/25 12:26:11 WARN Executor: Managed memory leak detected; size = 36737740 bytes, task 0.0 in stage 38.0 (TID 35)\n",
      "[Stage 41:>                                                         (0 + 1) / 1]\r"
     ]
    },
    {
     "name": "stdout",
     "output_type": "stream",
     "text": [
      "+----------+----------+-------------------+\n",
      "|artistID_1|artistID_2|similarity         |\n",
      "+----------+----------+-------------------+\n",
      "|261       |1529      |0.07548513560963971|\n",
      "|379       |1752      |0.04962916669854651|\n",
      "|1644      |7078      |0.35355339059327373|\n",
      "|1792      |2863      |0.5298129428260175 |\n",
      "|20        |8414      |0.03864939758404969|\n",
      "+----------+----------+-------------------+\n",
      "only showing top 5 rows\n",
      "\n"
     ]
    },
    {
     "name": "stderr",
     "output_type": "stream",
     "text": [
      "24/11/25 12:26:16 WARN Executor: Managed memory leak detected; size = 36737740 bytes, task 0.0 in stage 41.0 (TID 36)\n",
      "                                                                                \r"
     ]
    }
   ],
   "source": [
    "# Step 1: Join user_taggedartists with tags for tag information\n",
    "artist_tags_df = user_taggedartists_df.join(tags_df, on=\"tagID\", how=\"inner\")\n",
    "\n",
    "# Step 2: Join artist tags with artists to get artist details and tag names\n",
    "artist_tags_info_df = artist_tags_df.join(\n",
    "    artists_df, artist_tags_df.artistID == artists_df.id\n",
    ").select(\n",
    "    artist_tags_df[\"artistID\"],\n",
    "    artists_df[\"name\"].alias(\"artist_name\"),\n",
    "    artist_tags_df[\"tagValue\"].alias(\"tag\")\n",
    ")\n",
    "\n",
    "# Step 3: Aggregate tags for each artist into a list\n",
    "artist_profiles_df = artist_tags_info_df.groupBy(\"artistID\", \"artist_name\") \\\n",
    "    .agg(F.collect_list(\"tag\").alias(\"tags\"))\n",
    "\n",
    "# Step 4: Ensure tag_text is an array of strings\n",
    "tags_df = artist_profiles_df.select(\n",
    "    F.col(\"artistID\"),\n",
    "    F.col(\"artist_name\"),\n",
    "    F.col(\"tags\").alias(\"tag_text\")\n",
    ")\n",
    "\n",
    "# Step 5: Vectorize tags using CountVectorizer (without TF-IDF)\n",
    "vectoriser = CountVectorizer(inputCol=\"tag_text\", outputCol=\"raw_features\")\n",
    "vectorised_model = vectoriser.fit(tags_df)\n",
    "vectorised_df = vectorised_model.transform(tags_df)\n",
    "\n",
    "# Step 6: Normalize the feature vectors (optional but recommended for fair comparison)\n",
    "scaler = MinMaxScaler(inputCol=\"raw_features\", outputCol=\"scaled_features\")\n",
    "scaler_model = scaler.fit(vectorised_df)\n",
    "scaled_df = scaler_model.transform(vectorised_df)\n",
    "\n",
    "# Step 7: Convert the scaled features column to an RDD of dense vectors\n",
    "row_matrix_rdd = scaled_df.select(\"scaled_features\").rdd.map(lambda row: row.scaled_features.toArray())\n",
    "\n",
    "# Step 8: Create a RowMatrix from the RDD and compute pairwise cosine similarities\n",
    "row_matrix = RowMatrix(row_matrix_rdd)\n",
    "similarities = row_matrix.columnSimilarities()\n",
    "\n",
    "# Step 9: Convert the similarities result back to a DataFrame for better readability\n",
    "similarities_df = similarities.entries.toDF([\"artistID_1\", \"artistID_2\", \"similarity\"])\n",
    "\n",
    "# Display the top 5 results\n",
    "similarities_df.show(5, truncate=False)\n"
   ]
  },
  {
   "cell_type": "code",
   "execution_count": 7,
   "metadata": {},
   "outputs": [
    {
     "name": "stderr",
     "output_type": "stream",
     "text": [
      "24/11/25 12:26:48 WARN RowBasedKeyValueBatch: Calling spill() on RowBasedKeyValueBatch. Will not spill but return 0.\n",
      "24/11/25 12:26:48 WARN RowBasedKeyValueBatch: Calling spill() on RowBasedKeyValueBatch. Will not spill but return 0.\n",
      "24/11/25 12:26:48 WARN RowBasedKeyValueBatch: Calling spill() on RowBasedKeyValueBatch. Will not spill but return 0.\n",
      "24/11/25 12:26:48 WARN RowBasedKeyValueBatch: Calling spill() on RowBasedKeyValueBatch. Will not spill but return 0.\n",
      "24/11/25 12:26:59 WARN RowBasedKeyValueBatch: Calling spill() on RowBasedKeyValueBatch. Will not spill but return 0.\n",
      "24/11/25 12:26:59 WARN RowBasedKeyValueBatch: Calling spill() on RowBasedKeyValueBatch. Will not spill but return 0.\n",
      "24/11/25 12:26:59 WARN RowBasedKeyValueBatch: Calling spill() on RowBasedKeyValueBatch. Will not spill but return 0.\n",
      "24/11/25 12:26:59 WARN RowBasedKeyValueBatch: Calling spill() on RowBasedKeyValueBatch. Will not spill but return 0.\n",
      "24/11/25 12:27:06 WARN RowBasedKeyValueBatch: Calling spill() on RowBasedKeyValueBatch. Will not spill but return 0.\n",
      "24/11/25 12:27:06 WARN RowBasedKeyValueBatch: Calling spill() on RowBasedKeyValueBatch. Will not spill but return 0.\n",
      "24/11/25 12:27:06 WARN RowBasedKeyValueBatch: Calling spill() on RowBasedKeyValueBatch. Will not spill but return 0.\n",
      "24/11/25 12:27:06 WARN RowBasedKeyValueBatch: Calling spill() on RowBasedKeyValueBatch. Will not spill but return 0.\n",
      "24/11/25 12:27:11 WARN RowBasedKeyValueBatch: Calling spill() on RowBasedKeyValueBatch. Will not spill but return 0.\n",
      "24/11/25 12:27:11 WARN RowBasedKeyValueBatch: Calling spill() on RowBasedKeyValueBatch. Will not spill but return 0.\n",
      "24/11/25 12:27:12 WARN RowBasedKeyValueBatch: Calling spill() on RowBasedKeyValueBatch. Will not spill but return 0.\n",
      "24/11/25 12:27:12 WARN RowBasedKeyValueBatch: Calling spill() on RowBasedKeyValueBatch. Will not spill but return 0.\n",
      "24/11/25 12:27:19 WARN RowBasedKeyValueBatch: Calling spill() on RowBasedKeyValueBatch. Will not spill but return 0.\n",
      "24/11/25 12:27:19 WARN RowBasedKeyValueBatch: Calling spill() on RowBasedKeyValueBatch. Will not spill but return 0.\n",
      "                                                                                \r"
     ]
    },
    {
     "name": "stdout",
     "output_type": "stream",
     "text": [
      "+------+----------+-------------------+\n",
      "|userID|artistID_2|avg_similarity     |\n",
      "+------+----------+-------------------+\n",
      "|2100  |6776      |1.0                |\n",
      "|2100  |7300      |1.0                |\n",
      "|2100  |9551      |1.0                |\n",
      "|2100  |8846      |1.0                |\n",
      "|2100  |9346      |1.0                |\n",
      "|2100  |6104      |0.7071067811865475 |\n",
      "|2100  |8534      |0.7071067811865475 |\n",
      "|2100  |9181      |0.7071067811865475 |\n",
      "|2100  |8605      |0.5054855699880143 |\n",
      "|2100  |8843      |0.5054855699880143 |\n",
      "|2100  |9074      |0.5054855699880143 |\n",
      "|2100  |9055      |0.5054855699880143 |\n",
      "|2100  |8883      |0.5054855699880143 |\n",
      "|2100  |9104      |0.5054855699880143 |\n",
      "|2100  |8678      |0.5054855699880143 |\n",
      "|2100  |9221      |0.5054855699880143 |\n",
      "|2100  |9640      |0.5054855699880143 |\n",
      "|2100  |9483      |0.5054855699880143 |\n",
      "|2100  |9194      |0.5054855699880143 |\n",
      "|2100  |9695      |0.5054855699880143 |\n",
      "|2100  |8825      |0.5054855699880143 |\n",
      "|2100  |9573      |0.5054855699880143 |\n",
      "|2100  |9641      |0.5054855699880143 |\n",
      "|2100  |4793      |0.4472135954999579 |\n",
      "|2100  |4931      |0.4472135954999579 |\n",
      "|2100  |5592      |0.4472135954999579 |\n",
      "|2100  |4673      |0.4472135954999579 |\n",
      "|2100  |6224      |0.4472135954999579 |\n",
      "|2100  |6870      |0.4472135954999579 |\n",
      "|2100  |7416      |0.4472135954999579 |\n",
      "|2100  |6596      |0.4472135954999579 |\n",
      "|2100  |8537      |0.4472135954999579 |\n",
      "|2100  |6886      |0.4472135954999579 |\n",
      "|2100  |8133      |0.4472135954999579 |\n",
      "|2100  |8008      |0.4472135954999579 |\n",
      "|2100  |7949      |0.4472135954999579 |\n",
      "|2100  |8050      |0.4472135954999579 |\n",
      "|2100  |8844      |0.4472135954999579 |\n",
      "|2100  |8638      |0.4472135954999579 |\n",
      "|2100  |8105      |0.4472135954999579 |\n",
      "|2100  |9258      |0.4472135954999579 |\n",
      "|2100  |9039      |0.4472135954999579 |\n",
      "|2100  |9473      |0.4472135954999579 |\n",
      "|2100  |9446      |0.4472135954999579 |\n",
      "|2100  |9045      |0.4472135954999579 |\n",
      "|2100  |2565      |0.4330127018922194 |\n",
      "|2100  |4489      |0.38313674616101745|\n",
      "|2100  |5013      |0.38313674616101745|\n",
      "|2100  |6277      |0.38313674616101745|\n",
      "|2100  |4291      |0.38313674616101745|\n",
      "+------+----------+-------------------+\n",
      "only showing top 50 rows\n",
      "\n"
     ]
    }
   ],
   "source": [
    "# Join user interactions with artist similarity data\n",
    "user_artist_df = user_artists_df.join(artists_df, user_artists_df.artistID == artists_df.id).select(\n",
    "    user_artists_df[\"userID\"], \n",
    "    user_artists_df[\"artistID\"]\n",
    ")\n",
    "\n",
    "# Join user interactions with artist similarity data\n",
    "user_recommendations = user_artist_df.join(\n",
    "    similarities_df,\n",
    "    user_artist_df.artistID == similarities_df.artistID_1\n",
    ").groupBy(\"userID\", \"artistID_2\") \\\n",
    " .agg(F.mean(\"similarity\").alias(\"avg_similarity\")) \\\n",
    " .orderBy(\"userID\", \"avg_similarity\", ascending=False)\n",
    "\n",
    "# Display recommendations\n",
    "user_recommendations.show(50, truncate=False)"
   ]
  },
  {
   "cell_type": "code",
   "execution_count": 8,
   "metadata": {},
   "outputs": [
    {
     "name": "stderr",
     "output_type": "stream",
     "text": [
      "[Stage 70:==============>                                           (1 + 3) / 4]\r"
     ]
    },
    {
     "name": "stdout",
     "output_type": "stream",
     "text": [
      "+------+----------+---------------------+------------------+\n",
      "|userID|artistID_2|artist_name          |avg_similarity    |\n",
      "+------+----------+---------------------+------------------+\n",
      "|5     |165       |Planet Funk          |0.6871886726456031|\n",
      "|5     |84        |Cut Copy             |0.6281262398957679|\n",
      "|5     |66        |Faithless            |0.5990630007927742|\n",
      "|5     |149       |The Sound Of Lucrecia|0.5960655954426939|\n",
      "|5     |63        |Enigma               |0.578199616410792 |\n",
      "|5     |87        |Deacon Blue          |0.5724274243327525|\n",
      "|5     |57        |Thievery Corporation |0.5466830866235931|\n",
      "|5     |79        |Fiction Factory      |0.5421251649009028|\n",
      "|5     |94        |Ministry of Sound    |0.5251414738134   |\n",
      "|5     |4617      |Bow Wow              |0.5132002392796673|\n",
      "+------+----------+---------------------+------------------+\n",
      "only showing top 10 rows\n",
      "\n"
     ]
    },
    {
     "name": "stderr",
     "output_type": "stream",
     "text": [
      "                                                                                \r"
     ]
    }
   ],
   "source": [
    "# Input a user I\n",
    "input_user_id = 5\n",
    "\n",
    "# Get artists the user has already interacted with\n",
    "interacted_artists = user_artists_df.filter(F.col(\"userID\") == input_user_id).select(\"artistID\")\n",
    "\n",
    "# Collect artistIDs as a list for filtering\n",
    "interacted_artist_ids = [row[\"artistID\"] for row in interacted_artists.collect()]\n",
    "\n",
    "# Generate recommendations for the user\n",
    "user_recommendations_filtered = (\n",
    "    user_artist_df.filter(F.col(\"userID\") == input_user_id)\n",
    "    .join(similarities_df, user_artist_df.artistID == similarities_df.artistID_1)\n",
    "    .filter(~F.col(\"artistID_2\").isin(interacted_artist_ids))  # Exclude already interacted artists\n",
    "    .groupBy(\"userID\", \"artistID_2\")\n",
    "    .agg(F.mean(\"similarity\").alias(\"avg_similarity\"))\n",
    "    .orderBy(F.col(\"avg_similarity\").desc())  # Ensure descending order\n",
    ")\n",
    "\n",
    "# Add artist names to the recommendations\n",
    "user_recommendations_with_names = (\n",
    "    user_recommendations_filtered\n",
    "    .join(artists_df, user_recommendations_filtered.artistID_2 == artists_df.id, how=\"inner\")\n",
    "    .select(\n",
    "        \"userID\",\n",
    "        \"artistID_2\",\n",
    "        F.col(\"name\").alias(\"artist_name\"),\n",
    "        \"avg_similarity\"\n",
    "    )\n",
    "    .orderBy(F.col(\"avg_similarity\").desc())  # Reconfirm descending order for display\n",
    ")\n",
    "\n",
    "# Display the recommendations with artist names\n",
    "user_recommendations_with_names.show(10, truncate=False)\n"
   ]
  },
  {
   "cell_type": "markdown",
   "metadata": {},
   "source": [
    "I will now try to make afunction that inputs an artist, and finds similar artists and displays their tags they share in common"
   ]
  },
  {
   "cell_type": "code",
   "execution_count": 10,
   "metadata": {},
   "outputs": [
    {
     "name": "stderr",
     "output_type": "stream",
     "text": [
      "                                                                                \r"
     ]
    },
    {
     "name": "stdout",
     "output_type": "stream",
     "text": [
      "Artists similar to 'Jean-Michel Jarre':\n"
     ]
    },
    {
     "name": "stderr",
     "output_type": "stream",
     "text": [
      "                                                                                \r"
     ]
    },
    {
     "name": "stdout",
     "output_type": "stream",
     "text": [
      "+-----------------+----------------------+-------------------+\n",
      "|similar_artist_id|similar_artist_name   |similarity         |\n",
      "+-----------------+----------------------+-------------------+\n",
      "|56               |Daft Punk             |0.40725352358420147|\n",
      "|2                |Diary of Dreams       |0.37057201966529973|\n",
      "|4                |Moi dix Mois          |0.34505095261119995|\n",
      "|52               |Morcheeba             |0.3295423117461276 |\n",
      "|66               |Faithless             |0.3254526604505519 |\n",
      "|44               |Das Ich               |0.3197749222590756 |\n",
      "|169              |אביתר בנאי            |0.3014104402085912 |\n",
      "|19               |:wumpscut:            |0.2987023063005894 |\n",
      "|296              |Sugababes             |0.29250089551853053|\n",
      "|647              |Eleftheria Eleftheriou|0.2898754521821014 |\n",
      "+-----------------+----------------------+-------------------+\n",
      "\n",
      "Shared tags with 'Jean-Michel Jarre':\n"
     ]
    },
    {
     "name": "stderr",
     "output_type": "stream",
     "text": [
      "                                                                                \r"
     ]
    },
    {
     "name": "stdout",
     "output_type": "stream",
     "text": [
      "+----------------------+-------------------------------------------------------------------------------------------+\n",
      "|name                  |shared_tags                                                                                |\n",
      "+----------------------+-------------------------------------------------------------------------------------------+\n",
      "|:wumpscut:            |[electronic]                                                                               |\n",
      "|Sugababes             |[seen live, pop, electronic]                                                               |\n",
      "|Faithless             |[electronica, 90s, electronic, chillout, pop, ambient, seen live, electro]                 |\n",
      "|Eleftheria Eleftheriou|[pop]                                                                                      |\n",
      "|Morcheeba             |[electronic, chillout, pop, seen live]                                                     |\n",
      "|Das Ich               |[seen live]                                                                                |\n",
      "|Daft Punk             |[electronic, electronica, atmospheric, synthpop, 90s, chillout, electro, instrumental, pop]|\n",
      "|Diary of Dreams       |[ambient, seen live, electronic]                                                           |\n",
      "+----------------------+-------------------------------------------------------------------------------------------+\n",
      "\n"
     ]
    }
   ],
   "source": [
    "from pyspark.sql import functions as F\n",
    "\n",
    "# Input: Artist Name\n",
    "input_artist_name = \"Jean-Michel Jarre\"  # Change this to any artist name for testing\n",
    "\n",
    "# Step 1: Check if the artist exists in the dataset\n",
    "artist_exists = artists_df.filter(F.col(\"name\") == input_artist_name).count()\n",
    "\n",
    "if artist_exists == 0:\n",
    "    print(f\"The artist '{input_artist_name}' is not in the list.\")\n",
    "else:\n",
    "    # Step 2: Get the artist ID for the input artist\n",
    "    input_artist_id = artists_df.filter(F.col(\"name\") == input_artist_name).select(\"id\").first()[\"id\"]\n",
    "\n",
    "    # Step 3: Find similar artists using the similarity matrix\n",
    "    similar_artists = similarities_df.filter(\n",
    "        (F.col(\"artistID_1\") == input_artist_id) | (F.col(\"artistID_2\") == input_artist_id)\n",
    "    ).withColumn(\n",
    "        \"similar_artist_id\",\n",
    "        F.when(F.col(\"artistID_1\") == input_artist_id, F.col(\"artistID_2\")).otherwise(F.col(\"artistID_1\"))\n",
    "    ).join(\n",
    "        artists_df, F.col(\"similar_artist_id\") == artists_df.id\n",
    "    ).select(\n",
    "        F.col(\"similar_artist_id\"),\n",
    "        F.col(\"name\").alias(\"similar_artist_name\"),\n",
    "        F.col(\"similarity\")\n",
    "    ).orderBy(F.col(\"similarity\").desc())\n",
    "\n",
    "    # Step 4: Limit to the top similar artists\n",
    "    top_similar_artists = similar_artists.limit(10)\n",
    "\n",
    "    # Step 5: Get tags for the input artist\n",
    "    input_artist_tags = artist_tags_info_df.filter(\n",
    "        F.col(\"artistID\") == input_artist_id\n",
    "    ).select(\"tag\").distinct()\n",
    "\n",
    "    # Step 6: Get tags for the top similar artists\n",
    "    similar_artist_tags = artist_tags_info_df.filter(\n",
    "        F.col(\"artistID\").isin([row[\"similar_artist_id\"] for row in top_similar_artists.collect()])\n",
    "    ).select(\"artistID\", \"tag\").distinct()\n",
    "\n",
    "    # Step 7: Find shared tags between the input artist and top similar artists\n",
    "    shared_tags = similar_artist_tags.join(\n",
    "        input_artist_tags, [\"tag\"], \"inner\"\n",
    "    ).join(\n",
    "        artists_df, similar_artist_tags.artistID == artists_df.id\n",
    "    ).groupBy(\"name\").agg(\n",
    "        F.collect_list(\"tag\").alias(\"shared_tags\")\n",
    "    )\n",
    "\n",
    "    # Display Results\n",
    "    print(f\"Artists similar to '{input_artist_name}':\")\n",
    "    top_similar_artists.show(10, truncate=False)\n",
    "\n",
    "    print(f\"Shared tags with '{input_artist_name}':\")\n",
    "    shared_tags.show(10, truncate=False)\n"
   ]
  },
  {
   "cell_type": "code",
   "execution_count": 12,
   "metadata": {},
   "outputs": [
    {
     "name": "stderr",
     "output_type": "stream",
     "text": [
      "                                                                                \r"
     ]
    },
    {
     "name": "stdout",
     "output_type": "stream",
     "text": [
      "Artists similar to 'Eminem':\n"
     ]
    },
    {
     "name": "stderr",
     "output_type": "stream",
     "text": [
      "                                                                                \r"
     ]
    },
    {
     "name": "stdout",
     "output_type": "stream",
     "text": [
      "+-----------------+--------------------+-------------------+\n",
      "|similar_artist_id|similar_artist_name |similarity         |\n",
      "+-----------------+--------------------+-------------------+\n",
      "|529              |Paul van Dyk        |0.6932198240501805 |\n",
      "|1                |MALICE MIZER        |0.44218605579195813|\n",
      "|5                |Bella Morte         |0.44023759787156364|\n",
      "|63               |Enigma              |0.42104563149491325|\n",
      "|195              |Bright Eyes         |0.3888815005223569 |\n",
      "|57               |Thievery Corporation|0.3721999232642863 |\n",
      "|84               |Cut Copy            |0.37106835951444184|\n",
      "|271              |Mos Def             |0.3557278794904497 |\n",
      "|66               |Faithless           |0.34789827583950966|\n",
      "|87               |Deacon Blue         |0.3478232307728262 |\n",
      "+-----------------+--------------------+-------------------+\n",
      "\n",
      "Shared tags with 'Eminem':\n"
     ]
    },
    {
     "name": "stderr",
     "output_type": "stream",
     "text": [
      "[Stage 187:>                                                        (0 + 2) / 2]\r"
     ]
    },
    {
     "name": "stdout",
     "output_type": "stream",
     "text": [
      "+--------------------+----------------------------------------------------------------------------------------------------------------------------------------------------------------------+-------------------+\n",
      "|similar_artist_name |shared_tags                                                                                                                                                           |similarity         |\n",
      "+--------------------+----------------------------------------------------------------------------------------------------------------------------------------------------------------------+-------------------+\n",
      "|Paul van Dyk        |[00s, alternative, rock]                                                                                                                                              |0.6932198240501805 |\n",
      "|MALICE MIZER        |[]                                                                                                                                                                    |0.44218605579195813|\n",
      "|Bella Morte         |[]                                                                                                                                                                    |0.44023759787156364|\n",
      "|Enigma              |[singer-songwriter, alternative, sexy, favorite, 90s]                                                                                                                 |0.42104563149491325|\n",
      "|Bright Eyes         |[singer-songwriter, alternative, love, sad, seen live, 90s, favorites, male vocalists, rock, usa, beautiful]                                                          |0.3888815005223569 |\n",
      "|Thievery Corporation|[favorites]                                                                                                                                                           |0.3721999232642863 |\n",
      "|Cut Copy            |[00s, seen live, male vocalists]                                                                                                                                      |0.37106835951444184|\n",
      "|Mos Def             |[crazy, 00s, the truth, phat, classic, hiphop, dope, hip-hop, rap, catchy, hip hop, hard, real talk, the good stuff, assertive, witty, awesome, great lyricists, cool]|0.3557278794904497 |\n",
      "|Faithless           |[pop, alternative, female vocalists, seen live, 90s]                                                                                                                  |0.34789827583950966|\n",
      "|Deacon Blue         |[pop, classic]                                                                                                                                                        |0.3478232307728262 |\n",
      "+--------------------+----------------------------------------------------------------------------------------------------------------------------------------------------------------------+-------------------+\n",
      "\n"
     ]
    },
    {
     "name": "stderr",
     "output_type": "stream",
     "text": [
      "                                                                                \r"
     ]
    }
   ],
   "source": [
    "from pyspark.sql import functions as F\n",
    "\n",
    "# Input: Artist Name\n",
    "input_artist_name = \"Eminem\"  # Change this to any artist name for testing\n",
    "\n",
    "# Step 1: Check if the artist exists in the dataset\n",
    "artist_exists = artists_df.filter(F.col(\"name\") == input_artist_name).count()\n",
    "\n",
    "if artist_exists == 0:\n",
    "    print(f\"The artist '{input_artist_name}' is not in the list.\")\n",
    "else:\n",
    "    # Step 2: Get the artist ID for the input artist\n",
    "    input_artist_id = artists_df.filter(F.col(\"name\") == input_artist_name).select(\"id\").first()[\"id\"]\n",
    "\n",
    "    # Step 3: Find similar artists using the similarity matrix\n",
    "    similar_artists = similarities_df.filter(\n",
    "        (F.col(\"artistID_1\") == input_artist_id) | (F.col(\"artistID_2\") == input_artist_id)\n",
    "    ).withColumn(\n",
    "        \"similar_artist_id\",\n",
    "        F.when(F.col(\"artistID_1\") == input_artist_id, F.col(\"artistID_2\")).otherwise(F.col(\"artistID_1\"))\n",
    "    ).join(\n",
    "        artists_df, F.col(\"similar_artist_id\") == artists_df.id\n",
    "    ).select(\n",
    "        F.col(\"similar_artist_id\"),\n",
    "        F.col(\"name\").alias(\"similar_artist_name\"),\n",
    "        F.col(\"similarity\")\n",
    "    ).orderBy(F.col(\"similarity\").desc())\n",
    "\n",
    "    # Step 4: Limit to the top similar artists\n",
    "    top_similar_artists = similar_artists.limit(10)\n",
    "\n",
    "    # Step 5: Get tags for the input artist\n",
    "    input_artist_tags = artist_tags_info_df.filter(\n",
    "        F.col(\"artistID\") == input_artist_id\n",
    "    ).select(\"tag\").distinct()\n",
    "\n",
    "    # Step 6: Get tags for the top similar artists\n",
    "    similar_artist_tags = artist_tags_info_df.filter(\n",
    "        F.col(\"artistID\").isin([row[\"similar_artist_id\"] for row in top_similar_artists.collect()])\n",
    "    ).select(\"artistID\", \"tag\").distinct()\n",
    "\n",
    "    # Step 7: Find shared tags between the input artist and top similar artists\n",
    "    shared_tags = top_similar_artists.join(\n",
    "        similar_artist_tags.join(\n",
    "            input_artist_tags, [\"tag\"], \"inner\"\n",
    "        ).groupBy(\"artistID\").agg(\n",
    "            F.collect_list(\"tag\").alias(\"shared_tags\")\n",
    "        ),\n",
    "        top_similar_artists.similar_artist_id == similar_artist_tags.artistID,\n",
    "        how=\"left\"\n",
    "    ).select(\n",
    "        F.col(\"similar_artist_name\"),\n",
    "        F.coalesce(F.col(\"shared_tags\"), F.array()).alias(\"shared_tags\"),\n",
    "        F.col(\"similarity\")\n",
    "    ).orderBy(F.col(\"similarity\").desc())  # Ensure order matches top_similar_artists\n",
    "\n",
    "    # Display Results\n",
    "    print(f\"Artists similar to '{input_artist_name}':\")\n",
    "    top_similar_artists.show(10, truncate=False)\n",
    "\n",
    "    print(f\"Shared tags with '{input_artist_name}':\")\n",
    "    shared_tags.show(10, truncate=False)\n"
   ]
  },
  {
   "cell_type": "markdown",
   "metadata": {},
   "source": [
    "# Unexpected Similarity Results\n",
    "\n",
    "We may have generic tags, which lack genre-specific meaning\n",
    "\n",
    "Cosine similarity measures angles between vectors, produced from giving our tags numerical values. If these vectors have similar patterns, we may see larger similarity"
   ]
  }
 ],
 "metadata": {
  "kernelspec": {
   "display_name": "base",
   "language": "python",
   "name": "python3"
  },
  "language_info": {
   "codemirror_mode": {
    "name": "ipython",
    "version": 3
   },
   "file_extension": ".py",
   "mimetype": "text/x-python",
   "name": "python",
   "nbconvert_exporter": "python",
   "pygments_lexer": "ipython3",
   "version": "3.11.5"
  }
 },
 "nbformat": 4,
 "nbformat_minor": 2
}
