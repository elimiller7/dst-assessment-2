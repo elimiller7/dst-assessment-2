{
 "cells": [
  {
   "cell_type": "code",
   "execution_count": 66,
   "metadata": {},
   "outputs": [],
   "source": [
    "import torch\n",
    "import torch.nn as nn\n",
    "import torch.optim as optim\n",
    "import pandas as pd\n",
    "from torch.utils.data import TensorDataset, DataLoader\n",
    "import numpy as np\n",
    "\n",
    "device = torch.device(\"cuda\" if torch.cuda.is_available() else \"cpu\") # Use GPU if available, otherwise use CPU\n",
    "\n",
    "class AutoEncoder(nn.Module):\n",
    "    def __init__(self):\n",
    "        super().__init__()\n",
    "        \n",
    "        # Set the number of hidden units\n",
    "        self.num_hidden = 8\n",
    "        \n",
    "        # Define the encoder part of the autoencoder\n",
    "        self.encoder = nn.Sequential(\n",
    "            nn.Linear(3, 256),  # input size: 784, output size: 256\n",
    "            nn.ReLU(),  # apply the ReLU activation function\n",
    "            nn.Linear(256, self.num_hidden),  # input size: 256, output size: num_hidden\n",
    "            nn.ReLU(),  # apply the ReLU activation function\n",
    "        )\n",
    "        \n",
    "        # Define the decoder part of the autoencoder\n",
    "        self.decoder = nn.Sequential(\n",
    "            nn.Linear(self.num_hidden, 256),  # input size: num_hidden, output size: 256\n",
    "            nn.ReLU(),  # apply the ReLU activation function\n",
    "            nn.Linear(256, 3),  # input size: 256, output size: 784\n",
    "            nn.Sigmoid(),  # apply the sigmoid activation function to compress the output to a range of (0, 1)\n",
    "        )\n",
    "\n",
    "    def forward(self, x):\n",
    "        # Pass the input through the encoder\n",
    "        encoded = self.encoder(x)\n",
    "        # Pass the encoded representation through the decoder\n",
    "        decoded = self.decoder(encoded)\n",
    "        # Return both the encoded representation and the reconstructed output\n",
    "        return encoded, decoded"
   ]
  },
  {
   "cell_type": "code",
   "execution_count": 67,
   "metadata": {},
   "outputs": [],
   "source": [
    "def convert(user_id, input_matrix, output_matrix):\n",
    "\n",
    "    top_ten_input = []\n",
    "    if type(input_matrix) == 'numpy.ndarray':\n",
    "        for i in range(10):\n",
    "            weights = input_matrix[user_id]\n",
    "            top_ten_input.append(np.argmax(weights))\n",
    "            weights.pop(user_id)\n",
    "    if type(input_matrix) == 'pandas.DataFrame':\n",
    "        for i in range(10):\n",
    "            weights = input_matrix[user_id]\n",
    "            top_ten_input.append(np.argmax(weights))\n",
    "            weights.pop(user_id)\n",
    "\n",
    "    top_ten_output = []\n",
    "    if type(input_matrix) == 'numpy.ndarray':\n",
    "        for i in range(10):\n",
    "            weights = output_matrix[user_id]\n",
    "            top_ten_output.append(np.argmax(weights))\n",
    "            weights.pop(user_id)\n",
    "    if type(input_matrix) == 'pandas.DataFrame':\n",
    "        for i in range(10):\n",
    "            weights = output_matrix[user_id]\n",
    "            top_ten_output.append(np.argmax(weights))\n",
    "            weights.pop(user_id)\n",
    "    \n",
    "    return top_ten_input, top_ten_output"
   ]
  },
  {
   "cell_type": "code",
   "execution_count": 68,
   "metadata": {},
   "outputs": [],
   "source": [
    "user_artists = pd.read_csv('../unpushed_work/last_fm_data/user_artists.dat', sep='\\t')\n",
    "\n",
    "user_artists_train = user_artists[:74437]\n",
    "user_artists_test = user_artists[74437:92834]\n",
    "\n",
    "X_train = user_artists_train.groupby('userID').sample(frac=0.5, random_state=42)\n",
    "y_train = user_artists_train.drop(X_train.index)\n",
    "\n",
    "X_test = user_artists_test.groupby('userID').sample(frac=0.5, random_state=42)\n",
    "y_test = user_artists_test.drop(X_test.index)\n",
    "\n",
    "X_train_matrix = X_train.pivot(index='userID', columns='artistID', values=['weight']).fillna(0).to_numpy()\n",
    "y_train_matrix = y_train.pivot(index='userID', columns='artistID', values=['weight']).fillna(0).to_numpy()\n",
    "X_test_matrix = X_test.pivot(index='userID', columns='artistID', values=['weight']).fillna(0).to_numpy()\n",
    "y_test_matrix = y_test.pivot(index='userID', columns='artistID', values=['weight']).fillna(0).to_numpy()\n",
    "\n",
    "X_train = X_train.to_numpy()\n",
    "y_train = y_train.to_numpy()\n",
    "X_test = X_test.to_numpy()\n",
    "y_test = y_test.to_numpy()\n",
    "\n",
    "X_train = X_train.astype('float32')\n",
    "y_train = y_train.astype('float32')\n",
    "X_test = X_test.astype('float32')\n",
    "y_test = y_test.astype('float32')"
   ]
  },
  {
   "cell_type": "code",
   "execution_count": 69,
   "metadata": {},
   "outputs": [],
   "source": [
    "# Convert the training data to PyTorch tensors\n",
    "X_train = torch.from_numpy(X_train) if isinstance(X_train, np.ndarray) else X_train\n",
    "\n",
    "# Create the autoencoder model and optimizer\n",
    "model = AutoEncoder()\n",
    "optimizer = optim.Adam(model.parameters(), lr=1e-3)\n",
    "\n",
    "# Define the loss function\n",
    "criterion = nn.MSELoss()\n",
    "\n",
    "# Create a DataLoader to handle batching of the training data\n",
    "train_loader = torch.utils.data.DataLoader(\n",
    "    X_train, batch_size=32, shuffle=True\n",
    ")"
   ]
  },
  {
   "cell_type": "code",
   "execution_count": 70,
   "metadata": {},
   "outputs": [
    {
     "name": "stdout",
     "output_type": "stream",
     "text": [
      "Epoch 1/10: loss=12950708.2803\n",
      "Epoch 2/10: loss=12950699.2975\n",
      "Epoch 3/10: loss=12950699.3026\n",
      "Epoch 4/10: loss=12950699.4674\n",
      "Epoch 5/10: loss=12950699.4157\n",
      "Epoch 6/10: loss=12950699.3391\n",
      "Epoch 7/10: loss=12950699.5618\n",
      "Epoch 8/10: loss=12950699.4639\n",
      "Epoch 9/10: loss=12950699.3869\n",
      "Epoch 10/10: loss=12950699.3097\n"
     ]
    }
   ],
   "source": [
    "# Training loop\n",
    "num_epochs = 10\n",
    "\n",
    "for epoch in range(num_epochs):\n",
    "    total_loss = 0.0\n",
    "    for batch_idx, data in enumerate(train_loader):\n",
    "        # Get a batch of training data and move it to the device\n",
    "        data = data.to(device)\n",
    "\n",
    "        # Forward pass\n",
    "        encoded, decoded = model(data)\n",
    "\n",
    "        # Compute the loss and perform backpropagation\n",
    "        loss = criterion(decoded, data)\n",
    "        optimizer.zero_grad()\n",
    "        loss.backward()\n",
    "        optimizer.step()\n",
    "\n",
    "        # Update the running loss\n",
    "        total_loss += loss.item() * data.size(0)\n",
    "\n",
    "    # Print the epoch loss\n",
    "    epoch_loss = total_loss / len(train_loader.dataset)\n",
    "    print(\n",
    "        \"Epoch {}/{}: loss={:.4f}\".format(epoch + 1, num_epochs, epoch_loss)\n",
    "    )"
   ]
  },
  {
   "cell_type": "code",
   "execution_count": 80,
   "metadata": {},
   "outputs": [
    {
     "name": "stdout",
     "output_type": "stream",
     "text": [
      "[54.0, 55.0, 57.0, 59.0, 60.0, 63.0, 64.0, 66.0, 67.0, 68.0]\n"
     ]
    }
   ],
   "source": [
    "X_train.to(torch.int)\n",
    "\n",
    "user_2_tensor = X_train[X_train[:, 0] == 2]\n",
    "sorted_user_2_tensor = user_2_tensor[user_2_tensor[:, 2].argsort(descending=True)]\n",
    "top_10_input = sorted_user_2_tensor[:10, 1].tolist()\n",
    "print(top_10_input)\n",
    "\n",
    "user_2_tensor = X_train[X_train[:, 0] == 2]\n",
    "sorted_user_2_tensor = user_2_tensor[user_2_tensor[:, 2].argsort(descending=True)]\n",
    "top_10_input = sorted_user_2_tensor[:10, 1].tolist()\n",
    "print(top_10_input)"
   ]
  }
 ],
 "metadata": {
  "kernelspec": {
   "display_name": "Python 3",
   "language": "python",
   "name": "python3"
  },
  "language_info": {
   "codemirror_mode": {
    "name": "ipython",
    "version": 3
   },
   "file_extension": ".py",
   "mimetype": "text/x-python",
   "name": "python",
   "nbconvert_exporter": "python",
   "pygments_lexer": "ipython3",
   "version": "3.12.3"
  }
 },
 "nbformat": 4,
 "nbformat_minor": 2
}
